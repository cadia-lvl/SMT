{
 "cells": [
  {
   "cell_type": "code",
   "execution_count": 1,
   "metadata": {},
   "outputs": [],
   "source": [
    "import os\n",
    "import json\n",
    "from pprint import pprint\n",
    "\n",
    "\n",
    "from google.cloud import translate_v3beta1 as translate\n",
    "\n",
    "AUTH_JSON = 'LVL-MT-5e9bd9a5c96a.json'\n",
    "os.environ[\"GOOGLE_APPLICATION_CREDENTIALS\"] = AUTH_JSON\n",
    "\n",
    "\n",
    "client = translate.TranslationServiceClient()\n",
    "\n",
    "with open(AUTH_JSON) as json_file:\n",
    "    data = json.load(json_file)\n",
    "\n",
    "project_id = data['project_id']\n",
    "text = 'this is a test'\n",
    "location = 'global'\n",
    "\n",
    "parent = client.location_path(project_id, location)"
   ]
  },
  {
   "cell_type": "markdown",
   "metadata": {},
   "source": [
    "# Varúð - þetta getur kostað"
   ]
  },
  {
   "cell_type": "code",
   "execution_count": 2,
   "metadata": {},
   "outputs": [],
   "source": [
    "def google_translate_sentences(sentences, lang_from, lang_to, model):\n",
    "    response = client.translate_text(\n",
    "        model=f'projects/{project_id}/locations/global/models/general/{model}', # nmt or base\n",
    "        parent=parent,\n",
    "        contents=sentences,\n",
    "        mime_type='text/plain',  # mime types: text/plain, text/html\n",
    "        source_language_code=lang_from,\n",
    "        target_language_code=lang_to)\n",
    "    \n",
    "    result = []\n",
    "    for translation in response.translations:\n",
    "        result.append(translation.translated_text)\n",
    "    return result"
   ]
  },
  {
   "cell_type": "code",
   "execution_count": 32,
   "metadata": {},
   "outputs": [
    {
     "name": "stdout",
     "output_type": "stream",
     "text": [
      "[\"I 'm short of money .\",\n",
      " '“ So he sulks and stays away ? ”',\n",
      " 'in fact , the stars are so close that their surfaces overlap and a bridge '\n",
      " 'has formed between them .',\n",
      " 'in sufficiently congested regions like NGC 346 , with high levels of recent '\n",
      " 'star birth , the result is a glorious , glowing vista for our telescopes to '\n",
      " 'capture .',\n",
      " 'there wax up her sons Thorleik and Bolli .',\n",
      " \"on the other hand , when once got thoroughly into play , men 's brain would \"\n",
      " 'bear more work .',\n",
      " \"do you like Mozart 's music ?\",\n",
      " 'we then compared these two ways to measure the strength of gravity - and the '\n",
      " 'result was just what general relativity predicts , with an uncertainty of '\n",
      " 'only 9 percent .',\n",
      " 'now the cow went often down to the strand and the place : whereas the bale '\n",
      " 'had been litten , and licked the stones on which the ashes thereof had been '\n",
      " 'driven ;',\n",
      " 'said Thorkel that his will would be that he should learn that soon .']\n"
     ]
    }
   ],
   "source": [
    "with open('data/baseline-test.en') as en_test_file:\n",
    "    result = []\n",
    "    for line in en_test_file:\n",
    "        result.append(line.strip())\n",
    "pprint(result[:10])"
   ]
  },
  {
   "cell_type": "code",
   "execution_count": 33,
   "metadata": {},
   "outputs": [
    {
     "name": "stdout",
     "output_type": "stream",
     "text": [
      "['Ég er stutt af peningum.',\n",
      " '\"Svo sulks hann og helst í burtu? \"',\n",
      " 'í raun eru stjörnurnar svo nálægt að yfirborð þeirra skarast og brú hefur '\n",
      " 'myndast á milli þeirra.',\n",
      " 'í nægilega stíflaður svæðum eins og NGC 346, með mikið magn af nýlegum '\n",
      " 'stjörnu fæðingu, niðurstaðan er glæsilega, glóandi sýn á sjónaukar okkar að '\n",
      " 'handtaka.',\n",
      " 'Það magnast upp synir hennar og Þorleikur.',\n",
      " \"á hinn bóginn, þegar einu sinni fékk rækilega í leik, heili karla s 'bæri \"\n",
      " 'meiri vinnu.',\n",
      " \"finnst þér eins og tónlist Mozart 's?\",\n",
      " 'við saman þá þessar tvær leiðir til að mæla styrk þyngdarafl - og '\n",
      " 'niðurstaðan var bara það sem almenna afstæðiskenningin spáir, með óvissu um '\n",
      " 'aðeins 9 prósent.',\n",
      " 'Nú kýr fór oft niður til strandar og staður: en sem bagga hafði verið '\n",
      " 'litten, og sleiktu steina sem askan hennar hafði verið ekið;',\n",
      " 'sagði Þorkell að vilji hans væri að hann ætti að læra það fljótlega.']\n"
     ]
    }
   ],
   "source": [
    "translated_base = google_translate_sentences(result[:10], 'en', 'is', 'base')\n",
    "pprint(translated_base)"
   ]
  },
  {
   "cell_type": "code",
   "execution_count": 35,
   "metadata": {},
   "outputs": [
    {
     "name": "stdout",
     "output_type": "stream",
     "text": [
      "['Mér vantar peninga.',\n",
      " '„Svo hann sulnar og heldur sig frá? “',\n",
      " 'raunar eru stjörnurnar svo nálægt að yfirborð þeirra skarast og brú hefur '\n",
      " 'myndast á milli þeirra.',\n",
      " 'á nægilega þrengdum svæðum eins og NGC 346, með mikið magn nýlegra '\n",
      " 'stjörnumyndunar, er niðurstaðan glæsileg, glóandi sýn fyrir sjónauka okkar '\n",
      " 'til að fanga.',\n",
      " 'þar vaxa upp synir hennar Þorleikur og Bolli.',\n",
      " 'aftur á móti, þegar heilinn í karlmanni einu sinni komst rækilega í leik, þá '\n",
      " 'myndi heili karla bera meiri vinnu.',\n",
      " 'líkar þér tónlist Mozarts?',\n",
      " 'við bárum svo saman þessar tvær leiðir til að mæla styrk þyngdaraflsins - og '\n",
      " 'niðurstaðan var einmitt það sem almenn afstæðishyggja spáir, með aðeins 9 '\n",
      " 'prósenta óvissu.',\n",
      " 'nú fór kýrin oft niður að strandstaðnum og á staðinn. meðan búið var að '\n",
      " 'kveikja á balanum og sleikja steinana, sem öskunni hafði verið ekið á;',\n",
      " 'sagði Þorkel að vilji hans væri sá að hann ætti eftir að læra það fljótlega.']\n"
     ]
    }
   ],
   "source": [
    "translated_nmt = google_translate_sentences(result[:10], 'en', 'is', 'nmt')\n",
    "pprint(translated_nmt)"
   ]
  },
  {
   "cell_type": "code",
   "execution_count": 36,
   "metadata": {},
   "outputs": [
    {
     "name": "stdout",
     "output_type": "stream",
     "text": [
      "['mig skortir fé .',\n",
      " '„ Svo að hann syrgir nú í fjarlægð og þorir ekki að koma ? “',\n",
      " 'raunar eru þær svo þétt saman að yfirborð þeirra snertast og brú hefur '\n",
      " 'myndast milli þeirra .',\n",
      " 'á þéttum svæðum eins og NGC 346 , þar sem talsverð nýmyndun stjarna hefur '\n",
      " 'orðið , verður þannig til myndrænt viðfangsefni sjónauka okkar .',\n",
      " 'vaxa þar upp synir Guðrúnar , Þorleikur og Bolli .',\n",
      " 'hins vegar mundi heili mannsins , þegar hann væri tekinn til starfa á annað '\n",
      " 'borð , geta unnið meiri vinnu .',\n",
      " 'finnst þér tónlist Mozarts góð ?',\n",
      " 'við bárum svo saman þessar mælingar til að finna út styrk þyngdarkraftsins . '\n",
      " 'niðurstöðurnar eru einmitt það sem almennt afstæði spáir fyrir um en óvissan '\n",
      " 'er aðeins 9% .',\n",
      " 'kýrin gekk oft ofan í fjöruna þar sem bálið hafði verið og sleikti steinana '\n",
      " 'þar sem askan hafði fokið .',\n",
      " 'Þorkell kvaðst það vilja mundu að hann vissi það brátt .']\n"
     ]
    }
   ],
   "source": [
    "with open('data/baseline-test.is') as en_test_file:\n",
    "    target = []\n",
    "    for line in en_test_file:\n",
    "        target.append(line.strip())\n",
    "pprint(target[:10])"
   ]
  },
  {
   "cell_type": "code",
   "execution_count": 4,
   "metadata": {},
   "outputs": [
    {
     "name": "stdout",
     "output_type": "stream",
     "text": [
      "['mig skortir peninga .',\n",
      " '„ Svo sulks og verður hann í burtu ? “',\n",
      " 'í fyrstu stjörnurnar eru svo þétt saman að yfirborð þeirra skarast sem og '\n",
      " 'brú hefur myndast milli þeirra .',\n",
      " 'þessar congested í svæðum eins og NGC 346 með hárri lítið við myndun stjarna '\n",
      " ', sem er í ævi stjörnu , glóandi sjónarsvið því sjónaukar safna til okkar .',\n",
      " 'þar wax hana upp , Þorleikur og Bolli .',\n",
      " 'á hinn bóginn var héruðunum , er stóð í heilanum leik , er menn skyldu bera '\n",
      " 'meira .',\n",
      " 'finnst þér tónlist Mozarts ?',\n",
      " 'þessir tveir saman við þá til að mæla styrk þyngdarkraftsins . '\n",
      " 'niðurstöðurnar var einmitt það sem almennt afstæði spáir fyrir um , eru '\n",
      " 'aðeins fjögur prósent af 9 .',\n",
      " 'nú kúna gekk oft ofan til strandar . og er þar höfðu verið litten báli og '\n",
      " 'licked grjót á þá er þeir voru var rekinn .',\n",
      " 'Þorkell mælti að hann mundi vera að hann skyldi að spyrja þig bráðlega .']\n"
     ]
    }
   ],
   "source": [
    "with open('baseline_en-is/baseline-test-translated.is') as en_test_file:\n",
    "    baseline = []\n",
    "    for line in en_test_file:\n",
    "        baseline.append(line.strip())\n",
    "pprint(baseline[:10])"
   ]
  },
  {
   "cell_type": "code",
   "execution_count": null,
   "metadata": {},
   "outputs": [],
   "source": []
  }
 ],
 "metadata": {
  "kernelspec": {
   "display_name": "Python 3",
   "language": "python",
   "name": "python3"
  },
  "language_info": {
   "codemirror_mode": {
    "name": "ipython",
    "version": 3
   },
   "file_extension": ".py",
   "mimetype": "text/x-python",
   "name": "python",
   "nbconvert_exporter": "python",
   "pygments_lexer": "ipython3",
   "version": "3.7.3"
  }
 },
 "nbformat": 4,
 "nbformat_minor": 2
}
