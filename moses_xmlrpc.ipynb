{
 "cells": [
  {
   "cell_type": "markdown",
   "metadata": {},
   "source": [
    "Ef þetta vélrit keyrir í docker og server keyrir á host í docker þarf að finna ip addressu: ip addr"
   ]
  },
  {
   "cell_type": "code",
   "execution_count": 28,
   "metadata": {},
   "outputs": [
    {
     "name": "stdout",
     "output_type": "stream",
     "text": [
      "['system.listMethods', 'system.methodExist', 'system.methodHelp', 'system.methodSignature', 'system.multicall', 'system.shutdown', 'system.capabilities', 'system.getCapabilities', 'translate', 'updater', 'optimize', 'close_session']\n",
      "{'text': 'þetta er enskur málslið , ekki satt ? '}\n"
     ]
    }
   ],
   "source": [
    "import xmlrpc.client\n",
    "\n",
    "with xmlrpc.client.ServerProxy(\"http://172.17.0.1/RPC2\") as proxy:\n",
    "    print(proxy.system.listMethods())\n",
    "    print(proxy.translate({'text':'this is an english sentence , right ?'}))"
   ]
  },
  {
   "cell_type": "code",
   "execution_count": null,
   "metadata": {},
   "outputs": [],
   "source": []
  }
 ],
 "metadata": {
  "kernelspec": {
   "display_name": "Python 3",
   "language": "python",
   "name": "python3"
  },
  "language_info": {
   "codemirror_mode": {
    "name": "ipython",
    "version": 3
   },
   "file_extension": ".py",
   "mimetype": "text/x-python",
   "name": "python",
   "nbconvert_exporter": "python",
   "pygments_lexer": "ipython3",
   "version": "3.7.4"
  }
 },
 "nbformat": 4,
 "nbformat_minor": 2
}
