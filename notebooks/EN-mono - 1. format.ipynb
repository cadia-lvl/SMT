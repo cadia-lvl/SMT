{
 "cells": [
  {
   "cell_type": "markdown",
   "metadata": {},
   "source": [
    "# EN einhliðamálheild\n",
    "Í þessu reikniriti eru enskar einhliðamálheildir lesnar og staðlaðar svo ein setning sé í hverri línu. Málheildirnar eru eftirfrandi. Sameinum í eitt skjal.\n",
    "\n",
    "| Nafn | #línur| stærð | ath |\n",
    "| --- | --- | --- | --- |\n",
    "| newscrawl 2018 en | 18,1M | 2 GB | - |\n",
    "| UN corpus EN | 27,4M | 3,4GB | - |\n",
    "| Europarl v9 | 2,3M | 321 MB | - |\n",
    "| Librispeech 27 | 48,2M | 4,3GB | - | - |\n",
    "| Wikipedia Google en | 25,8M | 3,0GB | - |\n",
    "| --- | --- | --- | --- |\n",
    "| Heild | 121,9M | 13,1GB | - |"
   ]
  },
  {
   "cell_type": "code",
   "execution_count": 3,
   "metadata": {},
   "outputs": [],
   "source": [
    "# The location of en-mono to read\n",
    "source_dir = '/work/haukurpj/data/raw/en-monolingual'\n",
    "\n",
    "# The location of where to write the results\n",
    "target_dir = '/work/haukurpj/data/formatted/en-monolingual'\n",
    "\n",
    "from glob import glob\n",
    "from pprint import pprint"
   ]
  },
  {
   "cell_type": "code",
   "execution_count": 4,
   "metadata": {},
   "outputs": [],
   "source": [
    "import pathlib\n",
    "\n",
    "source_dir = pathlib.Path(source_dir)\n",
    "target_dir = pathlib.Path(target_dir)\n",
    "assert source_dir.exists()\n",
    "if not target_dir.exists():\n",
    "    target_dir.mkdir()"
   ]
  },
  {
   "cell_type": "code",
   "execution_count": 17,
   "metadata": {},
   "outputs": [],
   "source": [
    "def read_file(path):\n",
    "    corpus = []\n",
    "    with path.open() as f_in:\n",
    "        return [line for line in f_in]"
   ]
  },
  {
   "cell_type": "markdown",
   "metadata": {},
   "source": [
    "## Europarl EN\n",
    "Þessi gögn líta vel út og ekkert þarf að gera."
   ]
  },
  {
   "cell_type": "code",
   "execution_count": 5,
   "metadata": {},
   "outputs": [
    {
     "name": "stdout",
     "output_type": "stream",
     "text": [
      "2295044 /work/haukurpj/data/raw/en-monolingual/europarl-v9.en\n",
      "Resumption of the session\n",
      "I declare resumed the session of the European Parliament adjourned on Friday, 15 December 2000.\n",
      "Statements by the President\n",
      "Ladies and gentlemen, on Saturday, as you know, an earthquake struck Central America once again, with tragic consequences.\n",
      "This is an area which has already been seriously affected on a number of occasions since the beginning of the twentieth century.\n",
      "The latest, provisional, figures for victims in El Salvador are already very high.\n",
      "There are 350 people dead, 1 200 people missing, the area is completely devastated and thousands of homes have been destroyed throughout the country.\n",
      "The European Union has already shown its solidarity by sending a rescue team to the area, whilst financial assistance from the Union and Member States has been, or is in the process of being, released and I am able to inform you that some groups in the European Parliament have requested that this issue be included in the debate on topical and urgent subjects of major importance on Thursday.\n",
      "However, I should like to inform you that I have, of course, on behalf of the European Union, expressed our sincere condolences and deepest sympathy to the President of El Salvador in the tragedy which has struck his country.\n",
      "I would ask you, as a mark of respect for the victims and for the immense suffering of their families, to observe a minute' s silence.\n"
     ]
    }
   ],
   "source": [
    "euro_parl = source_dir.joinpath('europarl-v9.en')\n",
    "!wc -l {euro_parl}\n",
    "!head {euro_parl}"
   ]
  },
  {
   "cell_type": "code",
   "execution_count": 18,
   "metadata": {},
   "outputs": [],
   "source": [
    "euro_parl = read_file(source_dir.joinpath('europarl-v9.en'))"
   ]
  },
  {
   "cell_type": "markdown",
   "metadata": {},
   "source": [
    "## News crawl 2018\n",
    "Lítur vel út - ekkert sem þarf að gera."
   ]
  },
  {
   "cell_type": "code",
   "execution_count": 7,
   "metadata": {},
   "outputs": [
    {
     "name": "stdout",
     "output_type": "stream",
     "text": [
      "18113311 /work/haukurpj/data/raw/en-monolingual/news.2018.en.shuffled.deduped\n",
      "He owns the Orphaned Wildlife Center with his wife, Susan.\n",
      "Qatar also made a loose commitment not to launch flights to the United States from Europe or other non-Qatari cities that would create yet more competition for U.S. carriers.\n",
      "The fact there's a banker pig as well is kind of amusing.\n",
      "Berlinger was the \"gold standard\" and \"a huge hole that we have to fill.\"\n",
      "\"From tonight on, I'm sorry for them, but they are going to be different,\" coach Didier Deschamps said.\n",
      ":: The top 10 beaches in the UK according to TripAdvisor are:\n",
      "Morgan, who has a lengthy criminal history including drugs offences, had not been investigated for suspected terrorism before.\n",
      "But despite the major disruption caused and resulting financial bill, Judge Philip Statman said Khonde had already been sufficiently punished by being on remand since his arrest and serving the equivalent of 14 months' custody.\n",
      "Just type Bono and hypocrite into Twitter and see the stream of bile emerge.\n",
      "The study serves as a reminder, she says, that if someone in your life recently lost a job, ended a relationship, or is having some other life crisis, it's important to reach out.\n"
     ]
    }
   ],
   "source": [
    "news = source_dir.joinpath('news.2018.en.shuffled.deduped')\n",
    "!wc -l {news}\n",
    "!head {news}"
   ]
  },
  {
   "cell_type": "code",
   "execution_count": 19,
   "metadata": {},
   "outputs": [],
   "source": [
    "news = read_file(source_dir.joinpath('news.2018.en.shuffled.deduped'))"
   ]
  },
  {
   "cell_type": "markdown",
   "metadata": {},
   "source": [
    "## Wikipedia\n",
    "Þessi gögn eru í `.csv`, við þurfum að laga það."
   ]
  },
  {
   "cell_type": "code",
   "execution_count": 10,
   "metadata": {},
   "outputs": [
    {
     "data": {
      "text/html": [
       "<div>\n",
       "<style scoped>\n",
       "    .dataframe tbody tr th:only-of-type {\n",
       "        vertical-align: middle;\n",
       "    }\n",
       "\n",
       "    .dataframe tbody tr th {\n",
       "        vertical-align: top;\n",
       "    }\n",
       "\n",
       "    .dataframe thead th {\n",
       "        text-align: right;\n",
       "    }\n",
       "</style>\n",
       "<table border=\"1\" class=\"dataframe\">\n",
       "  <thead>\n",
       "    <tr style=\"text-align: right;\">\n",
       "      <th></th>\n",
       "      <th>0</th>\n",
       "      <th>1</th>\n",
       "    </tr>\n",
       "  </thead>\n",
       "  <tbody>\n",
       "    <tr>\n",
       "      <th>0</th>\n",
       "      <td>wikipedia-23885690</td>\n",
       "      <td>Research Design and Standards Organization  T...</td>\n",
       "    </tr>\n",
       "    <tr>\n",
       "      <th>1</th>\n",
       "      <td>wikipedia-23885928</td>\n",
       "      <td>The Death of Bunny Munro  The Death of Bunny ...</td>\n",
       "    </tr>\n",
       "    <tr>\n",
       "      <th>2</th>\n",
       "      <td>wikipedia-23886057</td>\n",
       "      <td>Management of prostate cancer  Treatment for ...</td>\n",
       "    </tr>\n",
       "    <tr>\n",
       "      <th>3</th>\n",
       "      <td>wikipedia-23886425</td>\n",
       "      <td>Cheetah reintroduction in India  Reintroducti...</td>\n",
       "    </tr>\n",
       "    <tr>\n",
       "      <th>4</th>\n",
       "      <td>wikipedia-23886491</td>\n",
       "      <td>Langtang National Park  The Langtang National...</td>\n",
       "    </tr>\n",
       "  </tbody>\n",
       "</table>\n",
       "</div>"
      ],
      "text/plain": [
       "                    0                                                  1\n",
       "0  wikipedia-23885690   Research Design and Standards Organization  T...\n",
       "1  wikipedia-23885928   The Death of Bunny Munro  The Death of Bunny ...\n",
       "2  wikipedia-23886057   Management of prostate cancer  Treatment for ...\n",
       "3  wikipedia-23886425   Cheetah reintroduction in India  Reintroducti...\n",
       "4  wikipedia-23886491   Langtang National Park  The Langtang National..."
      ]
     },
     "execution_count": 10,
     "metadata": {},
     "output_type": "execute_result"
    }
   ],
   "source": [
    "import pandas as pd\n",
    "wiki = source_dir.joinpath('documents_utf8_filtered_20pageviews.csv')\n",
    "wiki_df = pd.read_csv(str(wiki), sep=\",\", header=None)\n",
    "wiki_df.head()"
   ]
  },
  {
   "cell_type": "code",
   "execution_count": 14,
   "metadata": {},
   "outputs": [
    {
     "data": {
      "text/plain": [
       "[' Research Design and Standards Organization  The Research Design and Standards Organisation (RDSO) is an ISO 9001 research and development organisation under the Ministry of Railways of India, which functions as a technical adviser and consultant to the Railway Board, the Zonal Railways, the Railway Production Units, RITES and IRCON International in respect of design and standardisation of railway equipment and problems related to railway construction, operation and maintenance. History. To enforce standardisation and co-ordination between various railway systems in British India, the Indian Railway Conference Association (IRCA) was set up in 1903. It was followed by the establishment of the Central Standards Office (CSO) in 1930, for preparation of designs, standards and specifications. However, till independence in 1947, most of the designs and manufacture of railway equipments was entrusted to foreign consultants. After independence, a new organisation called Railway Testing and Research Centre (RTRC) was set up in 1952 at Lucknow, for undertaking intensive investigation of railway problems, providing basic criteria and new concepts for design purposes, for testing prototypes and generally assisting in finding solutions for specific problems. In 1957, the Central Standards Office (CSO) and the Railway Testing and Research Centre (RTRC) were integrated into a single unit named Research Designs and Standards Organisation (RDSO) under the Ministry of Railways with its headquarters at Manaknagar, Lucknow. The status of RDSO was changed from an \"Attached Office\" to a \"Zonal Railway\" on April 1, 2003, to give it greater flexibility and a boost to the research and development activities. Organisation. The RDSO is headed by a Director General who ranks with a General Manager of a Zonal Railway. The Director General is assisted by an Additional Director General and 23 Sr. Executive Directors and Executive Directors, who are in charge of the 27 directorates: Bridges and Structures, the Centre for Advanced Maintenance Techlogy (AMTECH), Carriage, Geotechnical Engineering, Testing, Track Design, Medical, EMU & Power Supply, Engine Development, Finance & Accounts, Telecommunication, Quality Assurance, Personnel, Works, Psycho-Technical, Research, Signal, Wagon Design, Electric Locomotive, Stores, Track Machines & Monitoring, Traction Installation, Energy Management, Traffic, Metallurgical & Chemical, Motive Power and Library & Publications. All the directorates except Defence Research are located in Lucknow. Projects. Development of a new crashworthy design of  4500 HP WDG4 locomotive incorporating new  technology to improve dynamic braking and attain  significant fuel savings. Development of Drivers’ Vigilance Telemetric Control  System which directly measures and analyses variations  in biometric parameters to determine the state of alertness  of the driver. Development of Train Collision Avoidance System(TCAS). Development of Computer Aided Drivers Aptitude test  equipment for screening high speed train drivers for  Rajdhani/Shatabdi Express trains to evaluate their reaction  time, form perception, vigilance and speed anticipation. Assessment of residual fatigue life of critical railway  components like rail, rail weld, wheels, cylinder head, OHE  mast, catenary wire, contact wire, wagon components, low  components, etc. to formulate remedial actions. Modification of specification of Electric Lifting Barrier to improve its strength and reliability Design and development of modern fault tolerant, fail-safe, maintainer friendly Electronic Interlocking system Development of 4500 HP Hotel Load Locomotive to provide clean and noise free power supply to coaches from locomotive to eliminate the existing generator car of Garib Rath express trains. Field trials conducted for electric locomotive hauling Rajdhani/Shatabdi express trains with Head On Generation (HOG) system to provide clean and noise free power supply to end on coaches. Development of WiMAX technology to provide internet access to the passengers in running trains. Design and Development of Ballastless Track with indigenous fastening system (BLT-IFS). Major Achievements. Development of Pre-stressed concrete sleeper and allied components along with Source Development.  ',\n",
       " ' The Death of Bunny Munro  The Death of Bunny Munro is the second novel written by Nick Cave, best known as the lead singer of Nick Cave and the Bad Seeds. His first novel, \"And the Ass Saw the Angel\", was published in 1989. The novel deals with Bunny Munro, a middle aged lothario whose constant womanising and alcohol abuse comes to a head after the suicide of his wife. A travelling door to door beauty product salesman, he and his son go on an increasingly out of control road trip around Brighton, over which looms the shadow of a serial killer making his way towards Brighton, as well as Bunny\\'s own mortality. The novel is set in Brighton in 2003, around the time the West Pier was destroyed by fire. Many of the locations and street names used in the book relate to real places close to Cave\\'s own home. The novel was also released as an audiobook, using a 3D audio effect produced and sound directed by British artists Iain Forsyth and Jane Pollard, with a soundtrack by Nick Cave and Warren Ellis and in a number of Ebook formats including an Enhanced Editions iPhone application that synchronises the audiobook with the text, and includes exclusive videos of Nick reading. A series of live events took place in late 2009 to promote the book under the title of \"A Night with Nick Cave\", combining music, readings and a Q&A session with the audience. Reception. Irvine Welsh, Neil Labute and David Peace have all touted the novel - providing back-cover reviews. Moreover, \"The Death of Bunny Munro\" has received strong reviews from the British media: Graeme Thomson (writing in The Observer, 6 September 2009) awarded the novel four stars. Likewise, the Saturday Times (on the 5th of September 2009) stated, in a very positive review, that the novel \"reads like a good indie movie\".  The novel was nominated for the Literary Review\\'s Bad Sex in Fiction Award, but did not win. ']"
      ]
     },
     "execution_count": 14,
     "metadata": {},
     "output_type": "execute_result"
    }
   ],
   "source": [
    "wiki = wiki_df[1].values.tolist()\n",
    "wiki[:2]"
   ]
  },
  {
   "cell_type": "markdown",
   "metadata": {},
   "source": [
    "Núna er skjalið með eina grein í hverri línu."
   ]
  },
  {
   "cell_type": "code",
   "execution_count": 15,
   "metadata": {},
   "outputs": [],
   "source": [
    "import nltk\n",
    "import re\n",
    "\n",
    "wiki_sent = []\n",
    "\n",
    "for line in wiki:\n",
    "    line = line.strip()\n",
    "    for sent in nltk.sent_tokenize(line):\n",
    "        wiki_sent.append(sent)"
   ]
  },
  {
   "cell_type": "code",
   "execution_count": 16,
   "metadata": {},
   "outputs": [
    {
     "data": {
      "text/plain": [
       "['Research Design and Standards Organization  The Research Design and Standards Organisation (RDSO) is an ISO 9001 research and development organisation under the Ministry of Railways of India, which functions as a technical adviser and consultant to the Railway Board, the Zonal Railways, the Railway Production Units, RITES and IRCON International in respect of design and standardisation of railway equipment and problems related to railway construction, operation and maintenance.',\n",
       " 'History.',\n",
       " 'To enforce standardisation and co-ordination between various railway systems in British India, the Indian Railway Conference Association (IRCA) was set up in 1903.',\n",
       " 'It was followed by the establishment of the Central Standards Office (CSO) in 1930, for preparation of designs, standards and specifications.',\n",
       " 'However, till independence in 1947, most of the designs and manufacture of railway equipments was entrusted to foreign consultants.']"
      ]
     },
     "execution_count": 16,
     "metadata": {},
     "output_type": "execute_result"
    }
   ],
   "source": [
    "wiki_sent[:5]"
   ]
  },
  {
   "cell_type": "markdown",
   "metadata": {},
   "source": [
    "## UN Corpus en \n",
    "Þessi málheild byggist á mörgum .tei skjölum. Við þurfum að lesa öll skjölin og sameina í eitt stórt skjal. Þar sem flest skjöl byrja á fundarlýsingu og öðrum setningum sem eru ekki sérlega góðar setningar. Við byrjum því að lesa setningar eftir setningu númer 40."
   ]
  },
  {
   "cell_type": "code",
   "execution_count": 21,
   "metadata": {},
   "outputs": [
    {
     "data": {
      "text/plain": [
       "159328"
      ]
     },
     "execution_count": 21,
     "metadata": {},
     "output_type": "execute_result"
    }
   ],
   "source": [
    "un_dir = source_dir.joinpath('UNv1.0-TEI')\n",
    "xml_files = glob(f'{un_dir}/**/*.xml', recursive=True)\n",
    "xml_files = [pathlib.Path(xml_file) for xml_file in xml_files]\n",
    "len(xml_files)"
   ]
  },
  {
   "cell_type": "code",
   "execution_count": 22,
   "metadata": {},
   "outputs": [
    {
     "name": "stdout",
     "output_type": "stream",
     "text": [
      "      <p id=\"46\">\r\n",
      "        <s id=\"46:1\" lang=\"en\">Ms. Dicko (Mali) 11</s>\r\n",
      "      </p>\r\n",
      "      <p id=\"47\">\r\n",
      "        <s id=\"47:1\" lang=\"en\">16. Having obtained the required majority and the largest number of votes, Mr. Brillantes (Philippines), Mr. Ibarra Gonzalez (Guatemala), Mr. Kariyawasam (Sri Lanka) and Mr. Tall (Senegal) were elected members of the Committee for a term beginning 1 January 2010.</s>\r\n",
      "      </p>\r\n",
      "      <p id=\"48\">\r\n",
      "        <s id=\"48:1\" lang=\"en\">17. The Chairperson said that, since only four candidates had obtained the required majority, a second ballot, restricted to the two candidates who had obtained the next largest number of votes, would be held to fill the remaining vacancy, in accordance with rule 15 of the rules of procedure.</s>\r\n",
      "      </p>\r\n",
      "      <p id=\"49\">\r\n",
      "        <s id=\"49:1\" lang=\"en\">18. A vote was taken by secret ballot.</s>\r\n",
      "      </p>\r\n",
      "      <p id=\"50\">\r\n",
      "        <s id=\"50:1\" lang=\"en\">Number of valid ballot papers: 41</s>\r\n",
      "      </p>\r\n",
      "      <p id=\"51\">\r\n",
      "        <s id=\"51:1\" lang=\"en\">Number of representatives voting: 41</s>\r\n",
      "      </p>\r\n",
      "      <p id=\"52\">\r\n",
      "        <s id=\"52:1\" lang=\"en\">Mr. Sevim (Turkey) 24</s>\r\n",
      "      </p>\r\n",
      "      <p id=\"53\">\r\n",
      "        <s id=\"53:1\" lang=\"en\">Mr. Carrión Mena (Ecuador) 17</s>\r\n",
      "      </p>\r\n",
      "      <p id=\"54\">\r\n",
      "        <s id=\"54:1\" lang=\"en\">19. Having obtained the required majority, Mr. Sevim (Turkey) was elected a member of the Committee for a term beginning 1 January 2010.</s>\r\n",
      "      </p>\r\n",
      "      <p id=\"55\">\r\n",
      "        <s id=\"55:1\" lang=\"en\">20. The Chairperson invited the meeting to elect four additional members in light of the entry into force of the Convention for the forty-first State party on 1 July 2009, in accordance with article 72, paragraphs 1 to 5, of the Convention.</s>\r\n",
      "      </p>\r\n",
      "      <p id=\"56\">\r\n",
      "        <s id=\"56:1\" lang=\"en\">21. At the invitation of the Chairperson, Mr. Yahiaoui (Algeria) acted as teller.</s>\r\n",
      "      </p>\r\n",
      "      <p id=\"57\">\r\n",
      "        <s id=\"57:1\" lang=\"en\">22. A vote was taken by secret ballot.</s>\r\n",
      "      </p>\r\n",
      "      <p id=\"58\">\r\n",
      "        <s id=\"58:1\" lang=\"en\">Ms. Dicko (Mali) 39</s>\r\n",
      "      </p>\r\n",
      "      <p id=\"59\">\r\n",
      "        <s id=\"59:1\" lang=\"en\">Ms. Miller-Stennett (Jamaica) 38</s>\r\n",
      "      </p>\r\n",
      "      <p id=\"60\">\r\n",
      "        <s id=\"60:1\" lang=\"en\">Mr. Taghizade (Azerbaijan) 38</s>\r\n",
      "      </p>\r\n",
      "      <p id=\"61\">\r\n",
      "        <s id=\"61:1\" lang=\"en\">Mr. Carrión Mena (Ecuador) 37</s>\r\n",
      "      </p>\r\n",
      "      <p id=\"62\">\r\n",
      "        <s id=\"62:1\" lang=\"en\">23. Having obtained the required majority, Mr. Carrión Mena (Ecuador), Ms. Dicko (Mali), Ms. Miller-Stennett (Jamaica) and Mr. Taghizade (Azerbaijan) were elected members of the Committee for a term beginning 1 January 2010.</s>\r\n",
      "      </p>\r\n",
      "      <p id=\"63\">\r\n",
      "        <s id=\"63:1\" lang=\"en\">24. The Chairperson, having drawn names by lot, announced that the two members of the Committee whose terms would expire after two years were Mr. Carrión Mena (Ecuador) and Mr. Taghizade (Azerbaijan).</s>\r\n",
      "      </p>\r\n",
      "      <p id=\"64\">\r\n",
      "        <s id=\"64:1\" lang=\"en\">The meeting rose at 1 p.m.</s>\r\n",
      "      </p>\r\n",
      "    </body>\r\n",
      "  </text>\r\n",
      "</TEI.2>\r\n"
     ]
    }
   ],
   "source": [
    "!tail -n 60 {xml_files[0]}"
   ]
  },
  {
   "cell_type": "code",
   "execution_count": 24,
   "metadata": {},
   "outputs": [],
   "source": [
    "from xml.etree import ElementTree as ET\n",
    "\n",
    "def read_un_tei_file(path: pathlib.Path, min_p_id=40):\n",
    "    sentences = []\n",
    "    try: \n",
    "        root = ET.parse(str(path)).getroot()\n",
    "        # We gather all the paragraphs from the body, avoiding the divs\n",
    "        for paragraph_node in root.findall('.//body//p'):\n",
    "            # we only take sentences which have an \"id\" high enough.\n",
    "            if int(paragraph_node.attrib['id']) < min_p_id:\n",
    "                continue\n",
    "            for sentence_node in paragraph_node.findall('.//s'):\n",
    "                sentence = sentence_node.text\n",
    "                sentences.append(sentence)\n",
    "    except:\n",
    "        # We just skip the file\n",
    "        pass\n",
    "    return sentences"
   ]
  },
  {
   "cell_type": "code",
   "execution_count": 25,
   "metadata": {},
   "outputs": [
    {
     "name": "stdout",
     "output_type": "stream",
     "text": [
      "['Mr. Kariyawasam (Sri Lanka) 28', 'Mr. Tall (Senegal) 22', 'Mr. Sevim (Turkey) 18', 'Mr. Carrión Mena (Ecuador) 18', 'Ms. Miller-Stennett (Jamaica) 17', 'Mr. Taghizade (Azerbaijan) 14', 'Ms. Dicko (Mali) 11', '16. Having obtained the required majority and the largest number of votes, Mr. Brillantes (Philippines), Mr. Ibarra Gonzalez (Guatemala), Mr. Kariyawasam (Sri Lanka) and Mr. Tall (Senegal) were elected members of the Committee for a term beginning 1 January 2010.', '17. The Chairperson said that, since only four candidates had obtained the required majority, a second ballot, restricted to the two candidates who had obtained the next largest number of votes, would be held to fill the remaining vacancy, in accordance with rule 15 of the rules of procedure.', '18. A vote was taken by secret ballot.', 'Number of valid ballot papers: 41', 'Number of representatives voting: 41', 'Mr. Sevim (Turkey) 24', 'Mr. Carrión Mena (Ecuador) 17', '19. Having obtained the required majority, Mr. Sevim (Turkey) was elected a member of the Committee for a term beginning 1 January 2010.', '20. The Chairperson invited the meeting to elect four additional members in light of the entry into force of the Convention for the forty-first State party on 1 July 2009, in accordance with article 72, paragraphs 1 to 5, of the Convention.', '21. At the invitation of the Chairperson, Mr. Yahiaoui (Algeria) acted as teller.', '22. A vote was taken by secret ballot.', 'Ms. Dicko (Mali) 39', 'Ms. Miller-Stennett (Jamaica) 38', 'Mr. Taghizade (Azerbaijan) 38', 'Mr. Carrión Mena (Ecuador) 37', '23. Having obtained the required majority, Mr. Carrión Mena (Ecuador), Ms. Dicko (Mali), Ms. Miller-Stennett (Jamaica) and Mr. Taghizade (Azerbaijan) were elected members of the Committee for a term beginning 1 January 2010.', '24. The Chairperson, having drawn names by lot, announced that the two members of the Committee whose terms would expire after two years were Mr. Carrión Mena (Ecuador) and Mr. Taghizade (Azerbaijan).', 'The meeting rose at 1 p.m.']\n"
     ]
    }
   ],
   "source": [
    "print(read_un_tei_file(xml_files[0]))"
   ]
  },
  {
   "cell_type": "code",
   "execution_count": 27,
   "metadata": {},
   "outputs": [],
   "source": [
    "un = []\n",
    "for xml_file in xml_files:\n",
    "    sentences = read_un_tei_file(xml_file, min_p_id=50)\n",
    "    for sentence in sentences:\n",
    "        if sentence:\n",
    "            un.append(sentence + '\\n')"
   ]
  },
  {
   "cell_type": "markdown",
   "metadata": {},
   "source": [
    "## Libri Speech 27\n",
    "\n",
    "Þessi málheild er samansafn af bókum og inniheldur mikið af tómum línum. Einnig er hver bók í sér skrá."
   ]
  },
  {
   "cell_type": "code",
   "execution_count": 29,
   "metadata": {},
   "outputs": [
    {
     "data": {
      "text/plain": [
       "14476"
      ]
     },
     "execution_count": 29,
     "metadata": {},
     "output_type": "execute_result"
    }
   ],
   "source": [
    "libri_dir = source_dir.joinpath('librispeech').joinpath('corpus')\n",
    "txt_files = glob(f'{libri_dir}/**/*.txt', recursive=True)\n",
    "txt_files = [pathlib.Path(txt_file) for txt_file in txt_files]\n",
    "len(txt_files)"
   ]
  },
  {
   "cell_type": "code",
   "execution_count": 30,
   "metadata": {},
   "outputs": [
    {
     "name": "stdout",
     "output_type": "stream",
     "text": [
      "\r\n",
      "\r\n",
      "\r\n",
      "Transcriber's Notes\r\n",
      "\r\n",
      "Passages in italics are indicated by _underscores_.\r\n",
      "\r\n",
      "\r\n",
      "\r\n",
      "\r\n"
     ]
    }
   ],
   "source": [
    "!tail -n 10 {txt_files[0]}"
   ]
  },
  {
   "cell_type": "code",
   "execution_count": 31,
   "metadata": {},
   "outputs": [
    {
     "name": "stdout",
     "output_type": "stream",
     "text": [
      "book was produced from scanned images of public domain\r\n",
      "material from the Google Print project.)\r\n",
      "\r\n",
      "\r\n",
      "\r\n",
      "\r\n",
      "\r\n",
      "\r\n",
      "\r\n",
      "\r\n",
      "The Outlook:\r\n",
      "\r\n",
      "Uncle Sam's Place and\r\n",
      "Prospects in International\r\n",
      "Politics\r\n",
      "\r\n",
      "[Illustration]\r\n",
      "\r\n",
      "Newton Macmillan.\r\n",
      "\r\n",
      "\r\n",
      "\r\n",
      "\r\n",
      "THE OUTLOOK:\r\n",
      "\r\n",
      "UNCLE SAM'S PLACE AND PROSPECTS IN\r\n",
      "INTERNATIONAL POLITICS.\r\n",
      "\r\n",
      "A Paper\r\n",
      "\r\n",
      "READ BEFORE THE FORTNIGHTLY CLUB, OSWEGO, N. Y.,\r\n",
      "MAY 2, 1899,\r\n",
      "\r\n",
      "BY\r\n",
      "\r\n",
      "NEWTON MACMILLAN.\r\n",
      "\r\n",
      "\r\n",
      "ORDERED PUBLISHED BY THE FORTNIGHTLY CLUB.\r\n",
      "\r\n",
      "1899.\r\n",
      "\r\n",
      "\r\n",
      "\r\n",
      "\r\n",
      "PRESS OF R. J. OLIPHANT,\r\n",
      "OSWEGO, N. Y.\r\n",
      "\r\n",
      "\r\n",
      "\r\n"
     ]
    }
   ],
   "source": [
    "!head -n 50 {txt_files[0]}"
   ]
  },
  {
   "cell_type": "code",
   "execution_count": 32,
   "metadata": {},
   "outputs": [],
   "source": [
    "import nltk\n",
    "import re\n",
    "\n",
    "def read_libri_file(p_in):\n",
    "    sentences = []\n",
    "    buffer = []\n",
    "    with p_in.open() as f_in:\n",
    "        for line in f_in:\n",
    "            line = line.strip()\n",
    "            if not line:\n",
    "                if buffer:\n",
    "                    for sent in nltk.sent_tokenize(\" \".join(buffer)):\n",
    "                        sentences.append(sent)\n",
    "                    buffer = []\n",
    "            else:\n",
    "                buffer.append(line)\n",
    "    if buffer:\n",
    "        for sent in nltk.sent_tokenize(\" \".join(buffer)):\n",
    "            sentences.append(sent)\n",
    "        buffer = []\n",
    "    return sentences"
   ]
  },
  {
   "cell_type": "code",
   "execution_count": 33,
   "metadata": {},
   "outputs": [
    {
     "data": {
      "text/plain": [
       "['book was produced from scanned images of public domain material from the Google Print project.)',\n",
       " 'The Outlook:',\n",
       " \"Uncle Sam's Place and Prospects in International Politics\",\n",
       " '[Illustration]',\n",
       " 'Newton Macmillan.',\n",
       " 'THE OUTLOOK:',\n",
       " \"UNCLE SAM'S PLACE AND PROSPECTS IN INTERNATIONAL POLITICS.\",\n",
       " 'A Paper',\n",
       " 'READ BEFORE THE FORTNIGHTLY CLUB, OSWEGO, N. Y., MAY 2, 1899,',\n",
       " 'BY',\n",
       " 'NEWTON MACMILLAN.',\n",
       " 'ORDERED PUBLISHED BY THE FORTNIGHTLY CLUB.',\n",
       " '1899.',\n",
       " 'PRESS OF R. J. OLIPHANT, OSWEGO, N. Y.',\n",
       " 'THE OUTLOOK:',\n",
       " \"UNCLE SAM'S PLACE AND PROSPECTS IN INTERNATIONAL POLITICS.\"]"
      ]
     },
     "execution_count": 33,
     "metadata": {},
     "output_type": "execute_result"
    }
   ],
   "source": [
    "read_libri_file(txt_files[0])[:16]"
   ]
  },
  {
   "cell_type": "markdown",
   "metadata": {},
   "source": [
    "Við náum ekki alveg textanum réttum með NLTK. En við köllum það gott."
   ]
  },
  {
   "cell_type": "code",
   "execution_count": 34,
   "metadata": {},
   "outputs": [],
   "source": [
    "libri = []\n",
    "for txt_file in txt_files:\n",
    "    for sentence in read_libri_file(txt_file):\n",
    "        libri.append(sentence + '\\n')"
   ]
  },
  {
   "cell_type": "markdown",
   "metadata": {},
   "source": [
    "## Sameinum í eitt skjal"
   ]
  },
  {
   "cell_type": "code",
   "execution_count": 35,
   "metadata": {},
   "outputs": [
    {
     "name": "stdout",
     "output_type": "stream",
     "text": [
      "94541108 /work/haukurpj/data/formatted/en-monolingual/mono.en\r\n"
     ]
    }
   ],
   "source": [
    "corpora = [\n",
    "    euro_parl,\n",
    "    news,\n",
    "    wiki_sent,\n",
    "    un,\n",
    "    libri\n",
    "]\n",
    "\n",
    "with target_dir.joinpath('mono.en').open('w+') as f_out:\n",
    "    for corpus in corpora:\n",
    "        for line in corpus:\n",
    "            f_out.write(line)\n",
    "    !wc -l {target_dir.joinpath('mono.en')}"
   ]
  },
  {
   "cell_type": "code",
   "execution_count": null,
   "metadata": {},
   "outputs": [],
   "source": []
  }
 ],
 "metadata": {
  "kernelspec": {
   "display_name": "Python [conda env:.conda-notebook]",
   "language": "python",
   "name": "conda-env-.conda-notebook-py"
  },
  "language_info": {
   "codemirror_mode": {
    "name": "ipython",
    "version": 3
   },
   "file_extension": ".py",
   "mimetype": "text/x-python",
   "name": "python",
   "nbconvert_exporter": "python",
   "pygments_lexer": "ipython3",
   "version": "3.7.5"
  }
 },
 "nbformat": 4,
 "nbformat_minor": 2
}
