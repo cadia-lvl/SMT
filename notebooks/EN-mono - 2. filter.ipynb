{
 "cells": [
  {
   "cell_type": "markdown",
   "metadata": {},
   "source": [
    "# EN einhliðamálheild\n",
    "Engin síun er gerð fyrir ensku málheildina sem stendur og þetta reiknrit er sett hér bara til þessa að afrita skrárnar."
   ]
  },
  {
   "cell_type": "code",
   "execution_count": 1,
   "metadata": {},
   "outputs": [],
   "source": [
    "# The location of en-mono to read\n",
    "source_dir = '/work/haukurpj/data/formatted/en-monolingual'\n",
    "\n",
    "# The location of where to write the results\n",
    "target_dir = '/work/haukurpj/data/filtered/en-monolingual'"
   ]
  },
  {
   "cell_type": "code",
   "execution_count": 2,
   "metadata": {},
   "outputs": [],
   "source": [
    "import pathlib\n",
    "\n",
    "source_dir = pathlib.Path(source_dir)\n",
    "target_dir = pathlib.Path(target_dir)\n",
    "assert source_dir.exists()\n",
    "if not target_dir.exists():\n",
    "    target_dir.mkdir()"
   ]
  },
  {
   "cell_type": "code",
   "execution_count": 3,
   "metadata": {},
   "outputs": [],
   "source": [
    "!cp {source_dir}/mono.en {target_dir}/mono.en"
   ]
  },
  {
   "cell_type": "code",
   "execution_count": null,
   "metadata": {},
   "outputs": [],
   "source": []
  }
 ],
 "metadata": {
  "kernelspec": {
   "display_name": "Python [conda env:.conda-notebook]",
   "language": "python",
   "name": "conda-env-.conda-notebook-py"
  },
  "language_info": {
   "codemirror_mode": {
    "name": "ipython",
    "version": 3
   },
   "file_extension": ".py",
   "mimetype": "text/x-python",
   "name": "python",
   "nbconvert_exporter": "python",
   "pygments_lexer": "ipython3",
   "version": "3.7.5"
  }
 },
 "nbformat": 4,
 "nbformat_minor": 2
}
