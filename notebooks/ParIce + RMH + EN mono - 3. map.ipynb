{
 "cells": [
  {
   "cell_type": "markdown",
   "metadata": {},
   "source": [
    "# ParIce + RMH + EN mono - map/pre-process\n",
    "Í þessu reikniriti forvinnum við öll gögnin."
   ]
  },
  {
   "cell_type": "code",
   "execution_count": 1,
   "metadata": {},
   "outputs": [],
   "source": [
    "# The location of en-mono to read\n",
    "en_mono_dir = '/work/haukurpj/data/filtered/en-monolingual'\n",
    "\n",
    "# The location of where to write the results\n",
    "en_mono_target_dir = '/work/haukurpj/data/mapped/en-monolingual'\n",
    "\n",
    "# The location of rmh to read\n",
    "is_mono_dir = '/work/haukurpj/data/filtered/risamalheild'\n",
    "\n",
    "# The location of where to write the results\n",
    "is_mono_target_dir = '/work/haukurpj/data/mapped/risamalheild'\n",
    "\n",
    "# The location of parice to read\n",
    "parice_dir = '/work/haukurpj/data/filtered/Parice1.0'\n",
    "\n",
    "# The location of where to write the results\n",
    "parice_target_dir = '/work/haukurpj/data/mapped/Parice1.0'\n",
    "\n",
    "THREADS = 14"
   ]
  },
  {
   "cell_type": "code",
   "execution_count": 2,
   "metadata": {},
   "outputs": [],
   "source": [
    "import pathlib\n",
    "\n",
    "en_mono_dir = pathlib.Path(en_mono_dir)\n",
    "en_mono_target_dir = pathlib.Path(en_mono_target_dir)\n",
    "is_mono_dir = pathlib.Path(is_mono_dir)\n",
    "is_mono_target_dir = pathlib.Path(is_mono_target_dir)\n",
    "parice_dir = pathlib.Path(parice_dir)\n",
    "parice_target_dir = pathlib.Path(parice_target_dir)\n",
    "assert en_mono_dir.exists()\n",
    "assert is_mono_dir.exists()\n",
    "assert parice_dir.exists()\n",
    "if not en_mono_target_dir.exists():\n",
    "    en_mono_target_dir.mkdir()\n",
    "if not is_mono_target_dir.exists():\n",
    "    is_mono_target_dir.mkdir()\n",
    "if not parice_target_dir.exists():\n",
    "    parice_target_dir.mkdir()"
   ]
  },
  {
   "cell_type": "code",
   "execution_count": 3,
   "metadata": {},
   "outputs": [
    {
     "name": "stderr",
     "output_type": "stream",
     "text": [
      "2020-01-22 15:15:01,261 - frontend - INFO - Initialized\n"
     ]
    }
   ],
   "source": [
    "from frontend import bulk as b\n",
    "from frontend import core as c\n",
    "from frontend import definitions as d\n",
    "from concurrent.futures import ProcessPoolExecutor\n",
    "from tqdm import tqdm\n",
    "import re\n",
    "\n",
    "URI = re.compile(r\"((http(s)?:\\/\\/)|(www)|([-a-zA-Z0-9:%_\\+.~#?&/=]+?@))+([-a-zA-Z0-9@:%_\\+.~#?&/=]+)\", re.IGNORECASE)\n",
    "URI_SIMPLE = re.compile(r\"([-a-zA-Z0-9@:%_\\+.~#?&/=]+?)(\\.is|\\.com)\", re.IGNORECASE)\n",
    "\n",
    "def preprocess_sent(sent, lang, method):\n",
    "    \n",
    "    regexps = [\n",
    "        {\n",
    "            'pattern': URI,\n",
    "            'repl': '_uri_'\n",
    "        },\n",
    "        {\n",
    "            'pattern': URI_SIMPLE,\n",
    "            'repl': '_uri_'\n",
    "        },\n",
    "        d.SUB_EMPTY_BRACKETS\n",
    "    ]\n",
    "    sent = c.regexp(sent, regexps)\n",
    "    sent = c.tokenize(sent, lang, method=method)\n",
    "    sent = c.lowercase_normalize(sent)\n",
    "    regexps = [\n",
    "        d.SUB_PIPE,\n",
    "        d.SUB_LT,\n",
    "        d.SUB_GT,\n",
    "        d.SUB_BRACKET_OPEN,\n",
    "        d.SUB_BRACKET_CLOSE,\n",
    "        d.SUB_FIX_PLACEHOLDERS\n",
    "    ]\n",
    "    sent = c.regexp(sent, regexps)\n",
    "    return sent\n",
    "\n",
    "def bulk_process_sent(p_in, p_out, function):\n",
    "    lang = b._lang(p_in)\n",
    "    if str(lang) == 'is':\n",
    "        method = \"shallow\"\n",
    "    else:\n",
    "        method = \"moses\"\n",
    "    with p_in.open() as f_in, p_out.open('w+') as f_out:\n",
    "        with ProcessPoolExecutor(max_workers=THREADS) as executor:\n",
    "            results = tqdm(executor.map(\n",
    "                function,\n",
    "                f_in,\n",
    "                chunksize=100))\n",
    "            for result in results:\n",
    "                f_out.write(result)"
   ]
  },
  {
   "cell_type": "code",
   "execution_count": null,
   "metadata": {},
   "outputs": [
    {
     "name": "stderr",
     "output_type": "stream",
     "text": [
      "18171769it [07:59, 27468.67it/s]"
     ]
    }
   ],
   "source": [
    "from functools import partial\n",
    "\n",
    "bulk_process_sent(en_mono_dir.joinpath('mono.en'), \n",
    "                  en_mono_target_dir.joinpath('mono.en'),\n",
    "                  partial(preprocess_sent, method='moses', lang=c.Lang.EN))\n",
    "bulk_process_sent(is_mono_dir.joinpath('rmh.is'),\n",
    "                  is_mono_target_dir.joinpath('rmh.is'),\n",
    "                  partial(preprocess_sent, method='shallow', lang=c.Lang.IS))\n",
    "bulk_process_sent(parice_dir.joinpath('train.is'),\n",
    "                  parice_target_dir.joinpath('train.is'),\n",
    "                  partial(preprocess_sent, method='shallow', lang=c.Lang.IS))\n",
    "bulk_process_sent(parice_dir.joinpath('train.en'),\n",
    "                  parice_target_dir.joinpath('train.en'),\n",
    "                  partial(preprocess_sent, method='moses', lang=c.Lang.EN))\n",
    "bulk_process_sent(parice_dir.joinpath('dev.is'),\n",
    "                  parice_target_dir.joinpath('dev.is'),\n",
    "                  partial(preprocess_sent, method='shallow', lang=c.Lang.IS))\n",
    "bulk_process_sent(parice_dir.joinpath('dev.en'),\n",
    "                  parice_target_dir.joinpath('dev.en'),\n",
    "                  partial(preprocess_sent, method='moses', lang=c.Lang.EN))\n",
    "bulk_process_sent(parice_dir.joinpath('test.is'),\n",
    "                  parice_target_dir.joinpath('test.is'),\n",
    "                  partial(preprocess_sent, method='shallow', lang=c.Lang.IS))\n",
    "bulk_process_sent(parice_dir.joinpath('test.en'),\n",
    "                  parice_target_dir.joinpath('test.en'),\n",
    "                  partial(preprocess_sent, method='moses', lang=c.Lang.EN))\n",
    "\n",
    "bulk_process_sent(parice_dir.joinpath('test.is'), \n",
    "                  parice_target_dir.joinpath('ground_truth.is'),\n",
    "                  c.lowercase_normalize)\n",
    "bulk_process_sent(parice_dir.joinpath('test.en'), \n",
    "                  parice_target_dir.joinpath('ground_truth.en'),\n",
    "                  c.lowercase_normalize)"
   ]
  },
  {
   "cell_type": "code",
   "execution_count": null,
   "metadata": {},
   "outputs": [],
   "source": []
  }
 ],
 "metadata": {
  "kernelspec": {
   "display_name": "Python [conda env:.conda-notebook]",
   "language": "python",
   "name": "conda-env-.conda-notebook-py"
  },
  "language_info": {
   "codemirror_mode": {
    "name": "ipython",
    "version": 3
   },
   "file_extension": ".py",
   "mimetype": "text/x-python",
   "name": "python",
   "nbconvert_exporter": "python",
   "pygments_lexer": "ipython3",
   "version": "3.7.5"
  }
 },
 "nbformat": 4,
 "nbformat_minor": 2
}
