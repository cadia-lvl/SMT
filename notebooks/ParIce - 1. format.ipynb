{
 "cells": [
  {
   "cell_type": "markdown",
   "metadata": {},
   "source": [
    "# Samhliðamálheild fyrir ensku og íslensku - ParIce\n",
    "Hér er unnið með ParIce málheildina. Gangasafnið lesið, prófunargögn síuð út og sett í staðlað form. \n",
    "\n",
    "Gert er ráð fyrir að eftirfarandi gögn séu til staðar\n",
    "- ParIce eins og það er sótt á málföng, `parice_dir`\n",
    "- Prófunargögn eins og fengin frá Steinþóri, `test_dir`\n",
    "\n",
    "Eftir að hafa keyrt reikniritið verður `target_dir` eftirfarandi\n",
    "- `target_dir/x.(is|en)`, þar sem `x` er undirmálheild úr ParIce.\n",
    "- `target_dir/train.(is|en)` allar málheildir úr ParIce sameinaðar og prófunar- og fínpússunargögn fjarlægð.\n",
    "- `target_dir/dev.(is|en)` 2000 setningapör valin af handahófi úr sameinuðu ParIce með prófunargögn fjarlægð.\n",
    "- `target_dir/test.(is|en)` Prófunargögn eins og fengin frá Steinþóri. "
   ]
  },
  {
   "cell_type": "code",
   "execution_count": null,
   "metadata": {},
   "outputs": [],
   "source": [
    "# The location of Parice to read\n",
    "parice_dir = '/work/haukurpj/data/raw/Parice1.0'\n",
    "# The location of the Parice test data (zipped, provided separatly).\n",
    "test_set_zip = '/work/haukurpj/data/raw/prófunarsett-20191205T064220Z-001.zip'\n",
    "\n",
    "# The location of where to write the results\n",
    "target_dir = '/work/haukurpj/data/formatted/Parice1.0'\n",
    "\n",
    "from glob import glob\n",
    "from pprint import pprint"
   ]
  },
  {
   "cell_type": "code",
   "execution_count": null,
   "metadata": {},
   "outputs": [],
   "source": [
    "import pathlib\n",
    "\n",
    "parice_raw_dir = pathlib.Path(parice_dir)\n",
    "parice_formatted_dir = pathlib.Path(target_dir)\n",
    "parice_test_zip = pathlib.Path(test_set_zip)"
   ]
  },
  {
   "cell_type": "code",
   "execution_count": null,
   "metadata": {},
   "outputs": [],
   "source": [
    "assert parice_raw_dir.exists()\n",
    "assert parice_test_zip.exists()\n",
    "if not parice_formatted_dir.exists():\n",
    "    parice_formatted_dir.mkdir()"
   ]
  },
  {
   "cell_type": "markdown",
   "metadata": {},
   "source": [
    "## Sækja opensubtitles\n",
    "Opensubtitles er ekki deilt með ParIce, út af leyfismálum, svo við þurfum að sækja þau gögn og keyra scriptu til þess að para setningar."
   ]
  },
  {
   "cell_type": "code",
   "execution_count": 11,
   "metadata": {},
   "outputs": [
    {
     "name": "stdout",
     "output_type": "stream",
     "text": [
      "--2020-01-17 09:58:51--  http://opus.nlpl.eu/download.php?f=OpenSubtitles/v2018/raw/en.zip\n",
      "Resolving opus.nlpl.eu (opus.nlpl.eu)... 193.166.25.9\n",
      "Connecting to opus.nlpl.eu (opus.nlpl.eu)|193.166.25.9|:80... connected.\n",
      "HTTP request sent, awaiting response... 302 Found\n",
      "Location: https://object.pouta.csc.fi/OPUS-OpenSubtitles/v2018/raw/en.zip [following]\n",
      "--2020-01-17 09:58:52--  https://object.pouta.csc.fi/OPUS-OpenSubtitles/v2018/raw/en.zip\n",
      "Resolving object.pouta.csc.fi (object.pouta.csc.fi)... 86.50.254.19, 86.50.254.18\n",
      "Connecting to object.pouta.csc.fi (object.pouta.csc.fi)|86.50.254.19|:443... connected.\n",
      "HTTP request sent, awaiting response... 200 OK\n",
      "Length: 13736002649 (13G) [application/zip]\n",
      "Saving to: ‘/work/haukurpj/data/formatted/Parice1.0/download.php?f=OpenSubtitles%2Fv2018%2Fraw%2Fen.zip’\n",
      "\n",
      "download.php?f=Open 100%[===================>]  12.79G  7.51MB/s    in 26m 1s  \n",
      "\n",
      "2020-01-17 10:24:53 (8.39 MB/s) - ‘/work/haukurpj/data/formatted/Parice1.0/download.php?f=OpenSubtitles%2Fv2018%2Fraw%2Fen.zip’ saved [13736002649/13736002649]\n",
      "\n",
      "--2020-01-17 10:24:54--  http://opus.nlpl.eu/download.php?f=OpenSubtitles/v2018/raw/is.zip\n",
      "Resolving opus.nlpl.eu (opus.nlpl.eu)... 193.166.25.9\n",
      "Connecting to opus.nlpl.eu (opus.nlpl.eu)|193.166.25.9|:80... connected.\n",
      "HTTP request sent, awaiting response... 302 Found\n",
      "Location: https://object.pouta.csc.fi/OPUS-OpenSubtitles/v2018/raw/is.zip [following]\n",
      "--2020-01-17 10:24:54--  https://object.pouta.csc.fi/OPUS-OpenSubtitles/v2018/raw/is.zip\n",
      "Resolving object.pouta.csc.fi (object.pouta.csc.fi)... 86.50.254.18, 86.50.254.19\n",
      "Connecting to object.pouta.csc.fi (object.pouta.csc.fi)|86.50.254.18|:443... connected.\n",
      "HTTP request sent, awaiting response... 200 OK\n",
      "Length: 60620921 (58M) [application/zip]\n",
      "Saving to: ‘/work/haukurpj/data/formatted/Parice1.0/download.php?f=OpenSubtitles%2Fv2018%2Fraw%2Fis.zip’\n",
      "\n",
      "download.php?f=Open 100%[===================>]  57.81M  9.08MB/s    in 5.2s    \n",
      "\n",
      "2020-01-17 10:24:59 (11.2 MB/s) - ‘/work/haukurpj/data/formatted/Parice1.0/download.php?f=OpenSubtitles%2Fv2018%2Fraw%2Fis.zip’ saved [60620921/60620921]\n",
      "\n"
     ]
    }
   ],
   "source": [
    "!wget -P {parice_raw_dir}/opensubtitles/en.zip http://opus.nlpl.eu/download.php?f=OpenSubtitles/v2018/raw/en.zip\n",
    "!wget -P {parice_raw_dir}/opensubtitles/is.zip http://opus.nlpl.eu/download.php?f=OpenSubtitles/v2018/raw/is.zip"
   ]
  },
  {
   "cell_type": "code",
   "execution_count": 30,
   "metadata": {},
   "outputs": [],
   "source": [
    "!mkdir -p {parice_raw_dir}/opensubtitles/en\n",
    "!mkdir -p {parice_raw_dir}/opensubtitles/is"
   ]
  },
  {
   "cell_type": "code",
   "execution_count": null,
   "metadata": {},
   "outputs": [],
   "source": [
    "!unzip {parice_raw_dir}/en.zip -d {parice_raw_dir}/en\n",
    "!unzip {parice_raw_dir}/is.zip -d {parice_raw_dir}/is"
   ]
  },
  {
   "cell_type": "markdown",
   "metadata": {},
   "source": [
    "Núna keyrum við scriptuna sem fylgir með ParIce til þess að para saman setningar."
   ]
  },
  {
   "cell_type": "markdown",
   "metadata": {},
   "source": [
    "### Virkar ekki!\n",
    "The script gives an error which seems to be related to the code... Instead we cheat and copy opensubtitles from what Steinþór sent us."
   ]
  },
  {
   "cell_type": "code",
   "execution_count": 35,
   "metadata": {},
   "outputs": [
    {
     "name": "stdout",
     "output_type": "stream",
     "text": [
      "/work/haukurpj/data/raw/Parice1.0/opensubtitles\n",
      "21079 1931\n",
      "1:0 1 2 3 4 5 6 |8 9 10 11 12\n",
      " 0:2 3 4 5 6 |8 9 10 11 12\n",
      "\n",
      "[['1', 'Allir, sem sverði bregða, munu fyrir sverði falla.'], ['2', 'Matteus 26-52'], ['3', 'Hvernig er þetta?'], ['4', 'Þú mátt eiga það, Rico.'], ['5', 'Kollurinn er enn í lagi.'], ['6', '- Hvað má bjóða ykkur?'], ['7', '- Spagetti og kaffi handa tveimur.'], ['8', 'Allt í lagi, herra.'], ['9', '\"Undirheimar votta demanta Pete Montana virðingu sína.\"'], ['10', 'Hvað kemur það málinu við?'], ['11', 'Helling.'], ['12', 'Demanta Pete Montana.'], ['13', 'Hann þarf ekki að sóa tímanum á bensínstöðvum.'], ['14', 'Hann er þekktur.'], ['15', 'Er í borginni og lifir hátt.'], ['16', 'Og sjá okkur.'], ['17', 'Algjörir ræflar, einskis virði.'], ['18', 'Viltu þetta, Rico?'], ['19', 'Viltu svona veislu fyrir þig?'], ['20', '\"Caesar Enrico Bandello.'], ['21', 'Hylltur af vinum sínum.\"'], ['22', 'Ég gæti gert allt sem hann gerir og meira til.'], ['23', 'En ég fékk aldrei tækifæri.'], ['24', 'Og hvað er að óttast?'], ['25', 'Ef ég lendi í klemmu, þá skýt ég mig úr henni.'], ['26', 'Já.'], ['27', 'Skýt fyrst og rökræði seinna.'], ['28', 'Þessi leikur er ekki fyrir mjúka menn.'], ['29', 'Það er peninga að hafa í borginni, satt er það.'], ['30', 'Og konurnar.'], ['31', 'Góðar stundir, alltaf eitthvað að gerast.'], ['32', 'Spennandi hlutir, þú veist.'], ['33', 'Fötin sem ég gæti gengið í.'], ['34', 'Svo myndi ég hætta, Rico.'], ['35', 'Ég færi aftur að dansa, eins og áður en ég hitti þig.'], ['36', 'Ég veit ekki.'], ['37', 'Þetta líf hentar mér ekki.'], ['38', 'Dansa.'], ['39', 'Það vildi ég gera.'], ['40', 'Dansa?'], ['41', 'Konur?'], ['42', 'Og hvað græðirðu á því?'], ['43', 'Ég vil ekki dansa neitt.'], ['44', 'Ég vil láta aðra dansa.'], ['45', '- Ég gleymi ekki peningunum.'], ['46', '- Peningar eru fínir, svo langt sem þeir ná.'], ['47', 'Vertu einhver.'], ['48', 'Líttu harkalega á menn og þá gera þeir hvað sem þú vilt.'], ['49', 'Hafðu það eins og þú vilt.'], ['50', 'Vertu einhver.'], ['51', '- Þú nærð þessu, Rico.'], ['52', '- Já.'], ['53', '- Þú sýnir þeim það.'], ['54', '- Veistu, þetta var síðasta stoppið hér í bæ.'], ['55', 'Við erum að fara.'], ['56', '- Hvert erum við að fara?'], ['57', '- Austur.'], ['58', 'Þar sem stóru hlutirnir gerast.'], ['59', 'PALERMO KLÚBBURINN DANS'], ['60', 'Svo ég dreif mig austur, eins og ég sagði.'], ['61', 'Og það er allt og sumt.'], ['62', 'Ég vil vera í genginu þínu, ef ég má.'], ['63', 'Hvað segirðu?'], ['64', 'Þú munt ekki iðrast þess.'], ['65', 'Ég geri allt sem þú segir.'], ['66', 'Ég óttast ekkert.'], ['67', 'Heldurðu að þú sért hörkutól?'], ['68', 'Ég er engin gunga.'], ['69', 'Ég gefst ekki upp.'], ['70', '- Þú heldur að þú sért góður?'], ['71', '- Leyfðu mér að sýna þér það.'], ['72', '- Hvað veistu um mig?'], ['73', '- Ó, ég hef heyrt ýmislegt.'], ['74', 'Hvernig þú stjórnar þessum bæjarhluta.'], ['75', 'Um Palermo klúbbinn, að hann sé yfirvarp.'], ['76', 'Ég hef heyrt margt.'], ['77', '- Og þú ert flinkur með byssuna?'], ['78', '- Fljótur og öruggur.'], ['79', 'Það gengur ekki hér.'], ['80', 'Gamaldags.'], ['81', 'Þetta er ekki sveitin.'], ['82', 'Já, ég skil þig.'], ['83', 'Gott og vel.'], ['84', 'Vertu hérna.'], ['85', 'En mundu, að ég stjórna.'], ['86', 'Og ég gef allar skipanirnar.'], ['87', 'Og þegar leiðir okkar skilja þá verður það eins og ég segi.'], ['88', '- Og enga skræki.'], ['89', 'Skilið?'], ['90', '- Já, auðvitað hr. Vettori.'], ['91', '- Jæja, komdu inn að hitta piltana.'], ['92', '- Sjálfsagt.'], ['93', 'Þeir eru sko frábærir.'], ['94', 'Hver og einn einasti.'], ['95', 'Þarna er Tony Passa.'], ['96', 'Keyrir betur en nokkur gaur í bænum.'], ['97', 'Otero.'], ['98', 'Hann er lítill en hann hefur yfir ýmsu að búa.'], ['99', 'Bat Carilla.'], ['100', 'Killer Peppi.'], ['101', 'Kid Bean.'], ['102', 'Og þessi hérna, Scabby.'], ['103', 'Hann er sko klár.'], ['104', 'Strákar.'], ['105', 'Svona, Tony.'], ['106', 'Vaknaðu.'], ['107', 'Heilsið pilti sem ætlar að starfa með okkur.'], ['108', 'Þetta er...'], ['109', 'Caesar Enrico Bandello.'], ['110', 'Nú, Caesar litli?'], ['111', 'Já, auðvitað.'], ['112', 'Bronspáfuglinn'], ['113', 'Hvar fannstu nýja dansarann, De Voss?'], ['114', 'Olga kom með hann fyrir nokkrum dögum.'], ['115', 'Ekki slæmur.'], ['116', '- Þokkalegur.'], ['117', '- Hvort hann er.'], ['118', 'Ég fann alvöru dansfélaga, er það ekki, hr. De Voss?'], ['119', 'Hann er fágaður dansari.'], ['120', 'Við hræðum þau eftir nokkrar æfingar.'], ['121', 'Ekki ætlarðu að selja mér hann, Olga?'], ['122', 'Jæja, ungi maður, 100 á viku ætti að duga þér.'], ['123', 'Það er meira en ég býð oftast í byrjun.'], ['124', 'Það dugar mér, þó það kaupi engar limósínur.'], ['125', 'Takk, hr. De Voss.'], ['126', 'Þú iðrast þessa ekki.'], ['127', 'Komdu, Joey.'], ['128', 'Svo við tvö verðum saman.'], ['129', 'Það gleður mig.'], ['130', 'Og ég þori alveg að segja það.'], ['131', 'Þú veist eflaust hvaða tilfinningar ég ber til þín.'], ['132', 'Er það ekki í lagi þín vegna?'], ['133', 'Eða áttu kærustu?'], ['134', 'Fasta kærustu, meina ég.'], ['135', 'Hundruð þeirra.'], ['136', 'Nema...'], ['137', 'Nema, hvaða máli skiptir það?'], ['138', 'Þetta verður raunverulegt.'], ['139', '- Við látum þetta þýða eitthvað.'], ['140', '- Já, Joey, gerum það.'], ['141', 'Af því ég þarfnast einhverrar.'], ['142', 'Eins og þín.'], ['143', 'Virkilega.'], ['144', '- Trúirðu mér, Olga?'], ['145', '- Ég vil trúa þér.'], ['146', 'Hvað er þetta?'], ['147', 'Hvað er þarna, Joe?'], ['148', 'Hvað ertu að gera með þetta?'], ['149', 'Geturðu ekki gleymt að þú hafir séð hana?'], ['150', 'Það breytir engu.'], ['151', 'Ekki á milli okkar, Olga.'], ['152', 'Engar áhyggjur, elskan.'], ['153', 'Þetta er bara heillagripur sem ég geng með.'], ['154', 'Er þetta vinnan þín?'], ['155', 'Kannski.'], ['156', 'Ég má kannski ekki spyrja, Joe.'], ['157', 'En núna...'], ['158', 'Þegar við höfum náð samkomulagi.'], ['159', 'Gætirðu ekki hætt?'], ['160', 'Nei.'], ['161', 'Ég má þetta víst ekki.'], ['162', 'Hvað græðirðu á því að spyrja, stelpa?'], ['163', 'Einu sinni í gengi...'], ['164', '- Þú veist hvernig það endar.'], ['165', '- Ég vil ekki vita.'], ['166', 'Nema hvað...'], ['167', 'Kannski það geti farið öðruvísi núna.'], ['168', 'Ef við reynum.'], ['169', 'Ég hef aldrei séð gaur komast upp með það.'], ['170', 'Í veðmálahúsi Arnies litla Lorch.'], ['171', 'Svartur.'], ['172', 'Sjö.'], ['173', 'Sam Vettori bíður enn eftir þér á skrifstofunni.'], ['174', 'Jæja, ætli ég verði ekki að hitta hann.'], ['175', 'Hvað ætli hann vilji hingað.'], ['176', 'Hey, Ritz.'], ['177', 'Vertu með mér.'], ['178', 'Ég þarfnast þín þarna inni.'], ['179', '- Þessi Sam Vettori er ótíndur bófi.'], ['180', '- Alveg rétt, stjóri.'], ['181', 'Leyfðu mér að fara fyrst.'], ['182', 'Hættu þessu.'], ['183', 'Halló, Arnie.'], ['184', 'Hissa að sjá mig á flotta staðnum þínum?'], ['185', 'Kannski ekki þegar þú segir mér hvað þú vilt.'], ['186', 'Já, ég skal sko segja þér það.'], ['187', 'Demanta Pete bað mig að koma.'], ['188', 'Hann er líka á leiðinni.'], ['189', '- Pete Montana?'], ['190', '- Hinn eini sanni.'], ['191', 'Ja, ef Pete vill þig hér, þá má mér standa á sama.'], ['192', '- Halló, hr. Montana.'], ['193', '- Halló.'], ['194', 'Halló.'], ['195', '- Halló, Arnie.'], ['196', '- Halló, hvað segirðu?'], ['197', '- Halló, Vettori.'], ['198', '- Halló, stjóri.'], ['199', 'Vindil?'], ['200', 'Takk.'], ['201', 'Takk, Arnie.'], ['202', 'Setjist, piltar.'], ['203', 'Ég hef fréttir að færa.'], ['204', 'Skilaboð frá Stóra strák.'], ['205', 'Nei, hlustið.'], ['206', 'Þetta er málið.'], ['207', '- Stóri strákurinn segir...'], ['208', '- Augnablik.'], ['209', 'Hey, þú.'], ['210', 'Það bað þig enginn að skipta þér af, eða hvað?'], ['211', '- Hypjastu, deli.'], ['212', '- Þú skipar mér ekki fyrir.'], ['213', '- Þú ert nýr, ekki satt?'], ['214', '- Rólegur, Rico.'], ['215', 'Farðu fram og bíddu eftir mér.'], ['216', 'Allt í lagi mín vegna, stjóri.'], ['217', 'Hlustið, piltar.'], ['218', 'Fylgist með þessum McClure sem er yfir nýja glæpaeftirlitinu.'], ['219', 'Hann er að herða að og þið skuluð ekki vanmeta hann.'], ['220', 'Stóri strákurinn vildi segja ykkur að taka í beislin á górillunum næstu mánuði.'], ['221', 'Ef einhver þeirra gengur of langt þá verður það slæmt.'], ['222', 'Ég hef aldrei séð neinn sem Stóri strákur náði ekki í.'], ['223', 'Hann getur bjargað öllu.'], ['224', 'Þess vegna er hann Stóri strákurinn.'], ['225', 'Þessi McClure verður honum auðveldur.'], ['226', '- Hann vefur honum um fingur sér.'], ['227', '- Ekki blekkja þig.'], ['228', 'McClure reddar engu fyrir neinn.'], ['229', 'Ekki einu sinni Stóra strák.'], ['230', 'Lítil verkefni, það er annað mál.'], ['231', 'Við gætum losnað undan þeim.'], ['232', 'En skot?'], ['233', 'Nei.'], ['234', 'Strákar eins og þessi raketta þín valda vandanum.'], ['235', 'Hver, Rico?'], ['236', 'Allt í lagi með hann.'], ['237', 'Hann er fljótur til, en það er af því hann er nýr.'], ['238', 'Er það?'], ['239', 'Við höngum fyrir hann ef hann skýtur á röngum tíma.'], ['240', 'Mundu það sem ég sagði þér.'], ['241', 'Komdu.'], ['242', 'Bless.'], ['243', 'Og þú.'], ['244', 'Farðu varlega með þessa fallbyssu þína.'], ['245', 'Heyrðirðu í mér?'], ['246', 'Já, hr. Montana.'], ['247', '- Góða nótt.'], ['248', '- Góða nótt.'], ['249', '- Góða nótt.'], ['250', '- Góða nótt.'], ['251', 'Gerðu sjálfum þér greiða, Rico.'], ['252', 'Skildu byssuna eftir á píanóinu næst þegar þú ferð út.'], ['253', 'Já, legðu hana við hliðina á pelanum.'], ['254', 'Hey.'], ['255', 'Rektu þinn eigin hóp, Arnie.'], ['256', 'Ég skal sjá um minn.'], ['257', 'Já, ég skal leggja henni.'], ['258', 'Ég þarf enga fallbyssu til að sjá um gaura eins og þig, hr. Lorch.'], ['259', 'Já, við verðum að fara varlega.'], ['260', 'Arnie litli hefur áhuga á þessum klúbb.'], ['261', '- Ef það fréttist hver gerði þetta...'], ['262', '- Það kemst aldrei upp.'], ['263', 'Þeir eru óvarkárir, en það hefur aldrei náðst í þá.'], ['264', 'Já, en mér lýst ekki á þetta.'], ['265', 'Ekki mér heldur, Sam.'], ['266', 'Alls ekki.'], ['267', 'Ég svaf ekki í nótt.'], ['268', 'Var andvaka af áhyggjum.'], ['269', 'Ég vil ekki taka neina áhættu.'], ['270', 'Ekki þegar þeir nálgast okkur.'], ['271', 'Hvað er að Tony, ertu að guggna?'], ['272', 'Nei, en ekki vill neinn okkar hanga?'], ['273', 'Langar þig að hætta?'], ['274', 'Viltu stinga okkur af?'], ['275', '- Þú ert gunga, bévítans...'], ['276', '- Bíddu hægur, Rico.'], ['277', 'Hvaðan kemur þetta gungutal?'], ['278', 'Ég segja þér hver er gunga.'], ['279', 'Vinur þinn, Joe Massara.'], ['280', '- Þess vegna kom hann ekki.'], ['281', '- Hann kemur.'], ['282', 'Þó svo...'], ['283', 'Ég veit allt um það.'], ['284', 'Hann fær tíu mínútur.'], ['285', 'Svo sjáum við til.'], ['286', 'Heyrðu nú, Sam, Joe er í lagi.'], ['287', 'Hann er besta undanfari sem til er.'], ['288', 'Hann getur farið á fínt hótel, beðið um svítuna og fengið.'], ['289', 'Án Joes getum við ekki unnið starfið, og þú veist það.'], ['290', 'Hvaða pappír er þetta?'], ['291', 'Skipulag sem við Scabby vorum að búa til.'], ['292', '- Verkið í klúbbnum?'], ['293', '- Já.'], ['294', 'Leyfðu mér að sjá það.'], ['295', 'Og þar til ég segi til um annað, þá skipuleggur enginn neitt fyrir þennan hóp nema ég.'], ['296', 'Skilurðu mig?'], ['297', 'Hann lærir.'], ['298', 'Komið hingað, strákar.'], ['299', 'Sjáiði nú þetta.'], ['300', 'Halló, Joe.'], ['301', 'Halló, Rico.'], ['302', 'Komdu hérna.'], ['303', 'Ég sagði þér að koma hálfníu.'], ['304', 'Ó, sjáðu til, ég...'], ['305', 'Ég var upptekinn.'], ['306', 'Ég var að æfa og...'], ['307', '- Þú veist hvernig það er.'], ['308', '- Já, ég veit það.'], ['309', 'Ég trúði ekki því sem þeir sögðu.'], ['310', 'Það er vitleysa að þú sért gunga.'], ['311', 'Segðu þeim að fara til...'], ['312', 'Heyrðu, af hverju þurfti ég að flýta mér svona?'], ['313', 'Við þurfum þig í smá verk.'], ['314', 'Smá verk á Bronspáfuglinum.'], ['315', 'Hvað áttu við?'], ['316', 'Ertu að grínast í mér?'], ['317', 'Hvernig get ég tekið áhættuna?'], ['318', 'Þetta fólk þekkir mig.'], ['319', 'Þess vegna grunar það þig aldrei.'], ['320', 'Ekki tefja, Joe.'], ['321', 'Ég er ekki að tefja.'], ['322', 'Þú verður að ná mér úr þessu, Rico.'], ['323', 'Þú verður.'], ['324', 'Ég vil ekki...'], ['325', 'Skilurðu ekki, ég er í föstu starfi núna, og...'], ['326', 'Getur maður aldrei hætt?'], ['327', 'Þú verður með og þér mun líka það.'], ['328', 'Þetta gerist á miðnætti á gamlárskvöld.'], ['329', 'Nei.'], ['330', 'Ég get það ekki.'], ['331', 'Ég get það ekki, skilurðu það?'], ['332', 'Ég...'], ['333', 'Ja, ég...'], ['334', '- Ég verð að vinna á gamlárskvöld.'], ['335', '- Heyrðu nú, Joe.'], ['336', 'Þú verður að vinna hérna.'], ['337', 'Og ekki gleyma því heldur.'], ['338', 'Komdu nú inn.'], ['339', 'Ja, kannski þetta sé ekki svo gott.'], ['340', '- Við komumst ekki framhjá Arnie.'], ['341', '- Ég kemst.'], ['342', 'Þú ert of góður, það er málið.'], ['343', 'Halló, Joe.'], ['344', 'Þú varst að flýta þér hingað, var það ekki?'], ['345', 'Kannski þér líki ekki svona vinna.'], ['346', 'Joe er í lagi.'], ['347', 'Hann verður með okkur.'], ['348', 'Já, ég verð með ykkur.'], ['349', 'Jæja, sjáum nú til.'], ['350', 'Svona hef ég hugsað mér þetta.'], ['351', 'Ég, Sam Vettori, ekki þú, Rico, né nokkur annar.'], ['352', '- Er það ekki ljóst?'], ['353', '- Auðvitað.'], ['354', 'Nema hver stendur hér?'], ['355', 'Þú gleymdir því, er það ekki?'], ['356', 'Ég stjórna þessu verki, ekki þú.'], ['357', 'Hérna.'], ['358', 'Klár, þessi Rico.'], ['359', 'Nóg í kollinum á honum.'], ['360', 'Ég er hræddur, Otero.'], ['361', 'Ég segi það satt.'], ['362', 'Þú ert bilaður.'], ['363', 'Rico kemur með okkur.'], ['364', 'Svona nú, hresstu þig við.'], ['365', 'Og þú, Joe.'], ['366', 'Þú verður í anddyrinu og gefur okkur merki ef allt lítur vel út.'], ['367', 'Skilurðu?'], ['368', 'Já, og ef við lendum í klemmu verðurðu að taka áhættuna með okkur hina.'], ['369', 'Hey, þögn, þögn.'], ['370', 'Hjálpi mér, þetta er Alvin McClure.'], ['371', 'Nýi gammurinn í glæpaeftirlitinu.'], ['372', 'Hey, De Voss.'], ['373', 'Komdu hingað.'], ['374', 'Hvað, Arnie?'], ['375', 'Hvað er að?'], ['376', 'Komdu með McClure hingað, ég ætla að bjóða honum límonaði.'], ['377', '- Ekki í kvöld, seinna.'], ['378', '- Gerðu eins og þér er sagt.'], ['379', 'Svona, De Voss, komdu með hann hingað.'], ['380', 'Eins og þú vilt.'], ['381', 'Hvað get ég pantað handa ykkur?'], ['382', '- Gott kvöld, hr. McClure.'], ['383', '- Gott kvöld, De Voss.'], ['384', '- Heljarinnar veisla.'], ['385', '- Þakka þér.'], ['386', 'Gleður mig að hafa ykkur hérna.'], ['387', 'Hr.'], ['388', 'McClure, hr. Lorch nokkur, fjárhagslegur stuðningsaðili minn vill fá að hitta þig.'], ['389', '- Má ég vísa þér að borðinu hans?'], ['390', '- Lorch?'], ['391', 'Lorch?'], ['392', '- Er það sá sem er kallaður Arnie litli?'], ['393', '- Já, en...'], ['394', 'Er hann fjárhagslegur stuðningsaðili þinn?'], ['395', '- Já, en...'], ['396', '- Ég vissi ekki að slíkur maður væri í tengslum við þennan stað.'], ['397', 'Því miður, De Voss, en þú getur sagt hr. Lorch að við séum að fara.'], ['398', 'Ég kom hingað á fölskum forsendum.'], ['399', '- En hr. McClure...'], ['400', '- Því miður, gott fólk, þá verðum við að fara eitthvert annað.'], ['401', 'Ertu hrifinn af hárinu á mér, Joey?'], ['402', 'Auðvitað.'], ['403', 'Ég var alltaf...'], ['404', 'Hvert ætlarðu?'], ['405', '- Að sækja sígarettur.'], ['406', '- Flýttu þér, það er næstum miðnætti og ég vil vera með þér á nýja árinu.'], ['407', 'Ég kem strax aftur.'], ['408', '- Hvað má bjóða þér?'], ['409', '- Einn Victor Noble.'], ['410', 'Vertu kyrr.'], ['411', 'Ó, hjálp!'], ['412', 'Ó, guð!'], ['413', 'Gefðu í, Tony, þetta er ekkert grín.'], ['414', 'Hvað er að, Tony, ertu að fara á taugum?'], ['415', 'Svona, förum nú.'], ['416', 'Áfram, við verðum að komast héðan.'], ['417', 'Fljótur.'], ['418', 'Gleðilegt ár.'], ['419', 'En, Joe...'], ['420', 'Joey.'], ['421', 'Hvað?'], ['422', 'Hvað er að?'], ['423', 'Ekkert.'], ['424', 'Það er allt í lagi.'], ['425', '- Klúbburinn var rændur.'], ['426', '- Rændur?'], ['427', 'Þeir...'], ['428', '- Þeir skutu McClure.'], ['429', '- Joe.'], ['430', '- Nú veistu það.'], ['431', '- Það varst þú.'], ['432', '- Nei.'], ['433', 'Nei, það er lygi!'], ['434', 'Ég...'], ['435', '- Þú skaust McClure.'], ['436', 'Nei, ég sver ég gerði það ekki.'], ['437', 'Ég skaut hann ekki.'], ['438', 'Það var...'], ['439', 'Ég veit ekki hver.'], ['440', 'En við sitjum í súpunni.'], ['441', 'Kannski...'], ['442', 'Kannski verður allt í lagi, Joey.'], ['443', 'Kannski særðist hann ekki illa.'], ['444', 'En þú ert hættur þessu.'], ['445', 'Þú átt ekki heima þar, Joe.'], ['446', 'Þú ert ekki þannig.'], ['447', 'Þú ferð ekki nálægt þeim aftur.'], ['448', 'Olga, maður hættir aldrei í gengi.'], ['449', 'Jæja, gekk allt eftir?'], ['450', 'Segðu mér.'], ['451', 'Allt var í lagi.'], ['452', 'Nema ég þurfti að stúta gaur.'], ['453', '- Hver var það?'], ['454', '- McClure.'], ['455', 'McClure.'], ['456', 'Þú skaust McClure.'], ['457', 'Milljón manns í bænum og þú skýtur yfirmann glæpaeftirlitsins.'], ['458', 'Hvað sagði ég, Rico?'], ['459', 'Þetta átti að vera hreint.'], ['460', 'Engir byssuleikir?'], ['461', 'Heldurðu að ég láti mann miða byssu á mig?'], ['462', 'Fleiri svona skot og þetta verður mitt síðasta verk.'], ['463', 'Yfirmaður glæpaeftirlitsins.'], ['464', 'Stóri strákurinn gerir okkur ekkert gagn í þessu.'], ['465', 'Þeir grípa okkur örugglega núna.'], ['466', '- Hvað á ég að gera?'], ['467', '- Af hverju gefurðu þig ekki fram?'], ['468', 'Þér förlast, Sam.'], ['469', 'Og Tony, hvað með hann?'], ['470', 'Hvar er hann?'], ['471', 'Að losa sig við bílinn.'], ['472', 'Tony fór á taugum.'], ['473', 'Hann er eins og smábarn.'], ['474', 'Við erum í alvöru vanda.'], ['475', 'Þú og þessi byssa þín.'], ['476', 'Flaherty er niðri, löggur með honum.'], ['477', 'Þeir eru á leiðinni upp.'], ['478', 'Verið kyrrir, allir saman.'], ['479', 'Þeir vita ekkert nema þeir hafi tekið Tony.'], ['480', 'Virðið þá að vettugi.'], ['481', 'Ég hlusta hérna inni.'], ['482', 'Gleðilegt ár, piltar.'], ['483', 'Það er einmana bíll að rúnta niður götuna.'], ['484', 'Ekki vitið þið nokkuð um hann?'], ['485', 'Hvernig ætti ég að vita nokkuð um hann?'], ['486', '- Eru ekki númer á honum?'], ['487', '- Jú, en þau eru fölsuð.'], ['488', 'Honum var stolið í Norðurbænum í kvöld.'], ['489', 'Ég er í kaffihúsabransanum.'], ['490', 'Ég veit ekkert um stolna bíla.'], ['491', 'Þú kynnir að vita eitthvað ef einhverjir ungu mannanna hérna tengdust því, er það ekki?'], ['492', '- Var enginn í bílnum?'], ['493', '- Jú, einn gaur.'], ['494', 'En ekki þegar við komum að honum.'], ['495', 'Hann stakk af.'], ['496', 'En við fengum góða lýsingu.'], ['497', 'Ég veit ekkert um þetta.'], ['498', 'Komið þá, drengir.'], ['499', 'Fyrst Vettori veit ekkert um þetta.'], ['500', 'Já, hefurðu heyrt fréttirnar, Vettori?'], ['501', 'Nei, hvað?'], ['502', 'Einhver drap Alvin McClure á Bronspáfuglinum.'], ['503', 'McClure?'], ['504', 'Nei, en hræðilegt.'], ['505', 'Sumir eru kærulausir með blýið.'], ['506', 'Óheppilegt fyrir Arnie.'], ['507', 'Þetta verður óheppilegt fyrir ýmsa.'], ['508', 'Jæja, verið sælir.'], ['509', 'Og, já, ég gleymdi að óska ykkur gleðilegra jóla.'], ['510', 'Tony, ég skil hann ekki.'], ['511', 'Hann er frábær bílstjóri.'], ['512', '- Hann hefur guggnað.'], ['513', '- Ég skal sjá um hann.'], ['514', '- Sýndu mér peningana.'], ['515', '- Augnablik, Sam.'], ['516', 'Ég hef skoðun á skiptingunni.'], ['517', 'Og þú gerir eins og ég vil.'], ['518', '- Við ætlum ekki að betla.'], ['519', '- Jæja, ég skipulagði þetta verk og ég vil minn hlut.'], ['520', 'Hvernig skipulagðir þú verkið?'], ['521', 'Sast hér og lagðir kapal.'], ['522', 'Það gengur ekki lengur, ekki fyrir mig.'], ['523', 'Við erum hættir.'], ['524', '- Ég hef tekið skipanir frá þér nógu lengi.'], ['525', '- Og þú heldur því áfram,'], ['526', '- eða þú ferð héðan svo hratt...'], ['527', '- Kannski það verði ekki ég sem fer.'], ['528', 'Nei?'], ['529', 'Kannski piltarnir hafi eitthvað um það að segja.'], ['530', 'Hvað um það?'], ['531', 'Svo staðan er þannig?'], ['532', 'Já, þannig er hún.'], ['533', 'Þú getur talað, en þú þolir þetta ekki mikið lengur.'], ['534', 'Þú ert búinn að vera.'], ['535', 'Jæja?'], ['536', 'Skiptingin er í lagi, Rico.'], ['537', 'Hvað með ykkur, piltar?'], ['538', 'Engin sárindi, Sam?'], ['539', 'Við verðum að standa saman.'], ['540', 'Það er reipi um hálsinn á mér, og maður hangir bara einu sinni.'], ['541', 'Ef einhver guggnar og kjaftar, þá talar byssan mín sínu máli.'], ['542', 'Hvað er að, Antonio?'], ['543', 'Af hverju sefurðu ekki?'], ['544', '- Ertu kannski veikur?'], ['545', '- Já.'], ['546', '- Ó, hvað...'], ['547', '- Nei, má maður ekki fara á fætur án þess að svara spurningaflóði?'], ['548', 'Þú ert seint úti, drekkur mikið vín.'], ['549', '- Láttu mig í friði.'], ['550', '- Ó, hlustaðu, Antonio, ég...'], ['551', 'Ég er með spagetti í potti handa þér.'], ['552', 'Borðaðu aðeins ef þér líður betur.'], ['553', 'Já?'], ['554', 'Það gerir þér gott.'], ['555', 'Þú varst svo góður strákur, Antonio.'], ['556', 'Manstu þegar þú söngst í kirkjunni?'], ['557', 'Í kórnum með föður McNeil?'], ['558', 'Hvítklæddur.'], ['559', 'Manstu?'], ['560', 'Faðir McNeil.'], ['561', 'Kirkjan var svo falleg.'], ['562', 'Þú smástrákur með sítt hár.'], ['563', 'Stóru, löngu kertin.'], ['564', 'Blóm.'], ['565', 'Manstu, Antonio?'], ['566', 'Ekki fara frá mér, mamma.'], ['567', 'Þú þarft ekki að fara, er það?'], ['568', 'Geturðu ekki verið hjá mér smástund?'], ['569', 'Gerðu það, ekki fara.'], ['570', '- Gerðu það.'], ['571', '- Ó, Antonio.'], ['572', 'Ó, elskan mín.'], ['573', 'Ég fer ekki, ég verð kyrr.'], ['574', 'Antonio.'], ['575', 'Drengurinn minn.'], ['576', 'Það verður í lagi, mamma.'], ['577', '- Þú ættir að drífa þig, heyrirðu það?'], ['578', '- Já.'], ['579', 'Drífðu þig nú.'], ['580', 'Farðu vel með þig, lofarðu því?'], ['581', 'Og skilaðu kveðju til fröken Manccia frá mér.'], ['582', 'Faðir McNeil.'], ['583', 'Hey, Tony.'], ['584', 'Hvar varstu?'], ['585', 'Ég leitaði þín út um allt.'], ['586', 'Rico vill að þú komir að sækja þinn hlut.'], ['587', 'Hvað er að, Tony?'], ['588', 'Viltu ekki hlutinn?'], ['589', 'Ertu bilaður?'], ['590', 'Ég er ekki bilaður.'], ['591', 'Og ég vil engan hlut.'], ['592', 'Heyrðu, Tony.'], ['593', 'Rico veit að þú fórst á taugum.'], ['594', 'Nú áttu að sýna að þú sért karlmaður.'], ['595', 'Þú mátt ekki guggna.'], ['596', 'Farðu héðan, Otero.'], ['597', 'Láttu mig í friði!'], ['598', 'Heyrðu, stráksi.'], ['599', 'Ég er að gera þér greiða.'], ['600', 'Komdu með mér og fáðu þinn hlut.'], ['601', 'Hey, Tony!'], ['602', 'Tony, hvert ertu að fara?'], ['603', 'Að finna föður McNeil.'], ['604', 'Rico!'], ['605', 'Ég fann Tony, en það er of seint.'], ['606', 'Hann er galinn!'], ['607', 'Galinn!'], ['608', 'Ég sagði honum að harka af sér, en hann fer til prestsins.'], ['609', 'Þannig er það.'], ['610', 'Við megum engan tíma missa.'], ['611', 'Svona, Sam, taktu bíl og förum.'], ['612', 'Ekki ég!'], ['613', 'Taktu...'], ['614', 'Taktu Scabby.'], ['615', '- Scabby gerir ekkert gagn.'], ['616', '- Nei.'], ['617', 'Ekkert.'], ['618', '- Kanntu að keyra, Otero?'], ['619', '- Já!'], ['620', 'Jæja, förum þá.'], ['621', 'Tökum svarta bílinn.'], ['622', 'Þarna er hann.'], ['623', 'Tony!'], ['624', 'Sástu alla kransana?'], ['625', 'Líkbíllinn er sannarlega fallegur.'], ['626', 'Þetta var ekki rétti tíminn til að spara.'], ['627', 'Tony verðskuldaði góða útför.'], ['628', '- Greyið.'], ['629', '- Já, en kransinn frá Rico var flottastur.'], ['630', 'Hann var stór.'], ['631', 'Og eina sem stóð á honum var \"Tony.\"'], ['632', '- Ekki einu sinni nafn Ricos.'], ['633', '- Já.'], ['634', 'Rico er enginn monthani.'], ['635', 'Tony virtist vera sofandi.'], ['636', 'Hafði ekkert breyst.'], ['637', 'Skil ekki hvernig þeir gera þetta.'], ['638', 'Áttu eld?'], ['639', 'Sjáðu, Rico.'], ['640', 'Þarna er Flaherty, bolinn.'], ['641', 'Það er að hitna í kolunum.'], ['642', 'Hvað vill hann?'], ['643', 'Hann er bara að tefja.'], ['644', 'Þeir hafa ekkert á mig.'], ['645', 'Við hreyfumst hægt.'], ['646', 'Við höfum nægan tíma.'], ['647', 'Samsætið hefst ekki fyrr en átta.'], ['648', 'Já.'], ['649', 'Leitt að Tony verði ekki með.'], ['650', 'PALERMO KLÚBBURINN VINÁTTA'], ['651', '- TRYGGĐ'], ['652', 'Já, þetta er góssið.'], ['653', 'Flottasta sem ég hef séð, Sam.'], ['654', 'Sjáðu þessar turtildúfur hérna niðri.'], ['655', 'Vinátta og tryggð, já?'], ['656', '- Jæja, hvernig líst þér á, Sam?'], ['657', '- Nokkuð gott, Rico.'], ['658', 'Otero finnst ég líta illa út með svona hatt.'], ['659', 'Hvað finnst þér?'], ['660', '- Þetta líkist þér.'], ['661', '- Ég hélt það.'], ['662', 'Ég held ég noti þá héðan í frá.'], ['663', '\"Hrós til sanns vinar.'], ['664', 'Hr.'], ['665', 'C. Bandello frá sönnum vini, hr. Sam Vettori.\" Þetta er fallegt.'], ['666', 'Ég kann að meta það, Sam.'], ['667', 'Það er fallegt af þér.'], ['668', 'Hvað er að ykkur?'], ['669', 'Kunnið þið ykkur ekki í svona veislum?'], ['670', 'Hvað eruð þið eiginlega, bensínstöðvadólgar?'], ['671', 'Hættið þessu blaðri.'], ['672', 'Scabby ætlar að halda ræðu.'], ['673', 'Jæja, gott fólk, þið vitið til hvers við erum hér, svo hvað hefst af því að ég segi ykkur meira um það?'], ['674', 'Rico er frábær gaur!'], ['675', 'Já, og...'], ['676', 'Ja...'], ['677', 'Heyrðu, Rico, ég tala ekki mjög fínt, en...'], ['678', 'Þetta úr er handa þér, sérðu?'], ['679', '- Frá strákunum!'], ['680', '- Svona, nú.'], ['681', 'Klappið öll saman.'], ['682', 'Ræðu!'], ['683', 'Ó, nei, nei, nei.'], ['684', '- Ræðu!'], ['685', '- Gott og vel.'], ['686', 'Jæja þá.'], ['687', 'Viljið þið heyra ræðu frá mér?'], ['688', 'Hér kemur hún.'], ['689', 'Ég...'], ['690', 'Mig langar að þakka ykkur, félögunum, fyrir þessa veislu.'], ['691', 'Þetta er aldeilis ágætt.'], ['692', 'Áfengið er gott, er mér sagt.'], ['693', 'En ég drekk það ekki sjálfur.'], ['694', 'Og maturinn er lostætur.'], ['695', 'Jæja, ég held við skemmtum okkur öll vel, og það er gott að sjá ykkur herrana hér með dömunum ykkar.'], ['696', 'Já.'], ['697', 'Jæja, ég...'], ['698', 'Ég held það sé allt.'], ['699', 'Og ég vona að þið dettið ekki í það og verðið með læti af því þannig eru margir drepnir.'], ['700', 'Já.'], ['701', 'Hættið þessu.'], ['702', 'Ég veit hvað ég...'], ['703', 'Nokkrir blaðamenn vilja fá mynd.'], ['704', 'Hvað viltu gera, stjóri?'], ['705', 'Ja, hvernig hljómar það?'], ['706', 'Vísaðu þeim inn.'], ['707', 'Segðu þeim að flýta sér.'], ['708', '- Ég sé þig seinna.'], ['709', '- Nei, ekki fara.'], ['710', '- Við látum taka af okkur myndir.'], ['711', '- Ég hef ekki látið taka af mér mynd síðustu fimmtán árin.'], ['712', 'Hvað ertu að segja?'], ['713', 'Í 15 ár hefur hann ekki...'], ['714', 'Svona, piltar.'], ['715', 'Verið fljótir.'], ['716', 'Svona nú!'], ['717', 'Þögn, allir saman!'], ['718', 'Það á að smella af!'], ['719', 'Þarna eruð þið.'], ['720', 'Kyrrir svona.'], ['721', 'Svona, kyrrir!'], ['722', 'Sjáið þessa gaura þarna.'], ['723', 'Þetta var slæm ákvörðun, Rico.'], ['724', 'Flassið.'], ['725', '- Það er hægt að taka þig fyrir það.'], ['726', '- Eins og mér sé ekki sama?'], ['727', 'Á ég ekki að sýna fólki hvað piltarnir gerðu?'], ['728', 'Hey, Rico, hvað varð um vin þinn, dansarann, Joe Massara?'], ['729', 'Hann kom ekki.'], ['730', 'Ég hef ekki séð hann lengi.'], ['731', 'Ekki hætti hann, Rico?'], ['732', 'Óskynsamlegt að hætta, Sam.'], ['733', 'Einn gaur reyndi það einu sinni.'], ['734', 'Hugsaðu um þín mál, og ég sinni mínum.'], ['735', 'Hvað vill þessi boli hingað?'], ['736', '- Ég skal sýna honum.'], ['737', '- Varlega, Rico.'], ['738', 'Hver bauð þér hingað?'], ['739', 'Þú fetar þig upp metorðastigann, Rico.'], ['740', 'Neðri hæðin er opin öllum, jafnvel löggum.'], ['741', 'En efri hæðin er prívat.'], ['742', 'Takk, en ég vil hafa augun á þér, Rico.'], ['743', 'Ég er nefnilega vinur þinn.'], ['744', 'Mér finnst gaman að sjá ungan mann gera það gott, það er allt og sumt.'], ['745', 'Blessaður.'], ['746', 'Komdu fljótt aftur.'], ['747', 'Ég geri það.'], ['748', 'Ó, heyrðu...'], ['749', 'Einhver henti múrsteini inn um glugga hjá Meyer Blum í nótt.'], ['750', 'Ekki veist þú neitt um demanta og platínu úr sem var stolið, er það?'], ['751', 'Þú lætur mig vita ef þú heyrir eitthvað um það.'], ['752', '\"CAESAR LITLl\" BANDELLO FÆR UMSÖGN FRÁ FYLGISMÖNNUM'], ['753', 'Veisla, já?'], ['754', 'Rico hefur náð langt, of langt.'], ['755', 'Svo núna þarf hann að hætta.'], ['756', 'Hann verður að hætta segi ég!'], ['757', 'Ó, Arnie, ætlið þið félagarnir að rífast aftur?'], ['758', 'Hvers vegna að borga fyrir vernd ef friður ríkir ekki?'], ['759', 'Engar áhyggjur.'], ['760', 'Friður kemst á fljótlega.'], ['761', 'Hann verður að hætta, svo hann skal hætta.'], ['762', 'Hann hefur ráðist inn á mitt svæði og það gengur ekki fyrir mig.'], ['763', 'Sjáðu.'], ['764', 'Ég sit hér, sérðu?'], ['765', 'Ég sit hér í rólegheitunum að reykja sígarettu, sérðu?'], ['766', 'En nokkrir piltanna minna eru ekki hér.'], ['767', 'Þeir eru að leita Ricos, og þeir eru með byssurnar sínar.'], ['768', 'Skilurðu?'], ['769', 'Og þegar þeir finna hann þá fær Rico enga veislu.'], ['770', 'Heldur erfidrykkju!'], ['771', 'Arnie, þú veist best.'], ['772', 'Ég hef aldrei hitt Rico.'], ['773', 'Phelps, 2284.'], ['774', 'Halló, Otero.'], ['775', 'Þetta er Joe Massara.'], ['776', 'Ég komst að nokkru.'], ['777', 'Áríðandi.'], ['778', 'Segðu Rico að vara sig.'], ['779', 'Gengi Arnies litla ætlar að skjóta hann.'], ['780', 'Hvað er að?'], ['781', '- Hvar er Rico?'], ['782', '- Ekki hugmynd.'], ['783', 'Hann er ókominn.'], ['784', 'Komdu, fljótt!'], ['785', 'Við verðum að finna hann!'], ['786', 'Ég tek 10 svona.'], ['787', 'Vá, ætlarðu að kaupa öll þessi blöð, hr. Rico?'], ['788', 'Auðvitað.'], ['789', 'Er ekki mynd af mér í þeim?'], ['790', 'Hérna.'], ['791', '- Takk!'], ['792', 'Komdu aftur!'], ['793', '- Það var lítið.'], ['794', 'MJÓLKURVÖRUR G ÆĐA MJÓLK OG SMJÖR'], ['795', 'Góðar skyttur!'], ['796', 'Ó, nei!'], ['797', 'Skaut þig loksins einhver.'], ['798', 'Já, en það bara strauk mig.'], ['799', 'Sá gamli verður ánægður að heyra það.'], ['800', 'Hann hefur mikinn áhuga á þér.'], ['801', 'Segðu honum að löggurnar nái mér ekki öðruvísi, svo þær réðu byssumenn.'], ['802', 'Ef ég væri ekki lögga þá hefði ég gert það ódýrt.'], ['803', 'Hefurðu íhugað hvernig þú litir út með lilju þér í hönd?'], ['804', 'Nei, aldrei.'], ['805', 'Ég hef gert þetta lengi og járnað marga bófa.'], ['806', 'Einhvern daginn förum við í bílferð, Rico, og þá verða járn á þér.'], ['807', 'Enginn gammur eins og þú setur járn á Rico.'], ['808', 'Komið, piltar.'], ['809', 'Ég ætla að ná þessum monthana þó það gangi af mér dauðum.'], ['810', 'Fyrirgefðu, stjóri.'], ['811', 'Ég hefði átt að vera hjá þér.'], ['812', 'Þeir töldu sig hitta í mark, stjóri, en kúlurnar skoppuðu af þér.'], ['813', 'Það var Arnie litli, Rico.'], ['814', 'Joe Massara frétti það og hringdi.'], ['815', 'Við fundum þig ekki.'], ['816', 'Joe?'], ['817', 'Jæja.'], ['818', 'Ég hélt honum væri sama.'], ['819', 'Það var almennilegt af honum.'], ['820', 'Ég ætti að gefa honum tækifæri í næsta verki.'], ['821', 'Svona.'], ['822', 'Læknanámið var til einhvers, ekki satt?'], ['823', 'Takk, Scabby.'], ['824', 'Ég ætla að finna Arnie litla í kvöld.'], ['825', 'Ef hann vill vandræði, þá á ég nóg af þeim.'], ['826', 'Ég vil hafa Killer Peppi, Otero, Kid Bean og Bat með mér.'], ['827', 'E.N. CARR  CO INN'], ['828', '-  ÚTFLYTJENDUR'], ['829', 'Opnaðu, vinur, annars segirðu engum neitt framar.'], ['830', 'Segðu honum að við séum í lagi og farðu ekki á taugum.'], ['831', 'Þessir gaurar eru í lagi.'], ['832', 'Svona, upp með þær.'], ['833', 'Læstu.'], ['834', 'Hvar er Arnie?'], ['835', 'Á skrifstofunni?'], ['836', 'Bat, stattu fyrir utan og hleyptu engum inn.'], ['837', 'Kid, þú gætir þeirra.'], ['838', 'Peppi og Otero, fylgið mér.'], ['839', 'Komdu nú.'], ['840', 'Bankaðu á hann.'], ['841', 'Svona nú!'], ['842', 'Upp með þær!'], ['843', 'Upp með þær!'], ['844', 'Svona!'], ['845', 'Halló, Arnie.'], ['846', '- Hvernig gengur?'], ['847', '- Hvað er í gangi?'], ['848', 'Ég veit ekki um hvað þetta snýst, en það er einkamál.'], ['849', '- Þið ættuð að hypja ykkur.'], ['850', '- Það fer enginn héðan.'], ['851', 'Ykkur er boðið í þessa einkaveislu.'], ['852', 'En ef við viljum ekki vera?'], ['853', 'Ég myndi ekki stöðva þig fyrir neitt.'], ['854', 'En piltana mína klæjar í lófana.'], ['855', 'Setjist, herramenn.'], ['856', 'Arnie, þú ættir að vita betur en að ráða utanaðkomandi ræfla, sérstaklega sem ekki geta skotið.'], ['857', 'Svona nú.'], ['858', 'Hvað viltu?'], ['859', 'Segðu mér!'], ['860', 'Arnie, þú ert búinn að vera.'], ['861', 'Þú réðir þessa gaura, þeir hittu ekki.'], ['862', 'Nú ertu búinn að vera.'], ['863', 'Ef þú ert ekki farinn úr bænum í fyrramálið, ferðu ekki héðan nema í líkkistu.'], ['864', 'Ég tek yfir þetta svæði.'], ['865', 'Héðan í frá stjórna ég.'], ['866', 'Þú ert að vaxa, Rico.'], ['867', 'Hefurðu sóst eftir þessu allan tímann?'], ['868', 'Ég sá það í augum þér þegar við hittumst fyrst.'], ['869', 'Þú ert einskis nýtur, Rico.'], ['870', 'Ef þú heldur að þú getir ráðist inn eins og á Sam Vettori, þá ertu galinn!'], ['871', 'Þú hefur víst gleymt öllu um Pete Montana?'], ['872', 'Hvernig á Demanta Pete að stöðva mig?'], ['873', 'Hann er yfirmaður þinn, ekki minn.'], ['874', 'Sam leit ekki þannig á hann.'], ['875', '- Sam vissi hver skipaði fyrir.'], ['876', '- Sam var of mjúkur.'], ['877', 'Demanta Pete hræddi hann, en ég er ekki Sam.'], ['878', 'Sam er búinn að vera.'], ['879', 'Nú ert þú líka búinn að vera.'], ['880', 'Falleg slifsisnæla, Arnie.'], ['881', 'Ekkert gervilegt við skartgripina mína.'], ['882', 'Arnie, þú ættir að hætta í bransanum.'], ['883', 'Þú þolir álagið ekki lengur.'], ['884', 'Þú ættir að taka hatt þinn og fara.'], ['885', 'Næst verðurðu handtekinn fyrir að hleypa af byssu í borginni.'], ['886', 'Ja, ég held það sé allt og sumt.'], ['887', 'Góða ferð, herramenn.'], ['888', 'Komiði, piltar.'], ['889', 'Og takk, piltar, fyrir skotvopnin.'], ['890', 'MENNINGARDÁLKURINN'], ['891', 'Hr.'], ['892', 'Arnold Lorch, úr Norðurbænum, hefur farið til Detroit, þar sem hann ætlar að eyða sumrinu.'], ['893', 'Hann fór í fylgt tveggja vina frá Detroit, sem voru í borginni í stuttan tíma.'], ['894', '- Jæja, piltar, hvernig líst ykkur á?'], ['895', '- Þú ert í röngu starfi.'], ['896', 'Fullkomið.'], ['897', 'Þetta þýðir að þú átt nýjan félaga.'], ['898', 'Caesar litla.'], ['899', 'Það hlæja allir að sögu Scabby.'], ['900', 'Jæja, stjóri.'], ['901', 'Þú lést Arnie aldeilis finna fyrir því.'], ['902', 'Rico...'], ['903', 'Nú ertu frægur.'], ['904', 'Sjáðu til, Otero.'], ['905', 'Það er engin ástæða til að vera hræddur við stóru gaurana.'], ['906', 'Því stærri sem þeir eru, þeim mun hærra er fallið.'], ['907', 'Já.'], ['908', 'Mér hefur gengið þokkalega í bransanum hingað til.'], ['909', 'Jæja.'], ['910', 'Þú lítur vel út, stjóri.'], ['911', 'Já, en mér líður hræðilega.'], ['912', 'Leið þín liggur upp á við, Rico.'], ['913', 'Engum okkar hefur verið boðið í mat hjá Stóra stráknum.'], ['914', 'Og enginn hefur ráðist inn nema Pete Montana.'], ['915', 'Skilurðu hvað ég meina?'], ['916', 'Ekki viltu að Stóri strákur telji þig smekklausan.'], ['917', 'Maður er festur betur í fangelsinu.'], ['918', 'Ef þú heldur að ég fari út svona, þá ertu galinn!'], ['919', 'Þú ert fínn, stjóri.'], ['920', '- Sjáðu.'], ['921', 'Líttu á þig.'], ['922', '- Æ, ég veit ekki.'], ['923', 'Það vantar bara þurrku á handlegginn.'], ['924', 'Ertu ekki fínn?'], ['925', 'Já.'], ['926', 'Kannski þetta sé ekki svo slæmt.'], ['927', 'Ó, halló.'], ['928', '- Halló, Stóri strákur.'], ['929', '- Halló, Rico.'], ['930', 'Ó, já.'], ['931', 'Já.'], ['932', 'Takk.'], ['933', 'Takk kærlega.'], ['934', 'Þú ert aldeilis uppstrílaður í kvöld.'], ['935', 'Já, ég hélt það væri rétt að fara í apagallann.'], ['936', 'Mikið rétt.'], ['937', 'Þú þarft að læra þetta.'], ['938', 'Já.'], ['939', 'Jæja...'], ['940', 'Þetta er aldeilis höll.'], ['941', 'Þetta dugar.'], ['942', 'Þessi þykku húsgögn hljóta að hafa kostað sitt?'], ['943', 'Þau fást ekki fyrir vindlamiða.'], ['944', 'Ja, ég segi það satt.'], ['945', 'Þetta lítur sannarlega...'], ['946', 'Ó, sjáðu þetta.'], ['947', '- Ertu hrifinn?'], ['948', '- Það er glæsilegt.'], ['949', 'Það kostaði mig 15,000 dollara.'], ['950', 'Fimmtán þús...'], ['951', 'Þessir gullrammar kosta greinilega sitt.'], ['952', 'Má bjóða þér kokteil eða koníakslögg?'], ['953', 'Ó, nei takk.'], ['954', 'Ég snerti ekki áfengi.'], ['955', 'Ekki?'], ['956', '- Vindil þá?'], ['957', '- Ó, já.'], ['958', 'Ég þigg einn svoleiðis.'], ['959', 'Takk.'], ['960', 'Takk kærlega.'], ['961', '- Sestu, Rico.'], ['962', '- Já.'], ['963', 'Takk.'], ['964', 'Heyrðu nú, Rico.'], ['965', 'Ég ætla að tala við þig, en þú átt ekki að heyra orð sem ég segi, skilið?'], ['966', 'Þetta er leyndarmál, og ef það fréttist þá fer illa fyrir einhverjum.'], ['967', 'Þú þekkir mig.'], ['968', 'Allt í lagi.'], ['969', 'Heyrðu þetta.'], ['970', 'Pete Montana er búinn að vera.'], ['971', 'Já?'], ['972', 'Jæja.'], ['973', '- Og ég hélt að hann væri aðal maðurinn.'], ['974', '- Búinn að vera.'], ['975', 'Hvað ef ég segði þér að héðan í frá ert þú Pete Montana.'], ['976', 'Að þú takir yfir hans svæði til viðbótar við þitt eigið.'], ['977', 'Myndirðu samþykkja það?'], ['978', 'Myndi ég?'], ['979', 'Myndi ég?'], ['980', 'Allt í lagi.'], ['981', 'Þá er það ákveðið.'], ['982', 'Ég er að gera þér greiða, Rico, en þegar þú tekur við býst ég við góðri þjónustu.'], ['983', 'Þú færð hana.'], ['984', 'Leyfðu mér þá að drekka nýja Norðurbæjarstjóranum heill.'], ['985', 'Takk.'], ['986', 'Rico hélt áfram að hugsa um sjálfan sig, hárið á sér og byssuna sína...'], ['987', 'Með framúrskarandi árangri.'], ['988', 'Otero, hvað sagði ég þér?'], ['989', 'Ég vissi að þetta yrði.'], ['990', 'Ég vissi að hann fylgdist með mér.'], ['991', 'Og ég skal segja þér, Otero.'], ['992', 'Pete Montana er ekki bara búinn að vera, heldur Stóri strákur líka.'], ['993', 'Hann er ekki sami maður og hann var.'], ['994', 'Hann kiknar undan álaginu áður en langt um líður, og fylgstu þá með mér.'], ['995', 'Sjálfsagt, stjóri.'], ['996', 'Bráðum stjórnar þú öllum bænum.'], ['997', 'Otero, þú sagðir munnfylli.'], ['998', 'Maður að nafni Massara er frammi.'], ['999', 'Hann vill hitta þig.'], ['1000', '- Ég hitti hann rétt bráðum.'], ['1001', '- Já, herra.'], ['1002', 'Hvað vill Joe?'], ['1003', 'Hann hefur ekki komið nærri okkur í marga mánuði.'], ['1004', 'Ég sendi eftir honum.'], ['1005', 'Ég heyrði að einhver í Detroit hafi sagt Flaherty að þrýsta á dansara í Bronspáfuglinum ef hann vildi komast að því hver skaut McClure.'], ['1006', 'Stjóri, þú veist allt áður en það gerist.'], ['1007', 'Já, fátt fer framhjá mér.'], ['1008', 'Ég kemst að því hvort Flaherty hafi þrýst á Joe þegar ég tala við hann.'], ['1009', 'Vá, Rico, hvílík höll.'], ['1010', 'Ó, halló, Joe.'], ['1011', 'Já, þetta nægir.'], ['1012', 'En við hverju býstu?'], ['1013', 'Ég lagði 20 þúsund í hana.'], ['1014', '- Halló, Otero.'], ['1015', 'Hvernig hefurðu það?'], ['1016', '- Frábært.'], ['1017', 'Sestu, Joe.'], ['1018', 'Er ég nógu góður til að sitja í svona stól?'], ['1019', 'Svona nú.'], ['1020', 'Enga brandara.'], ['1021', 'Sestu.'], ['1022', 'Burt, Otero.'], ['1023', '- Ég vil tala við Joe í einrúmi.'], ['1024', '- Sjálfsagt.'], ['1025', 'Sjáumst seinna, Joe.'], ['1026', '- Vindil, Joe?'], ['1027', '- Nei takk.'], ['1028', 'Má bjóða þér kokteil, eða koníakslögg?'], ['1029', 'Nei.'], ['1030', 'Jæja, varstu hissa að heyra frá mér?'], ['1031', 'Svolítið.'], ['1032', 'Ég hélt það væri gott að ræða saman eins og í gamla daga.'], ['1033', 'Það er gaman að sjá þig, Rico.'], ['1034', 'Sérstaklega svona.'], ['1035', '- Þú lítur vel út.'], ['1036', '- Þú lítur líka vel út, Joe.'], ['1037', 'Þú tekur lífinu rólega?'], ['1038', '- Ekki svo rólega.'], ['1039', 'Dansinn er vinna.'], ['1040', '- Já, en þú kvartar ekki.'], ['1041', '- Nei.'], ['1042', 'Nei, ég kvarta ekki.'], ['1043', '- Það er gott.'], ['1044', 'Já.'], ['1045', 'Dansinn er ágætis aukavinna.'], ['1046', 'Gefur þér ágætis yfirvarp.'], ['1047', 'En það er ekki karlmanns starf.'], ['1048', 'Hver er munurinn, Rico?'], ['1049', 'Ef ég sparka ekki, af hverju ættir þú að sparka?'], ['1050', 'Hver er að sparka?'], ['1051', 'En af hverju ætti ungur maður að sóa tíma sínum?'], ['1052', 'Og ég lagði metnað í þig, Joe, kom þér inn í gengið, veitti þér framgang.'], ['1053', 'En þú ert bara raggeit.'], ['1054', 'Þurfum við að ræða það aftur?'], ['1055', 'Geturðu ekki gleymt mér?'], ['1056', 'Ég vil ekki gleyma, Joe.'], ['1057', 'Þú ert vinur minn.'], ['1058', 'Við byrjuðum saman.'], ['1059', 'Við verðum að halda áfram saman.'], ['1060', 'Hvað annað þarf ég að hugsa um?'], ['1061', 'Ég þarfnast þín, Joe.'], ['1062', 'Mér býðst stærsta tækifæri lífsins.'], ['1063', 'Stóri strákur lét mig fá allan Norðurbæinn, en það er of mikið verk fyrir einn mann.'], ['1064', 'Ég þarfnast aðstoðar.'], ['1065', '- Manns eins og þín, sem ég get treyst.'], ['1066', '- Ekki ég, Rico.'], ['1067', 'Ég er hættur.'], ['1068', 'Þú hættir ekki.'], ['1069', 'Það hætti aldrei neinn hjá mér.'], ['1070', 'Þú ert enn í genginu mínu, skilurðu?'], ['1071', 'Mér er sama hversu mörg pils hanga utan í þér.'], ['1072', 'Stelpan hefur gert þig mjúkan.'], ['1073', '- Láttu Olgu vera.'], ['1074', '- Nei.'], ['1075', 'Ég tekst á við hana!'], ['1076', 'Annað okkar þarf að tapa, og ekki verður það ég.'], ['1077', 'Það er hægt að stöðva hana.'], ['1078', '- Þú ert galinn.'], ['1079', 'Láttu hana eiga sig!'], ['1080', '- Hún er búin, úr leik.'], ['1081', '- Þú lýgur.'], ['1082', 'Þú þyrðir ekki!'], ['1083', '- Ekki það?'], ['1084', '- Ég skal sýna þér!'], ['1085', '- Rico, hlustaðu.'], ['1086', 'Við erum ástfangin.'], ['1087', 'Skiptir það engu?'], ['1088', 'Engu.'], ['1089', 'Minna en það.'], ['1090', 'Ást.'], ['1091', 'Aumingjahjal!'], ['1092', 'Þegar hún hefur þig þá ertu einskis nýtur.'], ['1093', 'Þessu er ekki lokið enn og við viljum ekki að gungur kjafti frá!'], ['1094', 'Ég kjafta engu, ef þú ert hræddur um það.'], ['1095', '- Heldurðu að ég vilji hálshnykk?'], ['1096', '- Ja, þú veist of mikið.'], ['1097', 'Ég tek enga áhættu.'], ['1098', 'Þú verður með mér, skilið?'], ['1099', 'Nei, það verð ég ekki.'], ['1100', 'Allt í lagi.'], ['1101', 'Farðu aftur til konunnar og það er sjálfsmorð.'], ['1102', 'Sjálfsmorð fyrir ykkur bæði.'], ['1103', 'Vertu bara hér.'], ['1104', 'Halló?'], ['1105', 'Ó, halló, Stóri strákur.'], ['1106', 'Nei.'], ['1107', 'Nei, Ég vil hann ekki.'], ['1108', 'Ég treysti honum ekki.'], ['1109', 'Já.'], ['1110', 'Það er strákur að nafni Joe Massara sem aðstoðar mig.'], ['1111', 'Já.'], ['1112', 'Fínt, bless, Stóri strákur.'], ['1113', 'Otero.'], ['1114', '- Joe.'], ['1115', '- Olga.'], ['1116', '- Við verðum að fara.'], ['1117', 'Fljót!'], ['1118', '- Joe, hvað er að?'], ['1119', 'Heyrirðu ekki?'], ['1120', 'Fljót!'], ['1121', 'Fljót!'], ['1122', '- Já, Joe.'], ['1123', 'Ó, þú ert veikur.'], ['1124', '- Það er allt í lagi.'], ['1125', '- Rico.'], ['1126', '- Hvað gerði hann þér?'], ['1127', 'Ó, vissi ég ekki?'], ['1128', 'Hann, Rico...'], ['1129', 'Hann sagði að við yrðum að hætta saman.'], ['1130', 'Hann dræpi þig ef ég stæði ekki með honum.'], ['1131', 'Ég flúði.'], ['1132', 'Við verðum að koma okkur héðan.'], ['1133', 'Hvert sem er.'], ['1134', 'Langt í burtu!'], ['1135', 'Nei.'], ['1136', '- Nei?'], ['1137', 'Kemurðu ekki?'], ['1138', '- Nei.'], ['1139', 'Þetta er ekki leiðin.'], ['1140', 'En, Olga, þú þekkir hann ekki!'], ['1141', '- Olga, þú verður!'], ['1142', 'Gerðu það!'], ['1143', '- Nei.'], ['1144', 'Sestu, Joe.'], ['1145', '- Við verðum að hugsa.'], ['1146', '- Ég vil ekki setjast og hugsa.'], ['1147', '- Þú kemur.'], ['1148', '- Skilurðu ekki?'], ['1149', 'Það væri til einskis!'], ['1150', 'Hvert?'], ['1151', 'Hvert ættum við að fara?'], ['1152', 'Hann finnur okkur hvar sem er.'], ['1153', 'Það er aðeins ein leið út.'], ['1154', 'Flaherty.'], ['1155', 'Þú ert biluð.'], ['1156', 'Heldurðu að hann bjargi okkur?'], ['1157', 'Flaherty?'], ['1158', 'Það er verra en sjálfsmorð.'], ['1159', '- Ég geri það ekki.'], ['1160', 'Get það ekki.'], ['1161', '- Ég get það.'], ['1162', 'Gengið verður að fara.'], ['1163', 'Rico verður að fara.'], ['1164', 'Ég vil vera hamingjusöm, Joe.'], ['1165', 'Ég vil þig.'], ['1166', 'Við finnum ekki frið fyrr en Rico fer.'], ['1167', 'Ég geri þetta.'], ['1168', 'Olga, ekki!'], ['1169', 'Gerðu það!'], ['1170', 'Vertu kyrr!'], ['1171', 'Olga, opnaðu dyrnar!'], ['1172', 'Olga, opnaðu dyrnar!'], ['1173', 'Fljót!'], ['1174', 'Park, 1000.'], ['1175', 'Olga.'], ['1176', 'Ekki hringja í Flaherty.'], ['1177', 'Gerðu það, opnaðu dyrnar!'], ['1178', 'Rico drepur okkur bæði!'], ['1179', 'Höfuðstöðvar, má ég tala við Flaherty aðstoðarvarðstjóra.'], ['1180', 'Flaherty, þetta er Olga Stassoff.'], ['1181', 'Ég er með Joe Massara.'], ['1182', 'Í íbúðinni minni.'], ['1183', 'Edsel Drive 17.'], ['1184', 'Já.'], ['1185', 'Já, hann vill tala við þig.'], ['1186', 'Fljótt, fljótt!'], ['1187', 'Komiði strákar, förum í veislu.'], ['1188', 'Hver heldur hana?'], ['1189', '- Joe Massara.'], ['1190', '- Formlega eða óformlega?'], ['1191', 'Ég veit ekki, en við komumst að því við komu.'], ['1192', 'Þú hefðir ekki átt að gera þetta.'], ['1193', 'Það var engin önnur leið.'], ['1194', 'Ekki rétt leið.'], ['1195', '- Ég fer í gálgann.'], ['1196', '- Nei, alls ekki.'], ['1197', 'Ekki ef þú aðstoðar ríkið.'], ['1198', 'Við látum þá lofa að allt verði í lagi.'], ['1199', 'Bíddu, Olga!'], ['1200', '- Joe!'], ['1201', '- Þarna er hann, svikarinn sjálfur.'], ['1202', 'Láttu hann hafa það, Rico!'], ['1203', 'Nei.'], ['1204', 'Skjóttu.'], ['1205', 'Skjóttu, Rico.'], ['1206', 'Ljúktu þessu.'], ['1207', 'Svona nú, Otero!'], ['1208', 'Förum!'], ['1209', 'Þú ert að meyrna líka.'], ['1210', 'Hvað er að þér?'], ['1211', 'Komdu!'], ['1212', 'Joe.'], ['1213', '- Hver var það?'], ['1214', '- Otero og Rico.'], ['1215', 'Í gegnum gluggann!'], ['1216', 'Áfram strákar.'], ['1217', 'Farið og takið hann!'], ['1218', 'Ertu tilbúinn að tala núna, Joe?'], ['1219', 'Ja, ég tala.'], ['1220', 'Það var gengi Ricos sem rændi Bronspáfuglinn.'], ['1221', 'Það var Rico sem skaut McClure.'], ['1222', 'Þessi aumi svikuli...'], ['1223', 'Ja, Joe segir þér það.'], ['1224', 'Spyrðu hann.'], ['1225', 'Hann veit að það var Rico.'], ['1226', 'Er það satt, Joe?'], ['1227', 'Var það Rico?'], ['1228', '- Hvar er síminn þinn?'], ['1229', '- Þarna inni.'], ['1230', 'Ó, Joe.'], ['1231', 'Hérna, ég skal hjálpa.'], ['1232', 'Park, 1000.'], ['1233', 'Halló, Dan, þetta er Flaherty.'], ['1234', 'Safnaðu Palermo genginu saman.'], ['1235', 'Ég hef nægar sannanir fyrir mílulangt reipi.'], ['1236', 'Hentu bílunum strax af stað og náðu Rico fyrst og fremst.'], ['1237', 'Við verðum að gæta okkar.'], ['1238', 'Löggurnar eru eflaust á ferli.'], ['1239', '- Þú áttir að skjóta Joe.'], ['1240', '- Og dömuna.'], ['1241', 'Hafi þau ekki kjaftað frá McClure, þá gera þau það núna.'], ['1242', '- Við erum eftirlýstir.'], ['1243', '- Já.'], ['1244', 'Þetta fær maður fyrir að líka vel við fólk.'], ['1245', 'Komdu.'], ['1246', 'Stopp!'], ['1247', 'Stopp!'], ['1248', 'Haltu áfram, Rico.'], ['1249', 'Ég er búinn að vera.'], ['1250', 'Farðu, Rico.'], ['1251', 'Sam!'], ['1252', 'Sam!'], ['1253', 'Joe Massara!'], ['1254', 'Hann var gómaður út af McClure málinu, og hann kjaftaði.'], ['1255', 'Rico reyndi að ná honum.'], ['1256', 'Nú elta þeir hann.'], ['1257', 'Þeir tóku Otero.'], ['1258', '- Otero?'], ['1259', '- Sam, skilurðu ekki?'], ['1260', '- Af hverju siturðu hér?'], ['1261', '- Hvað annað get ég gert?'], ['1262', 'Ég flý ekki núna.'], ['1263', 'Þeir næðu mér.'], ['1264', 'Þú ert ruglaður.'], ['1265', 'Svona, stattu upp.'], ['1266', 'Stingum af!'], ['1267', 'Það er tilgangslaust.'], ['1268', 'Upp með þær!'], ['1269', 'Ekki hreyfa sig!'], ['1270', 'Afhendið vopnin.'], ['1271', 'Allt í lagi.'], ['1272', 'Niður í bíl með þá.'], ['1273', 'Þú ættir að gefast upp, Sam.'], ['1274', 'Slepptu byssunni áður en við förum að skjóta.'], ['1275', 'Komdu inn fyrir.'], ['1276', 'Stattu upp og upp með hendur.'], ['1277', 'Settu járnin á hann.'], ['1278', 'Þið hafið ekkert á mig.'], ['1279', 'Ekkert nema armböndin.'], ['1280', 'Og við höfum ekkert á Rico heldur.'], ['1281', 'Hann er næstur.'], ['1282', 'MA MAGDALENA ÁVAXTABÚĐ'], ['1283', '- Það er enginn þarna.'], ['1284', '- Ekki?'], ['1285', 'Jæja, Ma.'], ['1286', 'Þú lætur okkur vita um leið og þú sérð Rico.'], ['1287', 'Jæja, þú ert kominn í góða klemmu.'], ['1288', '- Já.'], ['1289', '- Löggan var hérna.'], ['1290', 'Otero var tekinn.'], ['1291', 'Ma, ég ætla að vera hér í dag eða tvo.'], ['1292', 'Svo þarf ég bíl.'], ['1293', 'Það verður dýrt því ég tek mikla áhættu.'], ['1294', 'Ég á 10 þúsund hérna.'], ['1295', 'Gjörðu svo vel.'], ['1296', 'Þegar þú ert tilbúinn, skal ég gefa þér 150.'], ['1297', 'Gefurðu mér?'], ['1298', 'Hver á peningana?'], ['1299', 'Við hvern ertu að tala?'], ['1300', 'Ég þarf fullt.'], ['1301', 'Mínir peningar eru í íbúðinni.'], ['1302', 'Ég kemst ekki í þá.'], ['1303', 'Ég gef þér 150.'], ['1304', 'Þú ræður hvort þú tekur þá.'], ['1305', 'Þú skítuga, þjófótta norn, ég...'], ['1306', 'Nei, þú gerir það ekki.'], ['1307', 'Af því ég ein veit hvar peningarnir eru.'], ['1308', 'Dreptu mig og þú færð ekki neitt.'], ['1309', 'Ég gef þér 150 ef þú verður góður strákur.'], ['1310', 'Mánuðir liðu...'], ['1311', 'frami Ricos var eins og raketta... sem hófst í ræsinu og endaði þar líka.'], ['1312', 'HREIN RÚM 15 sent'], ['1313', 'Hann var illur, Sam Vettori.'], ['1314', 'Svo nú fékk hann það sem hann verðskuldaði.'], ['1315', 'Hvað stendur í blaðinu?'], ['1316', '\"Fyrrverandi glæpon fellur í yfirlið á aftökupallinum.'], ['1317', 'Eftir vonlausa baráttu fyrir rétti var Sam Vettori, fyrrverandi glæpon, aumur að sjá í dag þegar snöru var smeygt um háls hans.\"'], ['1318', 'Hlustaðu. \"Caesar litli hefur aldrei fundist.'], ['1319', 'Samkvæmt yfirlýsingu frá Thomas Flaherty lautinant í morðdeild, hefur Caesar litli, gortarinn úr undirheimunum guggnað þegar raunveruleg hætta steðjaði að og sýnt heiminum hugleysi sitt.'], ['1320', 'Flaherty sagði einnig að Caesar litli hafi ekki staðið við orð sín, um að hann gæti tekið eins og hann gaf.\"'], ['1321', 'Já.'], ['1322', '\"Þegar raunveruleg kreppa varð gat Rico ekki tekið því.'], ['1323', 'Flaherty lauk viðtalinu með því að segja:'], ['1324', '\\'Eins hratt og Rico reis úr ræsinu, þá var óumflýjanlegt að hann endaði þar aftur.\\'\"'], ['1325', 'En samt sem áður, var hann raunverulegi leiðtogi hópsins.'], ['1326', 'Trúðu því ekki.'], ['1327', 'Rico hafði ekki taugarnar, og ekki hafði hann gáfurnar.'], ['1328', 'Hann var gunga, rétt eins og Flaherty sagði.'], ['1329', 'Hérna!'], ['1330', '- Þetta er það sem Rico...'], ['1331', '- Láttu mig fá blaðið!'], ['1332', 'Hey, passaðu þig!'], ['1333', '- Hvað er að honum?'], ['1334', '- Hlýtur að vera bilaður.'], ['1335', 'Ég skal sýna þeim.'], ['1336', 'Reynir að setja þetta um mig í blöðin, já?'], ['1337', 'Ég skal sýna þeim...'], ['1338', 'Halló?'], ['1339', 'Halló?'], ['1340', 'Samband við Park, 1000.'], ['1341', 'Já.'], ['1342', 'Já, þoli ég ekki meira?'], ['1343', 'Ég skal segja honum...'], ['1344', 'Halló?'], ['1345', 'Park, 1000?'], ['1346', '- Flaherty, og það strax.'], ['1347', '- Sjálfsagt.'], ['1348', 'Augnablik.'], ['1349', 'Tom.'], ['1350', 'Ó, Tom.'], ['1351', 'Ég er kannski að rugla en þetta hljómar eins og Rico.'], ['1352', 'Já?'], ['1353', '- Flaherty hér.'], ['1354', '- Já, þetta er Rico hér!'], ['1355', 'Rico!'], ['1356', 'R-l-C-O, Rico!'], ['1357', 'Caesar litli, hinni eini sanni!'], ['1358', 'Þú ert merkilegur?'], ['1359', 'Blaðrar í blöðin.'], ['1360', 'Svo ég flúði af hólmi?'], ['1361', 'Þoli ég ekki meira?'], ['1362', 'Hlustaðu nú, aumi lögguræfill, ég skal sýna þér hvað ég er trekktur.'], ['1363', 'Takk, Rico, gamli minn.'], ['1364', 'Sömuleiðis.'], ['1365', 'Svona, segðu mér meira.'], ['1366', 'Það er svo gaman að heyra í þér.'], ['1367', 'Rektu símtalið.'], ['1368', 'Sjáðu hvaðan hann hringir, fljótur.'], ['1369', 'Af hverju komstu ekki að sjá Sam hanga, Rico?'], ['1370', 'Það gekk svo vel.'], ['1371', 'Þú ert fyndinn, Flaherty?'], ['1372', 'Þú hlærð ekki mikið lengur.'], ['1373', 'Ég er að koma og ég set eina í þig fyrir hverja lygi sem þú sagðir um mig.'], ['1374', 'Ég skal sýna þér hver endar í ræsinu.'], ['1375', 'Við höfum saknað þín, Rico.'], ['1376', 'Bærinn hefur verið svo hljóður og fínn.'], ['1377', 'Ég er að fitna.'], ['1378', 'River, 6547.'], ['1379', 'Það er bæli á horni Fjórða og Commercial.'], ['1380', 'Gott og vel.'], ['1381', 'Gott og vel kjaftaskur.'], ['1382', 'Taktu hattinn þinn og hlauptu, því þú ert búinn að vera.'], ['1383', 'Hringdu í blöðin og segðu þeim það, auma, lygaralögga!'], ['1384', 'Ég vissi að hann léti heyra í sér ef ég notaði blöðin.'], ['1385', 'Sjálfsálitið!'], ['1386', 'Það þarf sérstaka snöru til að fara yfir höfuðið á honum.'], ['1387', 'Jæja, óskaðu mér góðs gengis.'], ['1388', 'Þarna er hann.'], ['1389', 'Þetta er Rico.'], ['1390', 'Farðu þarna inn.'], ['1391', 'Olga Stassoff og Joe Massara TIPS Y TOPS Y TURVY'], ['1392', 'Þú ættir að gefast upp, Rico.'], ['1393', 'Þú átt ekki möguleika.'], ['1394', 'Þið verðið að ná mér.'], ['1395', 'Vertu almennilegur, Rico, og komdu út.'], ['1396', 'Þið heyrðuð í mér!'], ['1397', 'Komið og takið mig!'], ['1398', 'Ég kem rétt strax.'], ['1399', 'Láttu mig fá byssuna.'], ['1400', 'Þetta er síðasta tækifærið, Rico.'], ['1401', 'Kemurðu út eða á að bera þig?'], ['1402', 'Jæja, Rico, ætli við tveir séum ekki að fara í bílferðina okkar.'], ['1403', 'Nei...'], ['1404', 'Nei, það gerum við ekki.'], ['1405', 'Ég sagði þér að gammur eins og þú setti aldrei járn á mig.'], ['1406', 'Þú hefðir átt að koma út þegar ég sagði það, Rico.'], ['1407', 'Miskunnsama móðir.'], ['1408', 'Eru þetta endalok Ricos?'], ['1409', 'Íslenskur texti eftir:'], ['1410', 'SDI Media Group'], ['1411', 'Ripped by:'], ['1412', 'SkyFury']] [['1', \"How's that?\"], ['2', 'Gotta hand it to you, Rico.'], ['3', \"The old bean's working all the time.\"], ['4', \"- What'll it be, gents?\"], ['5', '- Spaghetti and coffee for two.'], ['6', 'All right, sir.'], ['7', '\"Underworld pays respects to Diamond Pete Montana. \"'], ['8', \"What's that gotta do with the price of eggs?\"], ['9', 'Plenty.'], ['10', 'Diamond Pete Montana.'], ['11', \"He don't have to waste his time on cheap gas stations.\"], ['12', \"He's somebody.\"], ['13', \"He's in the big town doing things in a big way.\"], ['14', 'And look at us.'], ['15', 'Just a couple of nobodies, nothing.'], ['16', 'Is that what you want, Rico?'], ['17', 'A party like that for you?'], ['18', '\"Caesar Enrico Bandello.'], ['19', 'Honored by his friends. \"'], ['20', 'I could do all the things that fella does and more.'], ['21', 'Only I never got my chance.'], ['22', \"And what's there to be afraid of?\"], ['23', 'When I get in a tight spot, I shoot my way out of it.'], ['24', 'Why, sure.'], ['25', 'Shoot first and argue afterwards.'], ['26', \"You know, this game ain't for guys that's soft.\"], ['27', \"Yeah, there's money in the big town, all right.\"], ['28', 'And the women.'], ['29', 'Good times, something doing all the time.'], ['30', 'Exciting things, you know.'], ['31', 'The clothes I could wear.'], ['32', \"And then I'd quit, Rico.\"], ['33', \"I'd go back to dancing, like I used to before I met you.\"], ['34', \"I don't know.\"], ['35', \"I ain't made for this sort of thing.\"], ['36', 'Dancing.'], ['37', \"That's what I wanna do.\"], ['38', 'Dancing?'], ['39', 'Women?'], ['40', 'And where do they get you?'], ['41', \"I don't want no dancing.\"], ['42', \"I'm figuring on making other people dance.\"], ['43', \"- Oh, I ain't forgetting about the money.\"], ['44', \"- Money's okay, but it ain't everything.\"], ['45', 'Be somebody.'], ['46', \"Look hard at guys and know they'll do anything you tell them.\"], ['47', 'Have your own way or nothing.'], ['48', 'Be somebody.'], ['49', \"- You'll get there, Rico.\"], ['50', '- Yeah.'], ['51', \"- You'll show them.\"], ['52', '- You know this was our last stand in this burg.'], ['53', \"We're pulling out.\"], ['54', '- Where are we going?'], ['55', '- East.'], ['56', 'Where things break big.'], ['57', 'So I beat it east, like I told you.'], ['58', \"That's all there is to it.\"], ['59', \"I wanna run with your mob, if you'll let me.\"], ['60', 'What do you say?'], ['61', \"You won't be sorry for letting me in.\"], ['62', \"I'll do anything you say.\"], ['63', \"I ain't afraid of nothing.\"], ['64', \"You think you're a hard guy?\"], ['65', \"There's nothing soft about me.\"], ['66', 'Nothing yellow.'], ['67', \"I don't quit.\"], ['68', \"- You got an idea you're good, huh?\"], ['69', '- Give me a chance to show you.'], ['70', '- What do you know about me?'], ['71', '- Oh, I heard plenty.'], ['72', 'How you run things this end of town.'], ['73', \"About this here Club Palermo, how it's your front.\"], ['74', 'I got told enough.'], ['75', \"- I guess you're good with a rod too?\"], ['76', '- Quick with it and sure.'], ['77', \"Well, that don't go around here.\"], ['78', \"That's old stuff.\"], ['79', \"This ain't the sticks.\"], ['80', 'Yeah, I get you.'], ['81', 'All right.'], ['82', 'You stick around.'], ['83', \"But, remember, I'm the boss.\"], ['84', 'And I give all the orders.'], ['85', 'And when we split, we split my way.'], ['86', '- And no squawks.'], ['87', 'You get me?'], ['88', '- Yeah, sure, Mr. Vettori.'], ['89', '- All right, come on in, meet the boys.'], ['90', '- Sure.'], ['91', \"Oh, they're 100 percent, all right.\"], ['92', 'Every one of them.'], ['93', \"There's Tony Passa.\"], ['94', 'Can drive a car better than any mug in the town.'], ['95', 'Otero.'], ['96', \"He's little, but he's the goods all right.\"], ['97', 'Bat Carilla.'], ['98', 'Killer Peppi.'], ['99', 'Kid Bean.'], ['100', 'And this one here, Scabby.'], ['101', 'What a smart guy he is.'], ['102', 'Boys.'], ['103', 'Come on, Tony.'], ['104', 'Wake up.'], ['105', \"I want you to meet a new guy what's gonna be with us.\"], ['106', 'This is...'], ['107', 'Caesar Enrico Bandello.'], ['108', 'Oh, Little Caesar, huh?'], ['109', 'Yeah, sure.'], ['110', 'Where did you get the new dancer, De Voss?'], ['111', 'Olga brought him around a few days ago.'], ['112', 'Not bad.'], ['113', '- All right.'], ['114', \"- I'll say he is.\"], ['115', \"Well, I got hold of a real dancer for a partner, didn't I, Mr. De Voss?\"], ['116', \"He's an elegant dancer.\"], ['117', \"We'll panic them after a few rehearsals.\"], ['118', \"Say, you're not trying to sell him to me, are you, Olga?\"], ['119', 'Well, young fella, I guess 100 a week ought to buy you.'], ['120', \"That's more than I generally start with.\"], ['121', \"That's swell with me, even though it don't buy no limousines.\"], ['122', 'Gee, thanks, Mr. De Voss.'], ['123', \"You'll never be sorry for this.\"], ['124', 'Come, Joey.'], ['125', \"So it's you and me from now on.\"], ['126', \"Well, I'm glad.\"], ['127', \"And I'm not ashamed to tell you.\"], ['128', 'I guess you know by this time how I feel about you.'], ['129', \"That's all right with you, isn't it?\"], ['130', 'Or have you got another girl?'], ['131', 'A steady, I mean.'], ['132', 'Hundreds of them, sure.'], ['133', 'Only...'], ['134', \"Only, what's the difference?\"], ['135', 'This is gonna be real.'], ['136', \"- We'll make it mean something.\"], ['137', \"- Yeah, Joey, let's.\"], ['138', 'Because I need somebody.'], ['139', 'Somebody like you.'], ['140', 'Awful bad.'], ['141', '- You believe me, Olga?'], ['142', '- I want to believe you.'], ['143', \"What's that?\"], ['144', 'What you got there, Joe?'], ['145', 'What are you doing with that?'], ['146', \"Can't you forget you've seen it?\"], ['147', \"It won't make no difference.\"], ['148', 'Not between us, Olga.'], ['149', \"Don't worry, baby.\"], ['150', \"It's just a little good-luck charm I carry around with me.\"], ['151', 'Is that your racket?'], ['152', 'Maybe.'], ['153', 'I suppose I got no right to ask you, Joe.'], ['154', 'But now...'], ['155', 'Now that we got an understanding.'], ['156', \"Couldn't you leave it?\"], ['157', 'No.'], ['158', \"I suppose I haven't got the right.\"], ['159', 'What would be the good of you asking, kid?'], ['160', 'Once in a gang...'], ['161', '- You know the rest.'], ['162', \"- I don't want to know.\"], ['163', 'Only maybe...'], ['164', 'Maybe it could be different this time.'], ['165', 'If we try.'], ['166', \"I've never seen the guy that could get away with it yet.\"], ['167', 'Black.'], ['168', 'Seven.'], ['169', 'Sam Vettori is still waiting for you in your office.'], ['170', \"All right, I guess I'll have to see him.\"], ['171', 'I wonder what he wants here.'], ['172', 'Hey, Ritz.'], ['173', \"You'd better stick with me.\"], ['174', \"I'll need you in there.\"], ['175', \"- That Sam Vettori's a no-good lug.\"], ['176', '- You said it, boss.'], ['177', 'Better let me go first.'], ['178', 'Cut that.'], ['179', 'Hello, Arnie.'], ['180', 'Surprised to see me in your swell joint?'], ['181', \"Maybe I won't be after you tell me what you want here.\"], ['182', \"Oh, I'll tell you, all right.\"], ['183', 'Diamond Pete asked me to come up.'], ['184', \"He's coming up too.\"], ['185', '- Pete Montana?'], ['186', \"- That's who.\"], ['187', \"Well, if Pete wants you here, it's got to be all right with me.\"], ['188', '- Hello, Mr. Montana.'], ['189', '- Hello.'], ['190', 'Hello.'], ['191', '- Hello, Arnie.'], ['192', '- Hello, how are you?'], ['193', '- Hello, Vettori.'], ['194', '- Hello, boss.'], ['195', 'Cigar?'], ['196', 'Thanks.'], ['197', 'Thanks, Arnie.'], ['198', 'Sit down, boys.'], ['199', 'I got something to tell you.'], ['200', 'A message from the Big Boy.'], ['201', 'Now, listen.'], ['202', \"Here's the lowdown.\"], ['203', '- The Big Boy says...'], ['204', '- Just a minute, boss.'], ['205', 'Hey, you.'], ['206', 'Nobody asked you to be butting in here, did they?'], ['207', '- Screw, mug.'], ['208', \"- You ain't giving me orders.\"], ['209', \"- You're a fresh guy, huh?\"], ['210', '- Take it easy, Rico.'], ['211', 'You go out there and wait for me.'], ['212', 'Jake with me, boss.'], ['213', 'Now, listen, boys.'], ['214', \"Watch this guy McClure what's head of the new crime commission.\"], ['215', \"He's putting the screws on, and make no mistake about him.\"], ['216', 'Now, the Big Boy wants me to tell you guys to put the chains on your gorillas for the next few months.'], ['217', \"Because if any of them go too far, it'll be just too bad.\"], ['218', \"I've never seen nobody the Big Boy couldn't get to.\"], ['219', 'He can fix anything.'], ['220', \"That's why he's the Big Boy.\"], ['221', 'This bird McClure will be pie for him.'], ['222', \"- He'll twist him around his little finger.\"], ['223', \"- Don't kid yourself.\"], ['224', \"Nobody's squaring nothing with McClure.\"], ['225', 'Not even the Big Boy.'], ['226', \"Small jobs, that's different.\"], ['227', 'We could spring guys for them.'], ['228', 'But shooting?'], ['229', 'No, sir.'], ['230', \"It's guys like this torpedo of yours that cause all the trouble.\"], ['231', 'Who, Rico?'], ['232', \"He's all right.\"], ['233', \"He's a little quick on the trigger, but that's because he's new.\"], ['234', 'Yeah?'], ['235', \"Well, it's us that'll swing for him if he shoots at the wrong time.\"], ['236', 'Now, remember what I told you.'], ['237', 'Come on.'], ['238', 'So long.'], ['239', 'And you.'], ['240', 'You take it easy with that cannon of yours.'], ['241', 'Did you hear me?'], ['242', 'Yes, Mr. Montana.'], ['243', '- Good night.'], ['244', '- Good night.'], ['245', '- Good night.'], ['246', '- Good night.'], ['247', 'Do yourself a favor, will you, Rico?'], ['248', 'Leave your gat home on the piano the next job you pull.'], ['249', 'Yeah, park it next to your milk bottle.'], ['250', 'Hey.'], ['251', 'Run your own mob, Arnie.'], ['252', \"I'll take care of mine.\"], ['253', \"Yeah, I'll park it.\"], ['254', \"I don't need no cannon to take care of guys like you, Mr. Lorch.\"], ['255', 'Yeah, we gotta be careful.'], ['256', \"Little Arnie's interested in this here nightclub.\"], ['257', '- Lf it ever gets out who pulled the job...'], ['258', \"- They'll never get wise to us.\"], ['259', \"They're careless, but they've never been tapped.\"], ['260', \"Yeah, but I don't like the whole business.\"], ['261', 'Neither do I, Sam.'], ['262', \"Honest, I don't.\"], ['263', \"I couldn't sleep last night.\"], ['264', 'I was up worried.'], ['265', \"I don't want to take any chances.\"], ['266', \"Not now the way they're closing down on us.\"], ['267', \"What's the matter, Tony, getting yellow?\"], ['268', 'No, but, jeez, none of us wanna hang, do we?'], ['269', \"You'd like to quit, wouldn't you?\"], ['270', \"You'd like to run out on us.\"], ['271', \"- You're yellow, you dirty...\"], ['272', '- Wait a minute, Rico.'], ['273', 'Where do you get that yellow stuff?'], ['274', \"You want to know who's yellow, I'll tell you.\"], ['275', 'Joe Massara, your pal.'], ['276', \"- That's why he didn't show tonight.\"], ['277', \"- He'll be here.\"], ['278', 'Just because...'], ['279', 'I know all about that stuff.'], ['280', \"I'm gonna give him 10 minutes more.\"], ['281', \"Then we'll see.\"], ['282', \"Now, listen, Sam, Joe's all right.\"], ['283', \"He's the best front man in the world.\"], ['284', \"Why, he can go to a swell hotel and order a suite, a suite, and it's all right.\"], ['285', \"Without Joe, we can't pull the job, and you know it.\"], ['286', \"What's that paper?\"], ['287', \"It's this layout I've been figuring out with Scabby.\"], ['288', '- What, this nightclub job?'], ['289', '- Yeah.'], ['290', 'Well, let me see it.'], ['291', \"And until I say different nobody's gonna plan for this mob but me.\"], ['292', 'You get me?'], ['293', \"He'll learn.\"], ['294', 'Now, come here, you guys.'], ['295', 'Now, get this.'], ['296', 'Hello, Joe.'], ['297', 'Hello, Rico.'], ['298', 'Come here.'], ['299', 'I told you to be here at 8:30.'], ['300', 'Oh, well, you see, I...'], ['301', 'I was busy.'], ['302', 'I was rehearsing, and...'], ['303', '- Oh, you know how it is.'], ['304', '- Yeah, I know how it is.'], ['305', \"They've been saying it, only I didn't believe them.\"], ['306', \"They're crazy when they call you yellow.\"], ['307', 'Tell them they can go to...'], ['308', \"Say, what's the big idea of the rush anyway?\"], ['309', \"It's a little job we need you for.\"], ['310', 'A little job at the Bronze Peacock.'], ['311', 'What do you mean?'], ['312', 'Are you trying to kid me or something?'], ['313', 'How can I take the chance?'], ['314', \"They're all my friends, they all know me.\"], ['315', \"That's why, they'll never suspect you.\"], ['316', \"Now, don't stall, Joe.\"], ['317', \"I ain't stalling.\"], ['318', 'You gotta get me out of this, Rico.'], ['319', 'You gotta.'], ['320', \"I don't want to...\"], ['321', \"Well, don't you see, I'm working steady now, and...\"], ['322', \"Can't a guy ever say he's through?\"], ['323', \"You're gonna be in on this, and you'll like it.\"], ['324', \"The time is to be sharp midnight on New Year's Eve.\"], ['325', \"I won't.\"], ['326', \"I can't.\"], ['327', \"I can't, don't you see?\"], ['328', 'L...'], ['329', 'Well, gee, I...'], ['330', \"- I'll be working New Year's Eve.\"], ['331', '- Now, listen, Joe.'], ['332', \"This is the joint where you're working.\"], ['333', \"And don't you be forgetting it, either.\"], ['334', 'Come on in.'], ['335', \"Well, maybe it ain't so hot.\"], ['336', \"- Maybe we can't buck Little Arnie.\"], ['337', '- I can.'], ['338', \"You're too good, that's what.\"], ['339', 'Hello, Joe.'], ['340', \"You were in a big hurry about getting here, weren't you?\"], ['341', \"Maybe this kind of work ain't to your liking.\"], ['342', \"Joe's all right.\"], ['343', \"He's in with us.\"], ['344', \"Yeah, I'm in with you.\"], ['345', \"Well, let's see, now.\"], ['346', \"Here's the way I dope this thing out.\"], ['347', 'I, Sam Vettori, not you, Rico, or nobody else.'], ['348', \"- That's plain, ain't it?\"], ['349', '- Sure.'], ['350', 'Only, who stands here?'], ['351', \"You kind of forgot that, didn't you?\"], ['352', \"Hey, I'm boss on this job, not you.\"], ['353', 'Right here.'], ['354', 'Smart guy, Rico.'], ['355', \"He's got plenty of brains.\"], ['356', \"I tell you, I'm afraid, Otero.\"], ['357', \"I'm afraid.\"], ['358', \"You're crazy.\"], ['359', \"Rico's coming with us.\"], ['360', 'Come on now, buck up.'], ['361', 'And you, Joe.'], ['362', \"You'll be in the lobby and give us the high sign if everything's on the up and up.\"], ['363', 'You get me?'], ['364', \"Yeah, and if we get in a jam, you'll have to take a chance with the rest of us.\"], ['365', 'Hey, quiet, quiet.'], ['366', \"Holy Moses, it's Alvin McClure.\"], ['367', 'The crime commission buzzard.'], ['368', 'Hey, De Voss.'], ['369', 'Come here.'], ['370', 'What is it, Arnie?'], ['371', 'What is it?'], ['372', 'Bring McClure over here, I want to buy him a lemonade.'], ['373', '- Not tonight, some other time.'], ['374', '- Go on.'], ['375', \"Do as you're told.\"], ['376', 'Go on, De Voss, bring him here.'], ['377', 'As you wish.'], ['378', 'What can I order for you?'], ['379', '- Good evening, Mr. McClure.'], ['380', '- Good evening, De Voss.'], ['381', '- Quite a party.'], ['382', '- Thank you.'], ['383', 'Delighted to have you with us, folks.'], ['384', 'Mr. McClure, a Mr. Lorch, a financial backer of mine would like to meet you.'], ['385', '- May I bring him over to your table?'], ['386', '- Lorch?'], ['387', 'Lorch?'], ['388', '- You mean the man they call Little Arnie?'], ['389', '- Yes, but...'], ['390', \"You say he's a financial backer of yours?\"], ['391', '- Yes, but...'], ['392', \"- I didn't understand that a man of his type was connected with this place.\"], ['393', \"I'm sorry, De Voss, but you might inform Mr. Lorch that we're leaving.\"], ['394', 'I came to this place under a misapprehension.'], ['395', '- Now, Mr. McClure...'], ['396', \"- I'm sorry, folks but we'll have to go somewhere else.\"], ['397', 'You like my hair this way, Joey?'], ['398', 'Sure.'], ['399', 'I used to wear it...'], ['400', 'Where are you going?'], ['401', '- Just to get a package of cigarettes.'], ['402', \"- Hurry back, darling, it's almost 12:00 and I wanna be with you for New Year's.\"], ['403', \"I'll be back in a minute.\"], ['404', '- What can I get you?'], ['405', '- A Victor Noble.'], ['406', 'Stay where you are.'], ['407', 'Oh, help!'], ['408', 'Oh, God!'], ['409', \"Open her up, Tony, this ain't no picnic.\"], ['410', \"What's the matter, Tony, losing your nerve?\"], ['411', \"Come on, let's go.\"], ['412', \"Let's go, we gotta get out of here.\"], ['413', 'Come on.'], ['414', 'Happy New Year.'], ['415', 'Why, Joe...'], ['416', 'Joey.'], ['417', 'What is it?'], ['418', \"What's the matter?\"], ['419', 'Nothing.'], ['420', \"It's all right.\"], ['421', \"- The joint's been held up, that's all.\"], ['422', '- Held up?'], ['423', 'They...'], ['424', '- They shot McClure.'], ['425', '- Joe.'], ['426', '- Now you know.'], ['427', '- It was you.'], ['428', '- No.'], ['429', \"No, it's a lie!\"], ['430', 'L...'], ['431', '- You shot McClure.'], ['432', \"No, I didn't, I swear.\"], ['433', \"It wasn't me that shot him.\"], ['434', 'It was...'], ['435', \"I don't know who.\"], ['436', \"But it's our hips for this job, all right.\"], ['437', 'Maybe...'], ['438', 'Maybe everything will be all right, Joey.'], ['439', \"Maybe he wasn't hurt badly.\"], ['440', \"But you're through with that bunch.\"], ['441', \"You don't belong, Joe.\"], ['442', \"You're not that kind.\"], ['443', \"You'll never go near them again.\"], ['444', \"Olga you can't go back on a gang.\"], ['445', 'Well, everything come off all right?'], ['446', 'Tell me.'], ['447', 'Everything was all right.'], ['448', 'Only I had to take care of a guy.'], ['449', '- Who was it?'], ['450', '- McClure.'], ['451', 'McClure.'], ['452', 'You shot McClure.'], ['453', 'A million guys in this town, and you had to pick the crime commissioner.'], ['454', 'What did I tell you, Rico?'], ['455', \"Didn't I say to make it clean?\"], ['456', \"Didn't I say no gunplay?\"], ['457', \"Think I'm going to let a guy pull a gat on me?\"], ['458', 'Any more of these cracks, and this is my last job.'], ['459', 'The head of the crime commission.'], ['460', \"The Big Boy can't do us no good this trip.\"], ['461', \"They'll get us dead sure now.\"], ['462', '- What am I gonna do?'], ['463', \"- Why don't you go and give yourself up?\"], ['464', \"You're slipping, Sam.\"], ['465', 'And Tony, what about him?'], ['466', 'Where is he?'], ['467', 'Getting rid of the car.'], ['468', 'Tony got nervous.'], ['469', \"He's like a big baby.\"], ['470', \"What a fine pickle we're in.\"], ['471', 'You and that rod of yours.'], ['472', \"Flaherty's downstairs, a couple of dicks with him.\"], ['473', \"They're coming right up.\"], ['474', 'Stay where you are, all of you.'], ['475', \"They won't know nothing unless they picked Tony up.\"], ['476', 'Give them the shaft.'], ['477', \"I'll be in here listening.\"], ['478', 'Happy New Year, boys.'], ['479', \"Say, there's a lonesome touring car down the street.\"], ['480', 'I was wondering if you happened to know anything about it.'], ['481', 'How should I know anything about it?'], ['482', \"- Ain't it got license plates on it?\"], ['483', \"- Yes, but they're phony.\"], ['484', 'It was stolen on the north side tonight.'], ['485', 'Oh, I got a good café business.'], ['486', \"I don't know nothing about automobiles what's been stolen.\"], ['487', \"Well, you might if some of the bright young men around here had anything to do with it, wouldn't you?\"], ['488', \"- Wasn't there anybody in it?\"], ['489', '- Yes, one guy.'], ['490', 'But not when we got there.'], ['491', 'He beat it.'], ['492', 'But we got a good description of him, though.'], ['493', \"I'm telling you, I don't know nothing about it.\"], ['494', 'Well, come on, fellas.'], ['495', \"As long as Vettori doesn't know anything about it.\"], ['496', 'Oh, say, have you heard the news, Vettori?'], ['497', 'No, what?'], ['498', 'Someone knocked off Alvin McClure over at the Bronze Peacock.'], ['499', 'McClure?'], ['500', \"No, that's terrible.\"], ['501', 'Some guys are sure careless with the lead, all right.'], ['502', 'What a tough break for Arnie.'], ['503', \"It's gonna be a tough break for a lot of birds.\"], ['504', 'Well, so long.'], ['505', 'Oh, I forgot to wish you fellas a merry Christmas.'], ['506', \"Tony, I can't figure him.\"], ['507', \"The kid's a great driver.\"], ['508', \"- Oh, he must've lost his nerve.\"], ['509', \"- I'll take care of him.\"], ['510', \"- Let's see the color of that money.\"], ['511', '- Just a minute, Sam.'], ['512', 'I got my own ideas of a split.'], ['513', 'And you can take it or leave it.'], ['514', \"- We ain't begging you.\"], ['515', \"- Yeah, well I bossed this job and I'm gonna get my split.\"], ['516', \"How'd you boss this job?\"], ['517', 'By sitting here cheating at solitaire?'], ['518', \"Well, that don't go no more, not with me.\"], ['519', \"We're done.\"], ['520', \"- I've taken orders from you too long.\"], ['521', \"- You'll keep on taking orders too or you'll get out of here so fast...\"], ['522', \"- Maybe it won't be me that gets out.\"], ['523', 'No?'], ['524', 'Well, maybe the boys have got something to say about that.'], ['525', 'What about it?'], ['526', \"So, that's it, huh?\"], ['527', \"Yeah, that's it, all right.\"], ['528', \"You can dish it out, but you're getting so you can't take it no more.\"], ['529', \"You're through.\"], ['530', 'Well?'], ['531', \"Well, the split's okay with me, Rico.\"], ['532', 'How about you boys?'], ['533', 'No hard feelings, Sam?'], ['534', 'We gotta stick together.'], ['535', \"There's a rope around my neck right now, and they only hang you once.\"], ['536', \"If anybody turns yellow and squeals my gun's gonna speak its peace.\"], ['537', \"What's the matter, Antonio?\"], ['538', \"Why you don't sleep?\"], ['539', '- You sick, maybe?'], ['540', '- Yeah.'], ['541', '- Oh, what...'], ['542', \"- No, can't a guy get up when he wants without answering a lot of questions?\"], ['543', 'You stay out late nights, you drink lot of wine.'], ['544', '- Leave me alone.'], ['545', '- Oh, listen, Antonio, I...'], ['546', 'I have some spaghetti for you on the stove.'], ['547', 'If you feel better, eat some.'], ['548', 'Yes?'], ['549', 'It do you good.'], ['550', 'You used to be a good boy, Antonio.'], ['551', 'Remember when you sing in the church?'], ['552', 'In the choir with Father McNeil?'], ['553', 'You in white.'], ['554', 'Remember?'], ['555', 'Father McNeil.'], ['556', 'The church was beautiful.'], ['557', 'You little boy with long hair.'], ['558', 'The tall, big candles.'], ['559', 'Flowers.'], ['560', 'Remember, Antonio?'], ['561', \"Don't leave me, Ma, do you hear?\"], ['562', \"You don't have to go now, do you?\"], ['563', \"Can't you stay a little while with me?\"], ['564', \"Please, don't go away.\"], ['565', '- Please.'], ['566', '- Oh, Antonio.'], ['567', 'Oh, my baby.'], ['568', 'I no go, I stay.'], ['569', 'Antonio.'], ['570', 'Oh, my boy.'], ['571', \"I'll be all right, Ma.\"], ['572', \"- You'd better run along, do you hear?\"], ['573', '- Yes.'], ['574', 'You run along.'], ['575', 'Take good care of yourself, will you?'], ['576', 'And give my love to Miss Manccia, will you?'], ['577', 'Father McNeil.'], ['578', 'Hey, Tony.'], ['579', 'Where you been?'], ['580', \"I'm looking all over for you.\"], ['581', 'Rico wants you to come and get your split.'], ['582', \"What's the matter, Tony?\"], ['583', \"Don't you want a split?\"], ['584', 'Are you crazy?'], ['585', \"I'm not crazy.\"], ['586', \"And I don't want no split.\"], ['587', 'Listen, Tony.'], ['588', 'Rico knows you lose your nerve.'], ['589', 'Now, he wants you to be a man.'], ['590', 'You better not turn yellow.'], ['591', 'Get away from me, Otero.'], ['592', 'Leave me alone!'], ['593', 'Listen, kid.'], ['594', \"I'm trying to tell you for your own good.\"], ['595', 'Come with me and get your split.'], ['596', 'Hey, Tony!'], ['597', 'Tony, where you going?'], ['598', \"I'm going to see Father McNeil.\"], ['599', 'Rico!'], ['600', \"I found Tony, but it's too late.\"], ['601', \"He's crazy!\"], ['602', 'Crazy!'], ['603', 'I tell him to be a man, but he shakes his head and goes to the priest.'], ['604', \"Well, I guess that's that.\"], ['605', \"We ain't got any time to lose.\"], ['606', \"Come on, Sam, get a car, and let's go.\"], ['607', 'Not me!'], ['608', 'Take...'], ['609', 'Take Scabby.'], ['610', \"- Scabby's no good.\"], ['611', '- No.'], ['612', \"I'm not.\"], ['613', '- Can you drive, Otero?'], ['614', '- Sure!'], ['615', \"All right, let's go.\"], ['616', \"We'll use the black roadster.\"], ['617', 'There he is.'], ['618', 'Tony!'], ['619', 'Did you see all them wreaths?'], ['620', 'That hearse is sure decked out pretty.'], ['621', 'Well, this was no time to be tight with money.'], ['622', 'Tony deserved a swell send-off.'], ['623', '- Poor kid.'], ['624', \"- Yeah, but Rico's wreath beat them all.\"], ['625', 'It was big.'], ['626', 'And all it had on it was \"Tony. \"'], ['627', \"- Not even Rico's name.\"], ['628', '- Yeah.'], ['629', \"Rico's no braggart.\"], ['630', 'Tony looked like he was asleep.'], ['631', \"Didn't look a bit changed.\"], ['632', 'Beats me how they do it.'], ['633', 'Got a match?'], ['634', 'Look, Rico.'], ['635', \"There's Flaherty, the bull.\"], ['636', 'Things must be getting pretty hot.'], ['637', \"What's he want?\"], ['638', \"He's just stalling.\"], ['639', \"They ain't got a thing on me.\"], ['640', \"Gee, we're moving slow.\"], ['641', 'We got plenty of time.'], ['642', \"The banquet won't start until 8.\"], ['643', 'Yeah.'], ['644', \"Too bad Tony won't be there.\"], ['645', \"Yeah, that's the goods, all right.\"], ['646', \"That's the fanciest I've ever seen, Sam.\"], ['647', 'Look at those little turtledoves down here.'], ['648', 'Friendship and loyalty, huh?'], ['649', '- Well, how do you like that, Sam?'], ['650', '- Pretty good, Rico.'], ['651', \"Otero told me I don't look good in a derby.\"], ['652', 'What do you think?'], ['653', '- Looks just like you.'], ['654', '- I thought so.'], ['655', \"I guess I'll stick to them from now on.\"], ['656', '\"Compliments to a true pal.'], ['657', 'Mr. C. Bandello from a true pal Mr. Sam Vettori. \" Well, that\\'s nice.'], ['658', 'I appreciate, Sam.'], ['659', \"That's swell of you.\"], ['660', \"What's the matter with you birds?\"], ['661', \"Don't you know how to act at a banquet?\"], ['662', 'What do you think you are, a lot of gashouse yaps?'], ['663', 'Well, cut the chatter.'], ['664', \"Scabby's gonna make a speech.\"], ['665', \"Well, folks you all know what we're here for so what's the good of me telling you all about it?\"], ['666', 'Rico here is a great guy!'], ['667', 'Sure, and...'], ['668', 'Well...'], ['669', \"Say, Rico I don't know how to talk fancy, but...\"], ['670', 'This here watch is for you, see?'], ['671', '- From the boys!'], ['672', '- Come on, everybody.'], ['673', 'Clap, like.'], ['674', 'Speech!'], ['675', 'Oh, no, no, no.'], ['676', '- Speech!'], ['677', '- Oh, well.'], ['678', 'All right.'], ['679', 'You birds want me to make a speech?'], ['680', 'Here it goes.'], ['681', 'L...'], ['682', 'I want to thank you, fellas, for this here banquet.'], ['683', 'It sure is swell.'], ['684', 'The liquor is good, so they tell me.'], ['685', \"But I don't drink it, myself.\"], ['686', \"And the food don't leave nothing to be desired.\"], ['687', \"Well, I guess we're all having a swell time and it sure is good to see all you gents with your molls here.\"], ['688', 'Yeah.'], ['689', 'Well, I...'], ['690', \"I guess that's about all.\"], ['691', \"And I wish you birds wouldn't get drunk and raise Cain because that's the way a lot of birds get bumped off.\"], ['692', 'Yeah.'], ['693', 'Lay off that stuff.'], ['694', \"I know what I'm...\"], ['695', 'A couple of newspaper guys wanna take a picture.'], ['696', 'What do you say, boss?'], ['697', 'Well, what do you think of that, huh?'], ['698', 'Sure.'], ['699', 'Send them in.'], ['700', 'Tell them to make it snappy.'], ['701', \"- I'll see you later.\"], ['702', \"- Oh, don't go away.\"], ['703', \"- We're going to have our pictures taken.\"], ['704', \"- I haven't had my picture taken in the last 15 years.\"], ['705', 'Well, what do you think of that?'], ['706', \"15 years, he hasn't...\"], ['707', 'Come on, boys, make it snappy.'], ['708', 'Come on, now!'], ['709', 'Quiet, everybody!'], ['710', \"We're gonna get mugged!\"], ['711', 'There you are.'], ['712', 'Now, hold it.'], ['713', 'Hold it, still!'], ['714', 'Look at the guys over there.'], ['715', 'That was a bad play you made then, Rico.'], ['716', 'That flashlight.'], ['717', '- They might pick you up on that.'], ['718', '- Well, what do I care?'], ['719', \"Don't I want folks to see what the boys think of me?\"], ['720', 'Hey, Rico, what become of that pal of yours, that dancer guy, Joe Massara?'], ['721', \"He didn't come.\"], ['722', \"He ain't been around in a long time.\"], ['723', \"He didn't quit on you, did he, Rico?\"], ['724', 'Bad business to quit on me, Sam.'], ['725', 'One guy tried that on me once.'], ['726', 'Now, you mind your own business and let me tend to my own.'], ['727', 'What does that bull want in here?'], ['728', \"- I'll show him where he gets off.\"], ['729', '- Careful, Rico.'], ['730', 'Who invited you here?'], ['731', \"You're getting up in the world, aren't you, Rico?\"], ['732', 'The downstairs is open to anybody, even cops.'], ['733', 'But the upstairs is private.'], ['734', 'Thanks, but I like to keep my eye on you, Rico.'], ['735', \"You see, I'm your friend.\"], ['736', \"I like to see a young fellow getting up in the world that's all.\"], ['737', 'So long.'], ['738', 'Hurry back.'], ['739', 'I will.'], ['740', 'Oh, say...'], ['741', \"Somebody threw a brick through Meyer Blum's window last night.\"], ['742', 'Do you happen to know anything about a diamond-and-platinum watch that was stolen, do you?'], ['743', \"If you hear anything about it, let me know, won't you?\"], ['744', 'Banquet, eh?'], ['745', 'Rico got far too far.'], ['746', \"So now, he's got to stop.\"], ['747', \"I'm saying he's got to stop!\"], ['748', 'Oh, Arnie, are you fellas going to start another scrap?'], ['749', \"What's the use of my paying heavy dues for protection if there's no peace?\"], ['750', \"Don't worry.\"], ['751', \"There'll be peace soon enough.\"], ['752', \"I'm saying he's got to stop, so he's gonna stop.\"], ['753', \"He's been cutting in on my territory and that's all wet with me.\"], ['754', 'Look.'], ['755', \"I'm sitting here, see?\"], ['756', \"I'm sitting here quiet smoking a cigarette, see?\"], ['757', \"But a couple of my boys ain't sitting here.\"], ['758', \"They're out looking for Rico, and they got their gats with them too.\"], ['759', 'Catch on?'], ['760', \"And when they find him, it won't be no banquet that Rico gets.\"], ['761', 'It will be a wake!'], ['762', 'Arnie, you know best.'], ['763', \"I've never met Rico.\"], ['764', 'Phelps, 2284.'], ['765', 'Hello, Otero.'], ['766', 'This is Joe Massara.'], ['767', 'I just found out something.'], ['768', 'This is hot.'], ['769', 'Tell Rico to look out.'], ['770', \"Little Arnie's gang is out to put one in him.\"], ['771', \"What's the matter?\"], ['772', '- Where is Rico?'], ['773', '- You got me.'], ['774', \"He ain't showed up yet.\"], ['775', 'Come on, quick!'], ['776', 'We got to find him!'], ['777', 'I want 10 of these.'], ['778', 'Gee, you taking all these papers, Mr. Rico?'], ['779', 'Why, sure.'], ['780', \"Ain't I got my picture in them?\"], ['781', 'Here.'], ['782', '- Thanks!'], ['783', 'Come again!'], ['784', \"- That's all right.\"], ['785', 'Fine shots you are!'], ['786', 'Oh, no!'], ['787', 'So somebody finally put one in you.'], ['788', 'Yeah, but they just grazed me.'], ['789', 'The old man will be glad to hear it.'], ['790', 'He takes such an interest in you.'], ['791', \"Tell him the cops couldn't get me no other way, so they hired gunmen.\"], ['792', \"If I wasn't on the force, I'd have done the job cheap.\"], ['793', \"Did you ever think how you'd look with a lily in your hand?\"], ['794', 'No, I never did.'], ['795', \"I've been in this game many years, and I put the cuffs on a lot of mugs.\"], ['796', \"Someday, you and I are gonna take a ride, Rico and when we do, I'll have the cuffs on you too.\"], ['797', 'No buzzard like you will ever put any cuffs on Rico.'], ['798', 'Come on, boys.'], ['799', \"I'm gonna get that swell-headed mug if it's the last thing I ever do.\"], ['800', \"Boss, I'm sorry.\"], ['801', 'I should have been with you.'], ['802', 'They thought they hit the target, boss, but bullets just bounce off of you.'], ['803', 'It was Little Arnie, Rico.'], ['804', 'Joe Massara got the tip, and he called up.'], ['805', \"We couldn't find you in time.\"], ['806', 'Joe, huh?'], ['807', 'Well.'], ['808', \"I didn't think he cared enough.\"], ['809', 'Well, that was white of him, all right.'], ['810', 'I ought to give him a chance on my next job.'], ['811', 'There.'], ['812', \"Guess I didn't study medicine for nothing, did I?\"], ['813', 'Thanks, Scabby.'], ['814', \"I'm going to see Little Arnie tonight.\"], ['815', \"If he's looking for trouble, why, that's what we got the most of.\"], ['816', 'I want Killer Peppi, Otero, Kid Bean and Bat to go with me.'], ['817', \"Listen, handsome, open up, or you'll tell nobody nothing no more.\"], ['818', \"Tell him we're all right, and don't act nervous.\"], ['819', 'These fellas are all right.'], ['820', 'Come on, stick them up.'], ['821', 'Lock that door.'], ['822', \"Where's Arnie?\"], ['823', 'In the office?'], ['824', \"Bat, stay outside that door and don't let anybody in.\"], ['825', 'Kid, you keep them covered.'], ['826', 'Peppi and Otero, follow me.'], ['827', 'Come on, you.'], ['828', 'Give him the knock.'], ['829', 'Come on!'], ['830', 'Put them up!'], ['831', 'Put them up!'], ['832', 'Come on!'], ['833', 'Hello, Arnie.'], ['834', \"- How's business?\"], ['835', \"- What's the game?\"], ['836', \"I don't know what this is all about, but it's a private row.\"], ['837', '- You guys better beat it.'], ['838', \"- Ain't nobody gonna leave this room.\"], ['839', 'You guys are invited to this private party.'], ['840', \"Suppose we don't want to stay?\"], ['841', \"I wouldn't stop you for the world.\"], ['842', 'Only these boys of mine have itching fingers.'], ['843', 'Sit down, gents.'], ['844', 'Arnie you ought to have better sense than to hire a couple of outside yaps especially bad shots.'], ['845', 'Come on.'], ['846', 'What is it?'], ['847', \"Let's have it!\"], ['848', \"Arnie you're through.\"], ['849', 'You hire these mugs, they miss.'], ['850', \"Now you're through.\"], ['851', \"If you ain't out of town by tomorrow morning you won't ever leave it except in a pine box.\"], ['852', \"I'm taking over this territory.\"], ['853', \"From now on, it's mine.\"], ['854', \"You're growing, Rico.\"], ['855', \"So this is what you've been after all the time?\"], ['856', 'I seen it in your eyes the first time I met you.'], ['857', \"You're no good, Rico.\"], ['858', \"If you think you can muscle in like you did on Sam Vettori, you're off your nut!\"], ['859', 'I suppose you forgot all about Pete Montana, huh?'], ['860', \"How's Diamond Pete going to stop me?\"], ['861', \"He may be your boss, but he ain't mine.\"], ['862', \"Sam didn't feel that way about him.\"], ['863', '- Sam knew who gave orders.'], ['864', '- Sam was too soft.'], ['865', \"Diamond Pete could scare him, but I ain't no Sam.\"], ['866', 'Sam is through.'], ['867', \"Now you're through too.\"], ['868', 'Nice stickpin you got there, Arnie.'], ['869', 'Nothing phony about my jewelry.'], ['870', 'Arnie you better quit this racket.'], ['871', \"You can dish it out, but you got so that you can't take it no more.\"], ['872', \"You'd better take your hats and beat it.\"], ['873', \"The first thing you know, you'll be arrested for firing a rod in the city limits.\"], ['874', \"Well I guess that's about all.\"], ['875', 'Pleasant trip, gents.'], ['876', 'Come on, boys.'], ['877', 'Oh, thanks, boys, for the artillery.'], ['878', '- Well, boys.'], ['879', 'What do you think of it?'], ['880', \"- You're in the wrong job.\"], ['881', \"It's perfect.\"], ['882', 'That means you have a new partner.'], ['883', 'Little Caesar.'], ['884', \"Everybody'll laugh at Scabby's story.\"], ['885', 'Gee, boss.'], ['886', 'You gave Arnie an awful walloping.'], ['887', 'Rico...'], ['888', \"Now you're famous.\"], ['889', 'You see, Otero.'], ['890', \"There ain't no use in being scared of any of these big guys.\"], ['891', 'The bigger they come, the harder they fall.'], ['892', 'Yeah.'], ['893', \"I ain't doing so bad in this business so far.\"], ['894', 'Well, now.'], ['895', 'You look great, boss.'], ['896', 'Yeah, but it feels terrible.'], ['897', \"You're getting up in the world, Rico.\"], ['898', \"None of us ever been invited up to eat at the Big Boy's dump.\"], ['899', 'And nobody ever crashed the gate except Pete Montana.'], ['900', 'See what I mean?'], ['901', \"Now, you don't want the Big Boy to think you ain't got no class.\"], ['902', 'They rig you up better than this in the stir.'], ['903', \"If you think I'm going out in this, you're crazy!\"], ['904', 'You look fine, boss.'], ['905', '- Go on.'], ['906', 'Take a peek at yourself.'], ['907', \"- Oh, I don't know.\"], ['908', 'All I need is a napkin over my arm.'], ['909', \"Now, don't you look fine?\"], ['910', 'Yeah.'], ['911', \"I guess maybe I don't look so bad after all.\"], ['912', 'Oh, hello.'], ['913', '- Hello, Big Boy.'], ['914', '- Hello, Rico.'], ['915', 'Oh, yeah.'], ['916', 'Yeah.'], ['917', 'Thanks.'], ['918', 'Thanks very much.'], ['919', \"Well, you're rather lit up tonight, aren't you?\"], ['920', 'Yeah.'], ['921', 'I thought I better put on a monkey suit.'], ['922', \"That's right.\"], ['923', 'You may as well learn now.'], ['924', 'Yeah.'], ['925', 'Well...'], ['926', 'Some joint you got here.'], ['927', \"It'll do.\"], ['928', 'I bet all this trick furniture set you back plenty, huh?'], ['929', \"Well, they don't exactly give it away with cigar coupons.\"], ['930', \"Well, I'll tell the world.\"], ['931', 'Boy, it sure look...'], ['932', 'Oh, look at that.'], ['933', '- Do you like it?'], ['934', \"- Oh, I think it's elegant.\"], ['935', 'That cost me $ 15,000.'], ['936', 'Fifteen thou...'], ['937', 'Boy, them gold frames sure cost plenty of dough.'], ['938', 'Well, will you have a cocktail or a dash of brandy?'], ['939', 'Oh, no, thanks.'], ['940', 'I never touch the stuff.'], ['941', 'No?'], ['942', '- Cigar, then?'], ['943', '- Oh, yeah.'], ['944', \"I'll have one of those.\"], ['945', 'Thanks.'], ['946', 'Thanks very much.'], ['947', '- Sit down, Rico.'], ['948', '- Yeah.'], ['949', 'Thanks.'], ['950', 'Now, listen, Rico.'], ['951', \"I'm gonna talk to you, but you're not gonna hear a word I say, see?\"], ['952', \"This is inside dope, and if it gets out, it'll be just too bad for somebody.\"], ['953', 'You know me.'], ['954', 'All right.'], ['955', 'Get this.'], ['956', \"Pete Montana's through.\"], ['957', 'Yeah?'], ['958', 'Well.'], ['959', '- And I thought he was such a big guy.'], ['960', \"- He's through.\"], ['961', 'Suppose I were to tell you that from now on you were Pete Montana.'], ['962', 'That you were to take over his territory in addition to your own.'], ['963', 'Would you shake on it?'], ['964', 'Would I?'], ['965', 'Would I?'], ['966', 'All right.'], ['967', \"It's set.\"], ['968', \"I'm doing a lot for you, Rico, but when I get you planted I'll expect plenty of service.\"], ['969', \"Well, you'll sure get it.\"], ['970', 'Permit me, then, to drink to the new boss of the North Side.'], ['971', 'Thank you.'], ['972', 'Otero, what did I tell you, huh?'], ['973', 'I knew it was coming.'], ['974', 'I knew he had his eyes on me all the time.'], ['975', 'And let me tell you something, Otero.'], ['976', \"It's not only Pete Montana that's through, but the Big Boy himself.\"], ['977', \"He ain't what he used to be.\"], ['978', \"Pretty soon, he won't be able to take it, and then watch me.\"], ['979', 'Sure, boss.'], ['980', \"Pretty soon, you'll be running the whole town.\"], ['981', 'Otero, you said a mouthful.'], ['982', \"There's a guy by the name of Massara out there.\"], ['983', 'He wants to see you, sir.'], ['984', \"- I'll see him in a minute.\"], ['985', '- Yes, sir.'], ['986', \"What's Joe want here?\"], ['987', \"He hasn't been near any of us for months.\"], ['988', 'I sent for him.'], ['989', 'I heard somebody in Detroit got to Flaherty and told him to start working on a dancer at the Bronze Peacock if he wanted to find out who shot McClure.'], ['990', \"Gee, boss, you're wise to everything before it happens.\"], ['991', \"Yeah, I don't miss much.\"], ['992', \"I'll find out if Flaherty's been working on Joe after I have a little talk with him.\"], ['993', 'Gee, Rico, what a palace.'], ['994', 'Oh, hello, Joe.'], ['995', \"Yeah, it'll do.\"], ['996', 'But what do you expect?'], ['997', \"Ain't I got 20 grand tied up in it?\"], ['998', '- Hello, Otero.'], ['999', 'How are you, baby?'], ['1000', '- First-rate.'], ['1001', 'Sit down, Joe.'], ['1002', \"Sure I'm good enough to sit in such a swell chair?\"], ['1003', 'Come on, now.'], ['1004', 'Cut the comedy.'], ['1005', 'Sit down.'], ['1006', 'Screw, Otero.'], ['1007', '- I want to talk with Joe private.'], ['1008', '- Sure.'], ['1009', 'See you later, Joe.'], ['1010', '- Cigar, Joe?'], ['1011', '- No, thanks.'], ['1012', 'Well, will you have a cocktail or a dash of brandy?'], ['1013', 'No.'], ['1014', 'Well, it surprise you to hear from me?'], ['1015', 'Kind of.'], ['1016', 'I thought it would be kind of nice to have a little talk together like old times.'], ['1017', 'Certainly is nice to see you, Rico.'], ['1018', 'Especially like this.'], ['1019', \"- You're looking good.\"], ['1020', \"- You're looking good too, Joe.\"], ['1021', 'Living easy, kind of, huh?'], ['1022', '- Not that easy.'], ['1023', \"Dancing's no cinch.\"], ['1024', \"- Yeah, but you ain't complaining.\"], ['1025', '- No.'], ['1026', \"No, I ain't complaining.\"], ['1027', \"- That's good.\"], ['1028', 'Yeah.'], ['1029', \"Dancing's all right for a sideline.\"], ['1030', 'It gives you a swell front.'], ['1031', \"But it ain't my idea of a man's game.\"], ['1032', \"What's the difference, Rico?\"], ['1033', \"As long as I ain't kicking, why should you kick?\"], ['1034', \"Who's kicking?\"], ['1035', 'Only why should a young guy like you be wasting his time?'], ['1036', 'And I kind of took pride in you, Joe brought you into the gang, pushed you ahead.'], ['1037', \"But now you're getting to be a sissy.\"], ['1038', 'We got to go into that again?'], ['1039', \"Can't you just forget about me?\"], ['1040', \"I don't want to forget, Joe.\"], ['1041', \"You're my pal.\"], ['1042', \"We started off together, didn't we?\"], ['1043', \"We've got to keep going along together.\"], ['1044', 'Who else do I got to give a hang about?'], ['1045', 'I need you, Joe.'], ['1046', \"I've got the biggest chance of my life.\"], ['1047', \"The Big Boy just handed me the whole North Side but it's too much for one man to handle alone.\"], ['1048', 'I need somebody.'], ['1049', '- A guy like you, somebody I can trust.'], ['1050', \"- Can't be me, Rico.\"], ['1051', \"I've quit.\"], ['1052', \"You didn't quit.\"], ['1053', 'Nobody ever quit me.'], ['1054', \"You're still in my gang, you got that?\"], ['1055', \"I don't care how many fancy skirts you've got hanging on to you.\"], ['1056', \"That jane's made a softy out of you.\"], ['1057', '- You lay off Olga.'], ['1058', \"- I ain't laying off.\"], ['1059', \"I'm after her!\"], ['1060', \"One of us has to lose, and it won't be me.\"], ['1061', \"There's ways of stopping that dame.\"], ['1062', \"- You're crazy.\"], ['1063', 'Leave her out of this!'], ['1064', \"- She's through, out of the way.\"], ['1065', \"- You're lying.\"], ['1066', \"You wouldn't dare!\"], ['1067', \"- I wouldn't?\"], ['1068', \"- I'll show you!\"], ['1069', '- Rico, listen.'], ['1070', \"We're in love with one another.\"], ['1071', \"Don't that mean nothing?\"], ['1072', 'Nothing.'], ['1073', 'Less than nothing.'], ['1074', 'Love.'], ['1075', 'Soft stuff!'], ['1076', \"When she's got you, you ain't no good for anything.\"], ['1077', \"We ain't out of this yet and we don't want no softies spilling things!\"], ['1078', \"I won't spill anything, if you're scared of that.\"], ['1079', '- You think I want my neck stretched?'], ['1080', '- Well, you know too much.'], ['1081', \"I ain't gonna take any chances.\"], ['1082', \"You're hanging around with me, see?\"], ['1083', \"No, I'm not.\"], ['1084', 'All right.'], ['1085', \"You go back to that dame and it's suicide.\"], ['1086', 'Suicide for both of you.'], ['1087', 'Just stick here.'], ['1088', 'Hello?'], ['1089', 'Oh, hello, Big Boy.'], ['1090', 'No.'], ['1091', \"No, I don't want that guy.\"], ['1092', \"I don't trust him.\"], ['1093', 'Yeah.'], ['1094', \"I got a kid by the name of Joe Massara who'll help me.\"], ['1095', 'Yeah.'], ['1096', 'All right, goodbye, Big Boy.'], ['1097', 'Oh, Joe...'], ['1098', '- Joe.'], ['1099', '- Olga.'], ['1100', \"- We've gotta go.\"], ['1101', 'Hurry!'], ['1102', \"- Joe, what's the matter?\"], ['1103', \"Didn't you hear what I said?\"], ['1104', 'Hurry!'], ['1105', 'Hurry!'], ['1106', '- Yes, Joe.'], ['1107', \"Oh, you're ill.\"], ['1108', \"- I'm all right.\"], ['1109', '- Rico.'], ['1110', '- What did he do to you?'], ['1111', \"Oh, didn't I know it?\"], ['1112', 'He, Rico...'], ['1113', 'He said you and me gotta quit.'], ['1114', \"He'd kill you unless I stuck with him.\"], ['1115', 'I ran away.'], ['1116', \"We've got to get out of here.\"], ['1117', 'Anywhere.'], ['1118', 'As long as we get away!'], ['1119', 'No.'], ['1120', '- No?'], ['1121', \"You're not coming?\"], ['1122', '- No.'], ['1123', \"That's not the way.\"], ['1124', \"But, Olga, you don't know that guy!\"], ['1125', \"- Olga, you've got to!\"], ['1126', 'Please!'], ['1127', '- No.'], ['1128', 'Sit down, Joe.'], ['1129', \"- We've got to think.\"], ['1130', \"- I don't want to think or sit down.\"], ['1131', \"- You're coming.\"], ['1132', \"- Don't you see?\"], ['1133', 'It would be no use!'], ['1134', 'Where?'], ['1135', 'Where would we go?'], ['1136', 'Where would we run to?'], ['1137', \"There's no place he wouldn't find us.\"], ['1138', \"There's only one thing for us to do.\"], ['1139', 'Flaherty.'], ['1140', \"You're crazy.\"], ['1141', 'You think that would save us?'], ['1142', 'Flaherty?'], ['1143', \"That's worse than suicide.\"], ['1144', \"- I won't do it.\"], ['1145', \"I can't.\"], ['1146', '- Well, I can do it.'], ['1147', 'That gang must go.'], ['1148', 'Rico must go.'], ['1149', 'I want my happiness, Joe.'], ['1150', 'I want you.'], ['1151', \"We'll never have peace till Rico's gone.\"], ['1152', \"I'm going to do it.\"], ['1153', \"Olga, don't!\"], ['1154', 'Please!'], ['1155', 'Stay here!'], ['1156', 'Olga, open this door!'], ['1157', 'Olga, open this door!'], ['1158', 'Hurry!'], ['1159', 'Park, 1000.'], ['1160', 'Olga.'], ['1161', \"Don't call Flaherty.\"], ['1162', 'Please, open this door, quickly!'], ['1163', 'Rico will kill us both!'], ['1164', 'Headquarters, I want Sergeant Flaherty.'], ['1165', 'Sergeant Flaherty, this is Olga Stassoff.'], ['1166', \"I've got Joe Massara with me.\"], ['1167', 'In my apartment.'], ['1168', '17 Edsel Drive.'], ['1169', 'Yes.'], ['1170', 'Yes, he wants to talk to you.'], ['1171', 'Hurry, hurry!'], ['1172', \"Come on, boys, we're going to a party.\"], ['1173', \"Who's giving the party?\"], ['1174', '- Joe Massara.'], ['1175', '- Formal or informal?'], ['1176', \"I don't know, but we'll find out when we get there.\"], ['1177', \"You shouldn't have done it.\"], ['1178', \"You shouldn't have.\"], ['1179', 'There was no other way.'], ['1180', 'No other right way.'], ['1181', \"- It's the rope for me.\"], ['1182', \"- No, it isn't.\"], ['1183', \"Not if you turn state's evidence.\"], ['1184', \"We'll make them promise everything will be okay.\"], ['1185', 'Wait, Olga!'], ['1186', '- Joe!'], ['1187', '- There he is, the dirty double-crosser.'], ['1188', 'Give it to him, Rico!'], ['1189', 'No.'], ['1190', 'Shoot.'], ['1191', 'Shoot, Rico.'], ['1192', 'Get it over with.'], ['1193', 'Come on, Otero!'], ['1194', \"Let's go!\"], ['1195', \"You're getting soft too.\"], ['1196', \"What's the matter with you?\"], ['1197', 'Come on!'], ['1198', 'Joe.'], ['1199', '- Who was it?'], ['1200', '- Otero and Rico.'], ['1201', 'Through the window!'], ['1202', 'Go on, boys.'], ['1203', 'Go and get him!'], ['1204', 'Are you ready to talk now, Joe?'], ['1205', \"Well, I'll talk.\"], ['1206', \"It was Rico's gang that held up the Bronze Peacock.\"], ['1207', 'It was Rico who shot McClure.'], ['1208', 'That dirty, low, sneaking...'], ['1209', 'Well, Joe will tell you.'], ['1210', 'Ask him.'], ['1211', 'He knows it was Rico.'], ['1212', 'Is that right, Joe?'], ['1213', 'Was it Rico?'], ['1214', \"- Where's your phone?\"], ['1215', '- In there.'], ['1216', 'Oh, Joe.'], ['1217', 'Here, let me help you.'], ['1218', 'Park, 1000.'], ['1219', 'Hello, Dan, this is Flaherty.'], ['1220', 'Round up that Palermo gang.'], ['1221', 'I got enough on them to use a mile of rope.'], ['1222', 'Shoot the cars right out, and above all, get Rico.'], ['1223', \"We've gotta watch our step.\"], ['1224', 'The cops are sure to be cruising around.'], ['1225', '- You should have plugged Joe.'], ['1226', '- And the dame.'], ['1227', \"If they ain't squealed about McClure yet, they'll do it now.\"], ['1228', \"- From now on, we're hot.\"], ['1229', '- Yeah.'], ['1230', 'This is what I get for liking a guy too much.'], ['1231', 'Come on.'], ['1232', 'Halt!'], ['1233', 'Halt!'], ['1234', 'Go on, Rico.'], ['1235', \"I'm done for.\"], ['1236', 'Go on, Rico.'], ['1237', 'Sam!'], ['1238', 'Sam!'], ['1239', 'Joe Massara!'], ['1240', 'They nabbed him over the McClure business, and he squawked.'], ['1241', 'Rico tried to get him.'], ['1242', \"Now they're after him.\"], ['1243', 'They got Otero.'], ['1244', '- Otero?'], ['1245', \"- Sam, don't you get me?\"], ['1246', '- What are you sitting there for?'], ['1247', '- What else can I do?'], ['1248', \"I can't run now.\"], ['1249', \"They'd get me anyhow.\"], ['1250', \"You're out of your head.\"], ['1251', 'Come on, get up.'], ['1252', \"Let's beat it!\"], ['1253', \"It's no use.\"], ['1254', 'Put them up!'], ['1255', \"Don't move!\"], ['1256', 'Hand over your guns.'], ['1257', 'All right.'], ['1258', 'Take them down to the car.'], ['1259', \"You'd better give up, Sam.\"], ['1260', 'Drop that gun before we start shooting.'], ['1261', 'Come on in.'], ['1262', 'Get on your feet and put your hands up.'], ['1263', 'Put the cuffs on him.'], ['1264', \"You ain't got nothing on me.\"], ['1265', 'Nothing but the bracelets.'], ['1266', \"And we haven't got a thing on Rico, either.\"], ['1267', \"He's next.\"], ['1268', \"- There's nobody in there.\"], ['1269', '- No?'], ['1270', 'Well, listen, Ma.'], ['1271', \"If you see Rico, you'd better let us know, quick.\"], ['1272', 'Well you got yourself in a nice fix.'], ['1273', '- Yeah.'], ['1274', '- The cops were just here.'], ['1275', 'They got Otero.'], ['1276', \"Ma, I'm gonna stay here a day or two, then I want a car.\"], ['1277', \"Gonna cost you big, because I'm taking big chances.\"], ['1278', 'I got 10 grand planted here.'], ['1279', 'Help yourself.'], ['1280', \"When you're ready to start, I'll give you $ 150.\"], ['1281', \"You'll give me?\"], ['1282', 'Whose money is this?'], ['1283', \"Who do you think you're talking to?\"], ['1284', 'I need plenty.'], ['1285', 'My money is hidden in the apartment.'], ['1286', \"I can't get to it.\"], ['1287', \"I'll give you $ 150.\"], ['1288', 'Take it or leave it.'], ['1289', \"Why, you dirty, thieving old hag, I'll...\"], ['1290', \"No, you won't.\"], ['1291', \"Because I'm the only one knows where the money's hid.\"], ['1292', \"Kill me, and you won't get a cent.\"], ['1293', \"I'll give you $ 150 if you'll be a good boy.\"], ['1294', 'He was mean, Sam Vettori was.'], ['1295', \"So now he's got what was coming to him.\"], ['1296', 'What does it say in the paper?'], ['1297', '\"Former gang chief faints on scaffold.'], ['1298', 'After a futile battle in the courts Sam Vettori, former gang leader today presented a pitiful figure as the hangman\\'s noose was placed around his neck. \"'], ['1299', 'Listen. \"Little Caesar has never been found.'], ['1300', 'According to the statement of Lieutenant Thomas Flaherty of the homicide squad Little Caesar, the once swaggering braggart of the underworld wilted in the face of real danger and showed the world his cowardice.'], ['1301', 'Flaherty stated further that Little Caesar has contradicted his oft-repeated boast that he could dish it out and take it too. \"'], ['1302', 'Yeah.'], ['1303', '\"When a real crisis arose Rico couldn\\'t take it.'], ['1304', 'Flaherty ended his interview by remarking:'], ['1305', '\\'Meteoric as was Rico\\'s rise from the gutter it was inevitable that he should return there. \\'\"'], ['1306', 'Well, just the same, he was the real leader of that gang.'], ['1307', \"Don't you believe it.\"], ['1308', \"Rico didn't have the nerve, and he didn't have the brains.\"], ['1309', 'He was yellow, just like Flaherty said.'], ['1310', 'Here!'], ['1311', \"- That's what Rico...\"], ['1312', '- Give me that paper!'], ['1313', 'Hey, watch it!'], ['1314', \"- What's the matter with him?\"], ['1315', '- Must be crazy.'], ['1316', \"I'll show them where they get off.\"], ['1317', 'Trying to put that kind of stuff about me in the papers, huh?'], ['1318', \"I'll show them...\"], ['1319', 'Hello?'], ['1320', 'Hello?'], ['1321', 'I want Park, 1000.'], ['1322', 'Yeah.'], ['1323', \"Yeah, I can't take it no more, huh?\"], ['1324', \"I'll tell that guy where to...\"], ['1325', 'Hello?'], ['1326', 'Park, 1000?'], ['1327', '- Get me Flaherty, and get him quick.'], ['1328', '- Sure.'], ['1329', 'Just a minute.'], ['1330', 'Tom.'], ['1331', 'Oh, Tom.'], ['1332', 'I may be screwy, but this sounds like Rico.'], ['1333', 'Yeah?'], ['1334', '- Flaherty speaking.'], ['1335', '- Yeah, this is Rico speaking!'], ['1336', 'Rico!'], ['1337', 'R-I-C-O, Rico!'], ['1338', \"Little Caesar, that's who!\"], ['1339', \"You're a big guy, ain't you?\"], ['1340', 'Shooting your mouth off in the papers.'], ['1341', 'So I ran out when it got hot, huh?'], ['1342', \"I can't take it no more?\"], ['1343', \"Well, listen, you crummy, flatfooted copper I'll show you whether I lost my nerve.\"], ['1344', 'Thanks, Rico, old boy.'], ['1345', 'The same to you and many of them.'], ['1346', 'Come on, tell me some more.'], ['1347', 'The sound of your voice does my heart good.'], ['1348', 'Trace that call.'], ['1349', \"Find out where he's phoning from, quick.\"], ['1350', \"Say, why didn't you come to Sam's neck-stretching party, Rico?\"], ['1351', 'It was a big success.'], ['1352', \"Funny guy, ain't you, Flaherty?\"], ['1353', \"Well, you ain't got much longer to laugh.\"], ['1354', \"I'm coming, and I'm gonna put one in your dirty hide for every lying crack that you made about me, see?\"], ['1355', \"I'll show you who's gonna finish up in the gutter.\"], ['1356', \"We've missed you, Rico.\"], ['1357', 'The town has been nice and quiet.'], ['1358', \"I'm putting on weight.\"], ['1359', 'River, 6547.'], ['1360', \"It's a flophouse down at 4th and Commercial.\"], ['1361', 'All right.'], ['1362', 'All right, big mouth.'], ['1363', \"Get your hat and start running, see, because you're all through.\"], ['1364', 'Call the papers and tell them that, you rotten, dirty, lying copper!'], ['1365', \"I knew we'd hear from that guy if I kept giving it to him in the papers.\"], ['1366', 'The conceit of that guy!'], ['1367', \"They'll have to build a special noose to get that swelled head of his through.\"], ['1368', 'Well, wish me luck.'], ['1369', 'There he is.'], ['1370', \"That's Rico, all right.\"], ['1371', 'Pull in there.'], ['1372', \"You'd better give up, Rico.\"], ['1373', \"You haven't got a chance.\"], ['1374', \"You'll have to come and get me.\"], ['1375', \"You'd better be a nice boy, Rico, and come out.\"], ['1376', 'You heard me!'], ['1377', 'If you want me, come and get me!'], ['1378', \"I'll be with you in a minute.\"], ['1379', 'Give me that chopper.'], ['1380', 'This is your last chance, Rico.'], ['1381', 'Are you coming out, or do you want to be carried out?'], ['1382', 'Well, Rico, it looks like you and I are going to take that little ride together.'], ['1383', 'No...'], ['1384', \"No, we ain't.\"], ['1385', 'I told you a little buzzard like you will never put any cuffs on me.'], ['1386', 'You should have come out when I told you to, Rico.'], ['1387', 'Mother of mercy.'], ['1388', 'Is this the end of Rico?'], ['1389', 'Subtitles by SDI Media Group'], ['1390', 'Ripped by:'], ['1391', 'SkyFury']]\n",
      "Traceback (most recent call last):\n",
      "  File \"read_opus.py\", line 174, in <module>\n",
      "    write_to_tmx(line_is, curr_file_is, line_en, curr_file_en, year, film_id, f_tmx)\n",
      "  File \"read_opus.py\", line 86, in write_to_tmx\n",
      "    txt_en = get_text(line_en, file_en)\n",
      "  File \"read_opus.py\", line 74, in get_text\n",
      "    t+=text[int(c)]\n",
      "IndexError: string index out of range\n"
     ]
    }
   ],
   "source": [
    "%cd {parice_raw_dir}/opensubtitles\n",
    "!python read_opus.py --input {parice_raw_dir}/opensubtitles --output {parice_raw_dir}/tmx"
   ]
  },
  {
   "cell_type": "code",
   "execution_count": 47,
   "metadata": {},
   "outputs": [
    {
     "name": "stdout",
     "output_type": "stream",
     "text": [
      "baekur.tmx   ema.tmx\t    hagstofan.tmx      tatoeba.tmx\r\n",
      "biblian.tmx  eso.tmx\t    kde4.tmx\t       ubuntu.tmx\r\n",
      "ees.tmx      fornritin.tmx  opensubtitles.tmx\r\n"
     ]
    }
   ],
   "source": [
    "!ls {parice_raw_dir}/tmx"
   ]
  },
  {
   "cell_type": "markdown",
   "metadata": {},
   "source": [
    "## Lesa .tmx skrár\n",
    "Fyrst þarf þó aðeins að lagfæra skrárnar svo þær séu allar með sama tungumála merki."
   ]
  },
  {
   "cell_type": "code",
   "execution_count": 44,
   "metadata": {},
   "outputs": [
    {
     "name": "stdout",
     "output_type": "stream",
     "text": [
      "/work/haukurpj/data/raw/Parice1.0/tmx/ema.tmx:      <tuv xml:lang=\"is\"><seg>\" samkvæmt birtum niðurstöðum</seg></tuv>\n",
      "/work/haukurpj/data/raw/Parice1.0/tmx/ema.tmx:      <tuv xml:lang=\"is\"><seg>\" HbA1c (%) í 24. viku.</seg></tuv>\n",
      "/work/haukurpj/data/raw/Parice1.0/tmx/hagstofan.tmx:      <tuv xml:lang=\"is\"><seg>Nánar um útgáfu</seg></tuv>\n",
      "/work/haukurpj/data/raw/Parice1.0/tmx/hagstofan.tmx:      <tuv xml:lang=\"is\"><seg>Skráðir nemendur í framhalds- og háskólum haustið 2010</seg></tuv>\n",
      "/work/haukurpj/data/raw/Parice1.0/tmx/ema.tmx:  <header adminlang=\"EN-US\" creationdate=\"20170426T083707Z\" creationtool=\"Moses-to-TMX-converer\" creationtoolversion=\"1.0\" datatype=\"plaintext\" o-tmf=\"Moses plain text files\" segtype=\"sentence\" srclang=\"en\">\n",
      "/work/haukurpj/data/raw/Parice1.0/tmx/ema.tmx:      <tuv xml:lang=\"en\"><seg>\" based on published data</seg></tuv>\n",
      "/work/haukurpj/data/raw/Parice1.0/tmx/hagstofan.tmx:  <header adminlang=\"en\" creationdate=\"20170319T213035Z\" creationtool=\"mALIGNa\" creationtoolversion=\"2\" datatype=\"plaintext\" o-tmf=\"al\" segtype=\"block\" srclang=\"en\">\n",
      "/work/haukurpj/data/raw/Parice1.0/tmx/hagstofan.tmx:      <tuv xml:lang=\"en\"><seg>Publication detail</seg></tuv>\n"
     ]
    }
   ],
   "source": [
    "!grep -m 2 \"lang=\\\"is\\\"\" {parice_raw_dir}/tmx/*.tmx\n",
    "!grep -m 2 \"lang=\\\"en\\\"\" {parice_raw_dir}/tmx/*.tmx"
   ]
  },
  {
   "cell_type": "code",
   "execution_count": 45,
   "metadata": {},
   "outputs": [],
   "source": [
    "!sed -i 's/xml:lang=\"is\"/xml:lang=\"IS-IS\"/g' {parice_raw_dir}/tmx/hagstofan.tmx\n",
    "!sed -i 's/xml:lang=\"en\"/xml:lang=\"EN-GB\"/g' {parice_raw_dir}/tmx/hagstofan.tmx\n",
    "!sed -i 's/xml:lang=\"is\"/xml:lang=\"IS-IS\"/g' {parice_raw_dir}/tmx/ema.tmx\n",
    "!sed -i 's/xml:lang=\"en\"/xml:lang=\"EN-GB\"/g' {parice_raw_dir}/tmx/ema.tmx"
   ]
  },
  {
   "cell_type": "code",
   "execution_count": 46,
   "metadata": {},
   "outputs": [
    {
     "name": "stdout",
     "output_type": "stream",
     "text": [
      "/work/haukurpj/data/raw/Parice1.0/tmx/ema.tmx:  <header adminlang=\"EN-US\" creationdate=\"20170426T083707Z\" creationtool=\"Moses-to-TMX-converer\" creationtoolversion=\"1.0\" datatype=\"plaintext\" o-tmf=\"Moses plain text files\" segtype=\"sentence\" srclang=\"en\">\n",
      "/work/haukurpj/data/raw/Parice1.0/tmx/hagstofan.tmx:  <header adminlang=\"en\" creationdate=\"20170319T213035Z\" creationtool=\"mALIGNa\" creationtoolversion=\"2\" datatype=\"plaintext\" o-tmf=\"al\" segtype=\"block\" srclang=\"en\">\n"
     ]
    }
   ],
   "source": [
    "!grep -m 2 \"lang=\\\"is\\\"\" {parice_raw_dir}/tmx/*.tmx\n",
    "!grep -m 2 \"lang=\\\"en\\\"\" {parice_raw_dir}/tmx/*.tmx"
   ]
  },
  {
   "cell_type": "code",
   "execution_count": 53,
   "metadata": {},
   "outputs": [
    {
     "name": "stdout",
     "output_type": "stream",
     "text": [
      "[PosixPath('/work/haukurpj/data/raw/Parice1.0/tmx/ema.tmx'),\n",
      " PosixPath('/work/haukurpj/data/raw/Parice1.0/tmx/biblian.tmx'),\n",
      " PosixPath('/work/haukurpj/data/raw/Parice1.0/tmx/fornritin.tmx'),\n",
      " PosixPath('/work/haukurpj/data/raw/Parice1.0/tmx/opensubtitles.tmx'),\n",
      " PosixPath('/work/haukurpj/data/raw/Parice1.0/tmx/ees.tmx'),\n",
      " PosixPath('/work/haukurpj/data/raw/Parice1.0/tmx/tatoeba.tmx'),\n",
      " PosixPath('/work/haukurpj/data/raw/Parice1.0/tmx/baekur.tmx'),\n",
      " PosixPath('/work/haukurpj/data/raw/Parice1.0/tmx/kde4.tmx'),\n",
      " PosixPath('/work/haukurpj/data/raw/Parice1.0/tmx/hagstofan.tmx'),\n",
      " PosixPath('/work/haukurpj/data/raw/Parice1.0/tmx/eso.tmx'),\n",
      " PosixPath('/work/haukurpj/data/raw/Parice1.0/tmx/ubuntu.tmx')]\n"
     ]
    }
   ],
   "source": [
    "tmx_files = glob(f'{parice_raw_dir}/tmx/*.tmx')\n",
    "tmx_files = [pathlib.Path(tmx_file) for tmx_file in tmx_files]\n",
    "pprint(tmx_files)"
   ]
  },
  {
   "cell_type": "code",
   "execution_count": 56,
   "metadata": {},
   "outputs": [],
   "source": [
    "import frontend.bulk as b\n",
    "\n",
    "parice_tmx = b.tmx_split(tmx_files, 'EN-GB', 'IS-IS')\n",
    "en_parice, is_parice = zip(*parice_tmx)"
   ]
  },
  {
   "cell_type": "code",
   "execution_count": 58,
   "metadata": {},
   "outputs": [],
   "source": [
    "for corpus in en_parice + is_parice:\n",
    "    !mv {corpus} {parice_formatted_dir}"
   ]
  },
  {
   "cell_type": "code",
   "execution_count": 4,
   "metadata": {},
   "outputs": [
    {
     "name": "stdout",
     "output_type": "stream",
     "text": [
      "['/work/haukurpj/data/formatted/Parice1.0/baekur.en',\n",
      " '/work/haukurpj/data/formatted/Parice1.0/biblian.en',\n",
      " '/work/haukurpj/data/formatted/Parice1.0/ees.en',\n",
      " '/work/haukurpj/data/formatted/Parice1.0/ema.en',\n",
      " '/work/haukurpj/data/formatted/Parice1.0/eso.en',\n",
      " '/work/haukurpj/data/formatted/Parice1.0/fornritin.en',\n",
      " '/work/haukurpj/data/formatted/Parice1.0/hagstofan.en',\n",
      " '/work/haukurpj/data/formatted/Parice1.0/kde4.en',\n",
      " '/work/haukurpj/data/formatted/Parice1.0/opensubtitles.en',\n",
      " '/work/haukurpj/data/formatted/Parice1.0/tatoeba.en',\n",
      " '/work/haukurpj/data/formatted/Parice1.0/ubuntu.en']\n",
      "['/work/haukurpj/data/formatted/Parice1.0/baekur.is',\n",
      " '/work/haukurpj/data/formatted/Parice1.0/biblian.is',\n",
      " '/work/haukurpj/data/formatted/Parice1.0/ees.is',\n",
      " '/work/haukurpj/data/formatted/Parice1.0/ema.is',\n",
      " '/work/haukurpj/data/formatted/Parice1.0/eso.is',\n",
      " '/work/haukurpj/data/formatted/Parice1.0/fornritin.is',\n",
      " '/work/haukurpj/data/formatted/Parice1.0/hagstofan.is',\n",
      " '/work/haukurpj/data/formatted/Parice1.0/kde4.is',\n",
      " '/work/haukurpj/data/formatted/Parice1.0/opensubtitles.is',\n",
      " '/work/haukurpj/data/formatted/Parice1.0/tatoeba.is',\n",
      " '/work/haukurpj/data/formatted/Parice1.0/ubuntu.is']\n"
     ]
    }
   ],
   "source": [
    "parice_en_list = glob(f'{parice_formatted_dir}/*.en')\n",
    "parice_is_list = glob(f'{parice_formatted_dir}/*.is')\n",
    "parice_en_list.sort()\n",
    "parice_is_list.sort()\n",
    "pprint(parice_en_list)\n",
    "pprint(parice_is_list)"
   ]
  },
  {
   "cell_type": "markdown",
   "metadata": {},
   "source": [
    "## Sía út prófunargögn\n",
    "Núna síum við út prófunargögnin úr ParIce. Byrjum á því að afpakka."
   ]
  },
  {
   "cell_type": "code",
   "execution_count": 63,
   "metadata": {},
   "outputs": [
    {
     "name": "stdout",
     "output_type": "stream",
     "text": [
      "Archive:  /work/haukurpj/data/raw/prófunarsett-20191205T064220Z-001.zip\r\n",
      "  inflating: /work/haukurpj/data/formatted/Parice1.0/pr?funarsett/LESTU-MIG.docx  \r\n",
      "  inflating: /work/haukurpj/data/formatted/Parice1.0/pr?funarsett/ees.csv  \r\n",
      "  inflating: /work/haukurpj/data/formatted/Parice1.0/pr?funarsett/opensubtitles.csv  \r\n",
      "  inflating: /work/haukurpj/data/formatted/Parice1.0/pr?funarsett/ema.csv  \r\n"
     ]
    }
   ],
   "source": [
    "!unzip {parice_test_zip} -d {parice_formatted_dir}"
   ]
  },
  {
   "cell_type": "code",
   "execution_count": 67,
   "metadata": {},
   "outputs": [
    {
     "name": "stdout",
     "output_type": "stream",
     "text": [
      "LESTU-MIG.docx\tees.csv  ema.csv  opensubtitles.csv\r\n"
     ]
    }
   ],
   "source": [
    "!ls {parice_formatted_dir}/prófunarsett"
   ]
  },
  {
   "cell_type": "code",
   "execution_count": 5,
   "metadata": {},
   "outputs": [],
   "source": [
    "def read_csv(p_in):\n",
    "    en_text = []\n",
    "    is_text = []\n",
    "    with p_in.open() as f_in:\n",
    "        for index, line in enumerate(f_in):\n",
    "            if '### SKJAL ID' in line:\n",
    "                continue\n",
    "            if line == '\\n':\n",
    "                continue\n",
    "            id, en_sent, is_sent = line.split('\\t')\n",
    "            en_text.append(en_sent+'\\n')\n",
    "            is_text.append(is_sent)\n",
    "    return en_text, is_text"
   ]
  },
  {
   "cell_type": "code",
   "execution_count": 6,
   "metadata": {},
   "outputs": [],
   "source": [
    "ees_en, ees_is = read_csv(parice_formatted_dir.joinpath('prófunarsett').joinpath('ees.csv'))\n",
    "ema_en, ema_is = read_csv(parice_formatted_dir.joinpath('prófunarsett').joinpath('ema.csv'))\n",
    "opensubtitles_en, opensubtitles_is = read_csv(parice_formatted_dir.joinpath('prófunarsett').joinpath('opensubtitles.csv'))\n",
    "parice_test_is = ees_is + ema_is + opensubtitles_is\n",
    "parice_test_en = ees_en + ema_en + opensubtitles_en"
   ]
  },
  {
   "cell_type": "code",
   "execution_count": 7,
   "metadata": {},
   "outputs": [],
   "source": [
    "parice_is = []\n",
    "for corpus in parice_is_list:\n",
    "    with open(corpus) as f_in:\n",
    "        parice_is += f_in.readlines()\n",
    "\n",
    "parice_en = []\n",
    "for corpus in parice_en_list:\n",
    "    with open(corpus) as f_in:\n",
    "        parice_en += f_in.readlines()"
   ]
  },
  {
   "cell_type": "code",
   "execution_count": 8,
   "metadata": {},
   "outputs": [
    {
     "name": "stdout",
     "output_type": "stream",
     "text": [
      "3545822\n",
      "3545822\n",
      "FYRRI ÞÁTTUR\n",
      " BOOK I\n",
      "\n",
      "I. Veizlan í nýju höllinni.\n",
      " CHAPTER I A FETE AT THE NEW PALACE\n",
      "\n"
     ]
    }
   ],
   "source": [
    "pprint(len(parice_is))\n",
    "pprint(len(parice_en))\n",
    "for i in range(2):\n",
    "    print(parice_is[i], parice_en[i])"
   ]
  },
  {
   "cell_type": "code",
   "execution_count": 9,
   "metadata": {},
   "outputs": [],
   "source": [
    "def get_indices(corpus, sentences):\n",
    "    indices = []\n",
    "    for index, line in enumerate(corpus):\n",
    "        if line in sentences:\n",
    "            indices.append(index)\n",
    "    return indices"
   ]
  },
  {
   "cell_type": "code",
   "execution_count": 10,
   "metadata": {},
   "outputs": [
    {
     "name": "stdout",
     "output_type": "stream",
     "text": [
      "178207 193264\n"
     ]
    }
   ],
   "source": [
    "indicies_test_en = get_indices(parice_en, frozenset(parice_test_en))\n",
    "indicies_test_is = get_indices(parice_is, frozenset(parice_test_is))\n",
    "print(len(indicies_test_en), len(indicies_test_is))"
   ]
  },
  {
   "cell_type": "markdown",
   "metadata": {},
   "source": [
    "Núna þurfum við að fjarlægja setningar úr ParIce sem eru í prófunargögnunum."
   ]
  },
  {
   "cell_type": "code",
   "execution_count": 11,
   "metadata": {},
   "outputs": [
    {
     "name": "stdout",
     "output_type": "stream",
     "text": [
      "139384\n",
      "232087\n",
      "7645 7645\n"
     ]
    }
   ],
   "source": [
    "indicies_test_intersection = set(indicies_test_is).intersection(set(indicies_test_en))\n",
    "indicies_test_union = set(indicies_test_is).union(set(indicies_test_en))\n",
    "print(len(indicies_test_intersection))\n",
    "print(len(indicies_test_union))\n",
    "print(len(parice_test_en), len(parice_test_is))"
   ]
  },
  {
   "cell_type": "markdown",
   "metadata": {},
   "source": [
    "Við notum sammengið, til þess að losa okkur við allan efa um að þýðingarvélin hafi séð þessar setningar áður og einnig til þess að vera með sambærilega vinnslu og Miðeind."
   ]
  },
  {
   "cell_type": "code",
   "execution_count": 12,
   "metadata": {},
   "outputs": [],
   "source": [
    "def drop_indices(corpus, indices):\n",
    "    filtered_corpus = []\n",
    "    indices = list(indices)\n",
    "    indices.sort()\n",
    "    current_index = 0\n",
    "    for corpus_index, line in enumerate(corpus):\n",
    "        if current_index == len(indices):\n",
    "            filtered_corpus.append(line)\n",
    "        elif indices[current_index] == corpus_index:\n",
    "            current_index += 1\n",
    "        else:\n",
    "            filtered_corpus.append(line)\n",
    "    return filtered_corpus"
   ]
  },
  {
   "cell_type": "code",
   "execution_count": 13,
   "metadata": {},
   "outputs": [],
   "source": [
    "drop = indicies_test_union\n",
    "parice_no_test_en = drop_indices(parice_en, drop)\n",
    "parice_no_test_is = drop_indices(parice_is, drop)"
   ]
  },
  {
   "cell_type": "markdown",
   "metadata": {},
   "source": [
    "## Skipta í dev/train\n",
    "Við skiptum restini af gögnunum í tvennt, dev/train. Við veljum 2000 setningapör í dev og fjarlægjum þær úr restinni. Sá afgangur verður train. Það er hugsanlegt að við veljum tvítekningar í dev en við verðum bara að lifa með það."
   ]
  },
  {
   "cell_type": "code",
   "execution_count": 14,
   "metadata": {},
   "outputs": [],
   "source": [
    "seed = 10\n",
    "\n",
    "import random\n",
    "random.seed(seed)\n",
    "parice_dev_en = list(random.sample(parice_no_test_en, 2000))\n",
    "indieces_dev_en = get_indices(parice_no_test_en, frozenset(parice_dev_en))\n",
    "random.seed(seed)\n",
    "parice_dev_is = list(random.sample(parice_no_test_is, 2000))\n",
    "indieces_dev_is = get_indices(parice_no_test_is, frozenset(parice_dev_is))"
   ]
  },
  {
   "cell_type": "code",
   "execution_count": 15,
   "metadata": {},
   "outputs": [
    {
     "name": "stdout",
     "output_type": "stream",
     "text": [
      "74037 73147\n"
     ]
    }
   ],
   "source": [
    "print(len(indieces_dev_en), len(indieces_dev_is))"
   ]
  },
  {
   "cell_type": "markdown",
   "metadata": {},
   "source": [
    "Hægt er að keyra kóðann (illa skrifaður) fyrir neðan til þess að athuga hvort niðurstöðurnar eru réttar. Þær virðast vera það."
   ]
  },
  {
   "cell_type": "code",
   "execution_count": null,
   "metadata": {},
   "outputs": [],
   "source": [
    "for line in parice_dev_en:\n",
    "    print(line)\n",
    "    for index, p_line in enumerate(parice_no_test_en):\n",
    "        if p_line == line:\n",
    "            print(index, p_line)\n",
    "            if index not in indieces_dev_en:\n",
    "                raise RuntimeError(\"Error! Not found\")"
   ]
  },
  {
   "cell_type": "code",
   "execution_count": 16,
   "metadata": {},
   "outputs": [
    {
     "name": "stdout",
     "output_type": "stream",
     "text": [
      "63725\n",
      "83459\n",
      "2000 2000\n"
     ]
    }
   ],
   "source": [
    "indicies_dev_intersection = set(indieces_dev_en).intersection(set(indieces_dev_is))\n",
    "indicies_dev_union = set(indieces_dev_en).union(set(indieces_dev_is))\n",
    "print(len(indicies_dev_intersection))\n",
    "print(len(indicies_dev_union))\n",
    "print(len(parice_dev_en), len(parice_dev_is))"
   ]
  },
  {
   "cell_type": "code",
   "execution_count": 17,
   "metadata": {},
   "outputs": [
    {
     "name": "stdout",
     "output_type": "stream",
     "text": [
      "Get in the right lane.\n",
      " Farðu á hægri akrein.\n",
      "\n",
      "• Where the Commission ascertains that a notified body does not meet or no longer meets the requirements for its notification, it shall adopt an implementing act requesting the notifying Member State to take the necessary corrective measures, including withdrawal of notification if necessary.\n",
      " • Ef framkvæmdastjórnin kemst að raun um að tilkynnt stofa uppfylli ekki, eða uppfylli ekki lengur, kröfurnar viðvíkjandi tilkynningu hennar, skal hún samþykkja framkvæmdargerð þar sem óskað er eftir því að tilkynningaraðildarríkið geri nauðsynlegar ráðstafanir til úrbóta, þ.m.t. að afturkalla tilkynningu, ef nauðsyn krefur.\n",
      "\n"
     ]
    }
   ],
   "source": [
    "for i in range(2):\n",
    "    print(parice_dev_en[i], parice_dev_is[i])"
   ]
  },
  {
   "cell_type": "code",
   "execution_count": 18,
   "metadata": {},
   "outputs": [],
   "source": [
    "drop = indicies_dev_union\n",
    "parice_train_en = drop_indices(parice_no_test_en, drop)\n",
    "parice_train_is = drop_indices(parice_no_test_is, drop)"
   ]
  },
  {
   "cell_type": "markdown",
   "metadata": {},
   "source": [
    "Athugum hvort línufjöldinn gangi ekki upp."
   ]
  },
  {
   "cell_type": "code",
   "execution_count": 20,
   "metadata": {},
   "outputs": [
    {
     "name": "stdout",
     "output_type": "stream",
     "text": [
      "3230276 3230276\n",
      "0\n"
     ]
    }
   ],
   "source": [
    "print(len(parice_train_en), len(parice_train_is))\n",
    "print(len(parice_en) - (len(parice_train_en) + len(indicies_dev_union) + len(indicies_test_union)))"
   ]
  },
  {
   "cell_type": "markdown",
   "metadata": {},
   "source": [
    "## Skrifa gögn og hreinsa til\n",
    "Núna skrifum við gögnin niður í skrár og fjarlægjum tímabundnar skrár."
   ]
  },
  {
   "cell_type": "code",
   "execution_count": 21,
   "metadata": {},
   "outputs": [
    {
     "name": "stdout",
     "output_type": "stream",
     "text": [
      "baekur.en   ees.en  eso.en\t  hagstofan.en\topensubtitles.en  tatoeba.is\r\n",
      "baekur.is   ees.is  eso.is\t  hagstofan.is\topensubtitles.is  ubuntu.en\r\n",
      "biblian.en  ema.en  fornritin.en  kde4.en\tprófunarsett\t  ubuntu.is\r\n",
      "biblian.is  ema.is  fornritin.is  kde4.is\ttatoeba.en\r\n"
     ]
    }
   ],
   "source": [
    "!ls {target_dir}"
   ]
  },
  {
   "cell_type": "code",
   "execution_count": 22,
   "metadata": {},
   "outputs": [],
   "source": [
    "def write_to_file(corpus, path):\n",
    "    with path.open('w+') as f_in:\n",
    "        for line in corpus:\n",
    "            f_in.write(line)\n",
    "    !wc -l {path}"
   ]
  },
  {
   "cell_type": "code",
   "execution_count": 24,
   "metadata": {},
   "outputs": [
    {
     "name": "stdout",
     "output_type": "stream",
     "text": [
      "3230276 /work/haukurpj/data/formatted/Parice1.0/train.en\n",
      "3230276 /work/haukurpj/data/formatted/Parice1.0/train.is\n",
      "2000 /work/haukurpj/data/formatted/Parice1.0/dev.en\n",
      "2000 /work/haukurpj/data/formatted/Parice1.0/dev.is\n",
      "7645 /work/haukurpj/data/formatted/Parice1.0/test.en\n",
      "7645 /work/haukurpj/data/formatted/Parice1.0/test.is\n"
     ]
    }
   ],
   "source": [
    "write_to_file(parice_train_en, parice_formatted_dir.joinpath('train.en'))\n",
    "write_to_file(parice_train_is, parice_formatted_dir.joinpath('train.is'))\n",
    "write_to_file(parice_dev_en, parice_formatted_dir.joinpath('dev.en'))\n",
    "write_to_file(parice_dev_is, parice_formatted_dir.joinpath('dev.is'))\n",
    "write_to_file(parice_test_en, parice_formatted_dir.joinpath('test.en'))\n",
    "write_to_file(parice_test_is, parice_formatted_dir.joinpath('test.is'))"
   ]
  },
  {
   "cell_type": "code",
   "execution_count": 27,
   "metadata": {},
   "outputs": [],
   "source": [
    "!rm -rf {parice_formatted_dir}/prófunarsett"
   ]
  },
  {
   "cell_type": "code",
   "execution_count": 28,
   "metadata": {},
   "outputs": [
    {
     "name": "stdout",
     "output_type": "stream",
     "text": [
      "baekur.en   dev.is  eso.en\t  hagstofan.is\t    tatoeba.en\ttrain.is\r\n",
      "baekur.is   ees.en  eso.is\t  kde4.en\t    tatoeba.is\tubuntu.en\r\n",
      "biblian.en  ees.is  fornritin.en  kde4.is\t    test.en\tubuntu.is\r\n",
      "biblian.is  ema.en  fornritin.is  opensubtitles.en  test.is\r\n",
      "dev.en\t    ema.is  hagstofan.en  opensubtitles.is  train.en\r\n"
     ]
    }
   ],
   "source": [
    "!ls {target_dir}"
   ]
  },
  {
   "cell_type": "code",
   "execution_count": null,
   "metadata": {},
   "outputs": [],
   "source": []
  }
 ],
 "metadata": {
  "kernelspec": {
   "display_name": "Python [conda env:.conda-notebook]",
   "language": "python",
   "name": "conda-env-.conda-notebook-py"
  },
  "language_info": {
   "codemirror_mode": {
    "name": "ipython",
    "version": 3
   },
   "file_extension": ".py",
   "mimetype": "text/x-python",
   "name": "python",
   "nbconvert_exporter": "python",
   "pygments_lexer": "ipython3",
   "version": "3.7.5"
  }
 },
 "nbformat": 4,
 "nbformat_minor": 2
}
