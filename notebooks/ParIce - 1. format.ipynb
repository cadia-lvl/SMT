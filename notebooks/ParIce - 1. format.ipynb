{
 "cells": [
  {
   "cell_type": "markdown",
   "metadata": {},
   "source": [
    "# Samhliðamálheild fyrir ensku og íslensku - ParIce\n",
    "Hér er unnið með ParIce málheildina. Gangasafnið lesið, prófunargögn síuð út og sett í staðlað form.\n",
    "\n",
    "Gert er ráð fyrir að eftirfarandi gögn séu til staðar\n",
    "- ParIce eins og það er sótt á málföng, `parice_dir`\n",
    "- Prófunargögn eins og fengin frá Steinþóri, `test_dir`\n",
    "\n",
    "Eftir að hafa keyrt reikniritið verður `target_dir` eftirfarandi\n",
    "- `target_dir/x.(is|en)`, þar sem `x` er undirmálheild úr ParIce.\n",
    "- `target_dir/train.(is|en)` allar málheildir úr ParIce sameinaðar og prófunar- og fínpússunargögn fjarlægð.\n",
    "- `target_dir/dev.(is|en)` 2000 setningapör valin af handahófi úr sameinuðu ParIce með prófunargögn fjarlægð.\n",
    "- `target_dir/test-(ees|ema|opensubtitles).(is|en)` Prófunargögn eins og fengin frá Steinþóri. \n",
    "\n",
    "Hægt er að lesa ParIce gögnin á tvo vegu, í gegnum `.xml` eða `.tmx`. `.xml` skjölin eru tilreidd, mörkuð og lemmuð. Undanskilið eru opensubtitles undirmálheildin. `.tmx` skjölin innihalda paraðar setningar. Það er, `.xml` er yfirmengi `.tmx`.\n",
    "\n",
    "**Ath** Við lestur á `.xml`-skjölum tókum við eftir því að gamall Tokenizer hafði verið notaður til þess að tilreiða og breytti enskum lokunar-gæsalöppum \" í íslenskar lokunar-gæsalappir “. Út af þessari villu var ákveðið að lesa `.tmx`-skjölin og svo marka þau og lemma sérstaklega síðar.\n",
    "\n",
    "Reikniritinu er skipt í eftirfarandi skref:\n",
    "1. Uppsetning\n",
    "2. Sækja opensubtitles og búa til `.tmx` skrá úr þeim.\n",
    "3. Lesa málheildina, sem annað hvort `.xml` eða `.tmx`.\n",
    "  1. Sem `.xml`\n",
    "  2. Sem `.tmx`\n",
    "4. Sía út prófunargögn\n",
    "5. Skipta í dev/train\n",
    "6. Skrifa gögn og taka til"
   ]
  },
  {
   "cell_type": "markdown",
   "metadata": {},
   "source": [
    "## 1. Uppsetning"
   ]
  },
  {
   "cell_type": "code",
   "execution_count": 1,
   "metadata": {},
   "outputs": [],
   "source": [
    "# The location of Parice to read\n",
    "parice_dir = '/work/haukurpj/data/raw/Parice1.0'\n",
    "# The location of the Parice test data (zipped, provided separatly).\n",
    "test_set_zip = '/work/haukurpj/data/raw/prófunarsett-20191205T064220Z-001.zip'\n",
    "\n",
    "# The location of where to write the results\n",
    "target_dir = '/work/haukurpj/data/formatted/Parice1.0'\n",
    "\n",
    "from glob import glob\n",
    "from pprint import pprint"
   ]
  },
  {
   "cell_type": "code",
   "execution_count": 2,
   "metadata": {},
   "outputs": [],
   "source": [
    "from IPython.core.interactiveshell import InteractiveShell\n",
    "InteractiveShell.ast_node_interactivity = \"all\"\n",
    "import pathlib\n",
    "\n",
    "parice_raw_dir = pathlib.Path(parice_dir)\n",
    "parice_formatted_dir = pathlib.Path(target_dir)\n",
    "parice_test_zip = pathlib.Path(test_set_zip)"
   ]
  },
  {
   "cell_type": "code",
   "execution_count": 3,
   "metadata": {},
   "outputs": [],
   "source": [
    "assert parice_raw_dir.exists()\n",
    "assert parice_test_zip.exists()\n",
    "if not parice_formatted_dir.exists():\n",
    "    parice_formatted_dir.mkdir()"
   ]
  },
  {
   "cell_type": "markdown",
   "metadata": {},
   "source": [
    "## 2. Sækja opensubtitles\n",
    "Opensubtitles er ekki deilt með ParIce, út af leyfismálum, svo við þurfum að sækja þau gögn og keyra scriptu til þess að para setningar."
   ]
  },
  {
   "cell_type": "code",
   "execution_count": 99,
   "metadata": {},
   "outputs": [
    {
     "name": "stdout",
     "output_type": "stream",
     "text": [
      "--2020-02-05 15:48:02--  http://opus.nlpl.eu/download.php?f=OpenSubtitles/v2018/raw/is.zip\n",
      "Resolving opus.nlpl.eu (opus.nlpl.eu)... 193.166.25.9\n",
      "Connecting to opus.nlpl.eu (opus.nlpl.eu)|193.166.25.9|:80... connected.\n",
      "HTTP request sent, awaiting response... 302 Found\n",
      "Location: https://object.pouta.csc.fi/OPUS-OpenSubtitles/v2018/raw/is.zip [following]\n",
      "--2020-02-05 15:48:02--  https://object.pouta.csc.fi/OPUS-OpenSubtitles/v2018/raw/is.zip\n",
      "Resolving object.pouta.csc.fi (object.pouta.csc.fi)... 86.50.254.18, 86.50.254.19\n",
      "Connecting to object.pouta.csc.fi (object.pouta.csc.fi)|86.50.254.18|:443... connected.\n",
      "HTTP request sent, awaiting response... 200 OK\n",
      "Length: 60620921 (58M) [application/zip]\n",
      "Saving to: ‘/work/haukurpj/data/raw/Parice1.0/opensubtitles/is.zip/download.php?f=OpenSubtitles%2Fv2018%2Fraw%2Fis.zip.1’\n",
      "\n",
      "download.php?f=Open 100%[===================>]  57.81M  4.93MB/s    in 14s     \n",
      "\n",
      "2020-02-05 15:48:17 (4.17 MB/s) - ‘/work/haukurpj/data/raw/Parice1.0/opensubtitles/is.zip/download.php?f=OpenSubtitles%2Fv2018%2Fraw%2Fis.zip.1’ saved [60620921/60620921]\n",
      "\n"
     ]
    }
   ],
   "source": [
    "!wget -P {parice_raw_dir}/opensubtitles/en.zip http://opus.nlpl.eu/download.php?f=OpenSubtitles/v2018/raw/en.zip\n",
    "!wget -P {parice_raw_dir}/opensubtitles/is.zip http://opus.nlpl.eu/download.php?f=OpenSubtitles/v2018/raw/is.zip"
   ]
  },
  {
   "cell_type": "code",
   "execution_count": 94,
   "metadata": {},
   "outputs": [],
   "source": [
    "!mkdir -p {parice_raw_dir}/opensubtitles/en\n",
    "!mkdir -p {parice_raw_dir}/opensubtitles/is"
   ]
  },
  {
   "cell_type": "code",
   "execution_count": 97,
   "metadata": {},
   "outputs": [
    {
     "name": "stdout",
     "output_type": "stream",
     "text": [
      "README\ten  en.zip  is\tis.zip\tlinks_to_opus  read_opus.py\r\n"
     ]
    }
   ],
   "source": [
    "!ls {parice_raw_dir}/opensubtitles/"
   ]
  },
  {
   "cell_type": "code",
   "execution_count": null,
   "metadata": {},
   "outputs": [],
   "source": [
    "!unzip {parice_raw_dir}/opensubtitles/en.zip/*.zip -d {parice_raw_dir}/opensubtitles/en\n",
    "!unzip {parice_raw_dir}/opensubtitles/is.zip/*.zip -d {parice_raw_dir}/opensubtitles/is"
   ]
  },
  {
   "cell_type": "markdown",
   "metadata": {},
   "source": [
    "### Keyra scriptu til þess að búa til opensubtitles.tmx\n",
    "Núna þarf að keyra scriptu sem býr til samhliða gögnin fyrir opensubtitles. Til þess þurfum við vísa í íslensku og ensku gögnin og scriptan finnur sjálf `links_to_opus`."
   ]
  },
  {
   "cell_type": "code",
   "execution_count": null,
   "metadata": {},
   "outputs": [],
   "source": [
    "%cd {parice_raw_dir}/opensubtitles\n",
    "!python read_opus.py --input {parice_raw_dir}/opensubtitles --output {parice_raw_dir}/tmx"
   ]
  },
  {
   "cell_type": "code",
   "execution_count": 101,
   "metadata": {},
   "outputs": [
    {
     "name": "stdout",
     "output_type": "stream",
     "text": [
      "total 1.1G\r\n",
      "-rwxrwxrwx 1 haukurpj local-staff 4.7M Mar 25  2019 baekur.tmx\r\n",
      "-rwxrwxrwx 1 haukurpj local-staff  16M Mar 25  2019 biblian.tmx\r\n",
      "-rwxrwxrwx 1 haukurpj local-staff 583M Sep 19 11:31 ees.tmx\r\n",
      "-rwxrwxrwx 1 haukurpj local-staff 122M Mar 25  2019 ema.tmx\r\n",
      "-rwxrwxrwx 1 haukurpj local-staff 5.3M Jun 11  2019 eso.tmx\r\n",
      "-rwxrwxrwx 1 haukurpj local-staff 5.9M Mar 25  2019 fornritin.tmx\r\n",
      "-rwxrwxrwx 1 haukurpj local-staff 1.2M Jun 11  2019 hagstofan.tmx\r\n",
      "-rwxrwxrwx 1 haukurpj local-staff 8.7M Jun 11  2019 kde4.tmx\r\n",
      "-rw-r--r-- 1 haukurpj local-staff 299M Feb  5 15:50 opensubtitles.tmx\r\n",
      "-rwxrwxrwx 1 haukurpj local-staff 1.5M Mar 25  2019 tatoeba.tmx\r\n",
      "-rwxrwxrwx 1 haukurpj local-staff 1.7M Mar 25  2019 ubuntu.tmx\r\n"
     ]
    }
   ],
   "source": [
    "!ls -lh {parice_raw_dir}/tmx"
   ]
  },
  {
   "cell_type": "code",
   "execution_count": 102,
   "metadata": {},
   "outputs": [
    {
     "name": "stdout",
     "output_type": "stream",
     "text": [
      "     62087 /work/haukurpj/data/raw/Parice1.0/tmx/baekur.tmx\n",
      "    260972 /work/haukurpj/data/raw/Parice1.0/tmx/biblian.tmx\n",
      "   8505867 /work/haukurpj/data/raw/Parice1.0/tmx/ees.tmx\n",
      "   1617339 /work/haukurpj/data/raw/Parice1.0/tmx/ema.tmx\n",
      "     63172 /work/haukurpj/data/raw/Parice1.0/tmx/eso.tmx\n",
      "     87992 /work/haukurpj/data/raw/Parice1.0/tmx/fornritin.tmx\n",
      "     11448 /work/haukurpj/data/raw/Parice1.0/tmx/hagstofan.tmx\n",
      "    199643 /work/haukurpj/data/raw/Parice1.0/tmx/kde4.tmx\n",
      "   6523036 /work/haukurpj/data/raw/Parice1.0/tmx/opensubtitles.tmx\n",
      "     33059 /work/haukurpj/data/raw/Parice1.0/tmx/tatoeba.tmx\n",
      "     42295 /work/haukurpj/data/raw/Parice1.0/tmx/ubuntu.tmx\n",
      "  17406910 total\n"
     ]
    }
   ],
   "source": [
    "!wc -l {parice_raw_dir}/tmx/*.tmx"
   ]
  },
  {
   "cell_type": "markdown",
   "metadata": {},
   "source": [
    "## 3. Lesa ParIce"
   ]
  },
  {
   "cell_type": "markdown",
   "metadata": {},
   "source": [
    "Við skilgreinum gagnskipan, til þess að auka læsileika. Þessi kóði er notaður fyrir `.xml` og `.tmx`"
   ]
  },
  {
   "cell_type": "code",
   "execution_count": 4,
   "metadata": {},
   "outputs": [],
   "source": [
    "from typing import List, Tuple\n",
    "Sentence = List\n",
    "POS = List\n",
    "Lemma = List\n",
    "\n",
    "Corpus = List[Sentence]\n",
    "\n",
    "EnrichedSentence = Tuple[Sentence, POS, Lemma]\n",
    "EnrichedCorpus = List[EnrichedSentence]"
   ]
  },
  {
   "cell_type": "code",
   "execution_count": 5,
   "metadata": {},
   "outputs": [],
   "source": [
    "import tokenizer\n",
    "\n",
    "def path_to_corpus(in_path: str) -> Corpus:\n",
    "    with open(in_path) as f_in:\n",
    "        return f_in.readlines()\n",
    "    \n",
    "def corpus_to_enriched_corpus(corpus: Corpus) -> EnrichedCorpus:\n",
    "    enriched_corpus: EnrichedCorpus = []\n",
    "    for sentence in corpus:\n",
    "        enriched_corpus.append(([token for tok in tokenizer.tokenize(sentence) if tok.txt is not None for token in tok.txt.split(' ')],\n",
    "                               list(),\n",
    "                               list()))\n",
    "    return enriched_corpus"
   ]
  },
  {
   "cell_type": "markdown",
   "metadata": {},
   "source": [
    "### 3.1 Sem `.xml` skrár\n",
    "Í stað þess að lesa tmx skrárnar er hægt að lesa xml skrárnar, þar eru setningar tilreiddar, markaðar og lemmaðar. Við þurfum þó tilreiða, marka og lemma OpenSubtitiles gögnin. Við gerum það síðar og notum API frá SÁM til þess."
   ]
  },
  {
   "cell_type": "code",
   "execution_count": 4,
   "metadata": {},
   "outputs": [],
   "source": [
    "def list_documents(directory, lang):\n",
    "    return glob(f'{directory}/xml/*/{lang}/*.xml')"
   ]
  },
  {
   "cell_type": "code",
   "execution_count": 5,
   "metadata": {},
   "outputs": [],
   "source": [
    "en_docs = list_documents(parice_raw_dir, 'en')\n",
    "is_docs = list_documents(parice_raw_dir, 'is')"
   ]
  },
  {
   "cell_type": "code",
   "execution_count": 6,
   "metadata": {},
   "outputs": [
    {
     "name": "stdout",
     "output_type": "stream",
     "text": [
      "8550 8550\n",
      "/work/haukurpj/data/raw/Parice1.0/xml/ees/en/32012r0600.xml\n"
     ]
    }
   ],
   "source": [
    "print(len(en_docs), len(is_docs))\n",
    "print(en_docs[0])"
   ]
  },
  {
   "cell_type": "code",
   "execution_count": 8,
   "metadata": {},
   "outputs": [],
   "source": [
    "from xml.etree import ElementTree as ET\n",
    "\n",
    "def read_enriched_corpora(docs: List[str]) -> EnrichedCorpus:\n",
    "    lines: EnrichedCorpus = []\n",
    "    for doc in docs:\n",
    "        lines += read_enriched_corpus(doc)\n",
    "    return lines\n",
    "\n",
    "ALLOWED_TAGS = set(('{http://www.tei-c.org/ns/1.0}w', '{http://www.tei-c.org/ns/1.0}c'))\n",
    "def read_enriched_corpus(doc: str) -> EnrichedCorpus:\n",
    "    NS = {'a': 'http://www.tei-c.org/ns/1.0'}\n",
    "    root = ET.parse(doc).getroot()\n",
    "    lines: EnrichedCorpus = []\n",
    "    # We gather all the segments from the body, avoiding the divs\n",
    "    for seg in root.findall('.//a:body//a:seg', NS):\n",
    "        form: Sentence = list()\n",
    "        pos: POS = list()\n",
    "        lemma: Lemma = list()\n",
    "        line: EnrichedSentence = (form, pos, lemma)\n",
    "        for s in seg.findall('.//a:s', NS):\n",
    "            for node in s.getchildren():\n",
    "                # print(node.text, node.tag, s.text, seg.attrib['id'], doc)\n",
    "                assert node.tag in ALLOWED_TAGS\n",
    "                form.append(node.text)\n",
    "                pos.append(node.attrib['type'])\n",
    "                lemma.append(node.attrib['lemma'])                    \n",
    "        lines.append(line)\n",
    "    return lines"
   ]
  },
  {
   "cell_type": "code",
   "execution_count": 9,
   "metadata": {},
   "outputs": [
    {
     "name": "stderr",
     "output_type": "stream",
     "text": [
      "/home/staff/haukurpj/.conda/envs/notebook/lib/python3.7/site-packages/ipykernel_launcher.py:21: DeprecationWarning: This method will be removed in future versions.  Use 'list(elem)' or iteration over elem instead.\n"
     ]
    }
   ],
   "source": [
    "enriched_corpus_en = read_enriched_corpora(en_docs)\n",
    "enriched_corpus_is = read_enriched_corpora(is_docs)"
   ]
  },
  {
   "cell_type": "markdown",
   "metadata": {},
   "source": [
    "Við ættum að fá 2284424 línur fyrir hvora málheildina."
   ]
  },
  {
   "cell_type": "code",
   "execution_count": 10,
   "metadata": {},
   "outputs": [
    {
     "name": "stdout",
     "output_type": "stream",
     "text": [
      "2284424 2284424\n",
      "(['•', 'Regulation', '(', 'EC', ')', 'No', 'of', 'the', 'European', 'Parliament', 'and', 'of', 'the', 'Council', 'of', '25', 'November', '2009', 'on', 'the', 'voluntary', 'participation', 'by', 'organisations', 'in', 'a', 'Community', 'eco-management', 'and', 'audit', 'scheme', '(', 'EMAS', ')', ',', 'repealing', 'Regulation', '(', 'EC', ')', 'No', 'and', 'Commission', 'Decisions', '2001/681/EC', 'and', '2006/193/EC', '(', '1', ')', 'provides', 'for', 'an', 'independent', 'and', 'neutral', 'accreditation', 'or', 'licensing', 'system', 'for', 'environmental', 'verifiers', '.'], ['JJ', 'NNP', '(', 'NNP', ')', 'NNP', 'IN', 'DT', 'NNP', 'NNP', 'CC', 'IN', 'DT', 'NNP', 'IN', 'CD', 'NNP', 'CD', 'IN', 'DT', 'JJ', 'NN', 'IN', 'NNS', 'IN', 'DT', 'NNP', 'NN', 'CC', 'NN', 'NN', '(', 'NNP', ')', ',', 'VBG', 'NNP', '(', 'NNP', ')', 'NNP', 'CC', 'NNP', 'NNP', 'CD', 'CC', 'CD', '(', 'CD', ')', 'VBZ', 'IN', 'DT', 'JJ', 'CC', 'JJ', 'NN', 'CC', 'NN', 'NN', 'IN', 'JJ', 'NNS', '.'], ['•', 'Regulation', '(', 'EC', ')', 'No', 'of', 'the', 'European', 'Parliament', 'and', 'of', 'the', 'Council', 'of', '25', 'November', '2009', 'on', 'the', 'voluntary', 'participation', 'by', 'organisation', 'in', 'a', 'Community', 'eco-management', 'and', 'audit', 'scheme', '(', 'EMAS', ')', ',', 'repeal', 'Regulation', '(', 'EC', ')', 'No', 'and', 'Commission', 'Decisions', '2001/681/EC', 'and', '2006/193/EC', '(', '1', ')', 'provide', 'for', 'an', 'independent', 'and', 'neutral', 'accreditation', 'or', 'licensing', 'system', 'for', 'environmental', 'verifier', '.']) (['15.', 'gr.', 'reglugerðar', '(', 'EB', ')', 'nr.', '1451', '/', '2007', 'voru', 'niðurstöður', 'endurskoðunarinnar', 'teknar', 'upp', 'í', 'matsskýrslu', 'á', 'fundi', 'fastanefndarinnar', 'um', 'sæfiefni', '22.', 'september', '2011', '.'], ['ta', 'as', 'nvee', '(', 'as', ')', 'as', 'ta', '/', 'ta', 'sfg3fþ', 'nvfn', 'nveeg', 'sþgvfn', 'aa', 'aþ', 'nveo', 'aþ', 'nkeþ', 'nveeg', 'ao', 'nheo', 'ta', 'nkeo', 'ta', '.'], ['15.', 'gr.', 'reglugerð', '(', 'EB', ')', 'nr.', '1451', '/', '2007', 'vera', 'niðurstaða', 'endurskoðun', 'taka', 'upp', 'í', 'matsskýrsla', 'á', 'fundur', 'fastanefnd', 'um', 'sæfiefni', '22.', 'september', '2011', '.'])\n"
     ]
    }
   ],
   "source": [
    "print(len(enriched_corpus_en), len(enriched_corpus_is))\n",
    "print(enriched_corpus_en[10], enriched_corpus_is[10])"
   ]
  },
  {
   "cell_type": "markdown",
   "metadata": {},
   "source": [
    "Núna lesum við opensubtitles tmx skrána.\n",
    "\n",
    "**ATH** að `.tmx` skráin er ekki tilreidd, og því verðum við að tilreiða hana svo hún líti eins út og hinar skrárnar. Enn fremur þá gerir tilreiðslan okkur kleift að gera athuganir síðar meir í kóðanum."
   ]
  },
  {
   "cell_type": "code",
   "execution_count": 11,
   "metadata": {},
   "outputs": [
    {
     "name": "stderr",
     "output_type": "stream",
     "text": [
      "2020-02-06 11:18:08,439 - frontend - INFO - Initialized\n"
     ]
    }
   ],
   "source": [
    "from frontend import bulk as b\n",
    "opensub_en, opensub_is = b.tmx_split([parice_raw_dir.joinpath('tmx').joinpath('opensubtitles.tmx')], 'EN-GB', 'IS-IS')[0]"
   ]
  },
  {
   "cell_type": "code",
   "execution_count": 12,
   "metadata": {},
   "outputs": [
    {
     "data": {
      "text/plain": [
       "(PosixPath('/work/haukurpj/data/raw/Parice1.0/tmx/opensubtitles.en'),\n",
       " PosixPath('/work/haukurpj/data/raw/Parice1.0/tmx/opensubtitles.is'))"
      ]
     },
     "execution_count": 12,
     "metadata": {},
     "output_type": "execute_result"
    }
   ],
   "source": [
    "opensub_en, opensub_is"
   ]
  },
  {
   "cell_type": "code",
   "execution_count": 13,
   "metadata": {},
   "outputs": [],
   "source": []
  },
  {
   "cell_type": "code",
   "execution_count": 14,
   "metadata": {},
   "outputs": [],
   "source": [
    "enriched_corpus_is.extend(corpus_to_enriched_corpus(path_to_corpus(opensub_is)))\n",
    "enriched_corpus_en.extend(corpus_to_enriched_corpus(path_to_corpus(opensub_en)))"
   ]
  },
  {
   "cell_type": "code",
   "execution_count": 15,
   "metadata": {},
   "outputs": [
    {
     "data": {
      "text/plain": [
       "3589030"
      ]
     },
     "execution_count": 15,
     "metadata": {},
     "output_type": "execute_result"
    },
    {
     "data": {
      "text/plain": [
       "3589030"
      ]
     },
     "execution_count": 15,
     "metadata": {},
     "output_type": "execute_result"
    },
    {
     "data": {
      "text/plain": [
       "((['I', 'understand', 'now', '.'], [], []),\n",
       " (['Ég', 'skil', 'þetta', 'núna', '.'], [], []))"
      ]
     },
     "execution_count": 15,
     "metadata": {},
     "output_type": "execute_result"
    }
   ],
   "source": [
    "len(enriched_corpus_en)\n",
    "len(enriched_corpus_is)\n",
    "enriched_corpus_en[-10], enriched_corpus_is[-10]"
   ]
  },
  {
   "cell_type": "markdown",
   "metadata": {},
   "source": [
    "Fjöldi lína (3589030) passar við fjölda lína við `.tmx` lestur."
   ]
  },
  {
   "cell_type": "code",
   "execution_count": 75,
   "metadata": {},
   "outputs": [
    {
     "data": {
      "text/plain": [
       "[(['GEN.1.1'], ['NN'], ['GEN.1.1']),\n",
       " (['In',\n",
       "   'the',\n",
       "   'beginning',\n",
       "   'God',\n",
       "   'created',\n",
       "   'the',\n",
       "   'heaven',\n",
       "   'and',\n",
       "   'the',\n",
       "   'earth'],\n",
       "  ['IN', 'DT', 'NN', 'NNP', 'VBD', 'DT', 'NN', 'CC', 'DT', 'NN'],\n",
       "  ['In',\n",
       "   'the',\n",
       "   'beginning',\n",
       "   'God',\n",
       "   'create',\n",
       "   'the',\n",
       "   'heaven',\n",
       "   'and',\n",
       "   'the',\n",
       "   'earth']),\n",
       " (['GEN.1.2'], ['NN'], ['GEN.1.2']),\n",
       " (['And',\n",
       "   'the',\n",
       "   'earth',\n",
       "   'was',\n",
       "   'without',\n",
       "   'form',\n",
       "   'and',\n",
       "   'void',\n",
       "   'and',\n",
       "   'darkness',\n",
       "   'was',\n",
       "   'upon',\n",
       "   'the',\n",
       "   'face',\n",
       "   'of',\n",
       "   'the',\n",
       "   'deep'],\n",
       "  ['CC',\n",
       "   'DT',\n",
       "   'NN',\n",
       "   'VBD',\n",
       "   'IN',\n",
       "   'NN',\n",
       "   'CC',\n",
       "   'NN',\n",
       "   'CC',\n",
       "   'NN',\n",
       "   'VBD',\n",
       "   'IN',\n",
       "   'DT',\n",
       "   'NN',\n",
       "   'IN',\n",
       "   'DT',\n",
       "   'NN'],\n",
       "  ['And',\n",
       "   'the',\n",
       "   'earth',\n",
       "   'be',\n",
       "   'without',\n",
       "   'form',\n",
       "   'and',\n",
       "   'void',\n",
       "   'and',\n",
       "   'darkness',\n",
       "   'be',\n",
       "   'upon',\n",
       "   'the',\n",
       "   'face',\n",
       "   'of',\n",
       "   'the',\n",
       "   'deep']),\n",
       " (['And',\n",
       "   'the',\n",
       "   'Spirit',\n",
       "   'of',\n",
       "   'God',\n",
       "   'moved',\n",
       "   'upon',\n",
       "   'the',\n",
       "   'face',\n",
       "   'of',\n",
       "   'the',\n",
       "   'waters'],\n",
       "  ['CC', 'DT', 'NNP', 'IN', 'NNP', 'VBD', 'IN', 'DT', 'NN', 'IN', 'DT', 'NNS'],\n",
       "  ['And',\n",
       "   'the',\n",
       "   'Spirit',\n",
       "   'of',\n",
       "   'God',\n",
       "   'move',\n",
       "   'upon',\n",
       "   'the',\n",
       "   'face',\n",
       "   'of',\n",
       "   'the',\n",
       "   'water']),\n",
       " (['GEN.1.3'], ['NN'], ['GEN.1.3']),\n",
       " (['And',\n",
       "   'God',\n",
       "   'said',\n",
       "   'Let',\n",
       "   'there',\n",
       "   'be',\n",
       "   'light',\n",
       "   'and',\n",
       "   'there',\n",
       "   'was',\n",
       "   'light'],\n",
       "  ['CC', 'NNP', 'VBD', 'VB', 'EX', 'VB', 'JJ', 'CC', 'EX', 'VBD', 'NN'],\n",
       "  ['And',\n",
       "   'God',\n",
       "   'say',\n",
       "   'Let',\n",
       "   'there',\n",
       "   'be',\n",
       "   'light',\n",
       "   'and',\n",
       "   'there',\n",
       "   'be',\n",
       "   'light']),\n",
       " (['GEN.1.4'], ['NN'], ['GEN.1.4']),\n",
       " (['And',\n",
       "   'God',\n",
       "   'saw',\n",
       "   'the',\n",
       "   'light',\n",
       "   'that',\n",
       "   'it',\n",
       "   'was',\n",
       "   'good',\n",
       "   'and',\n",
       "   'God',\n",
       "   'divided',\n",
       "   'the',\n",
       "   'light',\n",
       "   'from',\n",
       "   'the',\n",
       "   'darkness'],\n",
       "  ['CC',\n",
       "   'NNP',\n",
       "   'VBD',\n",
       "   'DT',\n",
       "   'NN',\n",
       "   'IN',\n",
       "   'PRP',\n",
       "   'VBD',\n",
       "   'JJ',\n",
       "   'CC',\n",
       "   'NNP',\n",
       "   'VBD',\n",
       "   'DT',\n",
       "   'NN',\n",
       "   'IN',\n",
       "   'DT',\n",
       "   'NN'],\n",
       "  ['And',\n",
       "   'God',\n",
       "   'saw',\n",
       "   'the',\n",
       "   'light',\n",
       "   'that',\n",
       "   'it',\n",
       "   'be',\n",
       "   'good',\n",
       "   'and',\n",
       "   'God',\n",
       "   'divide',\n",
       "   'the',\n",
       "   'light',\n",
       "   'from',\n",
       "   'the',\n",
       "   'darkness']),\n",
       " (['GEN.1.5'], ['NN'], ['GEN.1.5'])]"
      ]
     },
     "execution_count": 75,
     "metadata": {},
     "output_type": "execute_result"
    }
   ],
   "source": [
    "test"
   ]
  },
  {
   "cell_type": "markdown",
   "metadata": {},
   "source": [
    "### 3.2 Sem `.tmx` skrár\n",
    "Við getum líka lesið tmx skrárnar, en þær innihalda ekki eins miklar upplýsingar og xml skrárnar.\n",
    "Fyrst þarf þó aðeins að lagfæra skrárnar svo þær séu allar með sama tungumála merki."
   ]
  },
  {
   "cell_type": "code",
   "execution_count": 47,
   "metadata": {},
   "outputs": [
    {
     "name": "stdout",
     "output_type": "stream",
     "text": [
      "/work/haukurpj/data/raw/Parice1.0/tmx/ema.tmx:  <header adminlang=\"EN-US\" creationdate=\"20170426T083707Z\" creationtool=\"Moses-to-TMX-converer\" creationtoolversion=\"1.0\" datatype=\"plaintext\" o-tmf=\"Moses plain text files\" segtype=\"sentence\" srclang=\"en\">\n",
      "/work/haukurpj/data/raw/Parice1.0/tmx/hagstofan.tmx:  <header adminlang=\"en\" creationdate=\"20170319T213035Z\" creationtool=\"mALIGNa\" creationtoolversion=\"2\" datatype=\"plaintext\" o-tmf=\"al\" segtype=\"block\" srclang=\"en\">\n"
     ]
    }
   ],
   "source": [
    "!grep -m 2 \"lang=\\\"is\\\"\" {parice_raw_dir}/tmx/*.tmx\n",
    "!grep -m 2 \"lang=\\\"en\\\"\" {parice_raw_dir}/tmx/*.tmx"
   ]
  },
  {
   "cell_type": "code",
   "execution_count": 48,
   "metadata": {},
   "outputs": [],
   "source": [
    "!sed -i 's/xml:lang=\"is\"/xml:lang=\"IS-IS\"/g' {parice_raw_dir}/tmx/hagstofan.tmx\n",
    "!sed -i 's/xml:lang=\"en\"/xml:lang=\"EN-GB\"/g' {parice_raw_dir}/tmx/hagstofan.tmx\n",
    "!sed -i 's/xml:lang=\"is\"/xml:lang=\"IS-IS\"/g' {parice_raw_dir}/tmx/ema.tmx\n",
    "!sed -i 's/xml:lang=\"en\"/xml:lang=\"EN-GB\"/g' {parice_raw_dir}/tmx/ema.tmx"
   ]
  },
  {
   "cell_type": "code",
   "execution_count": 49,
   "metadata": {},
   "outputs": [
    {
     "name": "stdout",
     "output_type": "stream",
     "text": [
      "/work/haukurpj/data/raw/Parice1.0/tmx/ema.tmx:  <header adminlang=\"EN-US\" creationdate=\"20170426T083707Z\" creationtool=\"Moses-to-TMX-converer\" creationtoolversion=\"1.0\" datatype=\"plaintext\" o-tmf=\"Moses plain text files\" segtype=\"sentence\" srclang=\"en\">\n",
      "/work/haukurpj/data/raw/Parice1.0/tmx/hagstofan.tmx:  <header adminlang=\"en\" creationdate=\"20170319T213035Z\" creationtool=\"mALIGNa\" creationtoolversion=\"2\" datatype=\"plaintext\" o-tmf=\"al\" segtype=\"block\" srclang=\"en\">\n"
     ]
    }
   ],
   "source": [
    "!grep -m 2 \"lang=\\\"is\\\"\" {parice_raw_dir}/tmx/*.tmx\n",
    "!grep -m 2 \"lang=\\\"en\\\"\" {parice_raw_dir}/tmx/*.tmx"
   ]
  },
  {
   "cell_type": "code",
   "execution_count": 6,
   "metadata": {},
   "outputs": [
    {
     "name": "stdout",
     "output_type": "stream",
     "text": [
      "[PosixPath('/work/haukurpj/data/raw/Parice1.0/tmx/ubuntu.tmx'),\n",
      " PosixPath('/work/haukurpj/data/raw/Parice1.0/tmx/tatoeba.tmx'),\n",
      " PosixPath('/work/haukurpj/data/raw/Parice1.0/tmx/eso.tmx'),\n",
      " PosixPath('/work/haukurpj/data/raw/Parice1.0/tmx/biblian.tmx'),\n",
      " PosixPath('/work/haukurpj/data/raw/Parice1.0/tmx/fornritin.tmx'),\n",
      " PosixPath('/work/haukurpj/data/raw/Parice1.0/tmx/ees.tmx'),\n",
      " PosixPath('/work/haukurpj/data/raw/Parice1.0/tmx/baekur.tmx'),\n",
      " PosixPath('/work/haukurpj/data/raw/Parice1.0/tmx/kde4.tmx'),\n",
      " PosixPath('/work/haukurpj/data/raw/Parice1.0/tmx/ema.tmx'),\n",
      " PosixPath('/work/haukurpj/data/raw/Parice1.0/tmx/hagstofan.tmx'),\n",
      " PosixPath('/work/haukurpj/data/raw/Parice1.0/tmx/opensubtitles.tmx')]\n"
     ]
    }
   ],
   "source": [
    "tmx_files = glob(f'{parice_raw_dir}/tmx/*.tmx')\n",
    "tmx_files = [pathlib.Path(tmx_file) for tmx_file in tmx_files]\n",
    "pprint(tmx_files)"
   ]
  },
  {
   "cell_type": "code",
   "execution_count": 51,
   "metadata": {},
   "outputs": [],
   "source": [
    "import frontend.bulk as b\n",
    "\n",
    "parice_tmx = b.tmx_split(tmx_files, 'EN-GB', 'IS-IS')\n",
    "en_parice, is_parice = zip(*parice_tmx)"
   ]
  },
  {
   "cell_type": "code",
   "execution_count": 50,
   "metadata": {},
   "outputs": [
    {
     "ename": "NameError",
     "evalue": "name 'en_parice' is not defined",
     "output_type": "error",
     "traceback": [
      "\u001b[0;31m---------------------------------------------------------------------------\u001b[0m",
      "\u001b[0;31mNameError\u001b[0m                                 Traceback (most recent call last)",
      "\u001b[0;32m<ipython-input-50-dac9dd66c9ed>\u001b[0m in \u001b[0;36m<module>\u001b[0;34m\u001b[0m\n\u001b[0;32m----> 1\u001b[0;31m \u001b[0;32mfor\u001b[0m \u001b[0mcorpus\u001b[0m \u001b[0;32min\u001b[0m \u001b[0men_parice\u001b[0m \u001b[0;34m+\u001b[0m \u001b[0mis_parice\u001b[0m\u001b[0;34m:\u001b[0m\u001b[0;34m\u001b[0m\u001b[0;34m\u001b[0m\u001b[0m\n\u001b[0m\u001b[1;32m      2\u001b[0m     \u001b[0mget_ipython\u001b[0m\u001b[0;34m(\u001b[0m\u001b[0;34m)\u001b[0m\u001b[0;34m.\u001b[0m\u001b[0msystem\u001b[0m\u001b[0;34m(\u001b[0m\u001b[0;34m'mv {corpus} {parice_formatted_dir}'\u001b[0m\u001b[0;34m)\u001b[0m\u001b[0;34m\u001b[0m\u001b[0;34m\u001b[0m\u001b[0m\n",
      "\u001b[0;31mNameError\u001b[0m: name 'en_parice' is not defined"
     ]
    }
   ],
   "source": [
    "for corpus in en_parice + is_parice:\n",
    "    !mv {corpus} {parice_formatted_dir}"
   ]
  },
  {
   "cell_type": "code",
   "execution_count": 7,
   "metadata": {},
   "outputs": [
    {
     "data": {
      "text/plain": [
       "['baekur',\n",
       " 'biblian',\n",
       " 'ees',\n",
       " 'ema',\n",
       " 'eso',\n",
       " 'fornritin',\n",
       " 'hagstofan',\n",
       " 'kde4',\n",
       " 'opensubtitles',\n",
       " 'tatoeba',\n",
       " 'ubuntu']"
      ]
     },
     "execution_count": 7,
     "metadata": {},
     "output_type": "execute_result"
    }
   ],
   "source": [
    "corpora = [corpus.stem for corpus in tmx_files]\n",
    "corpora.sort()\n",
    "corpora"
   ]
  },
  {
   "cell_type": "code",
   "execution_count": 8,
   "metadata": {},
   "outputs": [
    {
     "name": "stdout",
     "output_type": "stream",
     "text": [
      "['/work/haukurpj/data/formatted/Parice1.0/baekur.en',\n",
      " '/work/haukurpj/data/formatted/Parice1.0/biblian.en',\n",
      " '/work/haukurpj/data/formatted/Parice1.0/ees.en',\n",
      " '/work/haukurpj/data/formatted/Parice1.0/ema.en',\n",
      " '/work/haukurpj/data/formatted/Parice1.0/eso.en',\n",
      " '/work/haukurpj/data/formatted/Parice1.0/fornritin.en',\n",
      " '/work/haukurpj/data/formatted/Parice1.0/hagstofan.en',\n",
      " '/work/haukurpj/data/formatted/Parice1.0/kde4.en',\n",
      " '/work/haukurpj/data/formatted/Parice1.0/opensubtitles.en',\n",
      " '/work/haukurpj/data/formatted/Parice1.0/tatoeba.en',\n",
      " '/work/haukurpj/data/formatted/Parice1.0/ubuntu.en']\n",
      "['/work/haukurpj/data/formatted/Parice1.0/baekur.is',\n",
      " '/work/haukurpj/data/formatted/Parice1.0/biblian.is',\n",
      " '/work/haukurpj/data/formatted/Parice1.0/ees.is',\n",
      " '/work/haukurpj/data/formatted/Parice1.0/ema.is',\n",
      " '/work/haukurpj/data/formatted/Parice1.0/eso.is',\n",
      " '/work/haukurpj/data/formatted/Parice1.0/fornritin.is',\n",
      " '/work/haukurpj/data/formatted/Parice1.0/hagstofan.is',\n",
      " '/work/haukurpj/data/formatted/Parice1.0/kde4.is',\n",
      " '/work/haukurpj/data/formatted/Parice1.0/opensubtitles.is',\n",
      " '/work/haukurpj/data/formatted/Parice1.0/tatoeba.is',\n",
      " '/work/haukurpj/data/formatted/Parice1.0/ubuntu.is']\n"
     ]
    }
   ],
   "source": [
    "parice_en_list = [f'{parice_formatted_dir}/{corpus}.en' for corpus in corpora]\n",
    "parice_is_list = [f'{parice_formatted_dir}/{corpus}.is' for corpus in corpora]\n",
    "pprint(parice_en_list)\n",
    "pprint(parice_is_list)"
   ]
  },
  {
   "cell_type": "code",
   "execution_count": 9,
   "metadata": {},
   "outputs": [],
   "source": [
    "import operator\n",
    "from functools import reduce\n",
    "\n",
    "enriched_corpus_is = reduce(operator.iadd, map(corpus_to_enriched_corpus, map(path_to_corpus, parice_is_list)), list())\n",
    "enriched_corpus_en = reduce(operator.iadd, map(corpus_to_enriched_corpus, map(path_to_corpus, parice_en_list)), list())"
   ]
  },
  {
   "cell_type": "code",
   "execution_count": 10,
   "metadata": {},
   "outputs": [
    {
     "data": {
      "text/plain": [
       "(3589030, 3589030)"
      ]
     },
     "execution_count": 10,
     "metadata": {},
     "output_type": "execute_result"
    },
    {
     "data": {
      "text/plain": [
       "([(['FYRRI', 'ÞÁTTUR'], [], []),\n",
       "  (['I.', 'Veizlan', 'í', 'nýju', 'höllinni', '.'], [], [])],\n",
       " [(['BOOK', 'I'], [], []),\n",
       "  (['CHAPTER', 'I', 'A', 'FETE', 'AT', 'THE', 'NEW', 'PALACE'], [], [])])"
      ]
     },
     "execution_count": 10,
     "metadata": {},
     "output_type": "execute_result"
    }
   ],
   "source": [
    "len(enriched_corpus_is), len(enriched_corpus_en)\n",
    "enriched_corpus_is[:2], enriched_corpus_en[:2]"
   ]
  },
  {
   "cell_type": "code",
   "execution_count": null,
   "metadata": {},
   "outputs": [],
   "source": [
    "import pickle\n",
    "\n",
    "with open(parice_formatted_dir.joinpath('enriched.pkl', 'wb') as f_out:\n",
    "    pickle.dump(enriched_corpus_lemma_is, f_out)"
   ]
  },
  {
   "cell_type": "markdown",
   "metadata": {},
   "source": [
    "## 4. Sía út prófunargögn\n",
    "Núna síum við út prófunargögnin úr ParIce. Byrjum á því að afpakka prófunargögn"
   ]
  },
  {
   "cell_type": "code",
   "execution_count": 33,
   "metadata": {},
   "outputs": [
    {
     "name": "stdout",
     "output_type": "stream",
     "text": [
      "Archive:  /work/haukurpj/data/raw/prófunarsett-20191205T064220Z-001.zip\r\n",
      "  inflating: /work/haukurpj/data/formatted/Parice1.0/pr?funarsett/LESTU-MIG.docx  \r\n",
      "  inflating: /work/haukurpj/data/formatted/Parice1.0/pr?funarsett/ees.csv  \r\n",
      "  inflating: /work/haukurpj/data/formatted/Parice1.0/pr?funarsett/opensubtitles.csv  \r\n",
      "  inflating: /work/haukurpj/data/formatted/Parice1.0/pr?funarsett/ema.csv  \r\n"
     ]
    }
   ],
   "source": [
    "!unzip {parice_test_zip} -d {parice_formatted_dir}"
   ]
  },
  {
   "cell_type": "code",
   "execution_count": 34,
   "metadata": {},
   "outputs": [
    {
     "name": "stdout",
     "output_type": "stream",
     "text": [
      "LESTU-MIG.docx\tees.csv  ema.csv  opensubtitles.csv\r\n"
     ]
    }
   ],
   "source": [
    "!ls {parice_formatted_dir}/prófunarsett"
   ]
  },
  {
   "cell_type": "code",
   "execution_count": 35,
   "metadata": {},
   "outputs": [],
   "source": [
    "def read_csv(p_in):\n",
    "    en_text = []\n",
    "    is_text = []\n",
    "    with p_in.open() as f_in:\n",
    "        for index, line in enumerate(f_in):\n",
    "            if '### SKJAL ID' in line:\n",
    "                continue\n",
    "            if line == '\\n':\n",
    "                continue\n",
    "            id, en_sent, is_sent = line.split('\\t')\n",
    "            en_text.append(en_sent+'\\n')\n",
    "            is_text.append(is_sent)\n",
    "    return en_text, is_text"
   ]
  },
  {
   "cell_type": "code",
   "execution_count": 36,
   "metadata": {},
   "outputs": [],
   "source": [
    "ees_en, ees_is = read_csv(parice_formatted_dir.joinpath('prófunarsett').joinpath('ees.csv'))\n",
    "ema_en, ema_is = read_csv(parice_formatted_dir.joinpath('prófunarsett').joinpath('ema.csv'))\n",
    "opensubtitles_en, opensubtitles_is = read_csv(parice_formatted_dir.joinpath('prófunarsett').joinpath('opensubtitles.csv'))\n",
    "parice_test_is = ees_is + ema_is + opensubtitles_is\n",
    "parice_test_en = ees_en + ema_en + opensubtitles_en"
   ]
  },
  {
   "cell_type": "code",
   "execution_count": null,
   "metadata": {},
   "outputs": [],
   "source": [
    "def get_indices(corpus, sentences):\n",
    "    indices = []\n",
    "    for index, line in enumerate(corpus):\n",
    "        if line in sentences:\n",
    "            indices.append(index)\n",
    "    return indices"
   ]
  },
  {
   "cell_type": "code",
   "execution_count": null,
   "metadata": {},
   "outputs": [],
   "source": [
    "indicies_test_en = get_indices(parice_en, frozenset(parice_test_en))\n",
    "indicies_test_is = get_indices(parice_is, frozenset(parice_test_is))\n",
    "print(len(indicies_test_en), len(indicies_test_is))"
   ]
  },
  {
   "cell_type": "markdown",
   "metadata": {},
   "source": [
    "Núna þurfum við að fjarlægja setningar úr ParIce sem eru í prófunargögnunum."
   ]
  },
  {
   "cell_type": "code",
   "execution_count": null,
   "metadata": {},
   "outputs": [],
   "source": [
    "indicies_test_intersection = set(indicies_test_is).intersection(set(indicies_test_en))\n",
    "indicies_test_union = set(indicies_test_is).union(set(indicies_test_en))\n",
    "print(len(indicies_test_intersection))\n",
    "print(len(indicies_test_union))\n",
    "print(len(parice_test_en), len(parice_test_is))"
   ]
  },
  {
   "cell_type": "markdown",
   "metadata": {},
   "source": [
    "Við notum sammengið, til þess að losa okkur við allan efa um að þýðingarvélin hafi séð þessar setningar áður og einnig til þess að vera með sambærilega vinnslu og Miðeind."
   ]
  },
  {
   "cell_type": "code",
   "execution_count": null,
   "metadata": {},
   "outputs": [],
   "source": [
    "def drop_indices(corpus, indices):\n",
    "    filtered_corpus = []\n",
    "    indices = list(indices)\n",
    "    indices.sort()\n",
    "    current_index = 0\n",
    "    for corpus_index, line in enumerate(corpus):\n",
    "        if current_index == len(indices):\n",
    "            filtered_corpus.append(line)\n",
    "        elif indices[current_index] == corpus_index:\n",
    "            current_index += 1\n",
    "        else:\n",
    "            filtered_corpus.append(line)\n",
    "    return filtered_corpus"
   ]
  },
  {
   "cell_type": "code",
   "execution_count": null,
   "metadata": {},
   "outputs": [],
   "source": [
    "drop = indicies_test_union\n",
    "parice_no_test_en = drop_indices(parice_en, drop)\n",
    "parice_no_test_is = drop_indices(parice_is, drop)"
   ]
  },
  {
   "cell_type": "markdown",
   "metadata": {},
   "source": [
    "## 5. Skipta í dev/train\n",
    "Við skiptum restini af gögnunum í tvennt, dev/train. Við veljum 2000 setningapör í dev og fjarlægjum þær úr restinni. Sá afgangur verður train. Það er hugsanlegt að við veljum tvítekningar í dev en við verðum bara að lifa með það."
   ]
  },
  {
   "cell_type": "code",
   "execution_count": null,
   "metadata": {},
   "outputs": [],
   "source": [
    "seed = 10\n",
    "\n",
    "import random\n",
    "random.seed(seed)\n",
    "parice_dev_en = list(random.sample(parice_no_test_en, 2000))\n",
    "indieces_dev_en = get_indices(parice_no_test_en, frozenset(parice_dev_en))\n",
    "random.seed(seed)\n",
    "parice_dev_is = list(random.sample(parice_no_test_is, 2000))\n",
    "indieces_dev_is = get_indices(parice_no_test_is, frozenset(parice_dev_is))"
   ]
  },
  {
   "cell_type": "code",
   "execution_count": null,
   "metadata": {},
   "outputs": [],
   "source": [
    "print(len(indieces_dev_en), len(indieces_dev_is))"
   ]
  },
  {
   "cell_type": "markdown",
   "metadata": {},
   "source": [
    "Hægt er að keyra kóðann (illa skrifaður) fyrir neðan til þess að athuga hvort niðurstöðurnar eru réttar. Þær virðast vera það."
   ]
  },
  {
   "cell_type": "code",
   "execution_count": null,
   "metadata": {},
   "outputs": [],
   "source": [
    "#for line in parice_dev_en:\n",
    "#    print(line)\n",
    "#    for index, p_line in enumerate(parice_no_test_en):\n",
    "#        if p_line == line:\n",
    "#            print(index, p_line)\n",
    "#            if index not in indieces_dev_en:\n",
    "#                raise RuntimeError(\"Error! Not found\")"
   ]
  },
  {
   "cell_type": "code",
   "execution_count": null,
   "metadata": {},
   "outputs": [],
   "source": [
    "indicies_dev_intersection = set(indieces_dev_en).intersection(set(indieces_dev_is))\n",
    "indicies_dev_union = set(indieces_dev_en).union(set(indieces_dev_is))\n",
    "print(len(indicies_dev_intersection))\n",
    "print(len(indicies_dev_union))\n",
    "print(len(parice_dev_en), len(parice_dev_is))"
   ]
  },
  {
   "cell_type": "code",
   "execution_count": null,
   "metadata": {},
   "outputs": [],
   "source": [
    "for i in range(2):\n",
    "    print(parice_dev_en[i], parice_dev_is[i])"
   ]
  },
  {
   "cell_type": "code",
   "execution_count": null,
   "metadata": {},
   "outputs": [],
   "source": [
    "drop = indicies_dev_union\n",
    "parice_train_en = drop_indices(parice_no_test_en, drop)\n",
    "parice_train_is = drop_indices(parice_no_test_is, drop)"
   ]
  },
  {
   "cell_type": "markdown",
   "metadata": {},
   "source": [
    "Athugum hvort línufjöldinn gangi ekki upp."
   ]
  },
  {
   "cell_type": "code",
   "execution_count": null,
   "metadata": {},
   "outputs": [],
   "source": [
    "print(len(parice_train_en), len(parice_train_is))\n",
    "print(len(parice_en) - (len(parice_train_en) + len(indicies_dev_union) + len(indicies_test_union)))"
   ]
  },
  {
   "cell_type": "markdown",
   "metadata": {},
   "source": [
    "## 6. Skrifa gögn og hreinsa til\n",
    "Núna skrifum við gögnin niður í skrár og fjarlægjum tímabundnar skrár."
   ]
  },
  {
   "cell_type": "code",
   "execution_count": null,
   "metadata": {},
   "outputs": [],
   "source": [
    "!ls {target_dir}"
   ]
  },
  {
   "cell_type": "code",
   "execution_count": null,
   "metadata": {},
   "outputs": [],
   "source": [
    "def write_to_file(corpus, path):\n",
    "    with path.open('w+') as f_in:\n",
    "        for line in corpus:\n",
    "            f_in.write(line)\n",
    "    !wc -l {path}"
   ]
  },
  {
   "cell_type": "code",
   "execution_count": null,
   "metadata": {},
   "outputs": [],
   "source": [
    "write_to_file(parice_train_en, parice_formatted_dir.joinpath('train.en'))\n",
    "write_to_file(parice_train_is, parice_formatted_dir.joinpath('train.is'))\n",
    "write_to_file(parice_dev_en, parice_formatted_dir.joinpath('dev.en'))\n",
    "write_to_file(parice_dev_is, parice_formatted_dir.joinpath('dev.is'))\n",
    "write_to_file(ees_en, parice_formatted_dir.joinpath('test-ees.en'))\n",
    "write_to_file(ees_is, parice_formatted_dir.joinpath('test-ees.is'))\n",
    "write_to_file(ema_en, parice_formatted_dir.joinpath('test-ema.en'))\n",
    "write_to_file(ema_is, parice_formatted_dir.joinpath('test-ema.is'))\n",
    "write_to_file(opensubtitles_en, parice_formatted_dir.joinpath('test-opensubtitles.en'))\n",
    "write_to_file(opensubtitles_is, parice_formatted_dir.joinpath('test-opensubtitles.is'))"
   ]
  },
  {
   "cell_type": "code",
   "execution_count": null,
   "metadata": {},
   "outputs": [],
   "source": [
    "!rm -rf {parice_formatted_dir}/prófunarsett"
   ]
  },
  {
   "cell_type": "code",
   "execution_count": null,
   "metadata": {},
   "outputs": [],
   "source": [
    "!ls {target_dir}"
   ]
  },
  {
   "cell_type": "code",
   "execution_count": null,
   "metadata": {},
   "outputs": [],
   "source": []
  }
 ],
 "metadata": {
  "kernelspec": {
   "display_name": "Python [conda env:.conda-notebook]",
   "language": "python",
   "name": "conda-env-.conda-notebook-py"
  },
  "language_info": {
   "codemirror_mode": {
    "name": "ipython",
    "version": 3
   },
   "file_extension": ".py",
   "mimetype": "text/x-python",
   "name": "python",
   "nbconvert_exporter": "python",
   "pygments_lexer": "ipython3",
   "version": "3.7.5"
  }
 },
 "nbformat": 4,
 "nbformat_minor": 2
}
