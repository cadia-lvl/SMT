{
 "cells": [
  {
   "cell_type": "markdown",
   "metadata": {},
   "source": [
    "# Samhliðamálheild fyrir ensku og íslensku - ParIce\n",
    "Hér er unnið með ParIce málheildina. Ýmsar villur í samhliða málheildinni eru lagaðar og hún er síuð.\n",
    "\n",
    "Gert er ráð fyrir að eftirfarandi gögn séu til staðar\n",
    "- ParIce staðlað, `source_dir/(train|dev|test).(en|is)`.\n",
    "\n",
    "Eftir að hafa keyrt reikniritið verður til `target_dir/(train|dev|test).(en|is)` þar sem öll skrefin hafa verið útfærð."
   ]
  },
  {
   "cell_type": "code",
   "execution_count": 2,
   "metadata": {},
   "outputs": [],
   "source": [
    "# The location of Parice to read\n",
    "source_dir = '/work/haukurpj/data/formatted/Parice1.0'\n",
    "\n",
    "# The location of where to write the results\n",
    "target_dir = '/work/haukurpj/data/filtered/Parice1.0'\n",
    "\n",
    "from glob import glob\n",
    "from pprint import pprint"
   ]
  },
  {
   "cell_type": "code",
   "execution_count": 4,
   "metadata": {},
   "outputs": [],
   "source": [
    "import pathlib\n",
    "\n",
    "source_dir = pathlib.Path(source_dir)\n",
    "target_dir = pathlib.Path(target_dir)\n",
    "assert source_dir.exists()\n",
    "if not target_dir.exists():\n",
    "    target_dir.mkdir()"
   ]
  },
  {
   "cell_type": "code",
   "execution_count": 40,
   "metadata": {},
   "outputs": [],
   "source": [
    "def read_file(path):\n",
    "    corpus = []\n",
    "    with path.open() as f_in:\n",
    "        return [line for line in f_in]\n",
    "train_is = read_file(source_dir.joinpath('train.is'))\n",
    "train_en = read_file(source_dir.joinpath('train.en'))\n",
    "dev_is = read_file(source_dir.joinpath('dev.is'))\n",
    "dev_en = read_file(source_dir.joinpath('dev.en'))\n",
    "test_is = read_file(source_dir.joinpath('test.is'))\n",
    "test_en = read_file(source_dir.joinpath('test.en'))"
   ]
  },
  {
   "cell_type": "code",
   "execution_count": 9,
   "metadata": {},
   "outputs": [
    {
     "name": "stdout",
     "output_type": "stream",
     "text": [
      "3230276 3230276\n"
     ]
    }
   ],
   "source": [
    "print(len(train_is), len(train_en))"
   ]
  },
  {
   "cell_type": "markdown",
   "metadata": {},
   "source": [
    "## Laga setningabrot\n",
    "Á nokkrum stöðum í ParIce textanum vantar bil á eftir punkti og tilreiðirinn nær ekki að brjóta þær setningar. Samsvarandi setningar í ensku eiga líka við þetta vandamál, en í minna mælli. Við reynum að vera íhaldsöm og setjum bara bil á milli þegar hástafur kemur eftir punkt á undan tveimur stöfum.\n",
    "\n",
    "Dæmi:"
   ]
  },
  {
   "cell_type": "code",
   "execution_count": 26,
   "metadata": {},
   "outputs": [
    {
     "name": "stdout",
     "output_type": "stream",
     "text": [
      "3b.GERÐARVIÐURKENNING JAFNHRAÐAHREYFLA Í III. ÁFANGA A (HREYFILFLOKKAR: H, I, J og K)\n",
      "\n",
      "3c.GERÐARVIÐURKENNING HREYFLA Í III. ÁFANGA B (HREYFILFLOKKAR: L, M, N og P)\n",
      "\n",
      "3d.GERÐARVIÐURKENNING HREYFLA Í IV. ÁFANGA (HREYFILFLOKKAR:\n",
      "\n",
      "3e.GERÐARVIÐURKENNING KNÚNINGSVÉLA Í III. ÁFANGA A, SEM NOTAÐAR ERU Í SKIP Í SIGLINGUM Á SKIPGENGUM VATNALEIÐUM (HREYFILFLOKKUR V)\n",
      "\n",
      "3f.GERÐARVIÐURKENNING KNÚNINGSVÉLA Í III. ÁFANGA A, SEM NOTAÐAR ERU Í SPORREIÐAR\n",
      "\n",
      "3g.GERÐARVIÐURKENNING KNÚNINGSVÉLA Í III. ÁFANGA B, SEM NOTAÐAR ERU Í SPORREIÐAR\n",
      "\n",
      "3h.GERÐARVIÐURKENNING KNÚNINGSVÉLA Í III. ÁFANGA A, SEM NOTAÐAR ERU Í EIMREIÐAR\n",
      "\n",
      "3i.GERÐARVIÐURKENNING KNÚNINGSVÉLA Í III. ÁFANGA B, SEM NOTAÐAR ERU Í EIMREIÐAR\n",
      "\n",
      "II.KAFLI\n",
      "\n",
      "10.Ákvæði 1. -- 9. mgr. gilda með fyrirvara um ákvæði sem bandalagið samþykkir um vörumerkingu.\n",
      "\n"
     ]
    }
   ],
   "source": [
    "import re\n",
    "\n",
    "def print_indices(corpus, indices):\n",
    "    indices_list = list(indices)\n",
    "    indices_list.sort()\n",
    "    \n",
    "    len_indices = len(indices_list)\n",
    "    found = 0\n",
    "    for index, line in enumerate(corpus):\n",
    "        if found == len_indices:\n",
    "            return\n",
    "        if index == indices_list[found]:\n",
    "            print(line)\n",
    "            found += 1\n",
    "    \n",
    "\n",
    "def find_indices_match(corpus, pattern, max_count=10):\n",
    "    count = 0\n",
    "    found = []\n",
    "    for index, line in enumerate(corpus):\n",
    "        match = re.match(pattern, line)\n",
    "        if match:\n",
    "            if max_count > count:\n",
    "                count += 1\n",
    "                found.append(index)\n",
    "            else:\n",
    "                break\n",
    "    return found\n",
    "\n",
    "sent_break_indices = find_indices_match(train_is, re.compile(r'([\\w\\(\\)\\[\\]\\.]{2,})\\.([A-ZÁÐÉÍÓÚÝÞÆÖ])'), max_count=10)\n",
    "print_indices(train_is, sent_break_indices)"
   ]
  },
  {
   "cell_type": "code",
   "execution_count": 13,
   "metadata": {},
   "outputs": [],
   "source": [
    "from concurrent.futures import ProcessPoolExecutor\n",
    "from functools import partial\n",
    "from tqdm import tqdm\n",
    "from frontend import core as c\n",
    "\n",
    "regexps = [{\n",
    "    'pattern': re.compile(r'([\\w\\(\\)\\[\\]\\.]{2,})\\.([A-ZÁÐÉÍÓÚÝÞÆÖ])'),\n",
    "    'repl': r'\\1. \\2'\n",
    "}]\n",
    "\n",
    "def apply_regexp_parallel(regexps, corpus, threads):\n",
    "    with ProcessPoolExecutor(max_workers=threads) as executor:\n",
    "        results = tqdm(executor.map(\n",
    "            partial(c.regexp, regexps=regexp),\n",
    "            corpus,\n",
    "            chunksize=2000),\n",
    "            total=len(corpus))\n",
    "        return [result for result in results]"
   ]
  },
  {
   "cell_type": "code",
   "execution_count": 14,
   "metadata": {},
   "outputs": [
    {
     "name": "stderr",
     "output_type": "stream",
     "text": [
      "100%|██████████| 3230276/3230276 [00:10<00:00, 313786.34it/s]\n",
      "100%|██████████| 3230276/3230276 [00:09<00:00, 349289.84it/s]\n"
     ]
    }
   ],
   "source": [
    "train_sent_fix_is = apply_regexp_parallel(regexps, train_is, 6)\n",
    "train_sent_fix_en = apply_regexp_parallel(regexps, train_en, 6)"
   ]
  },
  {
   "cell_type": "code",
   "execution_count": 27,
   "metadata": {},
   "outputs": [
    {
     "name": "stdout",
     "output_type": "stream",
     "text": [
      "3b. GERÐARVIÐURKENNING JAFNHRAÐAHREYFLA Í III. ÁFANGA A (HREYFILFLOKKAR: H, I, J og K)\n",
      "\n",
      "3c. GERÐARVIÐURKENNING HREYFLA Í III. ÁFANGA B (HREYFILFLOKKAR: L, M, N og P)\n",
      "\n",
      "3d. GERÐARVIÐURKENNING HREYFLA Í IV. ÁFANGA (HREYFILFLOKKAR:\n",
      "\n",
      "3e. GERÐARVIÐURKENNING KNÚNINGSVÉLA Í III. ÁFANGA A, SEM NOTAÐAR ERU Í SKIP Í SIGLINGUM Á SKIPGENGUM VATNALEIÐUM (HREYFILFLOKKUR V)\n",
      "\n",
      "3f. GERÐARVIÐURKENNING KNÚNINGSVÉLA Í III. ÁFANGA A, SEM NOTAÐAR ERU Í SPORREIÐAR\n",
      "\n",
      "3g. GERÐARVIÐURKENNING KNÚNINGSVÉLA Í III. ÁFANGA B, SEM NOTAÐAR ERU Í SPORREIÐAR\n",
      "\n",
      "3h. GERÐARVIÐURKENNING KNÚNINGSVÉLA Í III. ÁFANGA A, SEM NOTAÐAR ERU Í EIMREIÐAR\n",
      "\n",
      "3i. GERÐARVIÐURKENNING KNÚNINGSVÉLA Í III. ÁFANGA B, SEM NOTAÐAR ERU Í EIMREIÐAR\n",
      "\n",
      "II. KAFLI\n",
      "\n",
      "10. Ákvæði 1. -- 9. mgr. gilda með fyrirvara um ákvæði sem bandalagið samþykkir um vörumerkingu.\n",
      "\n"
     ]
    }
   ],
   "source": [
    "print_indices(train_sent_fix_is, sent_break_indices)"
   ]
  },
  {
   "cell_type": "markdown",
   "metadata": {},
   "source": [
    "## Laga greina vísanir og styttingar\n",
    "Á þó nokkrum stöðunum í textanum vantar bil og punkt eftir númerum sem og styttingar á orðum klikka. Skoðum nokkur slík dæmi og reynum að laga þau. Sama vandamál er ekki í enska textanum."
   ]
  },
  {
   "cell_type": "code",
   "execution_count": 34,
   "metadata": {},
   "outputs": [
    {
     "name": "stdout",
     "output_type": "stream",
     "text": [
      "1mgr56grkomi tilvísun í „9., 10og 10gra“ í stað tilvísunar í „9og 10gr.“\n",
      "\n",
      "2gr.,\n",
      "\n",
      "2gr.\n",
      "\n",
      "1grer breytt sem hér segir:\n",
      "\n",
      "3mgr2grfalli niður;\n",
      "\n",
      "6mgr6grfalli niður að því er varðar árið 1999.\n",
      "\n",
      "1til 3mgr16gr.\n",
      "\n",
      "4og 5grfalli brott3gr.\n",
      "\n",
      "in Article 56(1) the reference to ‘Articles 9, 10 shall be replaced by a reference to ‘Articles 9, 10, 10a;\n",
      "\n",
      "Article 2;\n",
      "\n",
      "Article 2:\n",
      "\n",
      "Article 1 shall be amended as follows:\n",
      "\n",
      "Article 2(3) shall be deleted;\n",
      "\n",
      "for 1999, paragraph 6 of Article 6 shall be deleted.\n",
      "\n",
      "(1) third subparagraph\n",
      "\n",
      "Articles 4 and 5 shall be deleted.\n",
      "\n"
     ]
    }
   ],
   "source": [
    "ref_indices = find_indices_match(train_sent_fix_is, re.compile(r\"(\\d+(.\\d+)?)(mgr|gr|skv|og|eða|til|með|janúar|febrúar|mars|apríl|maí|júní|júlí|ágúst|september|október|nóvember|desember)\"), max_count=10)\n",
    "print_indices(train_sent_fix_is, ref_indices)\n",
    "print_indices(train_sent_fix_en, ref_indices)"
   ]
  },
  {
   "cell_type": "code",
   "execution_count": 37,
   "metadata": {},
   "outputs": [
    {
     "name": "stderr",
     "output_type": "stream",
     "text": [
      "100%|██████████| 3230276/3230276 [00:09<00:00, 331873.19it/s]\n"
     ]
    }
   ],
   "source": [
    "regexps = [\n",
    "    {\n",
    "        'pattern': re.compile(r\"(\\d+(.\\d+)?)(mgr|gr|skv|og|eða|til|með|janúar|febrúar|mars|apríl|maí|júní|júlí|ágúst|september|október|nóvember|desember)\"),\n",
    "        'repl': r\"\\1. \\3\"\n",
    "    },\n",
    "    {\n",
    "        'pattern': re.compile(r\"(mgr|gr|skv)(?=[^\\.])\"),\n",
    "        'repl': r\"\\1. \"\n",
    "    }\n",
    "]\n",
    "train_ref_fix_is = apply_regexp_parallel(regexps, train_sent_fix_is, 6)\n",
    "train_ref_fix_en = train_sent_fix_en"
   ]
  },
  {
   "cell_type": "code",
   "execution_count": 38,
   "metadata": {},
   "outputs": [
    {
     "name": "stdout",
     "output_type": "stream",
     "text": [
      "1. mgr. 56. gr. komi tilvísun í „9., 10. og 10. gr. a“ í stað tilvísunar í „9. og 10. gr.“\n",
      "\n",
      "2. gr.,\n",
      "\n",
      "2. gr.\n",
      "\n",
      "1. gr. er breytt sem hér segir:\n",
      "\n",
      "3. mgr. 2. gr. falli niður;\n",
      "\n",
      "6. mgr. 6. gr. falli niður að því er varðar árið 1999.\n",
      "\n",
      "1. til 3. mgr. 16. gr.\n",
      "\n",
      "4. og 5. gr. falli brott3. gr.\n",
      "\n"
     ]
    }
   ],
   "source": [
    "print_indices(train_ref_fix_is, ref_indices)"
   ]
  },
  {
   "cell_type": "markdown",
   "metadata": {},
   "source": [
    "## Skrifa niðurstöður\n",
    "Núna skrifum við lokaniðurstöðurnar í skrá."
   ]
  },
  {
   "cell_type": "code",
   "execution_count": 39,
   "metadata": {},
   "outputs": [],
   "source": [
    "def write_to_file(corpus, path):\n",
    "    with path.open('w+') as f_in:\n",
    "        for line in corpus:\n",
    "            f_in.write(line)\n",
    "    !wc -l {path}"
   ]
  },
  {
   "cell_type": "code",
   "execution_count": 41,
   "metadata": {},
   "outputs": [
    {
     "name": "stdout",
     "output_type": "stream",
     "text": [
      "3230276 /work/haukurpj/data/filtered/Parice1.0/train.en\n",
      "3230276 /work/haukurpj/data/filtered/Parice1.0/train.is\n",
      "2000 /work/haukurpj/data/filtered/Parice1.0/dev.en\n",
      "2000 /work/haukurpj/data/filtered/Parice1.0/dev.is\n",
      "7645 /work/haukurpj/data/filtered/Parice1.0/test.en\n",
      "7645 /work/haukurpj/data/filtered/Parice1.0/test.is\n"
     ]
    }
   ],
   "source": [
    "write_to_file(train_ref_fix_en, target_dir.joinpath('train.en'))\n",
    "write_to_file(train_ref_fix_is, target_dir.joinpath('train.is'))\n",
    "write_to_file(dev_en, target_dir.joinpath('dev.en'))\n",
    "write_to_file(dev_is, target_dir.joinpath('dev.is'))\n",
    "write_to_file(test_en, target_dir.joinpath('test.en'))\n",
    "write_to_file(test_is, target_dir.joinpath('test.is'))"
   ]
  },
  {
   "cell_type": "code",
   "execution_count": null,
   "metadata": {},
   "outputs": [],
   "source": []
  }
 ],
 "metadata": {
  "kernelspec": {
   "display_name": "Python [conda env:.conda-notebook]",
   "language": "python",
   "name": "conda-env-.conda-notebook-py"
  },
  "language_info": {
   "codemirror_mode": {
    "name": "ipython",
    "version": 3
   },
   "file_extension": ".py",
   "mimetype": "text/x-python",
   "name": "python",
   "nbconvert_exporter": "python",
   "pygments_lexer": "ipython3",
   "version": "3.7.5"
  }
 },
 "nbformat": 4,
 "nbformat_minor": 2
}
