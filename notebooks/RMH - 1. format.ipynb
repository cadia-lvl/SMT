{
 "cells": [
  {
   "cell_type": "markdown",
   "metadata": {},
   "source": [
    "# Einhliða málheild fyrir íslensku - RMH\n",
    "Hér er unnið með RMH. Gangasafnið lesið og sett í staðlað form. Fyrir RMH lesum við öll tei-XML skjölin úr RMH1 og RMH2 og sameinum í eitt skjal.\n",
    "\n",
    "Gert er ráð fyrir að eftirfarandi gögn séu til staðar\n",
    "- RMH eins og hún er sótt af málföng\n",
    "\n",
    "Eftir að hafa keyrt reikniritið verður `target_dir` eftirfarandi\n",
    "- `target_dir/rmh.is`, ein skrá þar sem er búið að sameina RMH í eitt stórt skjal."
   ]
  },
  {
   "cell_type": "code",
   "execution_count": 1,
   "metadata": {},
   "outputs": [],
   "source": [
    "# The location of RMH to read\n",
    "rmh_dir = '/work/haukurpj/data/raw/risamalheild'\n",
    "\n",
    "# The location of where to write the results\n",
    "target_dir = '/work/haukurpj/data/formatted/risamalheild'\n",
    "\n",
    "from glob import glob\n",
    "from pprint import pprint"
   ]
  },
  {
   "cell_type": "code",
   "execution_count": 2,
   "metadata": {},
   "outputs": [],
   "source": [
    "import pathlib\n",
    "\n",
    "rmh_dir = pathlib.Path(rmh_dir)\n",
    "target_dir = pathlib.Path(target_dir)\n",
    "assert rmh_dir.exists()\n",
    "if not target_dir.exists():\n",
    "    target_dir.mkdir()"
   ]
  },
  {
   "cell_type": "code",
   "execution_count": 3,
   "metadata": {},
   "outputs": [
    {
     "name": "stdout",
     "output_type": "stream",
     "text": [
      "4152480\n"
     ]
    }
   ],
   "source": [
    "xml_files = glob(f'{rmh_dir}/**/*.xml', recursive=True)\n",
    "print(len(xml_files))"
   ]
  },
  {
   "cell_type": "code",
   "execution_count": 4,
   "metadata": {},
   "outputs": [],
   "source": [
    "tei_files = []\n",
    "for xml_file in xml_files:\n",
    "    if 'rmh2Hdr.xml' in xml_file:\n",
    "        continue\n",
    "    elif 'rmh1Hdr.xml' in xml_file:\n",
    "        continue\n",
    "    else:\n",
    "        tei_files.append(xml_file)"
   ]
  },
  {
   "cell_type": "code",
   "execution_count": 7,
   "metadata": {},
   "outputs": [],
   "source": [
    "from concurrent.futures import ProcessPoolExecutor\n",
    "from tqdm import tqdm\n",
    "from pathlib import Path\n",
    "from typing import Sequence\n",
    "from xml.etree import ElementTree as ET\n",
    "\n",
    "def tei_read_file(path: Path) -> Sequence[str]:\n",
    "    \"\"\"Reads a tei file to extract the contents. Hand-tailored to reading the RMH.\n",
    "\n",
    "    Adjusted code from xml_tools.py from Róbert Kjaran <robert@kjaran.com>\n",
    "\n",
    "    :param path: A pathlib.Path to the .tei file to read.\\n\n",
    "    :return: A List of sentences as defined in the .tei file.\n",
    "    \"\"\"\n",
    "    NS = {'a': 'http://www.tei-c.org/ns/1.0'}\n",
    "    root = ET.parse(str(path)).getroot()\n",
    "    sentences = []\n",
    "    # We gather all the paragraphs from the body, avoiding the divs\n",
    "    for paragraph_node in root.findall('.//a:body//a:p', NS):\n",
    "        for sentence_node in paragraph_node.findall('.//a:s', NS):\n",
    "            tokens = [(token_node.text, token_node.attrib['type'])\n",
    "                      for token_node in sentence_node.findall('./*')]\n",
    "            sentence: List[str] = []\n",
    "            for i, token in enumerate(tokens):\n",
    "                if token[0] is None:\n",
    "                    continue\n",
    "                sentence.append(token[0] + ' ')\n",
    "            sentences.append(''.join(sentence).strip() + '\\n')\n",
    "    return sentences\n",
    "\n",
    "\n",
    "def tei_read(paths: Sequence[Path], out_path: Path) -> bool:\n",
    "    \"\"\"Reads a sequence of Path of TEI files from RMH and writes to a single file.\n",
    "    Uses multiple threads.\n",
    "\n",
    "    :param paths: A Sequence of pathlib.Path of .tei files to read.\\n\n",
    "    :param out_path: pathlib.Path to write the contents to.\\n\n",
    "    :return: True if successful.\n",
    "    \"\"\"\n",
    "    with out_path.open('w+') as f_out:\n",
    "        with ProcessPoolExecutor(max_workers=14) as executor:\n",
    "            results = tqdm(executor.map(\n",
    "                tei_read_file,\n",
    "                paths,\n",
    "                chunksize=200),\n",
    "                total=len(paths))\n",
    "            for result in results:\n",
    "                f_out.write(''.join(result))\n",
    "    return True"
   ]
  },
  {
   "cell_type": "code",
   "execution_count": 8,
   "metadata": {},
   "outputs": [
    {
     "name": "stderr",
     "output_type": "stream",
     "text": [
      "100%|██████████| 4152480/4152480 [10:27<00:00, 6613.68it/s] \n"
     ]
    },
    {
     "data": {
      "text/plain": [
       "True"
      ]
     },
     "execution_count": 8,
     "metadata": {},
     "output_type": "execute_result"
    }
   ],
   "source": [
    "rmh_txt = Path(target_dir).joinpath('rmh.is')\n",
    "tei_read([Path(xml_file) for xml_file in xml_files], rmh_txt)"
   ]
  },
  {
   "cell_type": "code",
   "execution_count": 10,
   "metadata": {},
   "outputs": [
    {
     "name": "stdout",
     "output_type": "stream",
     "text": [
      "-rw-r--r-- 1 haukurpj local-staff 8764458500 Jan 20 16:24 /work/haukurpj/data/formatted/risamalheild/rmh.is\r\n"
     ]
    }
   ],
   "source": [
    "!ls -l {target_dir}/rmh.is"
   ]
  },
  {
   "cell_type": "code",
   "execution_count": null,
   "metadata": {},
   "outputs": [],
   "source": []
  }
 ],
 "metadata": {
  "kernelspec": {
   "display_name": "Python [conda env:.conda-notebook]",
   "language": "python",
   "name": "conda-env-.conda-notebook-py"
  },
  "language_info": {
   "codemirror_mode": {
    "name": "ipython",
    "version": 3
   },
   "file_extension": ".py",
   "mimetype": "text/x-python",
   "name": "python",
   "nbconvert_exporter": "python",
   "pygments_lexer": "ipython3",
   "version": "3.7.5"
  }
 },
 "nbformat": 4,
 "nbformat_minor": 2
}
