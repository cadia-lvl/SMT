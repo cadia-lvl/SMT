{
 "cells": [
  {
   "cell_type": "markdown",
   "metadata": {},
   "source": [
    "# Einhliða málheild fyrir íslensku - RMH\n",
    "Hér er unnið með RMH. Ýmsar villur í málheildinni eru lagaðar og hún er síuð.\n",
    "\n",
    "Gert er ráð fyrir að eftirfarandi gögn séu til staðar\n",
    "- RMH staðlað, `source_dir/rmh.is`.\n",
    "\n",
    "Eftir að hafa keyrt reikniritið verður til `target_dir/rmh.is` þar sem öll skrefin hafa verið útfærð."
   ]
  },
  {
   "cell_type": "code",
   "execution_count": 2,
   "metadata": {},
   "outputs": [],
   "source": [
    "# The location of RMH to read\n",
    "source_dir = '/work/haukurpj/data/formatted/risamalheild'\n",
    "\n",
    "# The location of where to write the results\n",
    "target_dir = '/work/haukurpj/data/filtered/risamalheild'\n",
    "\n",
    "from glob import glob\n",
    "from pprint import pprint"
   ]
  },
  {
   "cell_type": "code",
   "execution_count": 3,
   "metadata": {},
   "outputs": [],
   "source": [
    "import pathlib\n",
    "\n",
    "source_dir = pathlib.Path(source_dir)\n",
    "target_dir = pathlib.Path(target_dir)\n",
    "assert source_dir.exists()\n",
    "if not target_dir.exists():\n",
    "    target_dir.mkdir()"
   ]
  },
  {
   "cell_type": "markdown",
   "metadata": {},
   "source": [
    "## Laga setningabrot\n",
    "Þar sem RMH brýtur upp setningar eftir IceNLP tilreiðaranum þá er ekki athugað hvort eftir punkti komi stór stafur. Við reynum að lagfæra þetta. Við sameinum línur sem enda á \".\" og fyrsti stafurinn í næstu línu er lágstafur. Þetta nær ekki yfir öll tilfelli - eins og sést í dæminu (\"Sjálfstfl.\" ætti ekki að byrja á nýrri línu).\n",
    "\n",
    "Þar sem útfærslan á `corpus_regepx` keyrir á hverri línu fyrir sig og við þurfum að eiga við nýjar línur þá þurfum við gera þetta skref sjálf og það er ómögulegt að keyra þessa vinnslu á mörgum þráðum án **mikillar** vinnu."
   ]
  },
  {
   "cell_type": "code",
   "execution_count": 8,
   "metadata": {},
   "outputs": [
    {
     "name": "stdout",
     "output_type": "stream",
     "text": [
      "71254693 /work/haukurpj/data/formatted/risamalheild/rmh.is\r\n"
     ]
    }
   ],
   "source": [
    "!wc -l {source_dir.joinpath('rmh.is')}"
   ]
  },
  {
   "cell_type": "code",
   "execution_count": 5,
   "metadata": {},
   "outputs": [],
   "source": [
    "import re\n",
    "rmh = []\n",
    "# The expression could be extended to cover all unicode lowercase characters using the \"regex\" module and [\\p{Ll}]\n",
    "with source_dir.joinpath('rmh.is').open() as f_in:\n",
    "    rmh_fix = re.sub(re.compile(r'([\\w]+)\\.\\n([a-záðéíóúýþæö])'), r'\\1. \\2', f_in.read())\n",
    "    rmh_list = rmh_fix.split('\\n')\n",
    "    for line in rmh_list:\n",
    "        rmh.append(line + '\\n')"
   ]
  },
  {
   "cell_type": "code",
   "execution_count": 7,
   "metadata": {},
   "outputs": [
    {
     "name": "stdout",
     "output_type": "stream",
     "text": [
      "71137920\n"
     ]
    }
   ],
   "source": [
    "print(len(rmh))"
   ]
  },
  {
   "cell_type": "code",
   "execution_count": 9,
   "metadata": {},
   "outputs": [],
   "source": [
    "def write_to_file(corpus, path):\n",
    "    with path.open('w+') as f_in:\n",
    "        for line in corpus:\n",
    "            f_in.write(line)\n",
    "    !wc -l {path}"
   ]
  },
  {
   "cell_type": "code",
   "execution_count": 11,
   "metadata": {},
   "outputs": [
    {
     "name": "stdout",
     "output_type": "stream",
     "text": [
      "71137920 /work/haukurpj/data/filtered/risamalheild/rmh.is\r\n"
     ]
    }
   ],
   "source": [
    "write_to_file(rmh, target_dir.joinpath('rmh.is'))"
   ]
  },
  {
   "cell_type": "code",
   "execution_count": null,
   "metadata": {},
   "outputs": [],
   "source": []
  }
 ],
 "metadata": {
  "kernelspec": {
   "display_name": "Python [conda env:.conda-notebook]",
   "language": "python",
   "name": "conda-env-.conda-notebook-py"
  },
  "language_info": {
   "codemirror_mode": {
    "name": "ipython",
    "version": 3
   },
   "file_extension": ".py",
   "mimetype": "text/x-python",
   "name": "python",
   "nbconvert_exporter": "python",
   "pygments_lexer": "ipython3",
   "version": "3.7.5"
  }
 },
 "nbformat": 4,
 "nbformat_minor": 2
}
