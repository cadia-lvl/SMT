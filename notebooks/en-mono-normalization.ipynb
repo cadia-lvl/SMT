{
 "cells": [
  {
   "cell_type": "markdown",
   "metadata": {},
   "source": [
    "# EN einhliðamálheild\n",
    "Í þessu reikniriti eru enskar einhliðamálheildir lesnar og forunnar svo ein setning sé í hverri línu. Málheildirnar eru eftirfrandi.\n",
    "\n",
    "| Nafn | #línur| stærð | ath |\n",
    "| --- | --- | --- | --- |\n",
    "| newscrawl 2018 en | 18,1M | 2 GB | - |\n",
    "| UN corpus EN | 27,4M | 3,4GB | - |\n",
    "| Europarl v9 | 2,3M | 321 MB | - |\n",
    "| Librispeech 27 | 48,2M | 4,3GB | - | - |\n",
    "| Wikipedia Google en | 25,8M | 3,0GB | - |\n",
    "| --- | --- | --- | --- |\n",
    "| Heild | 121,9M | 13,1GB | - |"
   ]
  },
  {
   "cell_type": "code",
   "execution_count": 1,
   "metadata": {},
   "outputs": [
    {
     "name": "stderr",
     "output_type": "stream",
     "text": [
      "[nltk_data] Downloading package punkt to\n",
      "[nltk_data]     /home/staff/haukurpj/nltk_data...\n",
      "[nltk_data]   Package punkt is already up-to-date!\n",
      "2019-12-13 14:07:16,649 - frontend - INFO - Initialized\n"
     ]
    }
   ],
   "source": [
    "import os\n",
    "import pathlib\n",
    "from pathlib import Path\n",
    "import re\n",
    "from pprint import pprint\n",
    "\n",
    "import frontend.core as c\n",
    "import frontend.bulk as b\n",
    "\n",
    "%matplotlib notebook\n",
    "c.THREADS = 10\n",
    "c.MEMORY = 17179869184 # 16GB\n",
    "\n",
    "working_dir = pathlib.Path('/work/haukurpj')\n",
    "data_dir = working_dir.joinpath('data')\n",
    "processing_dir = working_dir.joinpath('process')\n",
    "p = processing_dir\n",
    "en_mono = data_dir.joinpath('en-monolingual')\n",
    "\n",
    "IS = c.Lang.IS\n",
    "EN = c.Lang.EN\n",
    "\n",
    "NEWS, UN, EUROPARL, LIBRI, WIKI = 'news', 'un', 'europarl', 'libri', 'wiki'\n",
    "\n",
    "langs = [IS, EN]"
   ]
  },
  {
   "cell_type": "markdown",
   "metadata": {},
   "source": [
    "## Europarl EN\n",
    "Þessi gögn líta vel út og ekkert þarf að gera."
   ]
  },
  {
   "cell_type": "code",
   "execution_count": 10,
   "metadata": {},
   "outputs": [
    {
     "name": "stdout",
     "output_type": "stream",
     "text": [
      "/work/haukurpj/data/en-monolingual/europarl-v9.en   321.2MiB       2295044\n",
      "Resumption of the session\n",
      " I declare resumed the session of the European Parliament adjourned on Friday, 15 December 2000.\n",
      " Statements by the President\n",
      " Ladies and gentlemen, on Saturday, as you know, an earthquake struck Central America once again, with tragic consequences.\n",
      " This is an area which has already been seriously affected on a number of occasions since the beginning of the twentieth century.\n",
      " The latest, provisional, figures for victims in El Salvador are already very high.\n",
      " There are 350 people dead, 1 200 people missing, the area is completely devastated and thousands of homes have been destroyed throughout the country.\n",
      " The European Union has already shown its solidarity by sending a rescue team to the area, whilst financial assistance from the Union and Member States has been, or is in the process of being, released and I am able to inform you that some groups in the European Parliament have requested that this issue be included in the debate on topical and urgent subjects of major importance on Thursday.\n",
      " However, I should like to inform you that I have, of course, on behalf of the European Union, expressed our sincere condolences and deepest sympathy to the President of El Salvador in the tragedy which has struck his country.\n",
      " I would ask you, as a mark of respect for the victims and for the immense suffering of their families, to observe a minute' s silence.\n",
      "\n"
     ]
    }
   ],
   "source": [
    "euro_parl = en_mono.joinpath('europarl-v9.en')\n",
    "print(b.info_formatted(euro_parl))\n",
    "print(*b.peek(euro_parl))"
   ]
  },
  {
   "cell_type": "code",
   "execution_count": 12,
   "metadata": {},
   "outputs": [],
   "source": [
    "!cp {euro_parl} {b.write(p, EN, EUROPARL)}"
   ]
  },
  {
   "cell_type": "markdown",
   "metadata": {},
   "source": [
    "## News crawl 2018\n",
    "Lítur vel út - ekkert sem þarf að gera."
   ]
  },
  {
   "cell_type": "code",
   "execution_count": 13,
   "metadata": {},
   "outputs": [
    {
     "name": "stdout",
     "output_type": "stream",
     "text": [
      "/work/haukurpj/data/en-monolingual/news.2018.en.shuffled.deduped    2.0GiB       18113311\n",
      "He owns the Orphaned Wildlife Center with his wife, Susan.\n",
      " Qatar also made a loose commitment not to launch flights to the United States from Europe or other non-Qatari cities that would create yet more competition for U.S. carriers.\n",
      " The fact there's a banker pig as well is kind of amusing.\n",
      " Berlinger was the \"gold standard\" and \"a huge hole that we have to fill.\"\n",
      " \"From tonight on, I'm sorry for them, but they are going to be different,\" coach Didier Deschamps said.\n",
      " :: The top 10 beaches in the UK according to TripAdvisor are:\n",
      " Morgan, who has a lengthy criminal history including drugs offences, had not been investigated for suspected terrorism before.\n",
      " But despite the major disruption caused and resulting financial bill, Judge Philip Statman said Khonde had already been sufficiently punished by being on remand since his arrest and serving the equivalent of 14 months' custody.\n",
      " Just type Bono and hypocrite into Twitter and see the stream of bile emerge.\n",
      " The study serves as a reminder, she says, that if someone in your life recently lost a job, ended a relationship, or is having some other life crisis, it's important to reach out.\n",
      "\n"
     ]
    }
   ],
   "source": [
    "news = en_mono.joinpath('news.2018.en.shuffled.deduped')\n",
    "print(b.info_formatted(news))\n",
    "print(*b.peek(news))"
   ]
  },
  {
   "cell_type": "code",
   "execution_count": 14,
   "metadata": {},
   "outputs": [],
   "source": [
    "!cp {news} {b.write(p, EN, NEWS)}"
   ]
  },
  {
   "cell_type": "markdown",
   "metadata": {},
   "source": [
    "## Wikipedia\n",
    "Þessi gögn eru í `.csv`, við þurfum að laga það."
   ]
  },
  {
   "cell_type": "code",
   "execution_count": 27,
   "metadata": {},
   "outputs": [
    {
     "data": {
      "text/html": [
       "<div>\n",
       "<style scoped>\n",
       "    .dataframe tbody tr th:only-of-type {\n",
       "        vertical-align: middle;\n",
       "    }\n",
       "\n",
       "    .dataframe tbody tr th {\n",
       "        vertical-align: top;\n",
       "    }\n",
       "\n",
       "    .dataframe thead th {\n",
       "        text-align: right;\n",
       "    }\n",
       "</style>\n",
       "<table border=\"1\" class=\"dataframe\">\n",
       "  <thead>\n",
       "    <tr style=\"text-align: right;\">\n",
       "      <th></th>\n",
       "      <th>0</th>\n",
       "      <th>1</th>\n",
       "    </tr>\n",
       "  </thead>\n",
       "  <tbody>\n",
       "    <tr>\n",
       "      <th>0</th>\n",
       "      <td>wikipedia-23885690</td>\n",
       "      <td>Research Design and Standards Organization  T...</td>\n",
       "    </tr>\n",
       "    <tr>\n",
       "      <th>1</th>\n",
       "      <td>wikipedia-23885928</td>\n",
       "      <td>The Death of Bunny Munro  The Death of Bunny ...</td>\n",
       "    </tr>\n",
       "    <tr>\n",
       "      <th>2</th>\n",
       "      <td>wikipedia-23886057</td>\n",
       "      <td>Management of prostate cancer  Treatment for ...</td>\n",
       "    </tr>\n",
       "    <tr>\n",
       "      <th>3</th>\n",
       "      <td>wikipedia-23886425</td>\n",
       "      <td>Cheetah reintroduction in India  Reintroducti...</td>\n",
       "    </tr>\n",
       "    <tr>\n",
       "      <th>4</th>\n",
       "      <td>wikipedia-23886491</td>\n",
       "      <td>Langtang National Park  The Langtang National...</td>\n",
       "    </tr>\n",
       "  </tbody>\n",
       "</table>\n",
       "</div>"
      ],
      "text/plain": [
       "                    0                                                  1\n",
       "0  wikipedia-23885690   Research Design and Standards Organization  T...\n",
       "1  wikipedia-23885928   The Death of Bunny Munro  The Death of Bunny ...\n",
       "2  wikipedia-23886057   Management of prostate cancer  Treatment for ...\n",
       "3  wikipedia-23886425   Cheetah reintroduction in India  Reintroducti...\n",
       "4  wikipedia-23886491   Langtang National Park  The Langtang National..."
      ]
     },
     "execution_count": 27,
     "metadata": {},
     "output_type": "execute_result"
    }
   ],
   "source": [
    "import pandas as pd\n",
    "wiki = en_mono.joinpath('documents_utf8_filtered_20pageviews.csv')\n",
    "wiki_df = pd.read_csv(str(wiki), sep=\",\", header=None)\n",
    "wiki_df.head()"
   ]
  },
  {
   "cell_type": "code",
   "execution_count": 28,
   "metadata": {},
   "outputs": [
    {
     "data": {
      "text/plain": [
       "0     Research Design and Standards Organization  T...\n",
       "1     The Death of Bunny Munro  The Death of Bunny ...\n",
       "2     Management of prostate cancer  Treatment for ...\n",
       "3     Cheetah reintroduction in India  Reintroducti...\n",
       "4     Langtang National Park  The Langtang National...\n",
       "Name: 1, dtype: object"
      ]
     },
     "execution_count": 28,
     "metadata": {},
     "output_type": "execute_result"
    }
   ],
   "source": [
    "wiki_df = wiki_df[1]\n",
    "wiki_df.head()"
   ]
  },
  {
   "cell_type": "markdown",
   "metadata": {},
   "source": [
    "Vistum þau í réttri skrá."
   ]
  },
  {
   "cell_type": "code",
   "execution_count": 29,
   "metadata": {},
   "outputs": [
    {
     "name": "stderr",
     "output_type": "stream",
     "text": [
      "/home/staff/haukurpj/.conda/envs/notebook/lib/python3.7/site-packages/ipykernel_launcher.py:1: FutureWarning: The signature of `Series.to_csv` was aligned to that of `DataFrame.to_csv`, and argument 'header' will change its default value from False to True: please pass an explicit value to suppress this warning.\n",
      "  \"\"\"Entry point for launching an IPython kernel.\n"
     ]
    }
   ],
   "source": [
    "wiki_df.to_csv(b.write(p, EN, WIKI), header=None, index=None, sep=' ', mode='w')"
   ]
  },
  {
   "cell_type": "code",
   "execution_count": 30,
   "metadata": {},
   "outputs": [
    {
     "name": "stdout",
     "output_type": "stream",
     "text": [
      "/work/haukurpj/process/wiki.en              3.0GiB         463819\n",
      "\" Research Design and Standards Organization  The Research Design and Standards Organisation (RDSO) is an ISO 9001 research and development organisation under the Ministry of Railways of India, which functions as a technical adviser and consultant to the Railway Board, the Zonal Railways, the Railway Production Units, RITES and IRCON International in respect of design and standardisation of railway equipment and problems related to railway construction, operation and maintenance. History. To enforce standardisation and co-ordination between various railway systems in British India, the Indian Railway Conference Association (IRCA) was set up in 1903. It was followed by the establishment of the Central Standards Office (CSO) in 1930, for preparation of designs, standards and specifications. However, till independence in 1947, most of the designs and manufacture of railway equipments was entrusted to foreign consultants. After independence, a new organisation called Railway Testing and Research Centre (RTRC) was set up in 1952 at Lucknow, for undertaking intensive investigation of railway problems, providing basic criteria and new concepts for design purposes, for testing prototypes and generally assisting in finding solutions for specific problems. In 1957, the Central Standards Office (CSO) and the Railway Testing and Research Centre (RTRC) were integrated into a single unit named Research Designs and Standards Organisation (RDSO) under the Ministry of Railways with its headquarters at Manaknagar, Lucknow. The status of RDSO was changed from an \"\"Attached Office\"\" to a \"\"Zonal Railway\"\" on April 1, 2003, to give it greater flexibility and a boost to the research and development activities. Organisation. The RDSO is headed by a Director General who ranks with a General Manager of a Zonal Railway. The Director General is assisted by an Additional Director General and 23 Sr. Executive Directors and Executive Directors, who are in charge of the 27 directorates: Bridges and Structures, the Centre for Advanced Maintenance Techlogy (AMTECH), Carriage, Geotechnical Engineering, Testing, Track Design, Medical, EMU & Power Supply, Engine Development, Finance & Accounts, Telecommunication, Quality Assurance, Personnel, Works, Psycho-Technical, Research, Signal, Wagon Design, Electric Locomotive, Stores, Track Machines & Monitoring, Traction Installation, Energy Management, Traffic, Metallurgical & Chemical, Motive Power and Library & Publications. All the directorates except Defence Research are located in Lucknow. Projects. Development of a new crashworthy design of  4500 HP WDG4 locomotive incorporating new  technology to improve dynamic braking and attain  significant fuel savings. Development of Drivers’ Vigilance Telemetric Control  System which directly measures and analyses variations  in biometric parameters to determine the state of alertness  of the driver. Development of Train Collision Avoidance System(TCAS). Development of Computer Aided Drivers Aptitude test  equipment for screening high speed train drivers for  Rajdhani/Shatabdi Express trains to evaluate their reaction  time, form perception, vigilance and speed anticipation. Assessment of residual fatigue life of critical railway  components like rail, rail weld, wheels, cylinder head, OHE  mast, catenary wire, contact wire, wagon components, low  components, etc. to formulate remedial actions. Modification of specification of Electric Lifting Barrier to improve its strength and reliability Design and development of modern fault tolerant, fail-safe, maintainer friendly Electronic Interlocking system Development of 4500 HP Hotel Load Locomotive to provide clean and noise free power supply to coaches from locomotive to eliminate the existing generator car of Garib Rath express trains. Field trials conducted for electric locomotive hauling Rajdhani/Shatabdi express trains with Head On Generation (HOG) system to provide clean and noise free power supply to end on coaches. Development of WiMAX technology to provide internet access to the passengers in running trains. Design and Development of Ballastless Track with indigenous fastening system (BLT-IFS). Major Achievements. Development of Pre-stressed concrete sleeper and allied components along with Source Development.  \"\n",
      " \" The Death of Bunny Munro  The Death of Bunny Munro is the second novel written by Nick Cave, best known as the lead singer of Nick Cave and the Bad Seeds. His first novel, \"\"And the Ass Saw the Angel\"\", was published in 1989. The novel deals with Bunny Munro, a middle aged lothario whose constant womanising and alcohol abuse comes to a head after the suicide of his wife. A travelling door to door beauty product salesman, he and his son go on an increasingly out of control road trip around Brighton, over which looms the shadow of a serial killer making his way towards Brighton, as well as Bunny's own mortality. The novel is set in Brighton in 2003, around the time the West Pier was destroyed by fire. Many of the locations and street names used in the book relate to real places close to Cave's own home. The novel was also released as an audiobook, using a 3D audio effect produced and sound directed by British artists Iain Forsyth and Jane Pollard, with a soundtrack by Nick Cave and Warren Ellis and in a number of Ebook formats including an Enhanced Editions iPhone application that synchronises the audiobook with the text, and includes exclusive videos of Nick reading. A series of live events took place in late 2009 to promote the book under the title of \"\"A Night with Nick Cave\"\", combining music, readings and a Q&A session with the audience. Reception. Irvine Welsh, Neil Labute and David Peace have all touted the novel - providing back-cover reviews. Moreover, \"\"The Death of Bunny Munro\"\" has received strong reviews from the British media: Graeme Thomson (writing in The Observer, 6 September 2009) awarded the novel four stars. Likewise, the Saturday Times (on the 5th of September 2009) stated, in a very positive review, that the novel \"\"reads like a good indie movie\"\".  The novel was nominated for the Literary Review's Bad Sex in Fiction Award, but did not win. \"\n",
      " \" Management of prostate cancer  Treatment for prostate cancer may involve active surveillance, surgery, radiation therapy including brachytherapy (prostate brachytherapy) and external beam radiation therapy, High-intensity focused ultrasound (HIFU), chemotherapy, cryosurgery, hormonal therapy, or some combination. Which option is best depends on the stage of the disease, the Gleason score, and the PSA level. Other important factors are the man's age, his general health, and his feelings about potential treatments and their possible side effects. Because all treatments can have significant side effects, such as erectile dysfunction and urinary incontinence, treatment discussions often focus on balancing the goals of therapy with the risks of lifestyle alterations. The selection of treatment options may be a complex decision involving many factors. For example, radical prostatectomy after primary radiation failure is a very technically challenging surgery and may not be an option. This may enter into the treatment decision. If the cancer has spread beyond the prostate, treatment options significantly change, so most doctors that treat prostate cancer use a variety of nomograms to predict the probability of spread. Treatment by watchful waiting/active surveillance, HIFU, external beam radiation therapy, brachytherapy, cryosurgery, and surgery are, in general, offered to men whose cancer remains within the prostate. Hormonal therapy and chemotherapy are often reserved for disease that has spread beyond the prostate. However, there are exceptions: Radiation therapy may be used for some advanced tumors, and hormonal therapy is used for some early stage tumors. Cryotherapy (the process of freezing the tumor), hormonal therapy, and chemotherapy may also be offered if initial treatment fails and the cancer progresses. Active surveillance. Active surveillance refers to observation and regular monitoring without invasive treatment. In the context of prostate disease this usually comprises regular PSA blood tests and prostate biopsies. Active surveillance is often used when an early stage, slow-growing prostate cancer is suspected. However, watchful waiting may also be suggested when the risks of surgery, radiation therapy, or hormonal therapy outweigh the possible benefits. Other treatments can be started if symptoms develop, or if there are signs that the cancer growth is accelerating (e.g., rapidly rising PSA, increase in Gleason score on repeat biopsy, etc.). Approximately one-third of men that choose active surveillance for early stage tumors eventually have signs of tumor progression, and they may need to begin treatment within three years. Men that choose active surveillance avoid the risks of surgery, radiation, and other treatments. The risk of disease progression and metastasis (spread of the cancer) may be increased, but this increase risk appears to be small if the program of surveillance is followed closely, generally including serial PSA assessments and repeat prostate biopsies every 1–2 years depending on the PSA trends. Study results in 2011 suggest active surveillance is the best choice for older 'low-risk' patients. For younger men, a trial of active surveillance may not mean avoiding treatment altogether, but may reasonably allow a delay of a few years or more, during which time the quality of life impact of active treatment can be avoided. Published data to date suggest that carefully selected men will not miss a window for cure with this approach. Additional health problems that develop with advancing age during the observation period can also make it harder to undergo surgery and radiation therapy. Hormonal therapy. Hormonal therapy uses medications or surgery to block prostate cancer cells from getting dihydrotestosterone (DHT), a hormone produced in the prostate and required for the growth and spread of most prostate cancer cells. Blocking DHT often causes prostate cancer to stop growing and even shrink. However, hormonal therapy rarely cures prostate cancer because cancers that initially respond to hormonal therapy typically become resistant after one to two years. Hormonal therapy is, therefore, usually used when cancer has spread from the prostate. It may also be given to certain men undergoing radiation therapy or surgery to help prevent return of their cancer. Hormonal therapy for prostate cancer targets the pathways the body uses to produce DHT. A feedback loop involving the testicles, the hypothalamus, and the pituitary, adrenal, and prostate glands controls the blood levels of DHT. First, low blood levels of DHT stimulate the hypothalamus to produce gonadotropin-releasing hormone (GnRH). GnRH then stimulates the pituitary gland to produce luteinizing hormone (LH), and LH stimulates the testicles to produce testosterone. Finally, testosterone from the testicles and dehydroepiandrosterone from the adrenal glands stimulate the prostate to produce more DHT. Hormonal therapy can decrease levels of DHT by interrupting this pathway at any point. There are several forms of hormonal therapy: The most successful hormonal treatments are orchiectomy and GnRH agonists. Despite their higher cost, GnRH agonists are often chosen over orchiectomy for cosmetic and emotional reasons. Eventually, total androgen blockade may prove to be better than orchiectomy or GnRH agonists used alone. Each treatment has disadvantages that limit its use in certain circumstances. Although orchiectomy is a low-risk surgery, the psychological impact of removing the testicles can be significant, and sterility is certain. The loss of testosterone can cause hot flashes, weight gain, loss of libido, enlargement of the breasts (gynecomastia), impotence, penile atrophy, and osteoporosis. GnRH agonists eventually cause the same side effects as orchiectomy but may cause worse symptoms at the beginning of treatment. When GnRH agonists are first used, testosterone surges can lead to increased bone pain from metastatic cancer, so antiandrogens or abarelix is often added to blunt these side effects. Estrogens are not commonly used because they increase the risk for cardiovascular disease and blood clots. In general, the antiandrogens do not cause impotence, and usually cause less loss of bone and muscle mass. Ketoconazole can cause liver damage with prolonged use, and aminoglutethimide can cause skin rashes. Surgery. Surgical removal of the prostate, or prostatectomy, is a common treatment either for early stage prostate cancer or for cancer that has failed to respond to radiation therapy. The most common type is radical retropubic prostatectomy, when the surgeon removes the prostate through an abdominal incision. Another type is radical perineal prostatectomy, when the surgeon removes the prostate through an incision in the perineum, the skin between the scrotum and anus. Radical prostatectomy can also be performed laparoscopically, through a series of small (1 cm) incisions in the abdomen, with or without the assistance of a surgical robot. Radical prostatectomy. Radical prostatectomy is effective for tumors that have not spread beyond the prostate; cure rates depend on risk factors such as PSA level and Gleason grade. However, it may cause nerve damage that may significantly alter the quality of life of the prostate cancer survivor. Radical prostatectomy has traditionally been used alone when the cancer is localized to the prostate. In the event of positive margins or locally advanced disease found on pathology, adjuvant radiation therapy may offer improved survival. Surgery may also be offered when a cancer is not responding to radiation therapy. However, because radiation therapy causes tissue changes, prostatectomy after radiation has higher risks of complications. Laparoscopic radical prostatectomy, LRP, is a new way to approach the prostate surgically with intent to cure. Contrasted with the open surgical form of prostate cancer surgery, laparoscopic radical prostatectomy requires a smaller incision. Relying on modern technology, such as miniaturization, fiber optics, and the like, laparoscopic radical prostatectomy is a minimally invasive prostate cancer treatment but is technically demanding and seldom done in the USA. Some believe that in the hands of an experienced surgeon, robotic-assisted laparoscopic prostatectomy (RALP) may reduce positive surgical margins when compared to radical retropubic prostatectomy (RRP) among patients with prostate cancer according to a retrospective study. The relative risk reduction was 57.7%. For patients at similar risk to those in this study (35.5% of patients had positive surgical margins following RRP), this leads to an absolute risk reduction of 20.5%. 4.9 patients must be treated for one to benefit (number needed to treat = 4.9). Other recent studies have shown RALP to result in a significantly higher rate of positive margins. Other studies showed no difference of robotic to open surgery. A recent French study comparing standard laparoscopic to robotic to open prostatectomy showed no difference in margin status or biochemical recurrence at 5 years. The relative merits of RALP and potential benefit versus open radical prostatectomy is currently an area of intense research and debate in urology. The only proven and accepted advantage to RALP is less intraoperative blood loss. Other suggested advantages beyond this lack definitive data and have not been widely accepted by the broader urological community. Transurethral resection of the prostate. Transurethral resection of the prostate, commonly called a \"\"TURP,\"\" is a surgical procedure performed when the tube from the bladder to the penis (urethra) is blocked by prostate enlargement. In general, TURP is for benign disease and is not meant as definitive treatment for prostate cancer. During a TURP, a small instrument (cystoscope) is placed into the penis and the blocking prostate is cut away. Orchiectomy. In metastatic disease, where cancer has spread beyond the prostate, removal of the testicles (called orchiectomy) may be done to decrease testosterone levels and control cancer growth. (See hormonal therapy, below). Cryosurgery. Cryosurgery is another method of treating prostate cancer in which the prostate gland is exposed to freezing temperatures. It is less invasive than radical prostatectomy, and general anesthesia is less commonly used. Under ultrasound guidance, a method invented by Dr. Gary Onik, metal rods are inserted through the skin of the perineum into the prostate. Highly purified argon gas is used to cool the rods, freezing the surrounding tissue at −186 °C (−302 °F). As the water within the prostate cells freezes, the cells die. The urethra is protected from freezing by a catheter filled with warm liquid. Impotence occurs up to ninety percent of the time. Brachytherapy. Brachytherapy for prostate cancer involves the surgical placement of radioactive 'seeds' or implants directly into the cancerous portions of the prostate, where the radiation kills the surrounding cancerous cells. It is therefore usually classified as a radiation treatment, rather than as a surgical treatment, because the actual treatment of the disease is by radiation, not surgery. See: Brachytherapy, below Complications of surgery. The most common serious complications of surgery are loss of urinary control and impotence. Reported rates of both complications vary widely depending on how they are assessed, by whom, and how long after surgery, as well as the setting (e.g., academic series vs. community-based or population-based data). Although penile sensation and the ability to achieve orgasm usually remain intact, erection and ejaculation are often impaired. Medications such as sildenafil (Viagra), tadalafil (Cialis), or vardenafil (Levitra) may restore some degree of potency. For most men with organ-confined disease, a more limited \"\"nerve-sparing\"\" technique may help reduce urinary incontinence and impotence. Postoperative urinary incontinence has been reported at 16% among patients at 12 months following radical prostatectomy. Although pelvic floor muscle training has been prescribed to improve urinary continence, the evidence for efficacy in men after radical prostatectomy has come into question recently. According to information from the Men After Prostate Surgery (MAPS) randomised control trial, pelvic floor muscle training was not shown to be therapeutic or cost effective in improving urinary continence. Of the patients in the intervention group, 148 of the 196 patients reported some form of incontinence at the 12-month mark. In the control group, 151 of the 195 patients reported some urinary incontinence (EER=.755, CER=.774, RRR=.0245, ARR=.019, NNT=Not Significant). According to an online news story article in AOL Healthy Living, posted from Chicago, Illinois on Tuesday, September 20, 2011, by news writer Carla K. Johnson: \"\"A new study addresses one of the most worrying questions faced by men with prostate cancer: What are my chances of losing sexual function after treatment? The answers vary greatly by age, sexual potency before treatment, PSA levels and whether a man has surgery, standard radiation or radioactive seeds, the study found. Using the findings, men can get a rough idea of their personal odds by answering questions that also include weight and race, experts said. Unsurprisingly, older men whose sexual function is already low have the worst chances of good sexual function after treatment. \"\"This will make it possible for patients to have a more realistic view of what to expect for themselves, rather than trying to guess where they fit in overall compared to the average guy with prostate cancer,\"\" said study co-author Dr. Martin Sanda of Beth Israel Deaconess Medical Center in Boston. The federally funded study, appearing in Wednesday's Journal of the American Medical Association, included only men with early-stage cancers, and it didn't address cure rates for different treatments. In the real world, some patients have limited treatment choices. For instance, only men with early-stage, slow-growing cancers can choose radioactive pellets. That means the findings may be most useful in giving a realistic picture of the sexual side effects of a treatment that's already chosen, rather than helping men pick a treatment. Researchers studied factors affecting potency in men and developed a questionnaire to help measure it. They evaluated its usefulness among 1,027 prostate cancer patients ages 38 to 84 and validated its accuracy in a separate group of more than 1,900 men. It correctly predicted the chances of post-treatment potency in 77 percent of the men who had surgery to 90 percent of the men who had radiation. The study found great variation in men's odds of having firm erections after treatment. For surgery, the prospects for maintaining top sexual function for a 50-year-old man could range from 21 percent to 70 percent, depending on his PSA level and whether a nerve-sparing technique was used. For standard radiation, the study found, the odds for a man keeping top sexual function ranged from 53 percent to 92 percent depending on PSA level and whether hormones were used along with radiation. The researchers couldn't find an age-related difference for standard radiation. For radiation pellets, a 60-year-old man's chances of keeping top sexual function ranged from 58 percent to 98 percent depending on race and body mass index. African-Americans and trimmer men had better chances. The study has some deficiencies, experts said. It didn't include men who chose what's called \"\"active surveillance\"\", where a doctor keeps track of a tumor through regular tests and treats it only if the cancer markedly worsens. Many prostate cancer patients with slow-growing tumors can live their whole lives without symptoms or treatment, said Dr. Durado Brooks, prostate cancer director for the American Cancer Society. They die of something else before the cancer kills them. \"\"There are a lot of prostate cancers that are not likely to benefit from treatment,\"\" Brooks said. Including an active surveillance group would have shown how much sexual function changes because of factors other than treatment, such as age and general health, he said. Most patients treated for early-stage prostate cancer survive, so the common side effects of treatment – incontinence and sexual problems – have become more important for patients making choices.\"\" Radiation therapy. Overview. Radiation therapy, also known as radiotherapy, is often used to treat all stages of prostate cancer. It is also often used after surgery if the surgery was not successful at curing the cancer. Radiotherapy uses ionizing radiation to kill prostate cancer cells. When absorbed in tissue, Ionizing radiation such as gamma and x-rays damage the DNA in cancer cells, which increases the probability of apoptosis (cell death). Normal cells are able to repair radiation damage, while cancer cells are not. Radiation therapy exploits this fact to treat cancer. Two different kinds of radiation therapy are used in prostate cancer treatment: external beam radiation therapy and brachytherapy (specifically prostate brachytherapy). External beam radiation therapy. External beam radiation therapy uses a linear accelerator to produce high-energy x-rays that are directed in a beam towards the prostate. A technique called Intensity Modulated Radiation Therapy (IMRT) may be used to adjust the radiation beam to conform with the shape of the tumor, allowing higher doses to be given to the prostate and seminal vesicles with less damage to the bladder and rectum. External beam radiation therapy is generally given over several weeks, with daily visits to a radiation therapy center. New types of radiation therapy such as IMRT have fewer side effects than traditional treatment. Eleven centers in the United States are now using proton therapy for prostate cancer, which uses protons rather than X-rays to kill the cancer cells. Researchers are also studying types of stereotactic body radiotherapy (SBRT) to treat prostate cancer. Brachytherapy. Permanent implant brachytherapy is a popular treatment choice for patients with low to intermediate risk features, can be performed on an outpatient basis, and is associated with good 10-year outcomes with relatively low morbidity It involves the placement of about 100 small \"\"seeds\"\" containing radioactive material (such as iodine-125 or palladium-103) with a needle through the skin of the perineum directly into the tumor while under spinal or general anesthetic. These seeds emit lower-energy X-rays which are only able to travel a short distance. Although the seeds eventually become inert, they remain in the prostate permanently. The risk of exposure to others from men with implanted seeds is generally accepted to be insignificant. However, men are encouraged to talk to their doctors about any special temporary precautions around small children and pregnant women. Uses. Radiation therapy is commonly used in prostate cancer treatment. It may be used instead of surgery or after surgery in early stage prostate cancer (adjuvant radiotherapy). Radiation treatments also can be combined with hormonal therapy for intermediate risk disease, when surgery or radiation therapy alone is less likely to cure the cancer. Some radiation oncologists combine external beam radiation and brachytherapy for intermediate to high-risk situations. Radiation therapy is often used in conjunction with hormone therapy for high-risk patients. Others use a \"\"triple modality\"\" combination of external beam radiation therapy, brachytherapy, and hormonal therapy. In advanced stages of prostate cancer, radiation is used to treat painful bone metastases or reduce spinal cord compression. Radiation therapy is also used after radical prostatectomy either for cancer recurrence or if multiple risk factors are found during surgery. Radiation therapy delivered immediately after surgery when risk factors are present (positive surgical margin, extracapsular extension, seminal vessicle involvement) has been demonstrated to reduce cancer recurrence, decrease distant metastasis, and increase overall survival in two separate randomized trials. Side effects. Side effects of radiation therapy might occur after a few weeks into treatment. Both types of radiation therapy may cause diarrhea and mild rectal bleeding due to radiation proctitis, as well as potential urinary incontinence and impotence. Symptoms tend to improve over time except erections which typically worsen as time progresses. A new method to reduce rectal radiation injury in prostate cancer patients involves the use of an absorbable spacer placed between the prostate and rectum. Such spacers are commercially available in some regions, and are undergoing clinical trials in others. By temporarily altering the anatomy these products have the potential to allow for improved cancer targeting while minimizing risk to neighboring healthy tissues. Prostate Rectum Spacers should be compatible with all prostate cancer radiotherapy treatments including 3D conformal, IMRT and stereotactic radiation and brachytherapy. Comparison to surgery. Multiple retrospective analyses have demonstrated that overall survival and disease-free survival outcomes are similar between radical prostatectomy, external beam radiation therapy, and brachytherapy. Rates for impotence when comparing radiation to nerve-sparing surgery are similar. Radiation has lower rates of incontinence compared with surgery, but has higher rates of occasional mild rectal bleeding. Men who have undergone external beam radiation therapy may have a slightly higher risk of later developing colon cancer and bladder cancer. High intensity focused ultrasound (HIFU). HIFU was first used in the 1940s and 1950s in efforts to destroy tumors in the central nervous system. Since then, HIFU has been shown to be effective at destroying malignant tissue in the brain, prostate, spleen, liver, kidney, breast, and bone. HIFU for prostate cancer utilizes high-intensity focused ultrasound to ablate/destroy the tissue of the prostate. During the HIFU procedure, sound waves are used to heat the prostate tissue, thus destroying the cancerous cells. In essence, ultrasonic waves are precisely focused on specific areas of the prostate to eliminate the prostate cancer, with minimal risks of affecting other tissue or organs. Temperatures at the focal point of the sound waves can exceed 100 °C (212 °F). The ability to focus the ultrasonic waves leads to a relatively low occurrence of both incontinence and impotence. (0.6% and 0-20%, respectively) According to preliminary international studies, HIFU has a high success rate with a reduced risk of side effects. Studies using HIFU machine have shown that 94% of patients with a pretreatment PSA (Prostate Specific Antigen) of less than 10 ng/mL were cancer-free after three years. However, many studies of HIFU to 2005 were performed by manufacturers of HIFU devices, or members of manufacturers' advisory panels. Today 2000?, the HIFU procedure for prostate cancer is performed using a transrectal probe. This procedure has been performed for over ten years and is currently approved for use in Japan, Europe, Canada, and parts of Central and South America. HIFU is currently not approved for medical use in the United States. Current NCCN guidelines for the treatment of prostate cancer do not include HIFU as part of standard of care, though many promising clinical trials exist. Many patients have received the HIFU procedure at facilities in Canada, and Central, and South America. Contraindications to HIFU for prostate cancer include a prostate volume larger than 40 grams, which can prevent targeted HIFU waves from reaching the anterior and anterobasal regions of the prostate, anatomic or pathologic conditions that may interfere with the introduction or displacement of the HIFU probe into the rectum, and high-volume calcification within the prostate, which can lead to HIFU scattering and transmission impairment. A 2012 UK trial of focal HIFU on 41 patients reported no histological evidence of cancer in 77% of men treated (95% confidence interval: 61 - 89%) at 12 month targeted biopsy, and a low rate of genitourinary side effects. However, this does not necessarily mean that 77% of men were definitively cured of prostate cancer, since systematic and random sampling errors are present in the biopsy process, and therefore recurrent or previously undetected cancer can be missed. In addition, the study size was small; the number of patients was chosen in order to assess side effects. However, a larger trial is currently recruiting patients (NCT01194648), the results of which will hopefully shed more light on the level of cancer control achievable using this technique. Palliative care. Palliative care for advanced stage prostate cancer focuses on extending life and relieving the symptoms of metastatic disease. As noted above, Abiraterone Acetate is showing some promise in treating advance-stage prostate cancer. It causes a dramatic reduction in PSA levels and Tumor sizes in aggressive advanced-stage prostate cancer for 70% of patients. Chemotherapy may be offered to slow disease progression and postpone symptoms. The most commonly used regimen combines the chemotherapeutic drug docetaxel with a corticosteroid such as prednisone. One study showed that treatment with docetaxel with prednisone prolonged life from 16.5 months for those taking mitoxantrone and prednisone to 18.9 months for those taking docetaxel + prednisone. Bisphosphonates such as zoledronic acid have been shown to delay skeletal complications such as fractures or the need for radiation therapy in patients with hormone-refractory metastatic prostate cancer. Alpharadin is a new alpha emitting pharmaceutical targeting bone metastasis. The phase II testing shows prolonged patient survival times, reduced pain, and improved quality of life. Bone pain due to metastatic disease is treated with opioid pain relievers such as morphine and oxycodone. External beam radiation therapy directed at bone metastases may provide pain relief. Injections of certain radioisotopes, such as strontium-89, phosphorus-32, or samarium-153, also target bone metastases and may help relieve pain. Alternative therapies. As an alternative to active surveillance or definitive treatments, other therapies are also under investigation for the management of prostate cancer. PSA has been shown to be lowered in men with apparent localized prostate cancer using a vegan diet (fish allowed), regular exercise, and stress reduction. These results have so far proven durable after two-years' treatment. However, this study did not compare the vegan diet to either active surveillance or definitive treatment, and thus cannot comment on the comparative efficacy of the vegan diet in treating prostate cancer. Many other single agents have been shown to reduce PSA, slow PSA doubling times, or have similar effects on secondary markers in men with localized cancer in short term trials, such as pomegranate juice or genistein, an isoflavone found in various legumes. The potential of using multiple such agents in concert, let alone combining them with lifestyle changes, has not yet been studied. A more thorough review of natural approaches to prostate cancer has been published. Neutrons have been shown to be superior to X-rays in a the treatment of prostatic cancer. The rationale is that tumours containing hypoxic cells (cells with enough oxygen concentration to be viable, yet not enough to be X-ray-radiosensitive) and cells deficient in oxygen are resistant to killing by X-rays. Thus, the lower Oxygen Enhancement Ratio (OER) of neutrons confers an advantage. Also, neutrons have a higher relative biological effectiveness (RBE) for slow-growing tumours than X-rays, allowing for an advantage in tumour cell killing. Prevention. Neither selenium nor vitamin E have been found to be effective in preventing prostate cancer. Exercise, genetics, and prostate cancer progression rates. In a Wednesday, February 1, 2012 online press release by Jason Bardi from the University of California at San Francisco (UCSF) Newsroom, it was stated that,: \"\"Scientists at the University of California, San Francisco (UCSF) have identified nearly 200 genes in the healthy prostate tissue of men with low-grade prostate cancer that may help explain how physical activity improves survival from the disease. The study compared the activity of some 20,000 genes in healthy prostate tissue biopsied from several dozen patients. The finding builds on two studies last year by UCSF and Harvard. Research has indicated that frequent exercise such as brisk walking can delay the progress of prostate cancer  \"\n",
      " \" Cheetah reintroduction in India  Reintroduction of the cheetah in India involves the artificial re-establishment of a population of cheetahs into areas where they had previously existed but were hunted into extinction by the British colonial officers and Indian royalty. A part of the reintroduction process is the identification and restoration of their former grassland scrub forest habitats. This is within the scope of the duties of the local forest department of each State, where relocation occurs, through the use of Indian Central Government funding. Background. History. Until the 20th century, the Asiatic cheetah was quite common and roamed all the way from Arabia to Iran, Afghanistan and India. In India, they ranged as far south as the Tirunelveli district of Tamil Nadu. The Asiatic cheetah, also known as the \"\"hunting leopard\"\" in India was kept by kings and princes to hunt gazelle; the Moghul emperor Akbar kept them for hunting gazelle and blackbucks. He was said to have had 1,000 cheetahs at one time for assisting in his royal hunts. Trapping of large numbers of adult Indian cheetahs, who had already learned hunting skills from wild mothers, for assisting in royal hunts is said to be another major cause of the species rapid decline in India as they never bred in captivity with only one record of a litter ever. Extinction. By the beginning of the twentieth century, the species was already heading for extinction in many areas. The last physical evidence of the Asiatic cheetah in India was three shot by the Maharajah of Surguja in 1947 in eastern Madhya Pradesh, a man also noted for holding a record for shooting 1,360 tigers. In India in the mid-20th century, prey was abundant, and cheetahs fed on the blackbuck, the chinkara, and sometimes the chital and the nilgai. With the death of the last remaining population of the Asiatic cheetah in India, the species was declared extinct in India; it is the only animal in recorded history to become extinct from India due to unnatural causes. A consequence of the extinction of the cheetahs and subsequently the Indian royalty that prized them was that their grasslands homes came to be controlled, used and managed by local people. \"\"The grasslands faded and diminished under the hooves of a thousand cattle, they were tilled and ploughed until only a few scattered remnants were preserved in the form of wildlife sanctuaries\"\". Reintroduction efforts. Cloning. During the early 2000s, Indian scientists from the Centre for Cellular and Molecular Biology (CCMB), Hyderabad, proposed a plan to clone Asiatic Cheetahs obtained from Iran. India requested Iran to transport one live pair to India. If not possible, Indian scientists requested Iran to allow them to collect some live cells of the Cheetah pair in Iran itself, which can then be made into living cell lines. However, Iran refused saying that it would neither send any cheetahs to India nor would they allow Indian scientists to collect their tissue samples. It is said that Iran wanted an Asiatic lion in exchange for a cheetah and that India was not willing to export any of its Asiatic lions. But, the Indian government has again contacted Iran to explore the possibility of Iran supplying cheetahs to help to re-establish their presence on the subcontinent decades after they were hunted to extinction. The Iranian embassy in Delhi said its government was in the process of \"\"arranging\"\" talks. Possible reintroduction sites. Currently, wildlife experts have shortlisted three regions which have the potential to support cheetah populations. The Nauradehi Wildlife Sanctuary and Kuno-Palpur Wildlife Sanctuaries in Madhya Pradesh and the Shahgarh bulge landscape in Jaisalmer, Rajasthan have been declared potentially suitable for the reintroduction of the cheetah. The Kuno-Palpur Wildlife Sanctuary in Madhya Pradesh has the potential to hold populations of all four of India's big cats; the tiger, the leopard, the Asiatic lion and the cheetah, all four of which have co-existed in the same habitats historically, before they were wiped out due to overhunting and habitat destruction. Since the Shahgarh Landscape is fenced along the Indo-Pakistani border region, the addition of more fencing will ensure adequate protection for the cheetah population. The Nauradehi Wildlife Sanctuary (1197km2) is part of a much larger forested landscape (5500km2 ) which can host the cheetah as well. At a future date, when sufficient population has built up, other former range habitats in India (after revitalizing them) may also be considered for reintroduction like the Banni grasslands and Desert National Park etc. A few wildlife groups have suggested the Moyar river valley in Tamil Nadu's Satyamangalam FD, part of Nilgiri Biosphere Reserve as it is a pristine forest with flourishing population of prey and a good record of conservation. Frederick Augustus Nicholson, the then British Collector has reported to have shot a few individuals near Kothamangalam, Velamundi and Bolampatti (all in NBR). This region is on the leeward side of SW monsoon. Genetic sub-species level differentiation. Asiatic cheetah \"\"(Acinonyx jubatus venaticus)\"\" has, for a long time, been \"\"theoretically\"\" classified as a sub-species of the cheetah with the suffix \"\"\"\"venaticus\"\"\"\" applied at the end of its scientific binomial name \"\"Acinonyx jubatus\"\". However, at a Cheetah reintroduction workshop organised in India on 9 September 2009, Stephen J. O'Brien from Laboratory of Genomic Diversity of National Cancer Institute, USA who has in the past conducted numerous prestigious genetic studies - including those on Asiatic lions - said that according to the latest modern genetic studies, it was discovered that the Asiatic cheetah was, in fact, genetically identical to the African Cheetah with which it had separated only about 5000 years ago. This was not enough time for a sub-species level differentiation; O'Brien said that in comparison the Asian and African lion subspecies were separated some 100,000 years ago, as was the African and Asian leopard subspecies 169,000 years ago. Cheetah expert Laurie Marker of the Cheetah Conservation Fund (CCF) and other wildlife experts advised the Indian Government that for reintroduction purposes India should source the Cheetah from Africa where they were much more numerous instead of trying to have some removed from the critically endangered low population of about 70 to 100 or so Asiatic Cheetahs left in Iran. India's Union Minister of State for Environment and Forests Jairam Ramesh, chief wildlife wardens of Rajasthan, Gujarat, Madhya Pradesh and Chhattisgarh, officials of the environment ministry, cheetah experts from across the globe including Laurie Marker from Cheetah Conservation Fund (CCF), representatives from the Wildlife Institute of India (WII) including Yadvendradev Jhala, and IUCN, an international conservation NGO, among others, participated in a meeting about this issue. The conference was organised by Wildlife Trust of India (WTI) Subsequently, in 2011, a much more detailed five year genetic study involving gathering of DNA samples from the wild, zoos and museums in eight countries was published in \"\"Molecular Ecology (Journal)\"\" on 8 January 2011. This newer study concluded that African and Asiatic cheetahs were in reality genetically very distinct and had in fact separated 32,000 to 67,000 years ago. Sub-species level differentiation had taken place due to longer separation from the African population. The effect of this latest revelation on India's plan to reintroduce cheetahs to the country is yet unknown. Introduction of African cheetah. As the world's last Asiatic cheetah population in Iran is currently classified as critically endangered, with an estimated total of below 100, the cheetah experts felt that it would not be conducive to disturb it. India is therefore exploring an alternate plan of importing the African Cheetah (\"\"Acinonyx jubatus\"\") from some African countries where they are in greater abundance, with a view to breeding them in captivity and then setting them free in protected, semi-arid habitats in India. Since the Asiatic Cheetah went extinct in India about half a century ago, suggestions to reestablish the cheetah in India have been ongoing but this is the first time that a major conservation NGO like Wildlife Trust of India (WTI) has taken it on them and are currently spearheading the Cheetah reintroduction plan in India in collaboration with Wildlife Institute of India (WII). For this purpose a meeting of International cheetah experts was organized in Gajner, near Bikaner in the Indian state of Rajasthan during September 2009. As per the discussions held at the meeting cheetah experts from around the world favored importing African cheetahs from Africa for the proposed reintroduction in India as against getting them from the world's last remnant population of Asiatic Cheetah, also called Iranian cheetah, that only survive in Iran which are currently critically endangered with their entire population estimated to be below 100. International experts including Laurie Marker of Cheetah Conservation Fund (CCF), credited with developing cheetah conservation programmes in a number of countries, including Iran, argues that the world's last Asiatic cheetah population in Iran is abysmally low to spare any individuals for reintroduction efforts in India. Stephen J O'Brien, world's leading conservation geneticist and Chief of the Laboratory of Genomic Diversity at the National Cancer Institute (NCI), USA, has clarified that there is no significant genetic difference between the African and the Iran's Asiatic cheetah, as per genetic research carried out by him African and Indian cheetahs were only separated just some 5,000 years ago which is not enough for a sub-species level differentiation. \"\"African and Asian cheetahs are similar in nature and have same genetic make-up. So India can have the animal from South Africa if it is not getting from Iran (which has already refused to part with its Asian cheetah),\"\" noted the cheetah genetic expert Stephen J O Brien. At the meeting experts also identified South Africa, Botswana, Kenya, Tanzania and UAE as countries from where the cheetah could be imported for India. \"\"About 5 to 10 animals annually have to be brought to India over a period of 5 to 10 years,\"\" recommended another working group, which was formed for exploring sourcing and translocation of the cheetah. The Ministry of Environment & Forests, Government of India has approved the recommendation for a detailed survey of potential reintroduction sites in the four Indian states of Rajasthan, Gujarat, Madhya Pradesh and Chattisgarh, shortlisted during the consultative meeting. Three more Indian states Karnataka, Andhra Pradesh and Maharashtra are being also considered. This survey will form the basis for the roadmap of reintroduction of cheetah in India, and will be carried out by the Wildlife Institute of India (WII), in collaboration with the Wildlife Trust of India (WTI), the Bombay Natural History Society (BNHS) and the concerned state governments with their respective forest departments. Current status. The Ministry of forests and environment of India is now hammering out the details of the cheetah conservation plan. As a first step, a two-day seminar of technical experts on cheetahs was held in Gajner from 9 September 2009. Experts on cheetah, including Divyabhanusinh and M K Ranjitsinh presented their papers on how to go about bringing cheetahs to India. The initial plans were to bring the cheetahs to Gajner Wildlife Sanctuary. \"\"We want to set up a breeding ground for the cheetahs and Gajner seems to fit the bill perfectly. Thereafter, they will be transported to various states,\"\" he added. India is also in talks with the Islamic Republic of Iran over the possibility of sending a pair of Asiatic cheetahs to India. It is said that Iran wanted an Asiatic lion in exchange for a cheetah and that India wasn't ready to export any of its Asiatic lions. The Iranian embassy in Delhi said that its government was in the process of \"\"arranging\"\" talks. The Union Minister of State for Environment and Forests Jairam Ramesh said that African cheetahs could be brought to India within three years having just returned from a trip to South Africa, one of the potential source-habitats of cheetahs to be moved to India. The Wildlife Institute of India is spearheading the project, and will unveil a road map and destination for the African cheetahs — possible options are in Rajasthan, Madhya Pradesh and Gujarat — by the end of May. Kuno Palpur and Nauradehi Sancturies in Madhya Pradesh and Shahgarh landscape in Jaisalmer in Rajasthan have been selected in by the Wildlife Institute of India as most suitable sites for the reintroduction project. Plans on hold. As of May 2012 the Indian Supreme Court has put the project of importing Cheetahs from Africa and reintroducing them in India on hold. Some Conservationists have been fighting a legal battle in Indian Supreme Court to get the Indian State Government of Gujarat to break its monopolizing of wild Asiatic Lions and release a few overpopulated prides of Asiatic lions spilling out of Gir National Park for reintroduction in the Kuno Wildlife Sanctuary in the neighbouring Indian State of Madhya Pradesh which was prepared for them after relocating over 24 villages out of the forest. In the past, for last two decades the State Government of Gujarat had concocted every possible reason to maintain its monopoly on wild Asiatic Lions and the tourism revenue generated by them and of recent Gujarat's legal council had put forward the argument that Kuno Wildlife Sanctuary is being used for the introduction of African Cheetah which might take several years to fully settle down and repopulate the area and hence reintroduction of Asiatic Lions should only be done after that, this scared the conservationists that Gujarat will use this pretext to delay the reintroduction of native Asiatic Lions by many more decades using the Cheetah argument. Indian Supreme court has taken note of the arguments put forth by some Indian conservationists that importing African Cheetah for reintroduction in India is misguided as it is against IUCN reintroduction guidelines and no clearance had been sought from India's National Board for Wildlife. The Indian Supreme Court has put the project on hold till further notice asking for clearance from India's National Board for Wildlife, meantime it has fast tracked the case for the re-introduction of Asiatic Lions to Kuno Wildlife Sanctuary and is hearing it every Monday. Senior advocate PS Narasimha, court-appointed adviser and the amicus curiae in the Asiatic lion relocation case in India's Supreme Court, filed an application seeking a stay on the implementation of African cheetah reintroduction project in India. The Indian Supreme court granted the stay and the matter has been scheduled for further hearing in July 2012 after the court returns from vacation. During its hearings, the Bench was informed that India's Ministry of Environment and Forests (MoEF) has decided to introduce the African cheetah from Namibia into Kuno Wildlife Sanctuary in the Indian state of Madhya Pradesh, the same proposed habitat being developed as the second home for the translocation of Asiatic Lions from Gir Wildlife Sanctuary in the neighbouring Indian state of Gujarat which did not want to shift any Asiatic Lions out of the state. Narasimha said the proposal for reintroduction of African Cheetah \"\"has not been either placed before the Standing Committee of India's National Board for Wildlife, nor has there been a considered decision taken in this regard\"\". He stated in an application that \"\"scientific studies show that the African Cheetahs and Asian Cheetahs are completely different, both genetically and also in their characteristics\"\" and the reintroduction of African Cheetah in India was also against the International Union for the Conservation of Nature (IUCN) guidelines on translocation of wildlife species. \"\"In fact, the (IUCN) guidelines categorically warn against the introduction of alien or exotic species. The African Cheetah obviously never existed in India. Therefore, it is not case of intentional movement of an organism into a part of its native range,\"\" the application stated. Asiatic Cheetah became extinct in India in the 1950s, In the past, India's last recorded cheetah in the wild was said to have been shot in the Rewa area of Madhya Pradesh in the late 1940s. It was mentioned that the introduction of alien or exotic species is universally shunned by wildlife experts and \"\"in fact countries such as South Africa, Australia are spending huge amount of funds to eradicate and remove exotic wildlife species from wilderness areas or wild habitats\"\". Narasimha also sought a direction of India's Ministry of Environment and Forests (MoEF) to produce before the apex court all relevant records and decisions relating to introduction of cheetah. He said the Indian Cheetah in genetic composition is a different animal than the African Cheetah and a different sub species altogether and \"\"therefore one cannot be introduced in place of the other\"\". Conservationists say fewer than 100 of the critically endangered Asiatic Cheetah subspecies remain only in Iran, roaming the central deserts. The vast majority of the 10,000 cheetahs left in the world are in Africa. \"\n",
      " \" Langtang National Park  The Langtang National Park is the fourth national park in Nepal and was established in 1976 as the first Himalayan national park. The protected area exceeds an altitudinal range of and covers an area of in the Nuwakot, Rasuwa and Sindhulpalchok districts of the central Himalayan region encompassing 26 Village Development Committees. It is linked with the Qomolangma National Nature Preserve in Tibet. The high altitude sacred lake of Gosainkunda falls within the park. The Gosainkunda lake ()and the Dorje Lakpa range () bisect the park from east–west to south–east. The summit of Langtang Lirung () is the highest point in the park. The northern and eastern border of the national park coincide with the international border to Tibet. The western boundary follows the rivers Bhote Kosi and Trisuli. The southern border lies north of the Kathmandu Valley. It is part of the Sacred Himalayan Landscape. Entrance fee is 1000 Nepali Rupees. History. In 1970, royal approval designated the establishment of Langtang National Park as the first protected area in the Himalayas. The national park was gazetted in 1976 and extended by a buffer zone of in 1998. Under the \"\"Buffer Zone Management Guidelines\"\" the conservation of forests, wildlife and cultural resources received top priority, followed by conservation of other natural resources and development of alternative energy. Climate. The climate of the park is dominated by the southwest summer monsoon. Temperatures vary greatly due to the extreme difference in altitude in the entire area. Most of the annual precipitation occurs from June to September. From October to November and from April to May, days are warm and sunny, and nights cool. In spring, rain at elevation often turns to snow at higher elevations. In winter from December to March, days are clear and mild but nights near freezing. Vegetation. The Langtang National Park exhibits a high diversity of 14 vegetation types in 18 ecosystem types, ranging from upper tropical forests below m altitude to alpine scrub and perennial ice. Tourism. There have been several cases of assault on the trail. An American is missing and has been presumed dead. In 2012, a Belgian women was killed with investigation regarding the cause of death still ongoing. \"\n",
      " \" Shivapuri Nagarjun National Park  Shivapuri Nagarjun National Park is the ninth national park in Nepal and was established in 2002. It is located in the country's mid-hills on the northern fringe of the Kathmandu Valley and named after Shivapuri Peak of altitude. It covers an area of in the districts of Kathmandu, Nuwakot and Sindhupalchowk, adjoining 23 Village Development Committees. In the west, the protected area extends to the Dhading District. History. The area has always been an important water catchment area, supplying the Kathmandu Valley with several hundred thousands cubic liter of water daily. In 1976, the area was established as a protected watershed and wildlife reserve. In 2002, it was gazetted as \"\"Shivapuri National Park\"\", initially covering . It was extended by the Nagarjun Forest Reserve covering in 2009. Climate. The park is located in a transition zone between subtropical and temperate climate. The annual precipitation of about falls mostly from May to September, with 80% during monsoon. Temperatures vary from during the winter season, rising to during the summer season. Vegetation. The typical vegetation of the park is middle hill forest from of altitude, consisting of: On higher elevation a variety of medicinal herbs prosper. Botanists have recorded 129 species of mushrooms and 2,122 floral species, out of which 449 are vascular and 16 are endemic plants. Fauna. Since 2002 several surveys were carried out to determine the faunal diversity of the protected area. In a field study carried out from July 2003 to July 2004, Indian leopard, jungle cat, large Indian civet, Golden jackal, Himalayan black bear, yellow-throated marten, small Asian mongoose, Himalayan goral, barking deer, wild boar, Rhesus monkey, Hanuman langur, Chinese pangolin, Indian Crested porcupine, Himalayan pika, Black-naped hare, Indian hare, Himalayan squirrel, Fawn-colored mouse, Brown-toothed shrew and Black rat were identified. Clouded leopard, leopard cat, jungle cat, large Indian civet, masked palm civet, crab-eating mongoose, pangolin, Rhesus macaque and yellow-throated marten, were camera trapped in 2010. In 2008, Intermediate Horseshoe, Greater Horseshoe and Big-eared Horseshoe bats were mist netted at the entrance of Nagarjuna cave inside the park. In the western part of the park, herpetologists encountered Monocled cobra, Himalayan keelback, Olive Oriental Slender snake, Yellow-bellied Worm-eating snake, Variegated Mountain lizard, Oriental garden lizard, Many-keeled Grass skink, Sikkim skink, Black-spined toad, Long-legged Cricket frog and Horned frog in the summer of 2009. Ornithologists recorded 318 species of birds including Eurasian eagle-owl, Slender-billed Scimitar-babbler, White-gorgeted flycatcher, Barred cuckoo-dove and Golden-throated barbet. \"\n",
      " \" Bob Benmosche  Robert H. \"\"Bob\"\" Benmosche (born May 29, 1944) is the president and chief executive officer of American International Group (NYSE: AIG). Benmosche was appointed President & Chief Executive Officer by the US Department of Treasury and AIG Board of Directors to succeed Edward M. Liddy. Benmosche is best known for his leadership at American International Group where he led a turnaround, improved profits 60% year over year, and paid down government aid pledged by the Bush and Obama Administrations.  __NOTOC__ Early life. Benmosche was born in Brooklyn, New York. Benmosche traced his Jewish lineage back to Lithuania where his great-grandfather, Moshe Kreiskol, was one of the first Jews to serve in the tsar’s army in the 1830s. Benmosche’s grandfather, Rabbi Herman Benmosche moved the family to the United States in 1894. Benmosche’s father passed away when Benmosche was 10 years old, leaving him, his three siblings, and his mother with $250,000 in debt and the unfinished Patio Motel, in Monticello, New York. The family kept the motel; the young Benmosche did housekeeping, caddying, and operated the switchboard. Benmosche’s first job, as a teenager, was a truck driver delivering Coca-Cola. Benmosche attended Alfred University . In 1966, he earned his Bachelor of Arts degree in Mathematics. From 1966-1968, Benmosche served as a Lieutenant in the U.S. Army, serving a tour of duty in Korea in the U.S. Signal Corps where he led the setup of field communications. Career. Benmosche began his career when he joined Arthur D. Little and Information Science as a consultant. In 1975, Benmosche joined the Chase Manhattan systems group. In 1982, Benmosche joined Paine Webber to lead the development of Paine Webber’s Central Asset Brokerage Account.  During his 14-year tenure at Paine Webber, Benmosche gained experience in marketing and operations in different business units, using the knowledge he gained to become Chief Financial Officer of the company’s retail business. As his career progressed at Paine Webber, Benmosche continued to gain new responsibilities, eventually earning a promotion to the position of Executive Vice President and Director of Operations, Administration and Technology. In that role, he oversaw the merger of Kidder Peabody’s operations and systems with Paine Webber’s. In 1995, Benmosche left Paine Webber to become Executive Vice President at Metropolitan Life Insurance Company. He moved up the ladder at MetLIfe as well; Benmosche was promoted to president and Chief Operating Officer. In November 1997, in his role as COO, Benmosche oversaw both individual and institutional and international insurance operations. In 1998, Benmosche was named Chairman of the Board and CEO. During his tenure on the board, he oversaw MetLife's transition from mutual company to publicly traded firm. He retired in 2006.  MetLife. Benmosche joined the Metropolitan Life Insurance Company in 1995. He would later be promoted to president and COO to oversee individual and institutional as well as international insurance operations. In 1998 he was named Chairman of the Board and CEO, a position in which he served until retiring in 2006. During his tenure, he oversaw MetLife's successful transition from mutual company to publicly traded firm. After being a member of the board of Credit Suisse AG for eleven years, Benmosche retired in April 2013. Innkeeper and vinter. Benmosche owns Villa Splendid in Dubrovnik, Croatia. In 2001, Benmosche bought the one-time discothèque and spent the next six years renovating it. In 2006, Benmosche purchased land and imported 1500 Zinfandel plants from Napa Valley, California. In 2011, Benmosche’s vineyard produced 3,000 bottles of wine under The Benmosche Family Dingac label. AIG Turnaround. In mid-2009, Benmosche was appointed CEO of American International Group. He assumed that role on August 10 of that year. He was recruited by Jim Millstein who was Chief Restructuring Officer at the US Department of Treasury.  During his first meeting with employees, Benmosche stated that Congress was composed of \"\"crazies,\"\" that he would not cooperate if asked to testify before Congress, and that New York Attorney General Andrew Cuomo, who had investigated AIG, \"\"doesn't deserve to be in government.\"\" He later asked for a personal private jet and said that he might quit over government-imposed pay restrictions. In 2010, Benmosche testified to the Congressional Troubled Asset Relief Program (TARP) Oversight Panel, on May 26 , that AIG would repay the U.S. Government and American taxpayers’ investment in AIG in full, with a profit. “AIG is now on a clear path to repaying taxpayers ... At the end of the day, the U.S. government will make an appropriate profit,” he testified.  Benmosche oversaw the sale of non-core assets in AIG’s portfolio to pay down the $182 billion in government aid. Business units such as American Life Insurance Company (Alico), American General Finance, 21st Century Insurance, Nan Shan and AIA were sold.  On December 14, 2012, Benmosche announced that the U.S. government and American taxpayers received their full investment in AIG, plus a $22 billion positive return. Benmosche’s management has been credited with leading the company to back to profitability, the full repayment to the Federal Reserve Bank of New York, reducing the Treasury Department’s stake in AIG to below 20% and the repayment of the 2008 $85 billion federal loan.  Benmosche compared the public outrage over bonuses paid to AIG management to lynchings of African-Americans during the Civil War era, saying it was \"\"just as bad\"\" and \"\"just as wrong\"\" as the lynchings in the Deep South decades ago. Overcoming Cancer. In 2010, Benmosche was diagnosed with cancer. He continued to work while also undergoing an aggressive oral chemotherapy regime.  In an interview with Charlie Rose in December 2012, Benmosche said that he will stay at his current position for two more years. Controversy. In September 2013, Benmosche gave an interview to the Wall Street Journal in which he compared public outrage over AIG bonuses to the lynching of black Americans, saying the uproar \"\"was intended to stir public anger, to get everybody out there with their pitch forks and their hangman nooses, and all that–sort of like what we did in the Deep South ago. And I think it was just as bad and just as wrong.\"\" This was seen as a reference to the $165 million in bonuses paid out in March 2009 to employees of AIG's \"\"financial products\"\" division, which sold the credit derivatives that put AIG deeply in debt after the Lehman Brothers collapse and compelled the Federal Reserve to \"\"bailout\"\" AIG with a $85 billion loan six months earlier.His comments have been labeled offensive by a number of commentators.  Past Roles. Benmosche's career has included: \"\n",
      " \" Lady Apache  Sandra González Calderón (born June 26, 1970) is a Mexican professional wrestler or \"\"Luchadora\"\", best known under the ring name Lady Apache. González's ring name comes from the \"\"family name\"\" of Mario Balbuena González who wrestles under the name Gran Apache; whom she was married to when she made her wrestling debut in 1986 but later divorced. Through her marriage to Gran Apache she was the step mother of Faby Apache and Mari Apache, both professional wrestlers. González' second husband was Jesus Alvarado Nieves, better known as \"\"Brazo de Oro\"\", a professional wrestler, current head of the wrestlers union and CMLL booker. Her third and current husband is Edgar Luna Pozos, AAA's Electroshock, she is also the sister-in-law to Charly Manson (Jesus Luna Pozos). As Lady Apache, González has mainly worked for Consejo Mundial de Lucha Libre (CMLL) and Asistencia Asesoría y Administración (AAA), Mexico's two largest professional wrestling promotions during her career, switching back and forth several times. González is a three time CMLL World Women's Champion, a two time Mexican National Women's Champion, two time \"\"AAA Reina de Reinas\"\" (Spanish for \"\"Queen of Queens\"\") and one half of the AAA World Mixed Tag Team Championship with husband Electroshock. On August 20, 2010 it was announced that Lady Apache was pregnant and for that reason had to stop wrestling for at least seven months. She made her return to the wrestling ring at a CMLL event on July 31, 2011. \"\n",
      " \" Do You Want the Truth or Something Beautiful?  Do You Want the Truth or Something Beautiful? is the debut album by English singer-songwriter Paloma Faith. It was released on 28 September 2009 by Epic Records. Its first two singles from the album, \"\"Stone Cold Sober\"\" and \"\"New York\"\", both peaked within the top twenty in the United Kingdom. The album spawned three more singles: \"\"Do You Want the Truth or Something Beautiful?\"\", \"\"Upside Down\"\" and \"\"Smoke & Mirrors\"\". The album received positive reviews from critics. Since its release, the album spent 106 weeks on the UK Albums Chart and peaked at number 9. It was announced on 1 March 2013 that the album had been certified 2× Platinum with sales exceeding 600,000 copies. To promote the album Faith embarked her first concert Do You Want the Truth or Something Beautiful Tour in 12 February 2010 which visited Europe. Background. During her time at college, Faith worked in a pub where the manager asked her to front his band, which they later called 'Paloma and the Penetrators'. During a performance with the band at a cabaret show, Faith was scouted by an A&R man from Epic Records, who invited Faith to sing for the manager of the label. Twenty minutes into the audition, Faith asked the manager to turn his phone off and when he refused, she walked out. Epic A&R Joanna Charrington told HitQuarters \"\"When she played a showcase for us it was clear that she was a star but the material was a bit generic. She didn't have the hit songs.\"\" Not being one hundred percent convinced the label executives to decide to wait. During this time Charrington regularly checked Faith's MySpace page \"\"to see if she had something that had a special direction or sound.\"\" After several months her attention was eventually piqued by \"\"Broken Doll\"\", which she thought was a well-crafted song with a \"\"fantastic chorus and brilliant lyrics.\"\" Charrington told Epic managing director Nick Raphael \"\"I think we should get this girl back in. She sounds like she is getting it now. We can help her get the songs.\"\" Faith revealed in an interview that the manager called her and offered her a contract saying he had seen many acts since and none had been as memorable as her. Critical reception. Andy Gill from The Independent said: \"\"In the case of this impressive debut album, that might refer to her fabricated Amy Winehouse persona, which is a touch too smoothly effected to ring entirely true. It's there right from the off with the Amy/Duffy retro-soul stylings of \"\"Stone Cold Sober\"\"; while her claim in \"\"Broken Doll\"\" that she's \"\"damaged goods\"\" seems that bit too eager to echo Amy's admission \"\"I told you I was trouble\"\". But Paloma deals in similarly grand, melodramatic emotions in songs such as \"\"Smoke And Mirrors\"\", \"\"New York\"\" and the title-track, wheeling out Spectorian tubular bells and keening string glissandi to evoke the depths of her emotional catastrophe\"\". Robyn Burrows from \"\"Contact Music\"\" stated, \"\"With obvious comparisons to Amy Winehouse and even Duffy by some, Faith was always going to need to set herself apart from her contemporaries for the critics. She more than does that on this record.\"\" \"\"Opening with \"\"Stone Cold Sober\"\", a retro pop gem that puts bands like the Noisettes firmly in their place the album jumps from tempo to tempo with elements of pop and jazz but keeping that smooth soul sound throughout.\"\" \"\"Despite her very distinctive vocals, the album keeps your attention throughout with its varied tracks. The beautiful soaring epic \"\"New York\"\" with her backing singers shows a strong confident character with a voice to match. Whereas the fragile \"\"Broken Doll\"\", where Faith sings 'I don't seem to be perfect, I know I'm damaged goods' shows us a different side of the singer. \"\"Upside Down\"\" increases the tempo as it bounces along to its jazz melody for three minutes. The album ends with two longer tracks, \"\"My Legs Are Weak\"\" and the almost choral backing singers on \"\"Play On\"\", perhaps a little too long in comparison with the rest of the tracks but finishing with a lush display of Faith's vocal range.\"\" \"\"The only negative thing I could find with this album is its length, a little under 40 minutes. But it is a real soul pop classic, with each track earning its place. Musically diverse and well produced; it is a polished diamond. Faith's captivating vocals and huge range keep you hooked throughout and encourage you to press repeat as soon as the album ends.\"\" On the BBC Music Review \"\"Mike Diver\"\" stated, \"\"Faith's voice is the first element of these sumptuous arrangements to strike, its idiosyncratic ticks and sharp inflections separating her from the pack in the same way as Duffy – but while the Welsh star's vocals can lack a sincere conveyance of the emotions behind a song, Faith's sentiments are never in doubt, even on the surprisingly underwhelming (in context) singles Stone Cold Sober and New York. The former sounds designed to soundtrack an advertisement – successfully, as it turns out – and the latter's lamenting loses some of its edge when one's unsure if the New York in question is a rival lover or, literally, the city that never sleeps. Whichever it is, it's stolen our protagonist's lover away\"\". Chart performance. \"\"Do You Want the Truth or Something Beautiful?\"\" peaked at number 9 in the UK. In just under 2 months of the album being released, it received a Gold certification with sales over 100,000, later being certified as Platinum. The album stayed in the UK top 100 albums chart for 62 weeks, in its 63rd week it fell out the top 100 albums to no. 110, however the week after charted back into the top 100. On 9 January 2011, the album made number 41, and has spent a total of 73 weeks on the chart. On 1 March 2013, the album was certified double-platinum, denoting sales of over 600,000 copies. The album had moderate success elsewhere, it charted within the top 30 in Ireland, where it charted at 26. \"\"Do You Want the Truth or Something Beautiful?\"\" charted at number 3 in Scotland. In Switzerland the album charted again, within the top 40, where it charted at number 39. In the Netherlands the album also charted at number 50. In Finland, the album charted at number 46 and in Poland the album charted at number 39. As of April 2011, \"\"Do You Want the Truth or Something Beautiful?\"\" has sold over 500,000 copies in the UK. Singles. \"\"Stone Cold Sober\"\" was released on 15 June 2009 and entered the UK chart at number 17. The accompanying video was directed by the English music video director Sophie Muller. This song is featured in the Rimmel London commercial for the MAX lashes product, and in Castle promo on SBS 6. \"\"New York\"\" was released on 13 September 2009. The song features a sweeping gospel chorus by the London-based Souls of Prophecy Gospel Choir. Digital Spy gave the song 3/5 stars and a less positive rating than Stone Cold Sober. New York debuted on the UK Singles Chart at 21, the next week it fell to 31 and was expected to fall quickly out of the charts by most, but the next week it rose 16 places to 15, which became its peak position. It is Paloma Faith's most successful single to date, peaking within the top ten in two countries, within the top 20 in 4 countries and within the top 100 in 8 countries! \"\"Do You Want the Truth or Something Beautiful?\"\" is the title track to the album. It was released on 21 December 2009. Digital Spy gave the song 4/5. The single began to receive increased radio airplay throughout December 2009, and throughout January 2010. As such, the single began to receive increasing amounts of digital downloads, and after lingering in the Top 100 on the UK iTunes Chart for a matter of weeks, the song finally entered the UK Singles Chart on 2 January 2010 at number 90. The song peaked at number 64. \"\"Upside Down\"\" was released on 15 March 2010, as the album's third single. The accompanying video was directed by Chris Sweeney who directed the video for her previous single, \"\"Do You Want the Truth or Something Beautiful?\"\". Before the single was released, the British entertainment and media website Digital Spy said that \"\"Upside Down backs up Faith's claim to have absorbed influences from the pre-rock 'n' roll era, mixing up a '50s dance hall vibe with her ever-present soul croon\"\". Charles Decant of Ozap called the single \"\"the more playful title on the album\"\". On 14 March 2010, \"\"Upside Down\"\" debuted on the UK Singles Chart at number 89, on downloads alone. The following week, the single climbed to number 58, which was followed by a further climb of 3 on 28 March 2010 to its current peak at number 55. A new version of \"\"New York\"\" featuring rapper Ghostface Killah was released on 1 August. It peaked at number 44 on the UK Singles Chart and received mixed responses. \"\"Smoke & Mirrors\"\", was the 5th and final single from the album. During an interview on \"\"Something for the Weekend\"\" on 15 August 2010, Faith confirmed \"\"Smoke & Mirrors\"\" would be the final single from the album, and that she would be filming the video \"\"very soon\"\". At Hylands Park, as part of the 2010 V Festival, she announced that filming for the video has been completed. The video premiered on 11 September, on Faith's official Facebook Page. It was released on 31 October 2010. The track was added to Radio 1's B Playlist. However only managed to peak at number 140 in the UK. Concert tour. Paloma Faith went on her first major tour in 2010. The UK leg of the tour was confirmed on 4 November 2009, when Faith announced that she would visit the UK and Ireland starting on 17 March 2010. The album will feature songs from Paloma Faith's Platinum album, Do You Want the Truth or Something Beautiful?. In April 2010, Faith extended her tour for throughout October and November, where she will visit a number of different venues. She was supported by Eliza Doolittle, Bashy, Josh Weller, LA Shark and Alan Pownell. Track listing. B-sides. The following tracks were not released on the album, but have been released as a single B-side. Personnel and credits. Source: \"\n",
      " \" Philippine Fault System  The Philippine Fault System is an inter-related system of faults throughout the whole of the Philippine Archipelago, primarily caused by tectonic forces compressing the Philippines into what tectonic geophysicists call the Philippine Mobile Belt. Philippine Mobile Belt. The Philippine Mobile Belt is composed of a large number of accretionary blocks and strips. Most strips are long and narrow like the Zambales ophiolites which is at least 400 km long and 50 km wide. The strips generally run north-south and the zones of convergence are usually demarcated by fault lines. The Philippine Mobile Belt is compressed on the west by the Eurasian Plate and two arms of the Sunda Plate, and on the east by the Philippine Sea Plate. These tectonic plates have compressed and lifted parts of the Philippines causing extensive faulting, primarily on a north-south axis. All faults in the Philippines are inter-related by the tectonic forces causative of the Philippine Mobile Belt, or its tectonic induced volcanism. A more complete understanding can be gained by viewing the faults in the Philippines as an inter-related Philippine Fault System. Philippine Fault. The main fault runs most of the length of the Philippines and is called the Philippine Fault (see Gallery). It extends from Davao Gulf in the south, bisects CARAGA region at the Agusan River basin, crosses to Leyte and Masbate islands, and traverses Quezon province in eastern Luzon before passing through Nueva Ecija up to the Ilocos region in northwest Luzon. Here, the fault has become braided and is no longer single. The Philippine Fault, probably active since the Middle Miocene is a recent example of the north-south strike-slip fault zones of Luzon. The N150E segment, which breaks the meridian continuity of the Philippine Fault system in Luzon, is located to the west of Benham Plateau on the western edge of the Philippine Sea Plate. The N150E fault probably has a recent genesis and could be a mechanism to absorb backwards the convergence between Benham Plateau and the east Luzon arc.  Following the major 1990 Luzon earthquake, scientists reconsidered their fault models and following the lead of Pinet and Stephan (1989), thought it likely that Benham Plateau is still displacing central Luzon and the Philippine Fault System to the west, and so caused the 1990 Luzon earthquake. The 20 second or 50 second wave in the 1990 quake developed a new east-west sub-fault, which terminated disastrously at Baguio. \"\n",
      "\n"
     ]
    }
   ],
   "source": [
    "print(b.info_formatted(b.read(p, EN, WIKI)))\n",
    "print(*b.peek(b.read(p, EN, WIKI)))"
   ]
  },
  {
   "cell_type": "markdown",
   "metadata": {},
   "source": [
    "Núna er skjalið með eina grein í hverri línu, auka gæsalappir eru í kringum allan textann og setningarnar innihalda tvíteknar gæsalappir, lögum það."
   ]
  },
  {
   "cell_type": "code",
   "execution_count": 32,
   "metadata": {},
   "outputs": [],
   "source": [
    "import nltk\n",
    "import re\n",
    "\n",
    "with b.read(p, EN, WIKI).open() as f_in, b.write(p, EN, WIKI, 'final').open('w+') as f_out:\n",
    "    for line in f_in:\n",
    "        # we strip away the \" at the end and beginning.\n",
    "        line = line[2:]\n",
    "        line = line[:-2]\n",
    "        line = re.sub(r'\"\"', r'\"', line)\n",
    "        for sent in nltk.sent_tokenize(line):\n",
    "            f_out.write(sent + \"\\n\")"
   ]
  },
  {
   "cell_type": "code",
   "execution_count": 33,
   "metadata": {},
   "outputs": [
    {
     "name": "stdout",
     "output_type": "stream",
     "text": [
      "/work/haukurpj/process/wiki-final.en        3.0GiB       25775880\n",
      "Research Design and Standards Organization  The Research Design and Standards Organisation (RDSO) is an ISO 9001 research and development organisation under the Ministry of Railways of India, which functions as a technical adviser and consultant to the Railway Board, the Zonal Railways, the Railway Production Units, RITES and IRCON International in respect of design and standardisation of railway equipment and problems related to railway construction, operation and maintenance.\n",
      " History.\n",
      " To enforce standardisation and co-ordination between various railway systems in British India, the Indian Railway Conference Association (IRCA) was set up in 1903.\n",
      " It was followed by the establishment of the Central Standards Office (CSO) in 1930, for preparation of designs, standards and specifications.\n",
      " However, till independence in 1947, most of the designs and manufacture of railway equipments was entrusted to foreign consultants.\n",
      " After independence, a new organisation called Railway Testing and Research Centre (RTRC) was set up in 1952 at Lucknow, for undertaking intensive investigation of railway problems, providing basic criteria and new concepts for design purposes, for testing prototypes and generally assisting in finding solutions for specific problems.\n",
      " In 1957, the Central Standards Office (CSO) and the Railway Testing and Research Centre (RTRC) were integrated into a single unit named Research Designs and Standards Organisation (RDSO) under the Ministry of Railways with its headquarters at Manaknagar, Lucknow.\n",
      " The status of RDSO was changed from an \"Attached Office\" to a \"Zonal Railway\" on April 1, 2003, to give it greater flexibility and a boost to the research and development activities.\n",
      " Organisation.\n",
      " The RDSO is headed by a Director General who ranks with a General Manager of a Zonal Railway.\n",
      "\n"
     ]
    }
   ],
   "source": [
    "print(b.info_formatted(b.read(p, EN, WIKI, 'final')))\n",
    "print(*b.peek(b.read(p, EN, WIKI, 'final')))"
   ]
  },
  {
   "cell_type": "markdown",
   "metadata": {},
   "source": [
    "## UN Corpus en \n",
    "Þessi málheild byggist á mörgum .tei skjölum. Við þurfum að lesa öll skjölin og sameina í eitt stórt skjal. Þar sem flest skjöl byrja á fundarlýsingu og öðrum setningum sem eru ekki sérlega góðar setningar. Við byrjum því að lesa setningar eftir setningu númer 40."
   ]
  },
  {
   "cell_type": "code",
   "execution_count": 34,
   "metadata": {},
   "outputs": [],
   "source": [
    "un_dir = en_mono.joinpath('UNv1.0-TEI')\n",
    "xml_files = !find {un_dir} -name '*.xml'\n",
    "xml_files = [Path(xml_file) for xml_file in xml_files]"
   ]
  },
  {
   "cell_type": "code",
   "execution_count": 35,
   "metadata": {},
   "outputs": [
    {
     "name": "stdout",
     "output_type": "stream",
     "text": [
      "      </p>\r\n",
      "      <p id=\"38\">\r\n",
      "        <s id=\"38:1\" lang=\"en\">Educational background:</s>\r\n",
      "      </p>\r\n",
      "      <p id=\"39\">\r\n",
      "        <s id=\"39:1\" lang=\"en\">Harvard University, Kennedy School of Government</s>\r\n",
      "      </p>\r\n",
      "      <p id=\"40\">\r\n",
      "        <s id=\"40:1\" lang=\"en\">Mid Career/ Master in Public Administration, 2005</s>\r\n",
      "      </p>\r\n",
      "      <p id=\"41\">\r\n",
      "        <s id=\"41:1\" lang=\"en\">University of Tirana, Albania</s>\r\n",
      "      </p>\r\n",
      "      <p id=\"42\">\r\n",
      "        <s id=\"42:1\" lang=\"en\">Bachelor in Law, 2000; Professor in Sociology, 1999,</s>\r\n",
      "      </p>\r\n",
      "      <p id=\"43\">\r\n",
      "        <s id=\"43:1\" lang=\"en\">PhD in Sociology, 1989; BA in Political Sciences, 1984</s>\r\n",
      "      </p>\r\n",
      "      <p id=\"44\">\r\n",
      "        <s id=\"44:1\" lang=\"en\">Other main activities in the field relevant to the mandate of the treaty body concerned:</s>\r\n",
      "      </p>\r\n",
      "      <p id=\"45\">\r\n",
      "        <s id=\"45:1\" lang=\"en\">Expert on the following issues:</s>\r\n",
      "      </p>\r\n",
      "      <p id=\"46\">\r\n",
      "        <s id=\"46:1\" lang=\"en\">Migration, Ethnicity, Minorities, Human Rights, Management, Strategic planning, Organizational development, Reengineering, Restructuring, Employment, Social Policies, Social Services, Electoral Systems and Elections, Negotiation/International cooperation, Euro-Atlantic Integration, Project coordination and management.</s>\r\n",
      "      </p>\r\n",
      "      <p id=\"47\">\r\n",
      "        <s id=\"47:1\" lang=\"en\">Country Representative:</s>\r\n",
      "      </p>\r\n",
      "      <p id=\"48\">\r\n",
      "        <s id=\"48:1\" lang=\"en\">Council of Europe, Committee of Social Charter, 1999-2004; Committee of Social Cohesion, 1999-2001, 2005-present; Committee on Migration, 1998-2002.</s>\r\n",
      "      </p>\r\n",
      "      <p id=\"49\">\r\n",
      "        <s id=\"49:1\" lang=\"en\">List of most recent publications in the field:</s>\r\n",
      "      </p>\r\n",
      "      <p id=\"50\">\r\n",
      "        <s id=\"50:1\" lang=\"en\">Barjaba, K. 2003 Shqiptaret.</s>\r\n",
      "        <s id=\"50:2\" lang=\"en\">Keta ikes te medhenj (Albanians, These Big Leavers), Tirane:Korbi</s>\r\n",
      "      </p>\r\n",
      "      <p id=\"51\">\r\n",
      "        <s id=\"51:1\" lang=\"en\">Barjaba, K. 2002 Ondate senza ritorno (Waves without return), Rome:IOM</s>\r\n",
      "      </p>\r\n",
      "      <p id=\"52\">\r\n",
      "        <s id=\"52:1\" lang=\"en\">Barjaba, K. King, R:.</s>\r\n",
      "        <s id=\"52:2\" lang=\"en\">Introducing and Theorizing Albanian Migration, in King, R., Mai, N., Schwandner-Sievers, S. (eds) 2005, The New Albanian Migration, Sussex Academic Press</s>\r\n",
      "      </p>\r\n",
      "      <p id=\"53\">\r\n",
      "        <s id=\"53:1\" lang=\"en\">Albania: Looking beyond borders, Migration Information Source, on line publication of Migration Policy Institute, Washington DC, August 2004</s>\r\n",
      "      </p>\r\n",
      "      <p id=\"54\">\r\n",
      "        <s id=\"54:1\" lang=\"en\">Migration and Ethnicity in Albania: Synergies and Interdependencies, The Brown Journal of World Affairs, Volume XI, Issue 1, Summer-Fall 2004</s>\r\n",
      "      </p>\r\n",
      "      <p id=\"55\">\r\n",
      "        <s id=\"55:1\" lang=\"en\">Contemporary patterns in Albanian emigration, South East European Review, Vol.3, No 2, July 2000.</s>\r\n",
      "      </p>\r\n",
      "    </body>\r\n",
      "  </text>\r\n",
      "</TEI.2>\r\n"
     ]
    }
   ],
   "source": [
    "!tail -n 60 {xml_files[0]}"
   ]
  },
  {
   "cell_type": "code",
   "execution_count": 49,
   "metadata": {},
   "outputs": [],
   "source": [
    "from xml.etree import ElementTree as ET\n",
    "\n",
    "def tei_read_file(path: Path):\n",
    "    sentences = []\n",
    "    try: \n",
    "        root = ET.parse(str(path)).getroot()\n",
    "        # We gather all the paragraphs from the body, avoiding the divs\n",
    "        for paragraph_node in root.findall('.//body//p'):\n",
    "            # we only take sentences which have an \"id\" high enough.\n",
    "            if int(paragraph_node.attrib['id']) < 40:\n",
    "                continue\n",
    "            for sentence_node in paragraph_node.findall('.//s'):\n",
    "                sentence = sentence_node.text\n",
    "                sentences.append(sentence)\n",
    "    except:\n",
    "        # We just skip the file\n",
    "        pass\n",
    "    return sentences"
   ]
  },
  {
   "cell_type": "code",
   "execution_count": 50,
   "metadata": {},
   "outputs": [
    {
     "name": "stdout",
     "output_type": "stream",
     "text": [
      "['Mid Career/ Master in Public Administration, 2005', 'University of Tirana, Albania', 'Bachelor in Law, 2000; Professor in Sociology, 1999,', 'PhD in Sociology, 1989; BA in Political Sciences, 1984', 'Other main activities in the field relevant to the mandate of the treaty body concerned:', 'Expert on the following issues:', 'Migration, Ethnicity, Minorities, Human Rights, Management, Strategic planning, Organizational development, Reengineering, Restructuring, Employment, Social Policies, Social Services, Electoral Systems and Elections, Negotiation/International cooperation, Euro-Atlantic Integration, Project coordination and management.', 'Country Representative:', 'Council of Europe, Committee of Social Charter, 1999-2004; Committee of Social Cohesion, 1999-2001, 2005-present; Committee on Migration, 1998-2002.', 'List of most recent publications in the field:', 'Barjaba, K. 2003 Shqiptaret.', 'Keta ikes te medhenj (Albanians, These Big Leavers), Tirane:Korbi', 'Barjaba, K. 2002 Ondate senza ritorno (Waves without return), Rome:IOM', 'Barjaba, K. King, R:.', 'Introducing and Theorizing Albanian Migration, in King, R., Mai, N., Schwandner-Sievers, S. (eds) 2005, The New Albanian Migration, Sussex Academic Press', 'Albania: Looking beyond borders, Migration Information Source, on line publication of Migration Policy Institute, Washington DC, August 2004', 'Migration and Ethnicity in Albania: Synergies and Interdependencies, The Brown Journal of World Affairs, Volume XI, Issue 1, Summer-Fall 2004', 'Contemporary patterns in Albanian emigration, South East European Review, Vol.3, No 2, July 2000.']\n"
     ]
    }
   ],
   "source": [
    "print(tei_read_file(xml_files[0]))"
   ]
  },
  {
   "cell_type": "code",
   "execution_count": 51,
   "metadata": {},
   "outputs": [],
   "source": [
    "with b.write(p, EN, UN).open('w+') as f_out:\n",
    "    for xml_file in xml_files:\n",
    "        sentences = tei_read_file(xml_file)\n",
    "        for sentence in sentences:\n",
    "            if sentence:\n",
    "                f_out.write(sentence + '\\n')"
   ]
  },
  {
   "cell_type": "code",
   "execution_count": 52,
   "metadata": {},
   "outputs": [
    {
     "name": "stdout",
     "output_type": "stream",
     "text": [
      "/work/haukurpj/process/un.en                3.4GiB       27458880\n",
      "Mid Career/ Master in Public Administration, 2005\n",
      " University of Tirana, Albania\n",
      " Bachelor in Law, 2000; Professor in Sociology, 1999,\n",
      " PhD in Sociology, 1989; BA in Political Sciences, 1984\n",
      " Other main activities in the field relevant to the mandate of the treaty body concerned:\n",
      " Expert on the following issues:\n",
      " Migration, Ethnicity, Minorities, Human Rights, Management, Strategic planning, Organizational development, Reengineering, Restructuring, Employment, Social Policies, Social Services, Electoral Systems and Elections, Negotiation/International cooperation, Euro-Atlantic Integration, Project coordination and management.\n",
      " Country Representative:\n",
      " Council of Europe, Committee of Social Charter, 1999-2004; Committee of Social Cohesion, 1999-2001, 2005-present; Committee on Migration, 1998-2002.\n",
      " List of most recent publications in the field:\n",
      " Barjaba, K. 2003 Shqiptaret.\n",
      " Keta ikes te medhenj (Albanians, These Big Leavers), Tirane:Korbi\n",
      " Barjaba, K. 2002 Ondate senza ritorno (Waves without return), Rome:IOM\n",
      " Barjaba, K. King, R:.\n",
      " Introducing and Theorizing Albanian Migration, in King, R., Mai, N., Schwandner-Sievers, S. (eds) 2005, The New Albanian Migration, Sussex Academic Press\n",
      " Albania: Looking beyond borders, Migration Information Source, on line publication of Migration Policy Institute, Washington DC, August 2004\n",
      " Migration and Ethnicity in Albania: Synergies and Interdependencies, The Brown Journal of World Affairs, Volume XI, Issue 1, Summer-Fall 2004\n",
      " Contemporary patterns in Albanian emigration, South East European Review, Vol.3, No 2, July 2000.\n",
      " Mr. Kariyawasam (Sri Lanka) 28\n",
      " Mr. Tall (Senegal) 22\n",
      " Mr. Sevim (Turkey) 18\n",
      " Mr. Carrión Mena (Ecuador) 18\n",
      " Ms. Miller-Stennett (Jamaica) 17\n",
      " Mr. Taghizade (Azerbaijan) 14\n",
      " Ms. Dicko (Mali) 11\n",
      " 16. Having obtained the required majority and the largest number of votes, Mr. Brillantes (Philippines), Mr. Ibarra Gonzalez (Guatemala), Mr. Kariyawasam (Sri Lanka) and Mr. Tall (Senegal) were elected members of the Committee for a term beginning 1 January 2010.\n",
      " 17. The Chairperson said that, since only four candidates had obtained the required majority, a second ballot, restricted to the two candidates who had obtained the next largest number of votes, would be held to fill the remaining vacancy, in accordance with rule 15 of the rules of procedure.\n",
      " 18. A vote was taken by secret ballot.\n",
      " Number of valid ballot papers: 41\n",
      " Number of representatives voting: 41\n",
      " Mr. Sevim (Turkey) 24\n",
      " Mr. Carrión Mena (Ecuador) 17\n",
      " 19. Having obtained the required majority, Mr. Sevim (Turkey) was elected a member of the Committee for a term beginning 1 January 2010.\n",
      " 20. The Chairperson invited the meeting to elect four additional members in light of the entry into force of the Convention for the forty-first State party on 1 July 2009, in accordance with article 72, paragraphs 1 to 5, of the Convention.\n",
      " 21. At the invitation of the Chairperson, Mr. Yahiaoui (Algeria) acted as teller.\n",
      " 22. A vote was taken by secret ballot.\n",
      " Ms. Dicko (Mali) 39\n",
      " Ms. Miller-Stennett (Jamaica) 38\n",
      " Mr. Taghizade (Azerbaijan) 38\n",
      " Mr. Carrión Mena (Ecuador) 37\n",
      " 23. Having obtained the required majority, Mr. Carrión Mena (Ecuador), Ms. Dicko (Mali), Ms. Miller-Stennett (Jamaica) and Mr. Taghizade (Azerbaijan) were elected members of the Committee for a term beginning 1 January 2010.\n",
      " 24. The Chairperson, having drawn names by lot, announced that the two members of the Committee whose terms would expire after two years were Mr. Carrión Mena (Ecuador) and Mr. Taghizade (Azerbaijan).\n",
      " The meeting rose at 1 p.m.\n",
      " Ms. Poussi Konsimbo (Burkina Faso) 25\n",
      " Mr. Carrion Mena (Ecuador) 24\n",
      " Mr. Barjaba (Albania) 13\n",
      " 17. Having obtained the required majority and the largest number of votes, Mr. El Borai (Egypt), Mr. El Jamri (Morocco), Ms. Cubias Medina (El Salvador), Mr. Alba (Mexico) and Ms. Poussi Konsimbo (Burkina Faso) were elected members of the Committee for a four-year term beginning 1 January 2008.\n",
      " Closure of the meeting\n",
      " 18. The Chairperson declared closed the third meeting of the States parties to the Convention.\n",
      " The meeting rose at 11.30 a.m.\n",
      " BY THE STATES PARTIES CONCERNED\n",
      " 1. Francisco ALBA (Mexico)\n",
      " Date and place of birth: 28 August 1941, Mexico City\n",
      " Working languages: Spanish and English\n",
      " Current position/function\n",
      " Researcher and lecturer, College of Mexico, specializing in the areas of international migration, population and development, and economic integration.\n",
      " Also national researcher with Mexico's National Research System, level III, from 1985 to date.\n",
      " Main professional activities\n",
      " Member of the Committee on the Protection of the Rights of All Migrant Workers and Members of Their Families, Office of the United Nations High Commissioner for Human Rights, since 2004.\n",
      " Member of the External Evaluation Committee of the Colegio de la Frontera Norte and member of the Consultations Board of the National Migration Institute of Mexico since 2003.\n",
      " Awarded the National Demographics Prize in recognition of his distinguished career.\n",
      " Also a member of the Mexican Demographics Society and other relevant national and international professional associations, including the Population Reference Bureau and the Associate Programme, InterAmerican Dialogue.\n",
      " Educational background\n",
      " Economist at the University of San Luis Potosí\n",
      " Maestría en Demografía (master's degree in demographics), from the College of Mexico\n",
      " Other postgraduate studies at the Institute of Political Studies, Paris, and the University of Texas, Austin, United States of America\n",
      " Licenciatura en filosofía (bachelor's degree in philosophy), Gregorian University, Rome.\n",
      " Other main activities in the field relevant to the mandate of the treaty body concerned\n",
      " One of Mexico's bestknown migration specialists.\n",
      " Directed work on Migration in an interconnected world: New directions for action, joint publication (2005) of the Global Commission on International Migration.\n",
      " Member of the Teaching Body on International Migration of the College of Mexico since 2004.\n",
      " Was also a member of the jury for the National Demographics Prize in 2003.\n",
      " Associate of the Mexican Council on International Affairs and member of the Latin American Studies Association and the International Union for the Scientific Study of Population.\n",
      " Most recent publications in the field\n",
      " Author of many studies and publications on international migration, Mexican migration policies, population and development.\n",
      " Most recent publications include the following books: Migration in an interconnected world: New directions for action, published in 2005, and Las migraciones internacionales, published in 2001 by the National Council for Culture and the Arts.\n",
      " In the context of MexicoUnited States relations, he wrote the book MéxicoEstados UnidosCanadá 19951996, published in 1997 by the College of Mexico.\n",
      " Date and place of birth: 8 April 1953, Quito\n",
      " Working languages: English, French and Spanish\n",
      " Ambassador, Ecuadorian Foreign Service\n",
      " International consultant on a variety of foreign policy issues, specializing in migration\n",
      " Researcher at the Facultad Latinoamericana de Ciencias Sociales (FLACSO)\n",
      " Columnist on the El Comercio newspaper (Quito)\n",
      " Career diplomat, Ecuadorian Foreign Service, since 1974\n",
      " First Secretary, counsellor and chargé d'affaires, Paris (19821988)\n",
      " Diplomatic adviser and coordinator to the President (19881991)\n",
      " Minister and chargé d'affaires, London (19911996)\n",
      " Appointed career ambassador, Ecuadorian Foreign Service (April 1996)\n",
      " UnderSecretary for National Sovereignty, Ministry of Foreign Affairs (19961998)\n",
      " Member of the EcuadorPeru peace negotiation commissions (19961998)\n",
      " Deputy Minister for Foreign Affairs (19982000)\n",
      " Ambassador to Spain (September 200010 October 2005)\n",
      " Minister for Foreign Affairs (October 2005January 2007)\n",
      " Licenciatura en Ciencias Politicas y Sociales (bachelor's degree in political and social sciences), Central University of Ecuador, 1974\n",
      " Doctorado en Ciencias Internacionales (doctorate in international studies), Central University of Ecuador, 1978\n",
      " Diploma in international affairs (Foundation of International Study and Research, Faculty of Political Science), Florence, Italy, 1983\n",
      " First Meeting on Migratory Flows, Quito, 2001\n",
      " Member, Committee on the Protection of the Rights of All Migrant Workers and Members of Their Families.\n",
      " Member, negotiating team on the Agreement on migratory flows between Ecuador and Spain, in effect since February 2001, in his capacity as Ecuador's Ambassador in Madrid.\n",
      " Visiting lecturer at a number of seminars and universities on migrationrelated topics (Murcia, 2003; University of Alcalá, 2002; University of Salamanca, 2001; Quito, 2001) and on matters of security, and peacekeeping and security (Pamplona, 2002; Madrid, 2001; Rome, 1999; Brasilia, 1999; Caracas, 1997; Santa Fe, New Mexico, 1997).\n",
      "\n"
     ]
    }
   ],
   "source": [
    "print(b.info_formatted(b.read(p, EN, UN)))\n",
    "print(*b.peek(b.read(p, EN, UN), length=100))"
   ]
  },
  {
   "cell_type": "markdown",
   "metadata": {},
   "source": [
    "## Libri Speech 27\n",
    "\n",
    "Þessi málheild er samansafn af bókum og inniheldur mikið af tómum línum. Einnig er hver bók í sér skrá."
   ]
  },
  {
   "cell_type": "code",
   "execution_count": 53,
   "metadata": {},
   "outputs": [],
   "source": [
    "libri_dir = en_mono.joinpath('librispeech').joinpath('corpus')"
   ]
  },
  {
   "cell_type": "code",
   "execution_count": 54,
   "metadata": {},
   "outputs": [],
   "source": [
    "txt_files = !find {libri_dir} -name '*.txt'\n",
    "txt_files = [Path(txt_file) for txt_file in txt_files]"
   ]
  },
  {
   "cell_type": "code",
   "execution_count": 55,
   "metadata": {},
   "outputs": [
    {
     "data": {
      "text/plain": [
       "[PosixPath('/work/haukurpj/data/en-monolingual/librispeech/corpus/2834/2834.txt'),\n",
       " PosixPath('/work/haukurpj/data/en-monolingual/librispeech/corpus/2865/2865.txt'),\n",
       " PosixPath('/work/haukurpj/data/en-monolingual/librispeech/corpus/3016/3016.txt'),\n",
       " PosixPath('/work/haukurpj/data/en-monolingual/librispeech/corpus/3184/3184.txt'),\n",
       " PosixPath('/work/haukurpj/data/en-monolingual/librispeech/corpus/3185/3185.txt'),\n",
       " PosixPath('/work/haukurpj/data/en-monolingual/librispeech/corpus/3335/3335.txt'),\n",
       " PosixPath('/work/haukurpj/data/en-monolingual/librispeech/corpus/3690/3690.txt'),\n",
       " PosixPath('/work/haukurpj/data/en-monolingual/librispeech/corpus/3755/3755.txt'),\n",
       " PosixPath('/work/haukurpj/data/en-monolingual/librispeech/corpus/3782/3782.txt'),\n",
       " PosixPath('/work/haukurpj/data/en-monolingual/librispeech/corpus/4069/4069.txt')]"
      ]
     },
     "execution_count": 55,
     "metadata": {},
     "output_type": "execute_result"
    }
   ],
   "source": [
    "txt_files[:10]"
   ]
  },
  {
   "cell_type": "code",
   "execution_count": 57,
   "metadata": {},
   "outputs": [
    {
     "name": "stdout",
     "output_type": "stream",
     "text": [
      "\r\n",
      "On which he looked up at her--but only to guess, from her face, with a\r\n",
      "revulsion, that she simply meant he was young. She stood shining at him\r\n",
      "with that cheap comfort, and it added, on the spot, thirty years to his\r\n",
      "life. She walked him away with her, however, as if she had given him now\r\n",
      "the key to patience.\r\n",
      "\r\n",
      "\r\n",
      "\r\n",
      "\r\n"
     ]
    }
   ],
   "source": [
    "!tail -n 10 {txt_files[0]}"
   ]
  },
  {
   "cell_type": "code",
   "execution_count": 61,
   "metadata": {},
   "outputs": [
    {
     "name": "stdout",
     "output_type": "stream",
     "text": [
      "\r\n",
      "\r\n",
      "\r\n",
      "\r\n",
      "\r\n",
      "THE PORTRAIT OF A LADY\r\n",
      "\r\n",
      "VOLUME II (of II)\r\n",
      "\r\n",
      "\r\n",
      "By Henry James\r\n",
      "\r\n",
      "\r\n",
      "\r\n",
      "\r\n",
      "CHAPTER XXVIII\r\n",
      "\r\n",
      "On the morrow, in the evening, Lord Warburton went again to see his\r\n",
      "friends at their hotel, and at this establishment he learned that they\r\n",
      "had gone to the opera. He drove to the opera with the idea of paying\r\n",
      "them a visit in their box after the easy Italian fashion; and when\r\n",
      "he had obtained his admittance--it was one of the secondary\r\n",
      "theatres--looked about the large, bare, ill-lighted house. An act\r\n",
      "had just terminated and he was at liberty to pursue his quest. After\r\n",
      "scanning two or three tiers of boxes he perceived in one of the largest\r\n",
      "of these receptacles a lady whom he easily recognised. Miss Archer was\r\n",
      "seated facing the stage and partly screened by the curtain of the box;\r\n",
      "and beside her, leaning back in his chair, was Mr. Gilbert Osmond. They\r\n",
      "appeared to have the place to themselves, and Warburton supposed their\r\n",
      "companions had taken advantage of the recess to enjoy the relative\r\n",
      "coolness of the lobby. He stood a while with his eyes on the interesting\r\n",
      "pair; he asked himself if he should go up and interrupt the harmony. At\r\n",
      "last he judged that Isabel had seen him, and this accident determined\r\n",
      "him. There should be no marked holding off. He took his way to the upper\r\n",
      "regions and on the staircase met Ralph Touchett slowly descending, his\r\n",
      "hat at the inclination of ennui and his hands where they usually were.\r\n",
      "\r\n",
      "\"I saw you below a moment since and was going down to you. I feel lonely\r\n",
      "and want company,\" was Ralph's greeting.\r\n",
      "\r\n",
      "\"You've some that's very good which you've yet deserted.\"\r\n",
      "\r\n",
      "\"Do you mean my cousin? Oh, she has a visitor and doesn't want me. Then\r\n",
      "Miss Stackpole and Bantling have gone out to a cafe to eat an ice--Miss\r\n",
      "Stackpole delights in an ice. I didn't think they wanted me either.\r\n",
      "The opera's very bad; the women look like laundresses and sing like\r\n",
      "peacocks. I feel very low.\"\r\n",
      "\r\n",
      "\"You had better go home,\" Lord Warburton said without affectation.\r\n",
      "\r\n"
     ]
    }
   ],
   "source": [
    "!head -n 50 {txt_files[0]}"
   ]
  },
  {
   "cell_type": "code",
   "execution_count": 64,
   "metadata": {},
   "outputs": [],
   "source": [
    "import nltk\n",
    "import re\n",
    "\n",
    "def read_libri_file(p_in):\n",
    "    sentences = []\n",
    "    buffer = []\n",
    "    with p_in.open() as f_in:\n",
    "        for line in f_in:\n",
    "            line = line.strip()\n",
    "            if not line:\n",
    "                if buffer:\n",
    "                    for sent in nltk.sent_tokenize(\" \".join(buffer)):\n",
    "                        sentences.append(sent)\n",
    "                    buffer = []\n",
    "            else:\n",
    "                buffer.append(line)\n",
    "    if buffer:\n",
    "        for sent in nltk.sent_tokenize(\" \".join(buffer)):\n",
    "            sentences.append(sent)\n",
    "        buffer = []\n",
    "    return sentences"
   ]
  },
  {
   "cell_type": "code",
   "execution_count": 69,
   "metadata": {},
   "outputs": [
    {
     "data": {
      "text/plain": [
       "['THE PORTRAIT OF A LADY',\n",
       " 'VOLUME II (of II)',\n",
       " 'By Henry James',\n",
       " 'CHAPTER XXVIII',\n",
       " 'On the morrow, in the evening, Lord Warburton went again to see his friends at their hotel, and at this establishment he learned that they had gone to the opera.',\n",
       " 'He drove to the opera with the idea of paying them a visit in their box after the easy Italian fashion; and when he had obtained his admittance--it was one of the secondary theatres--looked about the large, bare, ill-lighted house.',\n",
       " 'An act had just terminated and he was at liberty to pursue his quest.',\n",
       " 'After scanning two or three tiers of boxes he perceived in one of the largest of these receptacles a lady whom he easily recognised.',\n",
       " 'Miss Archer was seated facing the stage and partly screened by the curtain of the box; and beside her, leaning back in his chair, was Mr. Gilbert Osmond.',\n",
       " 'They appeared to have the place to themselves, and Warburton supposed their companions had taken advantage of the recess to enjoy the relative coolness of the lobby.',\n",
       " 'He stood a while with his eyes on the interesting pair; he asked himself if he should go up and interrupt the harmony.',\n",
       " 'At last he judged that Isabel had seen him, and this accident determined him.',\n",
       " 'There should be no marked holding off.',\n",
       " 'He took his way to the upper regions and on the staircase met Ralph Touchett slowly descending, his hat at the inclination of ennui and his hands where they usually were.',\n",
       " '\"I saw you below a moment since and was going down to you.',\n",
       " 'I feel lonely and want company,\" was Ralph\\'s greeting.']"
      ]
     },
     "execution_count": 69,
     "metadata": {},
     "output_type": "execute_result"
    }
   ],
   "source": [
    "read_libri_file(txt_files[0])[:16]"
   ]
  },
  {
   "cell_type": "markdown",
   "metadata": {},
   "source": [
    "Við náum ekki alveg textanum réttum með NLTK. En við köllum það gott."
   ]
  },
  {
   "cell_type": "code",
   "execution_count": 70,
   "metadata": {},
   "outputs": [],
   "source": [
    "with b.write(p, EN, LIBRI).open('w+') as f_out:\n",
    "    for txt_file in txt_files:\n",
    "        for sentence in read_libri_file(txt_file):\n",
    "            f_out.write(sentence + '\\n')"
   ]
  },
  {
   "cell_type": "code",
   "execution_count": 71,
   "metadata": {},
   "outputs": [
    {
     "name": "stdout",
     "output_type": "stream",
     "text": [
      "/work/haukurpj/process/libri.en             4.3GiB       48296733\n",
      "THE PORTRAIT OF A LADY\n",
      " VOLUME II (of II)\n",
      " By Henry James\n",
      " CHAPTER XXVIII\n",
      " On the morrow, in the evening, Lord Warburton went again to see his friends at their hotel, and at this establishment he learned that they had gone to the opera.\n",
      " He drove to the opera with the idea of paying them a visit in their box after the easy Italian fashion; and when he had obtained his admittance--it was one of the secondary theatres--looked about the large, bare, ill-lighted house.\n",
      " An act had just terminated and he was at liberty to pursue his quest.\n",
      " After scanning two or three tiers of boxes he perceived in one of the largest of these receptacles a lady whom he easily recognised.\n",
      " Miss Archer was seated facing the stage and partly screened by the curtain of the box; and beside her, leaning back in his chair, was Mr. Gilbert Osmond.\n",
      " They appeared to have the place to themselves, and Warburton supposed their companions had taken advantage of the recess to enjoy the relative coolness of the lobby.\n",
      " He stood a while with his eyes on the interesting pair; he asked himself if he should go up and interrupt the harmony.\n",
      " At last he judged that Isabel had seen him, and this accident determined him.\n",
      " There should be no marked holding off.\n",
      " He took his way to the upper regions and on the staircase met Ralph Touchett slowly descending, his hat at the inclination of ennui and his hands where they usually were.\n",
      " \"I saw you below a moment since and was going down to you.\n",
      " I feel lonely and want company,\" was Ralph's greeting.\n",
      " \"You've some that's very good which you've yet deserted.\"\n",
      " \"Do you mean my cousin?\n",
      " Oh, she has a visitor and doesn't want me.\n",
      " Then Miss Stackpole and Bantling have gone out to a cafe to eat an ice--Miss Stackpole delights in an ice.\n",
      " I didn't think they wanted me either.\n",
      " The opera's very bad; the women look like laundresses and sing like peacocks.\n",
      " I feel very low.\"\n",
      " \"You had better go home,\" Lord Warburton said without affectation.\n",
      " \"And leave my young lady in this sad place?\n",
      " Ah no, I must watch over her.\"\n",
      " \"She seems to have plenty of friends.\"\n",
      " \"Yes, that's why I must watch,\" said Ralph with the same large mock-melancholy.\n",
      " \"If she doesn't want you it's probable she doesn't want me.\"\n",
      " \"No, you're different.\n",
      " Go to the box and stay there while I walk about.\"\n",
      " Lord Warburton went to the box, where Isabel's welcome was as to a friend so honourably old that he vaguely asked himself what queer temporal province she was annexing.\n",
      " He exchanged greetings with Mr. Osmond, to whom he had been introduced the day before and who, after he came in, sat blandly apart and silent, as if repudiating competence in the subjects of allusion now probable.\n",
      " It struck her second visitor that Miss Archer had, in operatic conditions, a radiance, even a slight exaltation; as she was, however, at all times a keenly-glancing, quickly-moving, completely animated young woman, he may have been mistaken on this point.\n",
      " Her talk with him moreover pointed to presence of mind; it expressed a kindness so ingenious and deliberate as to indicate that she was in undisturbed possession of her faculties.\n",
      " Poor Lord Warburton had moments of bewilderment.\n",
      " She had discouraged him, formally, as much as a woman could; what business had she then with such arts and such felicities, above all with such tones of reparation--preparation?\n",
      " Her voice had tricks of sweetness, but why play them on HIM?\n",
      " The others came back; the bare, familiar, trivial opera began again.\n",
      " The box was large, and there was room for him to remain if he would sit a little behind and in the dark.\n",
      " He did so for half an hour, while Mr. Osmond remained in front, leaning forward, his elbows on his knees, just behind Isabel.\n",
      " Lord Warburton heard nothing, and from his gloomy corner saw nothing but the clear profile of this young lady defined against the dim illumination of the house.\n",
      " When there was another interval no one moved.\n",
      " Mr. Osmond talked to Isabel, and Lord Warburton kept his corner.\n",
      " He did so but for a short time, however; after which he got up and bade good-night to the ladies.\n",
      " Isabel said nothing to detain him, but it didn't prevent his being puzzled again.\n",
      " Why should she mark so one of his values--quite the wrong one--when she would have nothing to do with another, which was quite the right?\n",
      " He was angry with himself for being puzzled, and then angry for being angry.\n",
      " Verdi's music did little to comfort him, and he left the theatre and walked homeward, without knowing his way, through the tortuous, tragic streets of Rome, where heavier sorrows than his had been carried under the stars.\n",
      " \"What's the character of that gentleman?\"\n",
      " Osmond asked of Isabel after he had retired.\n",
      " \"Irreproachable--don't you see it?\"\n",
      " \"He owns about half England; that's his character,\" Henrietta remarked.\n",
      " \"That's what they call a free country!\"\n",
      " \"Ah, he's a great proprietor?\n",
      " Happy man!\"\n",
      " said Gilbert Osmond.\n",
      " \"Do you call that happiness--the ownership of wretched human beings?\"\n",
      " cried Miss Stackpole.\n",
      " \"He owns his tenants and has thousands of them.\n",
      " It's pleasant to own something, but inanimate objects are enough for me.\n",
      " I don't insist on flesh and blood and minds and consciences.\"\n",
      " \"It seems to me you own a human being or two,\" Mr. Bantling suggested jocosely.\n",
      " \"I wonder if Warburton orders his tenants about as you do me.\"\n",
      " \"Lord Warburton's a great radical,\" Isabel said.\n",
      " \"He has very advanced opinions.\"\n",
      " \"He has very advanced stone walls.\n",
      " His park's enclosed by a gigantic iron fence, some thirty miles round,\" Henrietta announced for the information of Mr. Osmond.\n",
      " \"I should like him to converse with a few of our Boston radicals.\"\n",
      " \"Don't they approve of iron fences?\"\n",
      " asked Mr. Bantling.\n",
      " \"Only to shut up wicked conservatives.\n",
      " I always feel as if I were talking to YOU over something with a neat top-finish of broken glass.\"\n",
      " \"Do you know him well, this unreformed reformer?\"\n",
      " Osmond went on, questioning Isabel.\n",
      " \"Well enough for all the use I have for him.\"\n",
      " \"And how much of a use is that?\"\n",
      " \"Well, I like to like him.\"\n",
      " \"'Liking to like'--why, it makes a passion!\"\n",
      " said Osmond.\n",
      " \"No\"--she considered--\"keep that for liking to DISlike.\"\n",
      " \"Do you wish to provoke me then,\" Osmond laughed, \"to a passion for HIM?\"\n",
      " She said nothing for a moment, but then met the light question with a disproportionate gravity.\n",
      " \"No, Mr. Osmond; I don't think I should ever dare to provoke you.\n",
      " Lord Warburton, at any rate,\" she more easily added, \"is a very nice man.\"\n",
      " \"Of great ability?\"\n",
      " her friend enquired.\n",
      " \"Of excellent ability, and as good as he looks.\"\n",
      " \"As good as he's good-looking do you mean?\n",
      " He's very good-looking.\n",
      " How detestably fortunate!--to be a great English magnate, to be clever and handsome into the bargain, and, by way of finishing off, to enjoy your high favour!\n",
      " That's a man I could envy.\"\n",
      " Isabel considered him with interest.\n",
      " \"You seem to me to be always envying some one.\n",
      " Yesterday it was the Pope; to-day it's poor Lord Warburton.\"\n",
      " \"My envy's not dangerous; it wouldn't hurt a mouse.\n",
      " I don't want to destroy the people--I only want to BE them.\n",
      " You see it would destroy only myself.\"\n",
      " \"You'd like to be the Pope?\"\n",
      " said Isabel.\n",
      "\n"
     ]
    }
   ],
   "source": [
    "print(b.info_formatted(b.read(p, EN, LIBRI)))\n",
    "print(*b.peek(b.read(p, EN, LIBRI), length=100))"
   ]
  },
  {
   "cell_type": "markdown",
   "metadata": {},
   "source": [
    "## Sameinum í eitt skjal"
   ]
  },
  {
   "cell_type": "code",
   "execution_count": 72,
   "metadata": {},
   "outputs": [
    {
     "data": {
      "text/plain": [
       "True"
      ]
     },
     "execution_count": 72,
     "metadata": {},
     "output_type": "execute_result"
    }
   ],
   "source": [
    "corpora = [\n",
    "    b.read(p, EN, EUROPARL),\n",
    "    b.read(p, EN, NEWS),\n",
    "    b.read(p, EN, WIKI, 'final'),\n",
    "    b.read(p, EN, UN),\n",
    "    b.read(p, EN, LIBRI)\n",
    "]\n",
    "\n",
    "b.combine(corpora, b.write(p, EN, 'mono'))"
   ]
  },
  {
   "cell_type": "code",
   "execution_count": 73,
   "metadata": {},
   "outputs": [
    {
     "name": "stdout",
     "output_type": "stream",
     "text": [
      "/work/haukurpj/process/mono.en              13.1GiB     121939848\n",
      "Resumption of the session\n",
      " I declare resumed the session of the European Parliament adjourned on Friday, 15 December 2000.\n",
      " Statements by the President\n",
      " Ladies and gentlemen, on Saturday, as you know, an earthquake struck Central America once again, with tragic consequences.\n",
      " This is an area which has already been seriously affected on a number of occasions since the beginning of the twentieth century.\n",
      " The latest, provisional, figures for victims in El Salvador are already very high.\n",
      " There are 350 people dead, 1 200 people missing, the area is completely devastated and thousands of homes have been destroyed throughout the country.\n",
      " The European Union has already shown its solidarity by sending a rescue team to the area, whilst financial assistance from the Union and Member States has been, or is in the process of being, released and I am able to inform you that some groups in the European Parliament have requested that this issue be included in the debate on topical and urgent subjects of major importance on Thursday.\n",
      " However, I should like to inform you that I have, of course, on behalf of the European Union, expressed our sincere condolences and deepest sympathy to the President of El Salvador in the tragedy which has struck his country.\n",
      " I would ask you, as a mark of respect for the victims and for the immense suffering of their families, to observe a minute' s silence.\n",
      " (The House rose and observed a minute' s silence)\n",
      " President.\n",
      " Tragically, on 31 December, a day that most of us commemorate with celebration, became a day of mourning for the families of Volendam, in the Netherlands, who lost 10 of their young people on New Year' s Eve.\n",
      " I should like, on behalf of the European Parliament, to express our sympathy to the parents and families of the victims.\n",
      " I should also like to wish the 180 people injured in this awful fire a speedy recovery.\n",
      " I should not forget that many places, where joyful celebrations are also held, are all too often transformed by sadness and mourning, due to a lack of adequate safety measures.\n",
      " It is in the same spirit that I should like to express my condolences to the families of the 309 victims of the fire at a disco in Luoyang, in China, and I would ask you to observe a minute' s silence in honour of these victims.\n",
      " (The House rose and observed a minute' s silence)\n",
      " President.\n",
      " Ladies and gentlemen, I had wished, as everyone had, that we would be able to open our first part-session of the year without having to mention further victims of ETA terrorism.\n",
      " Unfortunately, on 20 December, Juan Miguel Gervilla, a police officer in Barcelona, was killed by terrorists.\n",
      " He had disturbed his killers as they were preparing an attack.\n",
      " His courageous actions unfortunately cost him his life but undoubtedly also saved many others.\n",
      " This is why I would like to pay tribute to him in particular and I would ask you again to observe a minute' s silence.\n",
      " (The House rose and observed a minute' s silence)\n",
      " Referral back to committee\n",
      " With regard to the report by Mr Cashman on public access to Parliament, Council and Commission documents, for which the vote on the draft legislative resolution was postponed on 16 November, the Committee on Citizens' Freedoms and Rights, Justice and Home Affairs has informed me that it is not yet able to meet the two month deadline laid down in the Rules of Procedure.\n",
      " This is why it has requested that it be referred back to committee pursuant to Rule 144(1) of the Rules of Procedure.\n",
      " I shall now give the floor to Mr Watson, Chairman of this committee, so that he can present the request on its behalf.\n",
      " Madam President, the House kindly agreed on 16 November to a request from the committee which I have the honour to chair to delay the final vote on Mr Cashman's proposed legislative resolution.\n",
      " That delay was intended to allow time for the other institutions to consider our amendments and for the Commission to formulate amended proposals.\n",
      " Since our November part-session, we have had contacts with the other institutions, though as yet no agreement has been forthcoming.\n",
      " Therefore, we would ask the House for a prorogation of the delay of a maximum of two months in order to conclude the dialogue and, we hope, present to you compromise amendments for voting at our part-session on 28 February.\n",
      " (Parliament approved the request)\n",
      " Agenda\n",
      " The next item is the final draft agenda as drawn up by the Conference of Presidents at its meeting of Tuesday 11 January.\n",
      " Sittings from 15 to 18 January in Strasbourg President.\n",
      " I have received no requests for amendments to the agenda for Monday, Tuesday or Wednesday.\n",
      " Madam President, I would like to point out to my fellow Members and to yourself, that, whilst I understand the reasons which led you to go over the top and set such a full agenda for Wednesday, with regard to the political topics due to be discussed between 9 a.m. and 4 p.m., the Council and the Commission have exactly the same speaking time as all the Members of the European Parliament, i.e. 90 minutes for the Council and the Commission and 90 minutes for the MEPs.\n",
      " I am sorry to have to point this out, as I know we have a very busy day on Wednesday, but let us try to change this, as, after all, parliamentary debate should take precedence over the institutions.\n",
      " Thank you, Mr Dell' Alba.\n",
      " I will, of course, take note of your comment.\n",
      " Madam President, I would like to take up some points made by Mr Dell'Alba and also say something about Wednesday' s sitting.\n",
      " Not only is Wednesday' s agenda completely overbooked, but important reports - such as the Sjöstedt report on natural habitats, as well as others - are being handled without debate, which is wrong to my mind.\n",
      " This can be put down to the disastrous decision to cancel Friday sittings, which I would like to take this opportunity to highlight.\n",
      " Madam President, I have requested the floor in order to speak about Tuesday' s joint debate on fisheries.\n",
      " A major debate has been scheduled for that day and the Conference of Presidents has decided to include a Commission statement on the Fisheries Agreement with Morocco without a resolution.\n",
      " As you know, this is a very sensitive issue and I would ask you to clarify a few things, as the inclusion of this issue may somewhat distort the overall debate.\n",
      " I would ask you first of all to state at whose behest this was included, in other words, whether it was the Commission itself that made the request or one of the political groups.\n",
      " Furthermore, in accordance with the debate' s agenda, the normal course of action would be for the joint debate on the four reports to take place and then for the Commission' s statement to be made and a further debate on this to take place.\n",
      " Since it no longer appears possible for events to take place in this way, because the political groups have already distributed Members' speaking times, I would ask that, in this case, the Commission statement should be the first item so that Members may speak in the debate and so that the Commission statement is not made in the middle of the debate, which would prevent all Members from being in an equal position to respond to this statement by the Commission.\n",
      " Madam President, I shall be delighted to reply to Mr Varela Suanzes-Carpegna.\n",
      " The Socialist Group requested this Commission statement - I do not know if any of the other groups made the same request.\n",
      " We did so for a very simple reason: in the last few days we have seen Commissioner Fischler suspend negotiations on live television; Mr Prodi - I do not know if he is still in Morocco - has submitted a new proposal and restarted negotiations; some Ministers for Agriculture or Fisheries, including the Spanish Minister, have also made statements, and it makes sense that we should be able to debate this issue and that we should be at least as well informed - we are not asking for a resolution - as television newsreaders.\n",
      " This really is the most appropriate time, when we are discussing the future of our fisheries policy on the basis of four reports, for the Commission to make this statement.\n",
      " This is the thinking that led the Socialist Group to make this request.\n",
      " Thank you, Mr Barón Crespo.\n",
      " Mr Varela, Mr Barón Crespo has given you your answer.\n",
      " The request was made by the Group of the Party of the European Socialists, but I can inform you that it was approved unanimously by the Conference of Presidents.\n",
      " Madam President, I asked for clarification; I have absolutely no intention of arguing about the appropriateness of a Commission statement.\n",
      " It clearly is appropriate.\n",
      " I want to make it clear that we support it, and I believe that it was also supported in the Conference of Presidents of political groups, but today I have a meeting with the Committee on Fisheries, an extraordinary meeting, and this issue will logically be dealt with.\n",
      " As Chairman of that committee, I wanted to have all the information so that I could communicate it to the other committee members.\n",
      " The statement is therefore welcome.\n",
      " In no way do we oppose it.\n",
      " Far from it.\n",
      " Our group has also supported it.\n",
      " So that the debate may be held in an ordered fashion, which is what most concerns me, because this issue could distort the four important fisheries debates which we have on the agenda, it would be normal for this statement to be made after that debate, and that would then give us time to continue discussing this issue, although it seems that that will not be possible.\n",
      " The competent services had informed me that the order of interventions would be as follows: firstly the four rapporteurs of the reports, and then the Commissioner would be given the floor to make the aforementioned statement.\n",
      " In that case, the rapporteurs would not be able to reply to the Commissioner during the joint debate.\n",
      " What I therefore ask is that the Commission statement be made first and that then the speakers should take the floor, so that everybody might have the same right as MEPs to hear, and be able to reply to, the statement by the Commissioner.\n",
      " Madam President, I wish to inform Mr Varela Suanzes-Carpegna that these are the terms of the Conference of Presidents, but I see that the relevant services have already explained this to him.\n",
      " The idea - at the request of most group Chairmen - was that the four rapporteurs would speak first, and then the representative of the Commission would follow.\n",
      " This was what happened in the Conference of Presidents, at which I had the honour of representing you, Madam President.\n",
      " Mr Varela' s request is out of place.\n",
      " Thank you, Mr Colom i Naval.\n",
      " I think that everything is perfectly clear now.\n",
      " Relating to Thursday President.\n",
      " I have received two requests for amendment, regarding the debate on the topical and urgent subjects of major importance.\n",
      " It has been proposed that the item on \"Visa requirements between Russia and Georgia\" be replaced by a new item entitled \"The Danone case\" , which is a motion from the Confederal Group of the European United Left/Nordic Green Left.\n",
      " I have received a further request, from the Union for a Europe of Nations Group, that the same item be replaced by a new item entitled the \"Situation in Algeria\" .\n",
      " Madam President, I would like to explain very briefly why my group has tabled this motion which, relates to what is becoming known, in the French newspapers in particular, as the Danone case.\n",
      " This is an important issue that goes beyond the limits of responsibility of one group.\n",
      " As it happens, it concerns the policy of a large food processing company which has recently achieved financial results described by the president of the company himself as excellent, and which, at the same time, decided to shed 3 000 jobs and to close several sites in various Member States of the European Union.\n",
      " It seems to me that we cannot, on the one hand, make full employment a priority for European Union action and work on drafting a European Company Statute to lay down new rights for employees and, on the other hand, calmly accept this type of strategy, which puts the interests of shareholders before everything.\n",
      " This is why I propose an urgent debate on this matter.\n",
      " Madam President, my group will be voting in favour of this proposal because, to take up Mr Wurtz' s arguments, this is not just a French issue, but a European issue, both because of the size of the Danone Group and because of the potential repercussions of the measures proposed in various countries.\n",
      " Furthermore, because the European Company Statute has been approved by the Treaty of Nice, we feel that this is an extremely topical issue and one that also needs to be addressed by the Swedish Presidency.\n",
      " Bearing in mind the fact that my group has also brought up the situation of other multinational companies that operate across Europe or even worldwide in the car and steel manufacturing sectors, we feel that this issue should be given substantial consideration in the Committee on Employment and Social Affairs.\n",
      " Maybe this could replace another item, because the issue is serious enough to warrant a more in-depth and detailed study.\n",
      " Madam President, we do not doubt that it is an important issue we are discussing here, but this is something that crops up time and again.\n",
      " In the past, we always agreed that we would deal with such issues as part of a more comprehensive debate.\n",
      " It is therefore inappropriate to invoke the urgent procedure, particularly as the issue which is to be left off the agenda, is so important.\n",
      " I would also like to point out - although I was unable to participate in the Conference of Presidents in person, owing to our European People' s Party Congress, my colleague, James Provan, was there to represent me - that the issue has already been voted on in the Conference of Presidents and so there is no need for it to be raised once again.\n",
      " We are against invoking the urgent procedure on this issue.\n",
      " Madam President, first of all, Mr Poettering can be forgiven for his mistake since he was absent.\n",
      " However, Mr Poettering, I would like to tell you that the Conference of Presidents certainly did not vote for or against this motion and it was suggested that I should table this motion in Parliament, which I have done.\n",
      " Regarding the proposal by Mr Barón Crespo, I am in complete agreement with the proposal to refer the whole matter, i.e. Danone and similar situations, to the Committee on Employment and Social Affairs so that we can then conduct a more general debate on this.\n",
      " I do not necessarily wish that this be treated as an urgent topic, but I do think that we should take note of this grave inconsistency which is stirring up considerable feeling amongst the general public in all our countries, and which, in actual fact, concerns the European Union.\n",
      " Therefore, if all Members are in agreement, I would certainly wish to refer this matter to the Committee on Employment and Social Affairs.\n",
      "\n"
     ]
    }
   ],
   "source": [
    "print(b.info_formatted(b.read(p, EN, 'mono')))\n",
    "print(*b.peek(b.read(p, EN, 'mono'), length=100))"
   ]
  },
  {
   "cell_type": "code",
   "execution_count": null,
   "metadata": {},
   "outputs": [],
   "source": []
  }
 ],
 "metadata": {
  "kernelspec": {
   "display_name": "Python [conda env:.conda-notebook]",
   "language": "python",
   "name": "conda-env-.conda-notebook-py"
  },
  "language_info": {
   "codemirror_mode": {
    "name": "ipython",
    "version": 3
   },
   "file_extension": ".py",
   "mimetype": "text/x-python",
   "name": "python",
   "nbconvert_exporter": "python",
   "pygments_lexer": "ipython3",
   "version": "3.7.5"
  }
 },
 "nbformat": 4,
 "nbformat_minor": 2
}
