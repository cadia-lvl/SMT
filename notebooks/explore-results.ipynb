{
 "cells": [
  {
   "cell_type": "markdown",
   "metadata": {},
   "source": [
    "# Athuga niðurstöður"
   ]
  },
  {
   "cell_type": "code",
   "execution_count": 1,
   "metadata": {},
   "outputs": [
    {
     "name": "stderr",
     "output_type": "stream",
     "text": [
      "[nltk_data] Downloading package punkt to\n",
      "[nltk_data]     /home/staff/haukurpj/nltk_data...\n",
      "[nltk_data]   Package punkt is already up-to-date!\n",
      "2019-12-20 09:58:18,019 - frontend - INFO - Initialized\n"
     ]
    }
   ],
   "source": [
    "import os\n",
    "from pathlib import Path\n",
    "from pprint import pprint\n",
    "\n",
    "import frontend.core as c\n",
    "import frontend.bulk as b\n",
    "\n",
    "%matplotlib notebook\n",
    "c.THREADS = 10\n",
    "c.MEMORY = 17179869184 # 16GB\n",
    "\n",
    "working_dir = Path('/work/haukurpj')\n",
    "\n",
    "IS = c.Lang.IS\n",
    "EN = c.Lang.EN\n",
    "\n",
    "langs = [IS, EN]"
   ]
  },
  {
   "cell_type": "code",
   "execution_count": 2,
   "metadata": {},
   "outputs": [],
   "source": [
    "models = ['en-is-improved', 'is-en-improved', 'is-en-mideind-v2', 'en-is-mideind-v2', 'is-en-mono']\n",
    "models.sort()\n",
    "model_dirs = [working_dir.joinpath(model).joinpath('binarised') for model in models]"
   ]
  },
  {
   "cell_type": "code",
   "execution_count": 3,
   "metadata": {},
   "outputs": [],
   "source": [
    "def blue_score(model_dir):\n",
    "    !cat {model_dir.joinpath('translated.bleu')}"
   ]
  },
  {
   "cell_type": "code",
   "execution_count": 4,
   "metadata": {},
   "outputs": [
    {
     "name": "stdout",
     "output_type": "stream",
     "text": [
      "cat: /work/haukurpj/en-is-improved/binarised/translated.bleu: No such file or directory\n",
      "BLEU = 48.56, 69.7/51.5/42.7/36.3 (BP=1.000, ratio=1.003, hyp_len=37548, ref_len=37435)\n",
      "cat: /work/haukurpj/is-en-improved/binarised/translated.bleu: No such file or directory\n",
      "BLEU = 53.82, 75.1/57.5/47.9/41.1 (BP=0.997, ratio=0.997, hyp_len=40766, ref_len=40890)\n",
      "BLEU = 52.99, 75.0/57.2/47.4/40.7 (BP=0.988, ratio=0.988, hyp_len=40395, ref_len=40890)\n",
      "[None, None, None, None, None]\n"
     ]
    }
   ],
   "source": [
    "print([blue_score(model_dir) for model_dir in model_dirs])"
   ]
  },
  {
   "cell_type": "code",
   "execution_count": 21,
   "metadata": {},
   "outputs": [],
   "source": [
    "def peeks(paths, length: int = 10):\n",
    "    generators = [b.peek(paths[model_name], length) for model_name in paths]\n",
    "    remaining = True\n",
    "    while remaining:\n",
    "        for index, model_name in enumerate(paths):\n",
    "            try:\n",
    "                sentence = next(generators[index])\n",
    "                yield f'{model_name:<20}: {sentence}'\n",
    "            except StopIteration:\n",
    "                return"
   ]
  },
  {
   "cell_type": "code",
   "execution_count": 15,
   "metadata": {},
   "outputs": [],
   "source": [
    "def get_model_translated(model_name):\n",
    "    model_dir = working_dir.joinpath(model_name).joinpath('binarised')\n",
    "    translated = list(model_dir.glob(\"translated.is\"))\n",
    "    if translated:\n",
    "        return translated[0]\n",
    "    else:\n",
    "        return list(model_dir.glob(\"translated.en\"))[0]"
   ]
  },
  {
   "cell_type": "code",
   "execution_count": 16,
   "metadata": {},
   "outputs": [],
   "source": [
    "check = {\n",
    "    'source': working_dir.joinpath('process').joinpath('parice-test-final.is'),\n",
    "    'target': working_dir.joinpath('process').joinpath('parice-test-final.en'),\n",
    "    'is-en-mideind-v2': get_model_translated('is-en-mideind-v2'),\n",
    "    'is-en-mono': get_model_translated('is-en-mono')\n",
    "}"
   ]
  },
  {
   "cell_type": "code",
   "execution_count": 22,
   "metadata": {},
   "outputs": [
    {
     "name": "stdout",
     "output_type": "stream",
     "text": [
      "source              : • 6 km fyrir bifhjól í flokki 2 ( slagrými hreyfils ≥ 150 cc , vmax _lt_ 130 km/klst. ) ,\n",
      " target              : • 6 km for category 2 motorcycle ( engine capacity ≥ 150 cc , vmax _lt_ 130 km / h ) ,\n",
      " is-en-mideind-v2    : • 6 km for category 2 motorcycle ( engine capacity ≥ 150 cc , vmax _lt_ 130 km / h ) , \n",
      " is-en-mono          : • 6 km for category 2 motorcycle ( engine capacity ≥ 150 cc , vmax _lt_ 130 km / h ) , \n",
      " source              : e. aðgerð varðandi sameiginlega fræðslu e-liður 1. mgr. 5. gr .\n",
      " target              : e. common learning article 5 ( 1 ) ( e )\n",
      " is-en-mideind-v2    : e. common learning article 5 ( 1 ) ( e ) . \n",
      " is-en-mono          : e. common learning article 5 ( 1 ) ( e ) \n",
      " source              : mælingar á reykþéttni útblásturslofts við hröðun ( frá hægagangi og upp í marksnúningshraða , án álags ) .\n",
      " target              : measurement of exhaust gas opacity with free acceleration ( no load from idling up to cut-off speed ) .\n",
      " is-en-mideind-v2    : measurement of exhaust gas opacity with free acceleration ( no load from idle up to cut-off speed , in a no-load state ) . \n",
      " is-en-mono          : measurement of exhaust gas opacity with free acceleration ( no load from idle up to cut-off speed , in a no-load state ) . \n",
      " source              : aðrir tengivagnar\n",
      " target              : other trailers and semi-trailers\n",
      " is-en-mideind-v2    : other trailers and semi-trailers \n",
      " is-en-mono          : other trailers \n",
      " source              : ég er með matareitrun .\n",
      " target              : i have food poisoning .\n",
      " is-en-mideind-v2    : i 've got food poisoning . \n",
      " is-en-mono          : i 've got food poisoning . \n",
      " source              : perlur á stærð við kókoshnetur .\n",
      " target              : pearls as big as coconuts .\n",
      " is-en-mideind-v2    : pearls the size of coconuts . \n",
      " is-en-mono          : pearls the size of coconuts . \n",
      " source              : þetta markmið skal einkum mæla í fjölgun aðildarríkja sem fella inn samræmdar nálganir við gerð viðbúnaðaráætlana sinna .\n",
      " target              : this objective shall be measured , in particular , through the increase in the number of member states integrating coherent approaches in the design of their preparedness plans .\n",
      " is-en-mideind-v2    : this objective shall be measured , in particular , through the increase in the number of member states include coherent approaches in the preparation of the contingency plans . \n",
      " is-en-mono          : this objective shall be measured , in particular , through the increase in the number of member states that integrate coherent approaches in the preparation of contingency plans . \n",
      " source              : allir út , við erum í vanda .\n",
      " target              : everybody off. we 've got a problem .\n",
      " is-en-mideind-v2    : everybody out , we got a problem . \n",
      " is-en-mono          : everybody out , we got a problem . \n",
      " source              : við jafnvægi var þéttni sonidegibs í húð 6 - falt hærri en í plasma .\n",
      " target              : steady-state level of sonidegib in the skin was 6-fold higher than in plasma .\n",
      " is-en-mideind-v2    : at steady state was sonidegib concentrations of the skin 6-fold higher than those in plasma . \n",
      " is-en-mono          : at steady state , the concentration of sonidegib in skin 6-fold higher than those in plasma . \n",
      " source              : einkennin komu fram allt frá einum degi til nokkurra mánaða eftir að meðferð hófst .\n",
      " target              : the time to onset of symptoms varied from one day to several months after starting treatment .\n",
      " is-en-mideind-v2    : symptoms was observed as early from one day to several months after the initiation of treatment . \n",
      " is-en-mono          : onset of all from one day to several months after the initiation of treatment . \n",
      " source              : ég þekki mann sem á nýjan .\n",
      " target              : i know a guy with one .\n",
      " is-en-mideind-v2    : i know this guy who owns a new one . \n",
      " is-en-mono          : i know this guy who owns a new one . \n",
      " source              : fjórða stigs daufkyrningafæð með hitaköstum kom sjaldan fram ( 0,6% hjá sjúklingum sem fengu meðferð með lenalídómíði / dexametasóni samanborið við 0,0% hjá sjúklingum sem fengu meðferð með lyfleysu / dexametasóni , sjá kafla 4.8 ) .\n",
      " target              : grade 4 febrile neutropenia episodes were observed infrequently ( 0.6 % in lenalidomide / dexamethasone-treated patients compared to 0.0 % in placebo / dexamethasone treated patients ; see section 4.8 ) .\n",
      " is-en-mideind-v2    : fever with grade 4 febrile neutropenia episodes were observed infrequently ( 0.6 % in patients treated with lenalidomide / dexamethasone compared to 0.0 % in patients treated with placebo / dexamethasone , see section 4.8 ) . \n",
      " is-en-mono          : fever with grade 4 febrile neutropenia episodes were observed infrequently ( 0.6 % in patients treated with lenalidomide / dexamethasone compared to 0.0 % in patients treated with placebo / dexamethasone , see section 4.8 ) . \n",
      " source              : annað\n",
      " target              : others\n",
      " is-en-mideind-v2    : others \n",
      " is-en-mono          : others \n",
      " source              : mamma !\n",
      " target              : mummy !\n",
      " is-en-mideind-v2    : mom ! \n",
      " is-en-mono          : mom ! \n",
      " source              : meiri líkur eru á að þau komi fram við fyrstu meðferð .\n",
      " target              : they are more likely during the first treatment .\n",
      " is-en-mideind-v2    : it is more likely to occur with the first treatment . \n",
      " is-en-mono          : more likely to occur with the first treatment . \n",
      " source              : hrafnkell átti þann einn grip í eigu sinni er honum þótti betri en annar .\n",
      " target              : of all his possessions there was one for which hrafnkell had greater fondness than any other .\n",
      " is-en-mideind-v2    : he was the one trinket owned by the time that he thought was better than other . \n",
      " is-en-mono          : he had the one trinket owned by entirety that he thought was better than other . \n",
      " source              : stevíólglýkósíð\n",
      " target              : steviol glycosides\n",
      " is-en-mideind-v2    : steviol glycosides \n",
      " is-en-mono          : steviol glycosides \n",
      " source              : þetta var allt í lagi .\n",
      " target              : it 's okay .\n",
      " is-en-mideind-v2    : it was all right . \n",
      " is-en-mono          : it was all right . \n",
      " source              : ef um er að ræða ofnæmi fyrir virka efninu eða einhverju öðru innihaldsefni lyfsins ( talin upp í kafla 6 ) .\n",
      " target              : if you are allergic to human normal immunoglobulin or any of the other ingredients of this medicine ( listed in section 6 ) .\n",
      " is-en-mideind-v2    : if you are allergic to the active substance or to any of the other ingredients of this medicine ( listed in section 6 ) . \n",
      " is-en-mono          : if you are allergic to degarelix or any of the other ingredients of this medicine ( listed in section 6 ) . \n",
      " source              : samþykkt ákvörðun þessa :\n",
      " target              : has adopted this decision :\n",
      " is-en-mideind-v2    : has adopted this decision : \n",
      " is-en-mono          : has adopted this decision : \n",
      " source              : ég ætla að jafna mig hérna í smástund .\n",
      " target              : i 'll just stretch it out here for a while .\n",
      " is-en-mideind-v2    : i 'm going to get over here for a second . \n",
      " is-en-mono          : i 'm going to get over it , out here for a second . \n",
      " source              : 4. mgr. 9. gr .\n",
      " target              : article 9 ( 4 )\n",
      " is-en-mideind-v2    : article 9 ( 4 ) . \n",
      " is-en-mono          : article 9 ( 4 ) . \n",
      " source              : efnablandan , sem tilheyrir aukefnaflokknum „ dýraræktaraukefni “ og virka hópnum „ meltingarbætandi efni “ og er tilgreind í viðaukanum , er leyfð sem aukefni í fóðri með þeim skilyrðum sem mælt er fyrir um í þeim viðauka .\n",
      " target              : the preparation specified in the annex , belonging to the additive category ‘ zootechnical additives and to the functional group ‘ digestibility enhancers , is authorised as an additive in animal nutrition subject to the conditions laid down in that annex .\n",
      " is-en-mideind-v2    : the preparation belonging to the additive category ‘ zootechnical additives and to the functional group ‘ digestibility enhancers , is set out in the annex , is authorised as an additive in animal nutrition under the conditions laid down in that annex . \n",
      " is-en-mono          : the preparation belonging to the additive category ‘ zootechnical additives and to the functional group ‘ digestibility enhancers , is set out in the annex , is authorised as an additive in animal nutrition under the conditions laid down in that annex . \n",
      " source              : á tjaldstæðinu skal vera varmadæla sem sér fyrir varma til upphitunar og / eða fyrir varma fyrir loftræstisamstæðu ( 1,5 stig ) .\n",
      " target              : the campsite shall have a heat pump providing heat and / or air conditioning ( 1,5 points ) .\n",
      " is-en-mideind-v2    : the campsite shall have a heat pump providing heat and / or air conditioning ( 1,5 points ) . \n",
      " is-en-mono          : the campsite shall have a heat pump providing heat and / or air conditioning ( 1,5 points ) . \n",
      " source              : ég skal líta á áætlunina .\n",
      " target              : uh-huh. let me check for you .\n",
      " is-en-mideind-v2    : let me take a look at the plan . \n",
      " is-en-mono          : let me take a look at the plan . \n",
      " source              : þróun samsettra flutninga mun auðvelda flutninga yfir alpalöndin .\n",
      " target              : whereas the development of combined transport will help transit across alpine countries ;\n",
      " is-en-mideind-v2    : the development of combined transport will facilitate of cross-border alpalöndin . \n",
      " is-en-mono          : the development of combined transport will facilitate of cross-border alpalöndin . \n",
      " source              : nafn\n",
      " target              : name\n",
      " is-en-mideind-v2    : name \n",
      " is-en-mono          : name \n",
      " source              : b : belgía\n",
      " target              : b : belgium\n",
      " is-en-mideind-v2    : b : belgium \n",
      " is-en-mono          : b : belgium \n",
      " source              : biddu hana um teiiy savaias .\n",
      " target              : ask her for the telly savalas .\n",
      " is-en-mideind-v2    : ask her about teiiy savaias . \n",
      " is-en-mono          : ask her about teiiy savaias . \n",
      " source              : öryggisbelti og aðhaldsbúnaður\n",
      " target              : seat belts and restraint systems\n",
      " is-en-mideind-v2    : the safety belts and restraint systems \n",
      " is-en-mono          : the safety belts and restraint systems \n",
      "\n"
     ]
    }
   ],
   "source": [
    "print(*peeks(check, 30))"
   ]
  },
  {
   "cell_type": "code",
   "execution_count": null,
   "metadata": {},
   "outputs": [],
   "source": []
  }
 ],
 "metadata": {
  "kernelspec": {
   "display_name": "Python [conda env:.conda-notebook]",
   "language": "python",
   "name": "conda-env-.conda-notebook-py"
  },
  "language_info": {
   "codemirror_mode": {
    "name": "ipython",
    "version": 3
   },
   "file_extension": ".py",
   "mimetype": "text/x-python",
   "name": "python",
   "nbconvert_exporter": "python",
   "pygments_lexer": "ipython3",
   "version": "3.7.5"
  }
 },
 "nbformat": 4,
 "nbformat_minor": 2
}
